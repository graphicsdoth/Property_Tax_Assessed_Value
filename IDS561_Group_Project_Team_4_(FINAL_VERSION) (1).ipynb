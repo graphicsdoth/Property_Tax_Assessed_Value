{
  "nbformat": 4,
  "nbformat_minor": 0,
  "metadata": {
    "colab": {
      "name": "IDS561 Group Project Team 4 (FINAL VERSION).ipynb",
      "provenance": [],
      "collapsed_sections": [
        "FEfLP4QP7Dyt",
        "dwfeD6CSFdfy",
        "vJGfzhHmCejY"
      ],
      "toc_visible": true
    },
    "kernelspec": {
      "display_name": "Python 3",
      "name": "python3"
    },
    "language_info": {
      "name": "python"
    }
  },
  "cells": [
    {
      "cell_type": "markdown",
      "metadata": {
        "id": "PSglUbDHE04w"
      },
      "source": [
        "Authors: Gabriella Sussman, Anisha Joshi"
      ]
    },
    {
      "cell_type": "markdown",
      "metadata": {
        "id": "J48gukMHCYoy"
      },
      "source": [
        "#**Initial Setup**"
      ]
    },
    {
      "cell_type": "code",
      "metadata": {
        "colab": {
          "base_uri": "https://localhost:8080/"
        },
        "id": "6kuc9ez77HL3",
        "outputId": "f25a1ceb-d0f0-4176-d364-f9fe8f976926"
      },
      "source": [
        "# Mount Google Drive\n",
        "from google.colab import drive\n",
        "drive.mount('/content/drive')"
      ],
      "execution_count": null,
      "outputs": [
        {
          "output_type": "stream",
          "name": "stdout",
          "text": [
            "Mounted at /content/drive\n"
          ]
        }
      ]
    },
    {
      "cell_type": "markdown",
      "metadata": {
        "id": "A8xaX06ANu9z"
      },
      "source": [
        "##**Install SPARK**"
      ]
    },
    {
      "cell_type": "code",
      "metadata": {
        "colab": {
          "base_uri": "https://localhost:8080/"
        },
        "id": "ex48cyUB7Qz-",
        "outputId": "36cdc223-d2d2-4d02-bd2f-08d9a42d0af8"
      },
      "source": [
        "# Change directory\n",
        "%cd /content/drive/My Drive/IDS561_Project"
      ],
      "execution_count": null,
      "outputs": [
        {
          "output_type": "stream",
          "name": "stdout",
          "text": [
            "/content/drive/My Drive/IDS561_Project\n"
          ]
        }
      ]
    },
    {
      "cell_type": "code",
      "metadata": {
        "id": "_pBh_iUPNmYB"
      },
      "source": [
        "# Download Java\n",
        "!apt-get install openjdk-8-jdk-headless -qq > /dev/null"
      ],
      "execution_count": null,
      "outputs": []
    },
    {
      "cell_type": "code",
      "metadata": {
        "id": "urWMt86AO9Te"
      },
      "source": [
        "# Get Spark installer (check the path on spark.apache.org)\n",
        "#!wget -v https://dlcdn.apache.org/spark/spark-3.1.2/spark-3.1.2-bin-hadoop3.2.tgz"
      ],
      "execution_count": null,
      "outputs": []
    },
    {
      "cell_type": "code",
      "metadata": {
        "colab": {
          "base_uri": "https://localhost:8080/"
        },
        "id": "ykSW8_KzNudt",
        "outputId": "0330c287-bd65-47a1-ad14-ee60c5d52d24"
      },
      "source": [
        "# Untar the Spark installer\n",
        "!tar -xvf spark-3.1.2-bin-hadoop3.2.tgz"
      ],
      "execution_count": null,
      "outputs": [
        {
          "output_type": "stream",
          "name": "stdout",
          "text": [
            "spark-3.1.2-bin-hadoop3.2/\n",
            "spark-3.1.2-bin-hadoop3.2/R/\n",
            "spark-3.1.2-bin-hadoop3.2/R/lib/\n",
            "spark-3.1.2-bin-hadoop3.2/R/lib/sparkr.zip\n",
            "spark-3.1.2-bin-hadoop3.2/R/lib/SparkR/\n",
            "spark-3.1.2-bin-hadoop3.2/R/lib/SparkR/worker/\n",
            "spark-3.1.2-bin-hadoop3.2/R/lib/SparkR/worker/worker.R\n",
            "spark-3.1.2-bin-hadoop3.2/R/lib/SparkR/worker/daemon.R\n",
            "spark-3.1.2-bin-hadoop3.2/R/lib/SparkR/tests/\n",
            "spark-3.1.2-bin-hadoop3.2/R/lib/SparkR/tests/testthat/\n",
            "spark-3.1.2-bin-hadoop3.2/R/lib/SparkR/tests/testthat/test_basic.R\n",
            "spark-3.1.2-bin-hadoop3.2/R/lib/SparkR/profile/\n",
            "spark-3.1.2-bin-hadoop3.2/R/lib/SparkR/profile/shell.R\n",
            "spark-3.1.2-bin-hadoop3.2/R/lib/SparkR/profile/general.R\n",
            "spark-3.1.2-bin-hadoop3.2/R/lib/SparkR/doc/\n",
            "spark-3.1.2-bin-hadoop3.2/R/lib/SparkR/doc/sparkr-vignettes.html\n",
            "spark-3.1.2-bin-hadoop3.2/R/lib/SparkR/doc/sparkr-vignettes.Rmd\n",
            "spark-3.1.2-bin-hadoop3.2/R/lib/SparkR/doc/sparkr-vignettes.R\n",
            "spark-3.1.2-bin-hadoop3.2/R/lib/SparkR/doc/index.html\n",
            "spark-3.1.2-bin-hadoop3.2/R/lib/SparkR/R/\n",
            "spark-3.1.2-bin-hadoop3.2/R/lib/SparkR/R/SparkR\n",
            "spark-3.1.2-bin-hadoop3.2/R/lib/SparkR/R/SparkR.rdx\n",
            "spark-3.1.2-bin-hadoop3.2/R/lib/SparkR/R/SparkR.rdb\n",
            "spark-3.1.2-bin-hadoop3.2/R/lib/SparkR/Meta/\n",
            "spark-3.1.2-bin-hadoop3.2/R/lib/SparkR/Meta/features.rds\n",
            "spark-3.1.2-bin-hadoop3.2/R/lib/SparkR/Meta/package.rds\n",
            "spark-3.1.2-bin-hadoop3.2/R/lib/SparkR/Meta/nsInfo.rds\n",
            "spark-3.1.2-bin-hadoop3.2/R/lib/SparkR/Meta/vignette.rds\n",
            "spark-3.1.2-bin-hadoop3.2/R/lib/SparkR/Meta/Rd.rds\n",
            "spark-3.1.2-bin-hadoop3.2/R/lib/SparkR/Meta/links.rds\n",
            "spark-3.1.2-bin-hadoop3.2/R/lib/SparkR/Meta/hsearch.rds\n",
            "spark-3.1.2-bin-hadoop3.2/R/lib/SparkR/DESCRIPTION\n",
            "spark-3.1.2-bin-hadoop3.2/R/lib/SparkR/NAMESPACE\n",
            "spark-3.1.2-bin-hadoop3.2/R/lib/SparkR/html/\n",
            "spark-3.1.2-bin-hadoop3.2/R/lib/SparkR/html/R.css\n",
            "spark-3.1.2-bin-hadoop3.2/R/lib/SparkR/html/00Index.html\n",
            "spark-3.1.2-bin-hadoop3.2/R/lib/SparkR/INDEX\n",
            "spark-3.1.2-bin-hadoop3.2/R/lib/SparkR/help/\n",
            "spark-3.1.2-bin-hadoop3.2/R/lib/SparkR/help/aliases.rds\n",
            "spark-3.1.2-bin-hadoop3.2/R/lib/SparkR/help/AnIndex\n",
            "spark-3.1.2-bin-hadoop3.2/R/lib/SparkR/help/SparkR.rdx\n",
            "spark-3.1.2-bin-hadoop3.2/R/lib/SparkR/help/SparkR.rdb\n",
            "spark-3.1.2-bin-hadoop3.2/R/lib/SparkR/help/paths.rds\n",
            "spark-3.1.2-bin-hadoop3.2/sbin/\n",
            "spark-3.1.2-bin-hadoop3.2/sbin/workers.sh\n",
            "spark-3.1.2-bin-hadoop3.2/sbin/stop-workers.sh\n",
            "spark-3.1.2-bin-hadoop3.2/sbin/stop-worker.sh\n",
            "spark-3.1.2-bin-hadoop3.2/sbin/stop-thriftserver.sh\n",
            "spark-3.1.2-bin-hadoop3.2/sbin/stop-slaves.sh\n",
            "spark-3.1.2-bin-hadoop3.2/sbin/stop-slave.sh\n",
            "spark-3.1.2-bin-hadoop3.2/sbin/stop-mesos-shuffle-service.sh\n",
            "spark-3.1.2-bin-hadoop3.2/sbin/stop-mesos-dispatcher.sh\n",
            "spark-3.1.2-bin-hadoop3.2/sbin/stop-master.sh\n",
            "spark-3.1.2-bin-hadoop3.2/sbin/stop-history-server.sh\n",
            "spark-3.1.2-bin-hadoop3.2/sbin/stop-all.sh\n",
            "spark-3.1.2-bin-hadoop3.2/sbin/start-workers.sh\n",
            "spark-3.1.2-bin-hadoop3.2/sbin/start-worker.sh\n",
            "spark-3.1.2-bin-hadoop3.2/sbin/start-thriftserver.sh\n",
            "spark-3.1.2-bin-hadoop3.2/sbin/start-slaves.sh\n",
            "spark-3.1.2-bin-hadoop3.2/sbin/start-slave.sh\n",
            "spark-3.1.2-bin-hadoop3.2/sbin/start-mesos-shuffle-service.sh\n",
            "spark-3.1.2-bin-hadoop3.2/sbin/start-mesos-dispatcher.sh\n",
            "spark-3.1.2-bin-hadoop3.2/sbin/start-master.sh\n",
            "spark-3.1.2-bin-hadoop3.2/sbin/start-history-server.sh\n",
            "spark-3.1.2-bin-hadoop3.2/sbin/start-all.sh\n",
            "spark-3.1.2-bin-hadoop3.2/sbin/spark-daemons.sh\n",
            "spark-3.1.2-bin-hadoop3.2/sbin/spark-daemon.sh\n",
            "spark-3.1.2-bin-hadoop3.2/sbin/slaves.sh\n",
            "spark-3.1.2-bin-hadoop3.2/sbin/decommission-worker.sh\n",
            "spark-3.1.2-bin-hadoop3.2/sbin/decommission-slave.sh\n",
            "spark-3.1.2-bin-hadoop3.2/sbin/spark-config.sh\n",
            "spark-3.1.2-bin-hadoop3.2/python/\n",
            "spark-3.1.2-bin-hadoop3.2/python/dist/\n",
            "spark-3.1.2-bin-hadoop3.2/python/pyspark.egg-info/\n",
            "spark-3.1.2-bin-hadoop3.2/python/pyspark.egg-info/SOURCES.txt\n",
            "spark-3.1.2-bin-hadoop3.2/python/pyspark.egg-info/top_level.txt\n",
            "spark-3.1.2-bin-hadoop3.2/python/pyspark.egg-info/requires.txt\n",
            "spark-3.1.2-bin-hadoop3.2/python/pyspark.egg-info/dependency_links.txt\n",
            "spark-3.1.2-bin-hadoop3.2/python/pyspark.egg-info/PKG-INFO\n",
            "spark-3.1.2-bin-hadoop3.2/python/pyspark/\n",
            "spark-3.1.2-bin-hadoop3.2/python/pyspark/python/\n",
            "spark-3.1.2-bin-hadoop3.2/python/pyspark/python/pyspark/\n",
            "spark-3.1.2-bin-hadoop3.2/python/pyspark/python/pyspark/shell.py\n",
            "spark-3.1.2-bin-hadoop3.2/python/pyspark/__pycache__/\n",
            "spark-3.1.2-bin-hadoop3.2/python/pyspark/__pycache__/install.cpython-38.pyc\n",
            "spark-3.1.2-bin-hadoop3.2/python/pyspark/mllib/\n",
            "spark-3.1.2-bin-hadoop3.2/python/pyspark/mllib/evaluation.py\n",
            "spark-3.1.2-bin-hadoop3.2/python/pyspark/mllib/common.pyi\n",
            "spark-3.1.2-bin-hadoop3.2/python/pyspark/mllib/common.py\n",
            "spark-3.1.2-bin-hadoop3.2/python/pyspark/mllib/clustering.pyi\n",
            "spark-3.1.2-bin-hadoop3.2/python/pyspark/mllib/classification.pyi\n",
            "spark-3.1.2-bin-hadoop3.2/python/pyspark/mllib/_typing.pyi\n",
            "spark-3.1.2-bin-hadoop3.2/python/pyspark/mllib/__init__.py\n",
            "spark-3.1.2-bin-hadoop3.2/python/pyspark/mllib/util.pyi\n",
            "spark-3.1.2-bin-hadoop3.2/python/pyspark/mllib/util.py\n",
            "spark-3.1.2-bin-hadoop3.2/python/pyspark/mllib/tree.pyi\n",
            "spark-3.1.2-bin-hadoop3.2/python/pyspark/mllib/tree.py\n",
            "spark-3.1.2-bin-hadoop3.2/python/pyspark/mllib/tests/\n",
            "spark-3.1.2-bin-hadoop3.2/python/pyspark/mllib/tests/test_util.py\n",
            "spark-3.1.2-bin-hadoop3.2/python/pyspark/mllib/tests/test_streaming_algorithms.py\n",
            "spark-3.1.2-bin-hadoop3.2/python/pyspark/mllib/tests/test_stat.py\n",
            "spark-3.1.2-bin-hadoop3.2/python/pyspark/mllib/tests/test_feature.py\n",
            "spark-3.1.2-bin-hadoop3.2/python/pyspark/mllib/tests/test_algorithms.py\n",
            "spark-3.1.2-bin-hadoop3.2/python/pyspark/mllib/tests/__init__.py\n",
            "spark-3.1.2-bin-hadoop3.2/python/pyspark/mllib/tests/test_linalg.py\n",
            "spark-3.1.2-bin-hadoop3.2/python/pyspark/mllib/regression.py\n",
            "spark-3.1.2-bin-hadoop3.2/python/pyspark/mllib/clustering.py\n",
            "spark-3.1.2-bin-hadoop3.2/python/pyspark/mllib/classification.py\n",
            "spark-3.1.2-bin-hadoop3.2/python/pyspark/mllib/stat/\n",
            "spark-3.1.2-bin-hadoop3.2/python/pyspark/mllib/stat/_statistics.py\n",
            "spark-3.1.2-bin-hadoop3.2/python/pyspark/mllib/stat/__init__.pyi\n",
            "spark-3.1.2-bin-hadoop3.2/python/pyspark/mllib/stat/__init__.py\n",
            "spark-3.1.2-bin-hadoop3.2/python/pyspark/mllib/stat/KernelDensity.pyi\n",
            "spark-3.1.2-bin-hadoop3.2/python/pyspark/mllib/stat/KernelDensity.py\n",
            "spark-3.1.2-bin-hadoop3.2/python/pyspark/mllib/stat/test.pyi\n",
            "spark-3.1.2-bin-hadoop3.2/python/pyspark/mllib/stat/test.py\n",
            "spark-3.1.2-bin-hadoop3.2/python/pyspark/mllib/stat/distribution.pyi\n",
            "spark-3.1.2-bin-hadoop3.2/python/pyspark/mllib/stat/distribution.py\n",
            "spark-3.1.2-bin-hadoop3.2/python/pyspark/mllib/stat/_statistics.pyi\n",
            "spark-3.1.2-bin-hadoop3.2/python/pyspark/mllib/regression.pyi\n",
            "spark-3.1.2-bin-hadoop3.2/python/pyspark/mllib/recommendation.pyi\n",
            "spark-3.1.2-bin-hadoop3.2/python/pyspark/mllib/recommendation.py\n",
            "spark-3.1.2-bin-hadoop3.2/python/pyspark/mllib/random.pyi\n",
            "spark-3.1.2-bin-hadoop3.2/python/pyspark/mllib/random.py\n",
            "spark-3.1.2-bin-hadoop3.2/python/pyspark/mllib/linalg/\n",
            "spark-3.1.2-bin-hadoop3.2/python/pyspark/mllib/linalg/distributed.pyi\n",
            "spark-3.1.2-bin-hadoop3.2/python/pyspark/mllib/linalg/__init__.pyi\n",
            "spark-3.1.2-bin-hadoop3.2/python/pyspark/mllib/linalg/__init__.py\n",
            "spark-3.1.2-bin-hadoop3.2/python/pyspark/mllib/linalg/distributed.py\n",
            "spark-3.1.2-bin-hadoop3.2/python/pyspark/mllib/fpm.pyi\n",
            "spark-3.1.2-bin-hadoop3.2/python/pyspark/mllib/fpm.py\n",
            "spark-3.1.2-bin-hadoop3.2/python/pyspark/mllib/feature.pyi\n",
            "spark-3.1.2-bin-hadoop3.2/python/pyspark/mllib/feature.py\n",
            "spark-3.1.2-bin-hadoop3.2/python/pyspark/mllib/evaluation.pyi\n",
            "spark-3.1.2-bin-hadoop3.2/python/pyspark/ml/\n",
            "spark-3.1.2-bin-hadoop3.2/python/pyspark/ml/wrapper.pyi\n",
            "spark-3.1.2-bin-hadoop3.2/python/pyspark/ml/wrapper.py\n",
            "spark-3.1.2-bin-hadoop3.2/python/pyspark/ml/util.pyi\n",
            "spark-3.1.2-bin-hadoop3.2/python/pyspark/ml/util.py\n",
            "spark-3.1.2-bin-hadoop3.2/python/pyspark/ml/tree.pyi\n",
            "spark-3.1.2-bin-hadoop3.2/python/pyspark/ml/tests/\n",
            "spark-3.1.2-bin-hadoop3.2/python/pyspark/ml/tests/test_wrapper.py\n",
            "spark-3.1.2-bin-hadoop3.2/python/pyspark/ml/tests/test_util.py\n",
            "spark-3.1.2-bin-hadoop3.2/python/pyspark/ml/tests/test_stat.py\n",
            "spark-3.1.2-bin-hadoop3.2/python/pyspark/ml/tests/test_pipeline.py\n",
            "spark-3.1.2-bin-hadoop3.2/python/pyspark/ml/tests/test_persistence.py\n",
            "spark-3.1.2-bin-hadoop3.2/python/pyspark/ml/tests/test_linalg.py\n",
            "spark-3.1.2-bin-hadoop3.2/python/pyspark/ml/tests/test_image.py\n",
            "spark-3.1.2-bin-hadoop3.2/python/pyspark/ml/tests/test_feature.py\n",
            "spark-3.1.2-bin-hadoop3.2/python/pyspark/ml/tests/test_algorithms.py\n",
            "spark-3.1.2-bin-hadoop3.2/python/pyspark/ml/tests/__init__.py\n",
            "spark-3.1.2-bin-hadoop3.2/python/pyspark/ml/tests/test_tuning.py\n",
            "spark-3.1.2-bin-hadoop3.2/python/pyspark/ml/tests/test_training_summary.py\n",
            "spark-3.1.2-bin-hadoop3.2/python/pyspark/ml/tests/test_param.py\n",
            "spark-3.1.2-bin-hadoop3.2/python/pyspark/ml/tests/test_evaluation.py\n",
            "spark-3.1.2-bin-hadoop3.2/python/pyspark/ml/tests/test_base.py\n",
            "spark-3.1.2-bin-hadoop3.2/python/pyspark/ml/stat.pyi\n",
            "spark-3.1.2-bin-hadoop3.2/python/pyspark/ml/stat.py\n",
            "spark-3.1.2-bin-hadoop3.2/python/pyspark/ml/regression.pyi\n",
            "spark-3.1.2-bin-hadoop3.2/python/pyspark/ml/recommendation.pyi\n",
            "spark-3.1.2-bin-hadoop3.2/python/pyspark/ml/pipeline.pyi\n",
            "spark-3.1.2-bin-hadoop3.2/python/pyspark/ml/pipeline.py\n",
            "spark-3.1.2-bin-hadoop3.2/python/pyspark/ml/param/\n",
            "spark-3.1.2-bin-hadoop3.2/python/pyspark/ml/param/shared.pyi\n",
            "spark-3.1.2-bin-hadoop3.2/python/pyspark/ml/param/shared.py\n",
            "spark-3.1.2-bin-hadoop3.2/python/pyspark/ml/param/_shared_params_code_gen.pyi\n",
            "spark-3.1.2-bin-hadoop3.2/python/pyspark/ml/param/_shared_params_code_gen.py\n",
            "spark-3.1.2-bin-hadoop3.2/python/pyspark/ml/param/__init__.pyi\n",
            "spark-3.1.2-bin-hadoop3.2/python/pyspark/ml/param/__init__.py\n",
            "spark-3.1.2-bin-hadoop3.2/python/pyspark/ml/linalg/\n",
            "spark-3.1.2-bin-hadoop3.2/python/pyspark/ml/linalg/__init__.pyi\n",
            "spark-3.1.2-bin-hadoop3.2/python/pyspark/ml/linalg/__init__.py\n",
            "spark-3.1.2-bin-hadoop3.2/python/pyspark/ml/image.pyi\n",
            "spark-3.1.2-bin-hadoop3.2/python/pyspark/ml/image.py\n",
            "spark-3.1.2-bin-hadoop3.2/python/pyspark/ml/functions.pyi\n",
            "spark-3.1.2-bin-hadoop3.2/python/pyspark/ml/fpm.pyi\n",
            "spark-3.1.2-bin-hadoop3.2/python/pyspark/ml/feature.pyi\n",
            "spark-3.1.2-bin-hadoop3.2/python/pyspark/ml/evaluation.pyi\n",
            "spark-3.1.2-bin-hadoop3.2/python/pyspark/ml/common.pyi\n",
            "spark-3.1.2-bin-hadoop3.2/python/pyspark/ml/common.py\n",
            "spark-3.1.2-bin-hadoop3.2/python/pyspark/ml/clustering.pyi\n",
            "spark-3.1.2-bin-hadoop3.2/python/pyspark/ml/classification.pyi\n",
            "spark-3.1.2-bin-hadoop3.2/python/pyspark/ml/base.pyi\n",
            "spark-3.1.2-bin-hadoop3.2/python/pyspark/ml/_typing.pyi\n",
            "spark-3.1.2-bin-hadoop3.2/python/pyspark/ml/__init__.py\n",
            "spark-3.1.2-bin-hadoop3.2/python/pyspark/ml/tuning.pyi\n",
            "spark-3.1.2-bin-hadoop3.2/python/pyspark/ml/tuning.py\n",
            "spark-3.1.2-bin-hadoop3.2/python/pyspark/ml/tree.py\n",
            "spark-3.1.2-bin-hadoop3.2/python/pyspark/ml/regression.py\n",
            "spark-3.1.2-bin-hadoop3.2/python/pyspark/ml/recommendation.py\n",
            "spark-3.1.2-bin-hadoop3.2/python/pyspark/ml/functions.py\n",
            "spark-3.1.2-bin-hadoop3.2/python/pyspark/ml/fpm.py\n",
            "spark-3.1.2-bin-hadoop3.2/python/pyspark/ml/feature.py\n",
            "spark-3.1.2-bin-hadoop3.2/python/pyspark/ml/evaluation.py\n",
            "spark-3.1.2-bin-hadoop3.2/python/pyspark/ml/clustering.py\n",
            "spark-3.1.2-bin-hadoop3.2/python/pyspark/ml/classification.py\n",
            "spark-3.1.2-bin-hadoop3.2/python/pyspark/ml/base.py\n",
            "spark-3.1.2-bin-hadoop3.2/python/pyspark/join.py\n",
            "spark-3.1.2-bin-hadoop3.2/python/pyspark/java_gateway.py\n",
            "spark-3.1.2-bin-hadoop3.2/python/pyspark/install.py\n",
            "spark-3.1.2-bin-hadoop3.2/python/pyspark/find_spark_home.py\n",
            "spark-3.1.2-bin-hadoop3.2/python/pyspark/files.pyi\n",
            "spark-3.1.2-bin-hadoop3.2/python/pyspark/files.py\n",
            "spark-3.1.2-bin-hadoop3.2/python/pyspark/daemon.py\n",
            "spark-3.1.2-bin-hadoop3.2/python/pyspark/context.pyi\n",
            "spark-3.1.2-bin-hadoop3.2/python/pyspark/context.py\n",
            "spark-3.1.2-bin-hadoop3.2/python/pyspark/conf.pyi\n",
            "spark-3.1.2-bin-hadoop3.2/python/pyspark/conf.py\n",
            "spark-3.1.2-bin-hadoop3.2/python/pyspark/cloudpickle/\n",
            "spark-3.1.2-bin-hadoop3.2/python/pyspark/cloudpickle/compat.py\n",
            "spark-3.1.2-bin-hadoop3.2/python/pyspark/cloudpickle/cloudpickle_fast.py\n",
            "spark-3.1.2-bin-hadoop3.2/python/pyspark/cloudpickle/cloudpickle.py\n",
            "spark-3.1.2-bin-hadoop3.2/python/pyspark/cloudpickle/__init__.py\n",
            "spark-3.1.2-bin-hadoop3.2/python/pyspark/broadcast.pyi\n",
            "spark-3.1.2-bin-hadoop3.2/python/pyspark/broadcast.py\n",
            "spark-3.1.2-bin-hadoop3.2/python/pyspark/accumulators.pyi\n",
            "spark-3.1.2-bin-hadoop3.2/python/pyspark/accumulators.py\n",
            "spark-3.1.2-bin-hadoop3.2/python/pyspark/_typing.pyi\n",
            "spark-3.1.2-bin-hadoop3.2/python/pyspark/_globals.py\n",
            "spark-3.1.2-bin-hadoop3.2/python/pyspark/__init__.pyi\n",
            "spark-3.1.2-bin-hadoop3.2/python/pyspark/__init__.py\n",
            "spark-3.1.2-bin-hadoop3.2/python/pyspark/sql/\n",
            "spark-3.1.2-bin-hadoop3.2/python/pyspark/sql/window.pyi\n",
            "spark-3.1.2-bin-hadoop3.2/python/pyspark/sql/window.py\n",
            "spark-3.1.2-bin-hadoop3.2/python/pyspark/sql/utils.py\n",
            "spark-3.1.2-bin-hadoop3.2/python/pyspark/sql/udf.pyi\n",
            "spark-3.1.2-bin-hadoop3.2/python/pyspark/sql/types.pyi\n",
            "spark-3.1.2-bin-hadoop3.2/python/pyspark/sql/types.py\n",
            "spark-3.1.2-bin-hadoop3.2/python/pyspark/sql/tests/\n",
            "spark-3.1.2-bin-hadoop3.2/python/pyspark/sql/tests/test_utils.py\n",
            "spark-3.1.2-bin-hadoop3.2/python/pyspark/sql/tests/test_udf.py\n",
            "spark-3.1.2-bin-hadoop3.2/python/pyspark/sql/tests/test_types.py\n",
            "spark-3.1.2-bin-hadoop3.2/python/pyspark/sql/tests/test_streaming.py\n",
            "spark-3.1.2-bin-hadoop3.2/python/pyspark/sql/tests/test_session.py\n",
            "spark-3.1.2-bin-hadoop3.2/python/pyspark/sql/tests/test_serde.py\n",
            "spark-3.1.2-bin-hadoop3.2/python/pyspark/sql/tests/test_readwriter.py\n",
            "spark-3.1.2-bin-hadoop3.2/python/pyspark/sql/tests/test_pandas_udf_window.py\n",
            "spark-3.1.2-bin-hadoop3.2/python/pyspark/sql/tests/test_pandas_udf_typehints.py\n",
            "spark-3.1.2-bin-hadoop3.2/python/pyspark/sql/tests/test_pandas_udf_scalar.py\n",
            "spark-3.1.2-bin-hadoop3.2/python/pyspark/sql/tests/test_pandas_udf_grouped_agg.py\n",
            "spark-3.1.2-bin-hadoop3.2/python/pyspark/sql/tests/test_pandas_udf.py\n",
            "spark-3.1.2-bin-hadoop3.2/python/pyspark/sql/tests/test_pandas_map.py\n",
            "spark-3.1.2-bin-hadoop3.2/python/pyspark/sql/tests/test_pandas_cogrouped_map.py\n",
            "spark-3.1.2-bin-hadoop3.2/python/pyspark/sql/tests/test_datasources.py\n",
            "spark-3.1.2-bin-hadoop3.2/python/pyspark/sql/tests/test_context.py\n",
            "spark-3.1.2-bin-hadoop3.2/python/pyspark/sql/tests/test_conf.py\n",
            "spark-3.1.2-bin-hadoop3.2/python/pyspark/sql/tests/test_catalog.py\n",
            "spark-3.1.2-bin-hadoop3.2/python/pyspark/sql/tests/__init__.py\n",
            "spark-3.1.2-bin-hadoop3.2/python/pyspark/sql/tests/test_pandas_grouped_map.py\n",
            "spark-3.1.2-bin-hadoop3.2/python/pyspark/sql/tests/test_group.py\n",
            "spark-3.1.2-bin-hadoop3.2/python/pyspark/sql/tests/test_functions.py\n",
            "spark-3.1.2-bin-hadoop3.2/python/pyspark/sql/tests/test_dataframe.py\n",
            "spark-3.1.2-bin-hadoop3.2/python/pyspark/sql/tests/test_column.py\n",
            "spark-3.1.2-bin-hadoop3.2/python/pyspark/sql/tests/test_arrow.py\n",
            "spark-3.1.2-bin-hadoop3.2/python/pyspark/sql/streaming.pyi\n",
            "spark-3.1.2-bin-hadoop3.2/python/pyspark/sql/session.pyi\n",
            "spark-3.1.2-bin-hadoop3.2/python/pyspark/sql/readwriter.pyi\n",
            "spark-3.1.2-bin-hadoop3.2/python/pyspark/sql/pandas/\n",
            "spark-3.1.2-bin-hadoop3.2/python/pyspark/sql/pandas/utils.py\n",
            "spark-3.1.2-bin-hadoop3.2/python/pyspark/sql/pandas/typehints.py\n",
            "spark-3.1.2-bin-hadoop3.2/python/pyspark/sql/pandas/serializers.py\n",
            "spark-3.1.2-bin-hadoop3.2/python/pyspark/sql/pandas/map_ops.pyi\n",
            "spark-3.1.2-bin-hadoop3.2/python/pyspark/sql/pandas/map_ops.py\n",
            "spark-3.1.2-bin-hadoop3.2/python/pyspark/sql/pandas/group_ops.pyi\n",
            "spark-3.1.2-bin-hadoop3.2/python/pyspark/sql/pandas/group_ops.py\n",
            "spark-3.1.2-bin-hadoop3.2/python/pyspark/sql/pandas/functions.pyi\n",
            "spark-3.1.2-bin-hadoop3.2/python/pyspark/sql/pandas/functions.py\n",
            "spark-3.1.2-bin-hadoop3.2/python/pyspark/sql/pandas/conversion.pyi\n",
            "spark-3.1.2-bin-hadoop3.2/python/pyspark/sql/pandas/_typing/\n",
            "spark-3.1.2-bin-hadoop3.2/python/pyspark/sql/pandas/_typing/protocols/\n",
            "spark-3.1.2-bin-hadoop3.2/python/pyspark/sql/pandas/_typing/protocols/series.pyi\n",
            "spark-3.1.2-bin-hadoop3.2/python/pyspark/sql/pandas/_typing/protocols/frame.pyi\n",
            "spark-3.1.2-bin-hadoop3.2/python/pyspark/sql/pandas/_typing/protocols/__init__.pyi\n",
            "spark-3.1.2-bin-hadoop3.2/python/pyspark/sql/pandas/_typing/__init__.pyi\n",
            "spark-3.1.2-bin-hadoop3.2/python/pyspark/sql/pandas/__init__.py\n",
            "spark-3.1.2-bin-hadoop3.2/python/pyspark/sql/pandas/types.py\n",
            "spark-3.1.2-bin-hadoop3.2/python/pyspark/sql/pandas/conversion.py\n",
            "spark-3.1.2-bin-hadoop3.2/python/pyspark/sql/group.pyi\n",
            "spark-3.1.2-bin-hadoop3.2/python/pyspark/sql/group.py\n",
            "spark-3.1.2-bin-hadoop3.2/python/pyspark/sql/dataframe.pyi\n",
            "spark-3.1.2-bin-hadoop3.2/python/pyspark/sql/context.pyi\n",
            "spark-3.1.2-bin-hadoop3.2/python/pyspark/sql/conf.pyi\n",
            "spark-3.1.2-bin-hadoop3.2/python/pyspark/sql/conf.py\n",
            "spark-3.1.2-bin-hadoop3.2/python/pyspark/sql/column.pyi\n",
            "spark-3.1.2-bin-hadoop3.2/python/pyspark/sql/catalog.pyi\n",
            "spark-3.1.2-bin-hadoop3.2/python/pyspark/sql/avro/\n",
            "spark-3.1.2-bin-hadoop3.2/python/pyspark/sql/avro/__init__.py\n",
            "spark-3.1.2-bin-hadoop3.2/python/pyspark/sql/avro/functions.pyi\n",
            "spark-3.1.2-bin-hadoop3.2/python/pyspark/sql/avro/functions.py\n",
            "spark-3.1.2-bin-hadoop3.2/python/pyspark/sql/_typing.pyi\n",
            "spark-3.1.2-bin-hadoop3.2/python/pyspark/sql/__init__.pyi\n",
            "spark-3.1.2-bin-hadoop3.2/python/pyspark/sql/__init__.py\n",
            "spark-3.1.2-bin-hadoop3.2/python/pyspark/sql/udf.py\n",
            "spark-3.1.2-bin-hadoop3.2/python/pyspark/sql/streaming.py\n",
            "spark-3.1.2-bin-hadoop3.2/python/pyspark/sql/session.py\n",
            "spark-3.1.2-bin-hadoop3.2/python/pyspark/sql/readwriter.py\n",
            "spark-3.1.2-bin-hadoop3.2/python/pyspark/sql/functions.pyi\n",
            "spark-3.1.2-bin-hadoop3.2/python/pyspark/sql/functions.py\n",
            "spark-3.1.2-bin-hadoop3.2/python/pyspark/sql/dataframe.py\n",
            "spark-3.1.2-bin-hadoop3.2/python/pyspark/sql/context.py\n",
            "spark-3.1.2-bin-hadoop3.2/python/pyspark/sql/column.py\n",
            "spark-3.1.2-bin-hadoop3.2/python/pyspark/sql/catalog.py\n",
            "spark-3.1.2-bin-hadoop3.2/python/pyspark/shuffle.py\n",
            "spark-3.1.2-bin-hadoop3.2/python/pyspark/shell.py\n",
            "spark-3.1.2-bin-hadoop3.2/python/pyspark/serializers.py\n",
            "spark-3.1.2-bin-hadoop3.2/python/pyspark/resultiterable.pyi\n",
            "spark-3.1.2-bin-hadoop3.2/python/pyspark/resultiterable.py\n",
            "spark-3.1.2-bin-hadoop3.2/python/pyspark/resource/\n",
            "spark-3.1.2-bin-hadoop3.2/python/pyspark/resource/tests/\n",
            "spark-3.1.2-bin-hadoop3.2/python/pyspark/resource/tests/test_resources.py\n",
            "spark-3.1.2-bin-hadoop3.2/python/pyspark/resource/tests/__init__.py\n",
            "spark-3.1.2-bin-hadoop3.2/python/pyspark/resource/requests.pyi\n",
            "spark-3.1.2-bin-hadoop3.2/python/pyspark/resource/requests.py\n",
            "spark-3.1.2-bin-hadoop3.2/python/pyspark/resource/information.pyi\n",
            "spark-3.1.2-bin-hadoop3.2/python/pyspark/resource/information.py\n",
            "spark-3.1.2-bin-hadoop3.2/python/pyspark/resource/__init__.py\n",
            "spark-3.1.2-bin-hadoop3.2/python/pyspark/resource/profile.pyi\n",
            "spark-3.1.2-bin-hadoop3.2/python/pyspark/resource/profile.py\n",
            "spark-3.1.2-bin-hadoop3.2/python/pyspark/rddsampler.py\n",
            "spark-3.1.2-bin-hadoop3.2/python/pyspark/rdd.pyi\n",
            "spark-3.1.2-bin-hadoop3.2/python/pyspark/py.typed\n",
            "spark-3.1.2-bin-hadoop3.2/python/pyspark/profiler.pyi\n",
            "spark-3.1.2-bin-hadoop3.2/python/pyspark/profiler.py\n",
            "spark-3.1.2-bin-hadoop3.2/python/pyspark/worker.py\n",
            "spark-3.1.2-bin-hadoop3.2/python/pyspark/version.py\n",
            "spark-3.1.2-bin-hadoop3.2/python/pyspark/taskcontext.py\n",
            "spark-3.1.2-bin-hadoop3.2/python/pyspark/rdd.py\n",
            "spark-3.1.2-bin-hadoop3.2/python/pyspark/version.pyi\n",
            "spark-3.1.2-bin-hadoop3.2/python/pyspark/util.py\n",
            "spark-3.1.2-bin-hadoop3.2/python/pyspark/traceback_utils.py\n",
            "spark-3.1.2-bin-hadoop3.2/python/pyspark/tests/\n",
            "spark-3.1.2-bin-hadoop3.2/python/pyspark/tests/test_worker.py\n",
            "spark-3.1.2-bin-hadoop3.2/python/pyspark/tests/test_util.py\n",
            "spark-3.1.2-bin-hadoop3.2/python/pyspark/tests/test_taskcontext.py\n",
            "spark-3.1.2-bin-hadoop3.2/python/pyspark/tests/test_shuffle.py\n",
            "spark-3.1.2-bin-hadoop3.2/python/pyspark/tests/test_serializers.py\n",
            "spark-3.1.2-bin-hadoop3.2/python/pyspark/tests/test_readwrite.py\n",
            "spark-3.1.2-bin-hadoop3.2/python/pyspark/tests/test_rddbarrier.py\n",
            "spark-3.1.2-bin-hadoop3.2/python/pyspark/tests/test_rdd.py\n",
            "spark-3.1.2-bin-hadoop3.2/python/pyspark/tests/test_profiler.py\n",
            "spark-3.1.2-bin-hadoop3.2/python/pyspark/tests/test_pin_thread.py\n",
            "spark-3.1.2-bin-hadoop3.2/python/pyspark/tests/test_join.py\n",
            "spark-3.1.2-bin-hadoop3.2/python/pyspark/tests/test_install_spark.py\n",
            "spark-3.1.2-bin-hadoop3.2/python/pyspark/tests/test_daemon.py\n",
            "spark-3.1.2-bin-hadoop3.2/python/pyspark/tests/test_context.py\n",
            "spark-3.1.2-bin-hadoop3.2/python/pyspark/tests/test_conf.py\n",
            "spark-3.1.2-bin-hadoop3.2/python/pyspark/tests/test_broadcast.py\n",
            "spark-3.1.2-bin-hadoop3.2/python/pyspark/tests/test_appsubmit.py\n",
            "spark-3.1.2-bin-hadoop3.2/python/pyspark/tests/__init__.py\n",
            "spark-3.1.2-bin-hadoop3.2/python/pyspark/testing/\n",
            "spark-3.1.2-bin-hadoop3.2/python/pyspark/testing/streamingutils.py\n",
            "spark-3.1.2-bin-hadoop3.2/python/pyspark/testing/sqlutils.py\n",
            "spark-3.1.2-bin-hadoop3.2/python/pyspark/testing/mlutils.py\n",
            "spark-3.1.2-bin-hadoop3.2/python/pyspark/testing/mllibutils.py\n",
            "spark-3.1.2-bin-hadoop3.2/python/pyspark/testing/__init__.py\n",
            "spark-3.1.2-bin-hadoop3.2/python/pyspark/testing/utils.py\n",
            "spark-3.1.2-bin-hadoop3.2/python/pyspark/taskcontext.pyi\n",
            "spark-3.1.2-bin-hadoop3.2/python/pyspark/streaming/\n",
            "spark-3.1.2-bin-hadoop3.2/python/pyspark/streaming/util.py\n",
            "spark-3.1.2-bin-hadoop3.2/python/pyspark/streaming/tests/\n",
            "spark-3.1.2-bin-hadoop3.2/python/pyspark/streaming/tests/test_listener.py\n",
            "spark-3.1.2-bin-hadoop3.2/python/pyspark/streaming/tests/test_kinesis.py\n",
            "spark-3.1.2-bin-hadoop3.2/python/pyspark/streaming/tests/test_dstream.py\n",
            "spark-3.1.2-bin-hadoop3.2/python/pyspark/streaming/tests/test_context.py\n",
            "spark-3.1.2-bin-hadoop3.2/python/pyspark/streaming/tests/__init__.py\n",
            "spark-3.1.2-bin-hadoop3.2/python/pyspark/streaming/listener.pyi\n",
            "spark-3.1.2-bin-hadoop3.2/python/pyspark/streaming/listener.py\n",
            "spark-3.1.2-bin-hadoop3.2/python/pyspark/streaming/kinesis.pyi\n",
            "spark-3.1.2-bin-hadoop3.2/python/pyspark/streaming/kinesis.py\n",
            "spark-3.1.2-bin-hadoop3.2/python/pyspark/streaming/dstream.pyi\n",
            "spark-3.1.2-bin-hadoop3.2/python/pyspark/streaming/context.pyi\n",
            "spark-3.1.2-bin-hadoop3.2/python/pyspark/streaming/context.py\n",
            "spark-3.1.2-bin-hadoop3.2/python/pyspark/streaming/__init__.py\n",
            "spark-3.1.2-bin-hadoop3.2/python/pyspark/streaming/dstream.py\n",
            "spark-3.1.2-bin-hadoop3.2/python/pyspark/storagelevel.pyi\n",
            "spark-3.1.2-bin-hadoop3.2/python/pyspark/storagelevel.py\n",
            "spark-3.1.2-bin-hadoop3.2/python/pyspark/status.pyi\n",
            "spark-3.1.2-bin-hadoop3.2/python/pyspark/status.py\n",
            "spark-3.1.2-bin-hadoop3.2/python/pyspark/statcounter.pyi\n",
            "spark-3.1.2-bin-hadoop3.2/python/pyspark/statcounter.py\n",
            "spark-3.1.2-bin-hadoop3.2/python/pylintrc\n",
            "spark-3.1.2-bin-hadoop3.2/python/lib/\n",
            "spark-3.1.2-bin-hadoop3.2/python/lib/pyspark.zip\n",
            "spark-3.1.2-bin-hadoop3.2/python/lib/PY4J_LICENSE.txt\n",
            "spark-3.1.2-bin-hadoop3.2/python/lib/py4j-0.10.9-src.zip\n",
            "spark-3.1.2-bin-hadoop3.2/python/docs/\n",
            "spark-3.1.2-bin-hadoop3.2/python/docs/source/\n",
            "spark-3.1.2-bin-hadoop3.2/python/docs/source/user_guide/\n",
            "spark-3.1.2-bin-hadoop3.2/python/docs/source/user_guide/python_packaging.rst\n",
            "spark-3.1.2-bin-hadoop3.2/python/docs/source/user_guide/index.rst\n",
            "spark-3.1.2-bin-hadoop3.2/python/docs/source/user_guide/arrow_pandas.rst\n",
            "spark-3.1.2-bin-hadoop3.2/python/docs/source/reference/\n",
            "spark-3.1.2-bin-hadoop3.2/python/docs/source/reference/pyspark.streaming.rst\n",
            "spark-3.1.2-bin-hadoop3.2/python/docs/source/reference/pyspark.ss.rst\n",
            "spark-3.1.2-bin-hadoop3.2/python/docs/source/reference/pyspark.rst\n",
            "spark-3.1.2-bin-hadoop3.2/python/docs/source/reference/pyspark.resource.rst\n",
            "spark-3.1.2-bin-hadoop3.2/python/docs/source/reference/pyspark.mllib.rst\n",
            "spark-3.1.2-bin-hadoop3.2/python/docs/source/reference/index.rst\n",
            "spark-3.1.2-bin-hadoop3.2/python/docs/source/reference/pyspark.sql.rst\n",
            "spark-3.1.2-bin-hadoop3.2/python/docs/source/reference/pyspark.ml.rst\n",
            "spark-3.1.2-bin-hadoop3.2/python/docs/source/migration_guide/\n",
            "spark-3.1.2-bin-hadoop3.2/python/docs/source/migration_guide/pyspark_2.3_to_2.4.rst\n",
            "spark-3.1.2-bin-hadoop3.2/python/docs/source/migration_guide/pyspark_2.3.0_to_2.3.1_above.rst\n",
            "spark-3.1.2-bin-hadoop3.2/python/docs/source/migration_guide/pyspark_2.2_to_2.3.rst\n",
            "spark-3.1.2-bin-hadoop3.2/python/docs/source/migration_guide/pyspark_1.4_to_1.5.rst\n",
            "spark-3.1.2-bin-hadoop3.2/python/docs/source/migration_guide/pyspark_1.0_1.2_to_1.3.rst\n",
            "spark-3.1.2-bin-hadoop3.2/python/docs/source/migration_guide/pyspark_2.4_to_3.0.rst\n",
            "spark-3.1.2-bin-hadoop3.2/python/docs/source/migration_guide/index.rst\n",
            "spark-3.1.2-bin-hadoop3.2/python/docs/source/getting_started/\n",
            "spark-3.1.2-bin-hadoop3.2/python/docs/source/getting_started/quickstart.ipynb\n",
            "spark-3.1.2-bin-hadoop3.2/python/docs/source/getting_started/index.rst\n",
            "spark-3.1.2-bin-hadoop3.2/python/docs/source/getting_started/install.rst\n",
            "spark-3.1.2-bin-hadoop3.2/python/docs/source/development/\n",
            "spark-3.1.2-bin-hadoop3.2/python/docs/source/development/testing.rst\n",
            "spark-3.1.2-bin-hadoop3.2/python/docs/source/development/setting_ide.rst\n",
            "spark-3.1.2-bin-hadoop3.2/python/docs/source/development/index.rst\n",
            "spark-3.1.2-bin-hadoop3.2/python/docs/source/development/debugging.rst\n",
            "spark-3.1.2-bin-hadoop3.2/python/docs/source/development/contributing.rst\n",
            "spark-3.1.2-bin-hadoop3.2/python/docs/source/_templates/\n",
            "spark-3.1.2-bin-hadoop3.2/python/docs/source/_templates/autosummary/\n",
            "spark-3.1.2-bin-hadoop3.2/python/docs/source/_templates/autosummary/class_with_docs.rst\n",
            "spark-3.1.2-bin-hadoop3.2/python/docs/source/_templates/autosummary/class.rst\n",
            "spark-3.1.2-bin-hadoop3.2/python/docs/source/_static/\n",
            "spark-3.1.2-bin-hadoop3.2/python/docs/source/_static/css/\n",
            "spark-3.1.2-bin-hadoop3.2/python/docs/source/_static/css/pyspark.css\n",
            "spark-3.1.2-bin-hadoop3.2/python/docs/source/_static/copybutton.js\n",
            "spark-3.1.2-bin-hadoop3.2/python/docs/source/index.rst\n",
            "spark-3.1.2-bin-hadoop3.2/python/docs/source/conf.py\n",
            "spark-3.1.2-bin-hadoop3.2/python/docs/make.bat\n",
            "spark-3.1.2-bin-hadoop3.2/python/docs/make2.bat\n",
            "spark-3.1.2-bin-hadoop3.2/python/docs/Makefile\n",
            "spark-3.1.2-bin-hadoop3.2/python/README.md\n",
            "spark-3.1.2-bin-hadoop3.2/python/MANIFEST.in\n",
            "spark-3.1.2-bin-hadoop3.2/python/.gitignore\n",
            "spark-3.1.2-bin-hadoop3.2/python/.coveragerc\n",
            "spark-3.1.2-bin-hadoop3.2/python/setup.py\n",
            "spark-3.1.2-bin-hadoop3.2/python/run-tests.py\n",
            "spark-3.1.2-bin-hadoop3.2/python/run-tests-with-coverage\n",
            "spark-3.1.2-bin-hadoop3.2/python/mypy.ini\n",
            "spark-3.1.2-bin-hadoop3.2/python/test_support/\n",
            "spark-3.1.2-bin-hadoop3.2/python/test_support/userlibrary.py\n",
            "spark-3.1.2-bin-hadoop3.2/python/test_support/userlib-0.1.zip\n",
            "spark-3.1.2-bin-hadoop3.2/python/test_support/sql/\n",
            "spark-3.1.2-bin-hadoop3.2/python/test_support/sql/text-test.txt\n",
            "spark-3.1.2-bin-hadoop3.2/python/test_support/sql/streaming/\n",
            "spark-3.1.2-bin-hadoop3.2/python/test_support/sql/streaming/text-test.txt\n",
            "spark-3.1.2-bin-hadoop3.2/python/test_support/sql/people_array_utf16le.json\n",
            "spark-3.1.2-bin-hadoop3.2/python/test_support/sql/people_array.json\n",
            "spark-3.1.2-bin-hadoop3.2/python/test_support/sql/people1.json\n",
            "spark-3.1.2-bin-hadoop3.2/python/test_support/sql/people.json\n",
            "spark-3.1.2-bin-hadoop3.2/python/test_support/sql/parquet_partitioned/\n",
            "spark-3.1.2-bin-hadoop3.2/python/test_support/sql/parquet_partitioned/year=2015/\n",
            "spark-3.1.2-bin-hadoop3.2/python/test_support/sql/parquet_partitioned/year=2015/month=9/\n",
            "spark-3.1.2-bin-hadoop3.2/python/test_support/sql/parquet_partitioned/year=2015/month=9/day=1/\n",
            "spark-3.1.2-bin-hadoop3.2/python/test_support/sql/parquet_partitioned/year=2015/month=9/day=1/part-r-00007.gz.parquet\n",
            "spark-3.1.2-bin-hadoop3.2/python/test_support/sql/parquet_partitioned/year=2015/month=9/day=1/.part-r-00007.gz.parquet.crc\n",
            "spark-3.1.2-bin-hadoop3.2/python/test_support/sql/parquet_partitioned/year=2015/month=10/\n",
            "spark-3.1.2-bin-hadoop3.2/python/test_support/sql/parquet_partitioned/year=2015/month=10/day=26/\n",
            "spark-3.1.2-bin-hadoop3.2/python/test_support/sql/parquet_partitioned/year=2015/month=10/day=26/part-r-00005.gz.parquet\n",
            "spark-3.1.2-bin-hadoop3.2/python/test_support/sql/parquet_partitioned/year=2015/month=10/day=26/.part-r-00005.gz.parquet.crc\n",
            "spark-3.1.2-bin-hadoop3.2/python/test_support/sql/parquet_partitioned/year=2015/month=10/day=25/\n",
            "spark-3.1.2-bin-hadoop3.2/python/test_support/sql/parquet_partitioned/year=2015/month=10/day=25/part-r-00004.gz.parquet\n",
            "spark-3.1.2-bin-hadoop3.2/python/test_support/sql/parquet_partitioned/year=2015/month=10/day=25/part-r-00002.gz.parquet\n",
            "spark-3.1.2-bin-hadoop3.2/python/test_support/sql/parquet_partitioned/year=2015/month=10/day=25/.part-r-00004.gz.parquet.crc\n",
            "spark-3.1.2-bin-hadoop3.2/python/test_support/sql/parquet_partitioned/year=2015/month=10/day=25/.part-r-00002.gz.parquet.crc\n",
            "spark-3.1.2-bin-hadoop3.2/python/test_support/sql/parquet_partitioned/year=2014/\n",
            "spark-3.1.2-bin-hadoop3.2/python/test_support/sql/parquet_partitioned/year=2014/month=9/\n",
            "spark-3.1.2-bin-hadoop3.2/python/test_support/sql/parquet_partitioned/year=2014/month=9/day=1/\n",
            "spark-3.1.2-bin-hadoop3.2/python/test_support/sql/parquet_partitioned/year=2014/month=9/day=1/part-r-00008.gz.parquet\n",
            "spark-3.1.2-bin-hadoop3.2/python/test_support/sql/parquet_partitioned/year=2014/month=9/day=1/.part-r-00008.gz.parquet.crc\n",
            "spark-3.1.2-bin-hadoop3.2/python/test_support/sql/parquet_partitioned/_metadata\n",
            "spark-3.1.2-bin-hadoop3.2/python/test_support/sql/parquet_partitioned/_common_metadata\n",
            "spark-3.1.2-bin-hadoop3.2/python/test_support/sql/parquet_partitioned/_SUCCESS\n",
            "spark-3.1.2-bin-hadoop3.2/python/test_support/sql/orc_partitioned/\n",
            "spark-3.1.2-bin-hadoop3.2/python/test_support/sql/orc_partitioned/b=1/\n",
            "spark-3.1.2-bin-hadoop3.2/python/test_support/sql/orc_partitioned/b=1/c=1/\n",
            "spark-3.1.2-bin-hadoop3.2/python/test_support/sql/orc_partitioned/b=1/c=1/part-r-00000-829af031-b970-49d6-ad39-30460a0be2c8.orc\n",
            "spark-3.1.2-bin-hadoop3.2/python/test_support/sql/orc_partitioned/b=1/c=1/.part-r-00000-829af031-b970-49d6-ad39-30460a0be2c8.orc.crc\n",
            "spark-3.1.2-bin-hadoop3.2/python/test_support/sql/orc_partitioned/b=0/\n",
            "spark-3.1.2-bin-hadoop3.2/python/test_support/sql/orc_partitioned/b=0/c=0/\n",
            "spark-3.1.2-bin-hadoop3.2/python/test_support/sql/orc_partitioned/b=0/c=0/part-r-00000-829af031-b970-49d6-ad39-30460a0be2c8.orc\n",
            "spark-3.1.2-bin-hadoop3.2/python/test_support/sql/orc_partitioned/b=0/c=0/.part-r-00000-829af031-b970-49d6-ad39-30460a0be2c8.orc.crc\n",
            "spark-3.1.2-bin-hadoop3.2/python/test_support/sql/orc_partitioned/_SUCCESS\n",
            "spark-3.1.2-bin-hadoop3.2/python/test_support/sql/ages_newlines.csv\n",
            "spark-3.1.2-bin-hadoop3.2/python/test_support/sql/ages.csv\n",
            "spark-3.1.2-bin-hadoop3.2/python/test_support/hello/\n",
            "spark-3.1.2-bin-hadoop3.2/python/test_support/hello/sub_hello/\n",
            "spark-3.1.2-bin-hadoop3.2/python/test_support/hello/sub_hello/sub_hello.txt\n",
            "spark-3.1.2-bin-hadoop3.2/python/test_support/hello/hello.txt\n",
            "spark-3.1.2-bin-hadoop3.2/python/test_support/SimpleHTTPServer.py\n",
            "spark-3.1.2-bin-hadoop3.2/python/test_coverage/\n",
            "spark-3.1.2-bin-hadoop3.2/python/test_coverage/sitecustomize.py\n",
            "spark-3.1.2-bin-hadoop3.2/python/test_coverage/coverage_daemon.py\n",
            "spark-3.1.2-bin-hadoop3.2/python/test_coverage/conf/\n",
            "spark-3.1.2-bin-hadoop3.2/python/test_coverage/conf/spark-defaults.conf\n",
            "spark-3.1.2-bin-hadoop3.2/python/setup.cfg\n",
            "spark-3.1.2-bin-hadoop3.2/python/run-tests\n",
            "spark-3.1.2-bin-hadoop3.2/bin/\n",
            "spark-3.1.2-bin-hadoop3.2/bin/sparkR2.cmd\n",
            "spark-3.1.2-bin-hadoop3.2/bin/sparkR.cmd\n",
            "spark-3.1.2-bin-hadoop3.2/bin/sparkR\n",
            "spark-3.1.2-bin-hadoop3.2/bin/spark-submit2.cmd\n",
            "spark-3.1.2-bin-hadoop3.2/bin/spark-submit.cmd\n",
            "spark-3.1.2-bin-hadoop3.2/bin/spark-submit\n",
            "spark-3.1.2-bin-hadoop3.2/bin/spark-sql2.cmd\n",
            "spark-3.1.2-bin-hadoop3.2/bin/spark-sql.cmd\n",
            "spark-3.1.2-bin-hadoop3.2/bin/spark-sql\n",
            "spark-3.1.2-bin-hadoop3.2/bin/spark-shell2.cmd\n",
            "spark-3.1.2-bin-hadoop3.2/bin/spark-shell.cmd\n",
            "spark-3.1.2-bin-hadoop3.2/bin/spark-shell\n",
            "spark-3.1.2-bin-hadoop3.2/bin/spark-class2.cmd\n",
            "spark-3.1.2-bin-hadoop3.2/bin/spark-class.cmd\n",
            "spark-3.1.2-bin-hadoop3.2/bin/spark-class\n",
            "spark-3.1.2-bin-hadoop3.2/bin/run-example.cmd\n",
            "spark-3.1.2-bin-hadoop3.2/bin/run-example\n",
            "spark-3.1.2-bin-hadoop3.2/bin/pyspark.cmd\n",
            "spark-3.1.2-bin-hadoop3.2/bin/load-spark-env.sh\n",
            "spark-3.1.2-bin-hadoop3.2/bin/load-spark-env.cmd\n",
            "spark-3.1.2-bin-hadoop3.2/bin/find-spark-home.cmd\n",
            "spark-3.1.2-bin-hadoop3.2/bin/find-spark-home\n",
            "spark-3.1.2-bin-hadoop3.2/bin/docker-image-tool.sh\n",
            "spark-3.1.2-bin-hadoop3.2/bin/beeline.cmd\n",
            "spark-3.1.2-bin-hadoop3.2/bin/beeline\n",
            "spark-3.1.2-bin-hadoop3.2/bin/pyspark2.cmd\n",
            "spark-3.1.2-bin-hadoop3.2/bin/pyspark\n",
            "spark-3.1.2-bin-hadoop3.2/README.md\n",
            "spark-3.1.2-bin-hadoop3.2/conf/\n",
            "spark-3.1.2-bin-hadoop3.2/conf/workers.template\n",
            "spark-3.1.2-bin-hadoop3.2/conf/spark-env.sh.template\n",
            "spark-3.1.2-bin-hadoop3.2/conf/spark-defaults.conf.template\n",
            "spark-3.1.2-bin-hadoop3.2/conf/metrics.properties.template\n",
            "spark-3.1.2-bin-hadoop3.2/conf/log4j.properties.template\n",
            "spark-3.1.2-bin-hadoop3.2/conf/fairscheduler.xml.template\n",
            "spark-3.1.2-bin-hadoop3.2/data/\n",
            "spark-3.1.2-bin-hadoop3.2/data/streaming/\n",
            "spark-3.1.2-bin-hadoop3.2/data/streaming/AFINN-111.txt\n",
            "spark-3.1.2-bin-hadoop3.2/data/mllib/\n",
            "spark-3.1.2-bin-hadoop3.2/data/mllib/streaming_kmeans_data_test.txt\n",
            "spark-3.1.2-bin-hadoop3.2/data/mllib/sample_svm_data.txt\n",
            "spark-3.1.2-bin-hadoop3.2/data/mllib/sample_multiclass_classification_data.txt\n",
            "spark-3.1.2-bin-hadoop3.2/data/mllib/sample_movielens_data.txt\n",
            "spark-3.1.2-bin-hadoop3.2/data/mllib/sample_linear_regression_data.txt\n",
            "spark-3.1.2-bin-hadoop3.2/data/mllib/sample_libsvm_data.txt\n",
            "spark-3.1.2-bin-hadoop3.2/data/mllib/sample_lda_libsvm_data.txt\n",
            "spark-3.1.2-bin-hadoop3.2/data/mllib/sample_lda_data.txt\n",
            "spark-3.1.2-bin-hadoop3.2/data/mllib/sample_kmeans_data.txt\n",
            "spark-3.1.2-bin-hadoop3.2/data/mllib/sample_isotonic_regression_libsvm_data.txt\n",
            "spark-3.1.2-bin-hadoop3.2/data/mllib/sample_fpgrowth.txt\n",
            "spark-3.1.2-bin-hadoop3.2/data/mllib/sample_binary_classification_data.txt\n",
            "spark-3.1.2-bin-hadoop3.2/data/mllib/ridge-data/\n",
            "spark-3.1.2-bin-hadoop3.2/data/mllib/ridge-data/lpsa.data\n",
            "spark-3.1.2-bin-hadoop3.2/data/mllib/pic_data.txt\n",
            "spark-3.1.2-bin-hadoop3.2/data/mllib/pagerank_data.txt\n",
            "spark-3.1.2-bin-hadoop3.2/data/mllib/kmeans_data.txt\n",
            "spark-3.1.2-bin-hadoop3.2/data/mllib/iris_libsvm.txt\n",
            "spark-3.1.2-bin-hadoop3.2/data/mllib/images/\n",
            "spark-3.1.2-bin-hadoop3.2/data/mllib/images/partitioned/\n",
            "spark-3.1.2-bin-hadoop3.2/data/mllib/images/partitioned/cls=multichannel/\n",
            "spark-3.1.2-bin-hadoop3.2/data/mllib/images/partitioned/cls=multichannel/date=2018-02/\n",
            "spark-3.1.2-bin-hadoop3.2/data/mllib/images/partitioned/cls=multichannel/date=2018-02/grayscale.jpg\n",
            "spark-3.1.2-bin-hadoop3.2/data/mllib/images/partitioned/cls=multichannel/date=2018-02/chr30.4.184.jpg\n",
            "spark-3.1.2-bin-hadoop3.2/data/mllib/images/partitioned/cls=multichannel/date=2018-01/\n",
            "spark-3.1.2-bin-hadoop3.2/data/mllib/images/partitioned/cls=multichannel/date=2018-01/BGRA_alpha_60.png\n",
            "spark-3.1.2-bin-hadoop3.2/data/mllib/images/partitioned/cls=multichannel/date=2018-01/BGRA.png\n",
            "spark-3.1.2-bin-hadoop3.2/data/mllib/images/partitioned/cls=kittens/\n",
            "spark-3.1.2-bin-hadoop3.2/data/mllib/images/partitioned/cls=kittens/date=2018-02/\n",
            "spark-3.1.2-bin-hadoop3.2/data/mllib/images/partitioned/cls=kittens/date=2018-02/DP802813.jpg\n",
            "spark-3.1.2-bin-hadoop3.2/data/mllib/images/partitioned/cls=kittens/date=2018-02/DP153539.jpg\n",
            "spark-3.1.2-bin-hadoop3.2/data/mllib/images/partitioned/cls=kittens/date=2018-02/54893.jpg\n",
            "spark-3.1.2-bin-hadoop3.2/data/mllib/images/partitioned/cls=kittens/date=2018-01/\n",
            "spark-3.1.2-bin-hadoop3.2/data/mllib/images/partitioned/cls=kittens/date=2018-01/not-image.txt\n",
            "spark-3.1.2-bin-hadoop3.2/data/mllib/images/partitioned/cls=kittens/date=2018-01/29.5.a_b_EGDP022204.jpg\n",
            "spark-3.1.2-bin-hadoop3.2/data/mllib/images/origin/\n",
            "spark-3.1.2-bin-hadoop3.2/data/mllib/images/origin/multi-channel/\n",
            "spark-3.1.2-bin-hadoop3.2/data/mllib/images/origin/multi-channel/grayscale.jpg\n",
            "spark-3.1.2-bin-hadoop3.2/data/mllib/images/origin/multi-channel/chr30.4.184.jpg\n",
            "spark-3.1.2-bin-hadoop3.2/data/mllib/images/origin/multi-channel/BGRA_alpha_60.png\n",
            "spark-3.1.2-bin-hadoop3.2/data/mllib/images/origin/multi-channel/BGRA.png\n",
            "spark-3.1.2-bin-hadoop3.2/data/mllib/images/origin/license.txt\n",
            "spark-3.1.2-bin-hadoop3.2/data/mllib/images/origin/kittens/\n",
            "spark-3.1.2-bin-hadoop3.2/data/mllib/images/origin/kittens/not-image.txt\n",
            "spark-3.1.2-bin-hadoop3.2/data/mllib/images/origin/kittens/DP802813.jpg\n",
            "spark-3.1.2-bin-hadoop3.2/data/mllib/images/origin/kittens/DP153539.jpg\n",
            "spark-3.1.2-bin-hadoop3.2/data/mllib/images/origin/kittens/54893.jpg\n",
            "spark-3.1.2-bin-hadoop3.2/data/mllib/images/origin/kittens/29.5.a_b_EGDP022204.jpg\n",
            "spark-3.1.2-bin-hadoop3.2/data/mllib/images/license.txt\n",
            "spark-3.1.2-bin-hadoop3.2/data/mllib/gmm_data.txt\n",
            "spark-3.1.2-bin-hadoop3.2/data/mllib/als/\n",
            "spark-3.1.2-bin-hadoop3.2/data/mllib/als/test.data\n",
            "spark-3.1.2-bin-hadoop3.2/data/mllib/als/sample_movielens_ratings.txt\n",
            "spark-3.1.2-bin-hadoop3.2/data/graphx/\n",
            "spark-3.1.2-bin-hadoop3.2/data/graphx/users.txt\n",
            "spark-3.1.2-bin-hadoop3.2/data/graphx/followers.txt\n",
            "spark-3.1.2-bin-hadoop3.2/NOTICE\n",
            "spark-3.1.2-bin-hadoop3.2/licenses/\n",
            "spark-3.1.2-bin-hadoop3.2/licenses/LICENSE-zstd.txt\n",
            "spark-3.1.2-bin-hadoop3.2/licenses/LICENSE-zstd-jni.txt\n",
            "spark-3.1.2-bin-hadoop3.2/licenses/LICENSE-xmlenc.txt\n",
            "spark-3.1.2-bin-hadoop3.2/licenses/LICENSE-vis-timeline.txt\n",
            "spark-3.1.2-bin-hadoop3.2/licenses/LICENSE-spire.txt\n",
            "spark-3.1.2-bin-hadoop3.2/licenses/LICENSE-sorttable.js.txt\n",
            "spark-3.1.2-bin-hadoop3.2/licenses/LICENSE-slf4j.txt\n",
            "spark-3.1.2-bin-hadoop3.2/licenses/LICENSE-scopt.txt\n",
            "spark-3.1.2-bin-hadoop3.2/licenses/LICENSE-scala.txt\n",
            "spark-3.1.2-bin-hadoop3.2/licenses/LICENSE-sbt-launch-lib.txt\n",
            "spark-3.1.2-bin-hadoop3.2/licenses/LICENSE-respond.txt\n",
            "spark-3.1.2-bin-hadoop3.2/licenses/LICENSE-reflectasm.txt\n",
            "spark-3.1.2-bin-hadoop3.2/licenses/LICENSE-re2j.txt\n",
            "spark-3.1.2-bin-hadoop3.2/licenses/LICENSE-pyrolite.txt\n",
            "spark-3.1.2-bin-hadoop3.2/licenses/LICENSE-py4j.txt\n",
            "spark-3.1.2-bin-hadoop3.2/licenses/LICENSE-protobuf.txt\n",
            "spark-3.1.2-bin-hadoop3.2/licenses/LICENSE-pmml-model.txt\n",
            "spark-3.1.2-bin-hadoop3.2/licenses/LICENSE-paranamer.txt\n",
            "spark-3.1.2-bin-hadoop3.2/licenses/LICENSE-netlib.txt\n",
            "spark-3.1.2-bin-hadoop3.2/licenses/LICENSE-mustache.txt\n",
            "spark-3.1.2-bin-hadoop3.2/licenses/LICENSE-modernizr.txt\n",
            "spark-3.1.2-bin-hadoop3.2/licenses/LICENSE-minlog.txt\n",
            "spark-3.1.2-bin-hadoop3.2/licenses/LICENSE-matchMedia-polyfill.txt\n",
            "spark-3.1.2-bin-hadoop3.2/licenses/LICENSE-machinist.txt\n",
            "spark-3.1.2-bin-hadoop3.2/licenses/LICENSE-leveldbjni.txt\n",
            "spark-3.1.2-bin-hadoop3.2/licenses/LICENSE-kryo.txt\n",
            "spark-3.1.2-bin-hadoop3.2/licenses/LICENSE-jsp-api.txt\n",
            "spark-3.1.2-bin-hadoop3.2/licenses/LICENSE-json-formatter.txt\n",
            "spark-3.1.2-bin-hadoop3.2/licenses/LICENSE-jquery.txt\n",
            "spark-3.1.2-bin-hadoop3.2/licenses/LICENSE-join.txt\n",
            "spark-3.1.2-bin-hadoop3.2/licenses/LICENSE-jodd.txt\n",
            "spark-3.1.2-bin-hadoop3.2/licenses/LICENSE-jline.txt\n",
            "spark-3.1.2-bin-hadoop3.2/licenses/LICENSE-jaxb-runtime.txt\n",
            "spark-3.1.2-bin-hadoop3.2/licenses/LICENSE-javolution.txt\n",
            "spark-3.1.2-bin-hadoop3.2/licenses/LICENSE-javax-transaction-transaction-api.txt\n",
            "spark-3.1.2-bin-hadoop3.2/licenses/LICENSE-javassist.html\n",
            "spark-3.1.2-bin-hadoop3.2/licenses/LICENSE-janino.txt\n",
            "spark-3.1.2-bin-hadoop3.2/licenses/LICENSE-jakarta.xml.bind-api.txt\n",
            "spark-3.1.2-bin-hadoop3.2/licenses/LICENSE-jakarta.activation-api.txt\n",
            "spark-3.1.2-bin-hadoop3.2/licenses/LICENSE-jakarta-ws-rs-api\n",
            "spark-3.1.2-bin-hadoop3.2/licenses/LICENSE-jakarta-annotation-api\n",
            "spark-3.1.2-bin-hadoop3.2/licenses/LICENSE-istack-commons-runtime.txt\n",
            "spark-3.1.2-bin-hadoop3.2/licenses/LICENSE-graphlib-dot.txt\n",
            "spark-3.1.2-bin-hadoop3.2/licenses/LICENSE-f2j.txt\n",
            "spark-3.1.2-bin-hadoop3.2/licenses/LICENSE-dnsjava.txt\n",
            "spark-3.1.2-bin-hadoop3.2/licenses/LICENSE-datatables.txt\n",
            "spark-3.1.2-bin-hadoop3.2/licenses/LICENSE-dagre-d3.txt\n",
            "spark-3.1.2-bin-hadoop3.2/licenses/LICENSE-d3.min.js.txt\n",
            "spark-3.1.2-bin-hadoop3.2/licenses/LICENSE-cloudpickle.txt\n",
            "spark-3.1.2-bin-hadoop3.2/licenses/LICENSE-bootstrap.txt\n",
            "spark-3.1.2-bin-hadoop3.2/licenses/LICENSE-automaton.txt\n",
            "spark-3.1.2-bin-hadoop3.2/licenses/LICENSE-arpack.txt\n",
            "spark-3.1.2-bin-hadoop3.2/licenses/LICENSE-antlr.txt\n",
            "spark-3.1.2-bin-hadoop3.2/licenses/LICENSE-JTransforms.txt\n",
            "spark-3.1.2-bin-hadoop3.2/licenses/LICENSE-JLargeArrays.txt\n",
            "spark-3.1.2-bin-hadoop3.2/licenses/LICENSE-CC0.txt\n",
            "spark-3.1.2-bin-hadoop3.2/licenses/LICENSE-AnchorJS.txt\n",
            "spark-3.1.2-bin-hadoop3.2/LICENSE\n",
            "spark-3.1.2-bin-hadoop3.2/examples/\n",
            "spark-3.1.2-bin-hadoop3.2/examples/src/\n",
            "spark-3.1.2-bin-hadoop3.2/examples/src/main/\n",
            "spark-3.1.2-bin-hadoop3.2/examples/src/main/scala/\n",
            "spark-3.1.2-bin-hadoop3.2/examples/src/main/scala/org/\n",
            "spark-3.1.2-bin-hadoop3.2/examples/src/main/scala/org/apache/\n",
            "spark-3.1.2-bin-hadoop3.2/examples/src/main/scala/org/apache/spark/\n",
            "spark-3.1.2-bin-hadoop3.2/examples/src/main/scala/org/apache/spark/examples/\n",
            "spark-3.1.2-bin-hadoop3.2/examples/src/main/scala/org/apache/spark/examples/mllib/\n",
            "spark-3.1.2-bin-hadoop3.2/examples/src/main/scala/org/apache/spark/examples/mllib/PrefixSpanExample.scala\n",
            "spark-3.1.2-bin-hadoop3.2/examples/src/main/scala/org/apache/spark/examples/mllib/PowerIterationClusteringExample.scala\n",
            "spark-3.1.2-bin-hadoop3.2/examples/src/main/scala/org/apache/spark/examples/mllib/PMMLModelExportExample.scala\n",
            "spark-3.1.2-bin-hadoop3.2/examples/src/main/scala/org/apache/spark/examples/mllib/PCAOnSourceVectorExample.scala\n",
            "spark-3.1.2-bin-hadoop3.2/examples/src/main/scala/org/apache/spark/examples/mllib/PCAOnRowMatrixExample.scala\n",
            "spark-3.1.2-bin-hadoop3.2/examples/src/main/scala/org/apache/spark/examples/mllib/NormalizerExample.scala\n",
            "spark-3.1.2-bin-hadoop3.2/examples/src/main/scala/org/apache/spark/examples/mllib/NaiveBayesExample.scala\n",
            "spark-3.1.2-bin-hadoop3.2/examples/src/main/scala/org/apache/spark/examples/mllib/MultivariateSummarizer.scala\n",
            "spark-3.1.2-bin-hadoop3.2/examples/src/main/scala/org/apache/spark/examples/mllib/MulticlassMetricsExample.scala\n",
            "spark-3.1.2-bin-hadoop3.2/examples/src/main/scala/org/apache/spark/examples/mllib/MultiLabelMetricsExample.scala\n",
            "spark-3.1.2-bin-hadoop3.2/examples/src/main/scala/org/apache/spark/examples/mllib/MovieLensALS.scala\n",
            "spark-3.1.2-bin-hadoop3.2/examples/src/main/scala/org/apache/spark/examples/mllib/LogisticRegressionWithLBFGSExample.scala\n",
            "spark-3.1.2-bin-hadoop3.2/examples/src/main/scala/org/apache/spark/examples/mllib/LatentDirichletAllocationExample.scala\n",
            "spark-3.1.2-bin-hadoop3.2/examples/src/main/scala/org/apache/spark/examples/mllib/LDAExample.scala\n",
            "spark-3.1.2-bin-hadoop3.2/examples/src/main/scala/org/apache/spark/examples/mllib/LBFGSExample.scala\n",
            "spark-3.1.2-bin-hadoop3.2/examples/src/main/scala/org/apache/spark/examples/mllib/KernelDensityEstimationExample.scala\n",
            "spark-3.1.2-bin-hadoop3.2/examples/src/main/scala/org/apache/spark/examples/mllib/KMeansExample.scala\n",
            "spark-3.1.2-bin-hadoop3.2/examples/src/main/scala/org/apache/spark/examples/mllib/IsotonicRegressionExample.scala\n",
            "spark-3.1.2-bin-hadoop3.2/examples/src/main/scala/org/apache/spark/examples/mllib/HypothesisTestingKolmogorovSmirnovTestExample.scala\n",
            "spark-3.1.2-bin-hadoop3.2/examples/src/main/scala/org/apache/spark/examples/mllib/HypothesisTestingExample.scala\n",
            "spark-3.1.2-bin-hadoop3.2/examples/src/main/scala/org/apache/spark/examples/mllib/GradientBoostingRegressionExample.scala\n",
            "spark-3.1.2-bin-hadoop3.2/examples/src/main/scala/org/apache/spark/examples/mllib/GradientBoostingClassificationExample.scala\n",
            "spark-3.1.2-bin-hadoop3.2/examples/src/main/scala/org/apache/spark/examples/mllib/GradientBoostedTreesRunner.scala\n",
            "spark-3.1.2-bin-hadoop3.2/examples/src/main/scala/org/apache/spark/examples/mllib/GaussianMixtureExample.scala\n",
            "spark-3.1.2-bin-hadoop3.2/examples/src/main/scala/org/apache/spark/examples/mllib/FPGrowthExample.scala\n",
            "spark-3.1.2-bin-hadoop3.2/examples/src/main/scala/org/apache/spark/examples/mllib/ElementwiseProductExample.scala\n",
            "spark-3.1.2-bin-hadoop3.2/examples/src/main/scala/org/apache/spark/examples/mllib/DenseKMeans.scala\n",
            "spark-3.1.2-bin-hadoop3.2/examples/src/main/scala/org/apache/spark/examples/mllib/DecisionTreeRunner.scala\n",
            "spark-3.1.2-bin-hadoop3.2/examples/src/main/scala/org/apache/spark/examples/mllib/DecisionTreeRegressionExample.scala\n",
            "spark-3.1.2-bin-hadoop3.2/examples/src/main/scala/org/apache/spark/examples/mllib/DecisionTreeClassificationExample.scala\n",
            "spark-3.1.2-bin-hadoop3.2/examples/src/main/scala/org/apache/spark/examples/mllib/CosineSimilarity.scala\n",
            "spark-3.1.2-bin-hadoop3.2/examples/src/main/scala/org/apache/spark/examples/mllib/CorrelationsExample.scala\n",
            "spark-3.1.2-bin-hadoop3.2/examples/src/main/scala/org/apache/spark/examples/mllib/Correlations.scala\n",
            "spark-3.1.2-bin-hadoop3.2/examples/src/main/scala/org/apache/spark/examples/mllib/ChiSqSelectorExample.scala\n",
            "spark-3.1.2-bin-hadoop3.2/examples/src/main/scala/org/apache/spark/examples/mllib/BisectingKMeansExample.scala\n",
            "spark-3.1.2-bin-hadoop3.2/examples/src/main/scala/org/apache/spark/examples/mllib/BinaryClassificationMetricsExample.scala\n",
            "spark-3.1.2-bin-hadoop3.2/examples/src/main/scala/org/apache/spark/examples/mllib/BinaryClassification.scala\n",
            "spark-3.1.2-bin-hadoop3.2/examples/src/main/scala/org/apache/spark/examples/mllib/AssociationRulesExample.scala\n",
            "spark-3.1.2-bin-hadoop3.2/examples/src/main/scala/org/apache/spark/examples/mllib/AbstractParams.scala\n",
            "spark-3.1.2-bin-hadoop3.2/examples/src/main/scala/org/apache/spark/examples/mllib/Word2VecExample.scala\n",
            "spark-3.1.2-bin-hadoop3.2/examples/src/main/scala/org/apache/spark/examples/mllib/TallSkinnySVD.scala\n",
            "spark-3.1.2-bin-hadoop3.2/examples/src/main/scala/org/apache/spark/examples/mllib/TallSkinnyPCA.scala\n",
            "spark-3.1.2-bin-hadoop3.2/examples/src/main/scala/org/apache/spark/examples/mllib/TFIDFExample.scala\n",
            "spark-3.1.2-bin-hadoop3.2/examples/src/main/scala/org/apache/spark/examples/mllib/SummaryStatisticsExample.scala\n",
            "spark-3.1.2-bin-hadoop3.2/examples/src/main/scala/org/apache/spark/examples/mllib/StreamingTestExample.scala\n",
            "spark-3.1.2-bin-hadoop3.2/examples/src/main/scala/org/apache/spark/examples/mllib/StreamingLogisticRegression.scala\n",
            "spark-3.1.2-bin-hadoop3.2/examples/src/main/scala/org/apache/spark/examples/mllib/StreamingLinearRegressionExample.scala\n",
            "spark-3.1.2-bin-hadoop3.2/examples/src/main/scala/org/apache/spark/examples/mllib/StreamingKMeansExample.scala\n",
            "spark-3.1.2-bin-hadoop3.2/examples/src/main/scala/org/apache/spark/examples/mllib/StratifiedSamplingExample.scala\n",
            "spark-3.1.2-bin-hadoop3.2/examples/src/main/scala/org/apache/spark/examples/mllib/StandardScalerExample.scala\n",
            "spark-3.1.2-bin-hadoop3.2/examples/src/main/scala/org/apache/spark/examples/mllib/SparseNaiveBayes.scala\n",
            "spark-3.1.2-bin-hadoop3.2/examples/src/main/scala/org/apache/spark/examples/mllib/SimpleFPGrowth.scala\n",
            "spark-3.1.2-bin-hadoop3.2/examples/src/main/scala/org/apache/spark/examples/mllib/SampledRDDs.scala\n",
            "spark-3.1.2-bin-hadoop3.2/examples/src/main/scala/org/apache/spark/examples/mllib/SVMWithSGDExample.scala\n",
            "spark-3.1.2-bin-hadoop3.2/examples/src/main/scala/org/apache/spark/examples/mllib/SVDExample.scala\n",
            "spark-3.1.2-bin-hadoop3.2/examples/src/main/scala/org/apache/spark/examples/mllib/RecommendationExample.scala\n",
            "spark-3.1.2-bin-hadoop3.2/examples/src/main/scala/org/apache/spark/examples/mllib/RankingMetricsExample.scala\n",
            "spark-3.1.2-bin-hadoop3.2/examples/src/main/scala/org/apache/spark/examples/mllib/RandomRDDGeneration.scala\n",
            "spark-3.1.2-bin-hadoop3.2/examples/src/main/scala/org/apache/spark/examples/mllib/RandomForestRegressionExample.scala\n",
            "spark-3.1.2-bin-hadoop3.2/examples/src/main/scala/org/apache/spark/examples/mllib/RandomForestClassificationExample.scala\n",
            "spark-3.1.2-bin-hadoop3.2/examples/src/main/scala/org/apache/spark/examples/ml/\n",
            "spark-3.1.2-bin-hadoop3.2/examples/src/main/scala/org/apache/spark/examples/ml/Word2VecExample.scala\n",
            "spark-3.1.2-bin-hadoop3.2/examples/src/main/scala/org/apache/spark/examples/ml/VectorSlicerExample.scala\n",
            "spark-3.1.2-bin-hadoop3.2/examples/src/main/scala/org/apache/spark/examples/ml/VectorSizeHintExample.scala\n",
            "spark-3.1.2-bin-hadoop3.2/examples/src/main/scala/org/apache/spark/examples/ml/VectorIndexerExample.scala\n",
            "spark-3.1.2-bin-hadoop3.2/examples/src/main/scala/org/apache/spark/examples/ml/VectorAssemblerExample.scala\n",
            "spark-3.1.2-bin-hadoop3.2/examples/src/main/scala/org/apache/spark/examples/ml/VarianceThresholdSelectorExample.scala\n",
            "spark-3.1.2-bin-hadoop3.2/examples/src/main/scala/org/apache/spark/examples/ml/UnivariateFeatureSelectorExample.scala\n",
            "spark-3.1.2-bin-hadoop3.2/examples/src/main/scala/org/apache/spark/examples/ml/UnaryTransformerExample.scala\n",
            "spark-3.1.2-bin-hadoop3.2/examples/src/main/scala/org/apache/spark/examples/ml/TokenizerExample.scala\n",
            "spark-3.1.2-bin-hadoop3.2/examples/src/main/scala/org/apache/spark/examples/ml/TfIdfExample.scala\n",
            "spark-3.1.2-bin-hadoop3.2/examples/src/main/scala/org/apache/spark/examples/ml/SummarizerExample.scala\n",
            "spark-3.1.2-bin-hadoop3.2/examples/src/main/scala/org/apache/spark/examples/ml/StringIndexerExample.scala\n",
            "spark-3.1.2-bin-hadoop3.2/examples/src/main/scala/org/apache/spark/examples/ml/StopWordsRemoverExample.scala\n",
            "spark-3.1.2-bin-hadoop3.2/examples/src/main/scala/org/apache/spark/examples/ml/StandardScalerExample.scala\n",
            "spark-3.1.2-bin-hadoop3.2/examples/src/main/scala/org/apache/spark/examples/ml/SQLTransformerExample.scala\n",
            "spark-3.1.2-bin-hadoop3.2/examples/src/main/scala/org/apache/spark/examples/ml/RobustScalerExample.scala\n",
            "spark-3.1.2-bin-hadoop3.2/examples/src/main/scala/org/apache/spark/examples/ml/RandomForestRegressorExample.scala\n",
            "spark-3.1.2-bin-hadoop3.2/examples/src/main/scala/org/apache/spark/examples/ml/RandomForestExample.scala\n",
            "spark-3.1.2-bin-hadoop3.2/examples/src/main/scala/org/apache/spark/examples/ml/RandomForestClassifierExample.scala\n",
            "spark-3.1.2-bin-hadoop3.2/examples/src/main/scala/org/apache/spark/examples/ml/RFormulaExample.scala\n",
            "spark-3.1.2-bin-hadoop3.2/examples/src/main/scala/org/apache/spark/examples/ml/QuantileDiscretizerExample.scala\n",
            "spark-3.1.2-bin-hadoop3.2/examples/src/main/scala/org/apache/spark/examples/ml/PrefixSpanExample.scala\n",
            "spark-3.1.2-bin-hadoop3.2/examples/src/main/scala/org/apache/spark/examples/ml/PowerIterationClusteringExample.scala\n",
            "spark-3.1.2-bin-hadoop3.2/examples/src/main/scala/org/apache/spark/examples/ml/PolynomialExpansionExample.scala\n",
            "spark-3.1.2-bin-hadoop3.2/examples/src/main/scala/org/apache/spark/examples/ml/PipelineExample.scala\n",
            "spark-3.1.2-bin-hadoop3.2/examples/src/main/scala/org/apache/spark/examples/ml/PCAExample.scala\n",
            "spark-3.1.2-bin-hadoop3.2/examples/src/main/scala/org/apache/spark/examples/ml/OneVsRestExample.scala\n",
            "spark-3.1.2-bin-hadoop3.2/examples/src/main/scala/org/apache/spark/examples/ml/OneHotEncoderExample.scala\n",
            "spark-3.1.2-bin-hadoop3.2/examples/src/main/scala/org/apache/spark/examples/ml/NormalizerExample.scala\n",
            "spark-3.1.2-bin-hadoop3.2/examples/src/main/scala/org/apache/spark/examples/ml/NaiveBayesExample.scala\n",
            "spark-3.1.2-bin-hadoop3.2/examples/src/main/scala/org/apache/spark/examples/ml/NGramExample.scala\n",
            "spark-3.1.2-bin-hadoop3.2/examples/src/main/scala/org/apache/spark/examples/ml/MultilayerPerceptronClassifierExample.scala\n",
            "spark-3.1.2-bin-hadoop3.2/examples/src/main/scala/org/apache/spark/examples/ml/MulticlassLogisticRegressionWithElasticNetExample.scala\n",
            "spark-3.1.2-bin-hadoop3.2/examples/src/main/scala/org/apache/spark/examples/ml/ModelSelectionViaTrainValidationSplitExample.scala\n",
            "spark-3.1.2-bin-hadoop3.2/examples/src/main/scala/org/apache/spark/examples/ml/ModelSelectionViaCrossValidationExample.scala\n",
            "spark-3.1.2-bin-hadoop3.2/examples/src/main/scala/org/apache/spark/examples/ml/MinMaxScalerExample.scala\n",
            "spark-3.1.2-bin-hadoop3.2/examples/src/main/scala/org/apache/spark/examples/ml/MinHashLSHExample.scala\n",
            "spark-3.1.2-bin-hadoop3.2/examples/src/main/scala/org/apache/spark/examples/ml/MaxAbsScalerExample.scala\n",
            "spark-3.1.2-bin-hadoop3.2/examples/src/main/scala/org/apache/spark/examples/ml/LogisticRegressionWithElasticNetExample.scala\n",
            "spark-3.1.2-bin-hadoop3.2/examples/src/main/scala/org/apache/spark/examples/ml/LogisticRegressionSummaryExample.scala\n",
            "spark-3.1.2-bin-hadoop3.2/examples/src/main/scala/org/apache/spark/examples/ml/LogisticRegressionExample.scala\n",
            "spark-3.1.2-bin-hadoop3.2/examples/src/main/scala/org/apache/spark/examples/ml/LinearSVCExample.scala\n",
            "spark-3.1.2-bin-hadoop3.2/examples/src/main/scala/org/apache/spark/examples/ml/LinearRegressionWithElasticNetExample.scala\n",
            "spark-3.1.2-bin-hadoop3.2/examples/src/main/scala/org/apache/spark/examples/ml/LinearRegressionExample.scala\n",
            "spark-3.1.2-bin-hadoop3.2/examples/src/main/scala/org/apache/spark/examples/ml/LDAExample.scala\n",
            "spark-3.1.2-bin-hadoop3.2/examples/src/main/scala/org/apache/spark/examples/ml/KMeansExample.scala\n",
            "spark-3.1.2-bin-hadoop3.2/examples/src/main/scala/org/apache/spark/examples/ml/IsotonicRegressionExample.scala\n",
            "spark-3.1.2-bin-hadoop3.2/examples/src/main/scala/org/apache/spark/examples/ml/InteractionExample.scala\n",
            "spark-3.1.2-bin-hadoop3.2/examples/src/main/scala/org/apache/spark/examples/ml/IndexToStringExample.scala\n",
            "spark-3.1.2-bin-hadoop3.2/examples/src/main/scala/org/apache/spark/examples/ml/ImputerExample.scala\n",
            "spark-3.1.2-bin-hadoop3.2/examples/src/main/scala/org/apache/spark/examples/ml/GradientBoostedTreeRegressorExample.scala\n",
            "spark-3.1.2-bin-hadoop3.2/examples/src/main/scala/org/apache/spark/examples/ml/GradientBoostedTreeClassifierExample.scala\n",
            "spark-3.1.2-bin-hadoop3.2/examples/src/main/scala/org/apache/spark/examples/ml/GeneralizedLinearRegressionExample.scala\n",
            "spark-3.1.2-bin-hadoop3.2/examples/src/main/scala/org/apache/spark/examples/ml/GaussianMixtureExample.scala\n",
            "spark-3.1.2-bin-hadoop3.2/examples/src/main/scala/org/apache/spark/examples/ml/GBTExample.scala\n",
            "spark-3.1.2-bin-hadoop3.2/examples/src/main/scala/org/apache/spark/examples/ml/FeatureHasherExample.scala\n",
            "spark-3.1.2-bin-hadoop3.2/examples/src/main/scala/org/apache/spark/examples/ml/FPGrowthExample.scala\n",
            "spark-3.1.2-bin-hadoop3.2/examples/src/main/scala/org/apache/spark/examples/ml/FMRegressorExample.scala\n",
            "spark-3.1.2-bin-hadoop3.2/examples/src/main/scala/org/apache/spark/examples/ml/FMClassifierExample.scala\n",
            "spark-3.1.2-bin-hadoop3.2/examples/src/main/scala/org/apache/spark/examples/ml/EstimatorTransformerParamExample.scala\n",
            "spark-3.1.2-bin-hadoop3.2/examples/src/main/scala/org/apache/spark/examples/ml/ElementwiseProductExample.scala\n",
            "spark-3.1.2-bin-hadoop3.2/examples/src/main/scala/org/apache/spark/examples/ml/DeveloperApiExample.scala\n",
            "spark-3.1.2-bin-hadoop3.2/examples/src/main/scala/org/apache/spark/examples/ml/DecisionTreeRegressionExample.scala\n",
            "spark-3.1.2-bin-hadoop3.2/examples/src/main/scala/org/apache/spark/examples/ml/DecisionTreeExample.scala\n",
            "spark-3.1.2-bin-hadoop3.2/examples/src/main/scala/org/apache/spark/examples/ml/DecisionTreeClassificationExample.scala\n",
            "spark-3.1.2-bin-hadoop3.2/examples/src/main/scala/org/apache/spark/examples/ml/DataFrameExample.scala\n",
            "spark-3.1.2-bin-hadoop3.2/examples/src/main/scala/org/apache/spark/examples/ml/DCTExample.scala\n",
            "spark-3.1.2-bin-hadoop3.2/examples/src/main/scala/org/apache/spark/examples/ml/CountVectorizerExample.scala\n",
            "spark-3.1.2-bin-hadoop3.2/examples/src/main/scala/org/apache/spark/examples/ml/CorrelationExample.scala\n",
            "spark-3.1.2-bin-hadoop3.2/examples/src/main/scala/org/apache/spark/examples/ml/ChiSquareTestExample.scala\n",
            "spark-3.1.2-bin-hadoop3.2/examples/src/main/scala/org/apache/spark/examples/ml/ChiSqSelectorExample.scala\n",
            "spark-3.1.2-bin-hadoop3.2/examples/src/main/scala/org/apache/spark/examples/ml/BucketizerExample.scala\n",
            "spark-3.1.2-bin-hadoop3.2/examples/src/main/scala/org/apache/spark/examples/ml/BucketedRandomProjectionLSHExample.scala\n",
            "spark-3.1.2-bin-hadoop3.2/examples/src/main/scala/org/apache/spark/examples/ml/BisectingKMeansExample.scala\n",
            "spark-3.1.2-bin-hadoop3.2/examples/src/main/scala/org/apache/spark/examples/ml/BinarizerExample.scala\n",
            "spark-3.1.2-bin-hadoop3.2/examples/src/main/scala/org/apache/spark/examples/ml/ALSExample.scala\n",
            "spark-3.1.2-bin-hadoop3.2/examples/src/main/scala/org/apache/spark/examples/ml/AFTSurvivalRegressionExample.scala\n",
            "spark-3.1.2-bin-hadoop3.2/examples/src/main/scala/org/apache/spark/examples/graphx/\n",
            "spark-3.1.2-bin-hadoop3.2/examples/src/main/scala/org/apache/spark/examples/graphx/TriangleCountingExample.scala\n",
            "spark-3.1.2-bin-hadoop3.2/examples/src/main/scala/org/apache/spark/examples/graphx/SynthBenchmark.scala\n",
            "spark-3.1.2-bin-hadoop3.2/examples/src/main/scala/org/apache/spark/examples/graphx/SSSPExample.scala\n",
            "spark-3.1.2-bin-hadoop3.2/examples/src/main/scala/org/apache/spark/examples/graphx/PageRankExample.scala\n",
            "spark-3.1.2-bin-hadoop3.2/examples/src/main/scala/org/apache/spark/examples/graphx/LiveJournalPageRank.scala\n",
            "spark-3.1.2-bin-hadoop3.2/examples/src/main/scala/org/apache/spark/examples/graphx/ConnectedComponentsExample.scala\n",
            "spark-3.1.2-bin-hadoop3.2/examples/src/main/scala/org/apache/spark/examples/graphx/ComprehensiveExample.scala\n",
            "spark-3.1.2-bin-hadoop3.2/examples/src/main/scala/org/apache/spark/examples/graphx/Analytics.scala\n",
            "spark-3.1.2-bin-hadoop3.2/examples/src/main/scala/org/apache/spark/examples/graphx/AggregateMessagesExample.scala\n",
            "spark-3.1.2-bin-hadoop3.2/examples/src/main/scala/org/apache/spark/examples/SparkTC.scala\n",
            "spark-3.1.2-bin-hadoop3.2/examples/src/main/scala/org/apache/spark/examples/SparkRemoteFileTest.scala\n",
            "spark-3.1.2-bin-hadoop3.2/examples/src/main/scala/org/apache/spark/examples/SparkPi.scala\n",
            "spark-3.1.2-bin-hadoop3.2/examples/src/main/scala/org/apache/spark/examples/SparkPageRank.scala\n",
            "spark-3.1.2-bin-hadoop3.2/examples/src/main/scala/org/apache/spark/examples/SparkLR.scala\n",
            "spark-3.1.2-bin-hadoop3.2/examples/src/main/scala/org/apache/spark/examples/SparkKMeans.scala\n",
            "spark-3.1.2-bin-hadoop3.2/examples/src/main/scala/org/apache/spark/examples/SparkHdfsLR.scala\n",
            "spark-3.1.2-bin-hadoop3.2/examples/src/main/scala/org/apache/spark/examples/SparkALS.scala\n",
            "spark-3.1.2-bin-hadoop3.2/examples/src/main/scala/org/apache/spark/examples/SkewedGroupByTest.scala\n",
            "spark-3.1.2-bin-hadoop3.2/examples/src/main/scala/org/apache/spark/examples/SimpleSkewedGroupByTest.scala\n",
            "spark-3.1.2-bin-hadoop3.2/examples/src/main/scala/org/apache/spark/examples/MultiBroadcastTest.scala\n",
            "spark-3.1.2-bin-hadoop3.2/examples/src/main/scala/org/apache/spark/examples/LogQuery.scala\n",
            "spark-3.1.2-bin-hadoop3.2/examples/src/main/scala/org/apache/spark/examples/LocalPi.scala\n",
            "spark-3.1.2-bin-hadoop3.2/examples/src/main/scala/org/apache/spark/examples/LocalLR.scala\n",
            "spark-3.1.2-bin-hadoop3.2/examples/src/main/scala/org/apache/spark/examples/LocalFileLR.scala\n",
            "spark-3.1.2-bin-hadoop3.2/examples/src/main/scala/org/apache/spark/examples/LocalALS.scala\n",
            "spark-3.1.2-bin-hadoop3.2/examples/src/main/scala/org/apache/spark/examples/HdfsTest.scala\n",
            "spark-3.1.2-bin-hadoop3.2/examples/src/main/scala/org/apache/spark/examples/GroupByTest.scala\n",
            "spark-3.1.2-bin-hadoop3.2/examples/src/main/scala/org/apache/spark/examples/ExceptionHandlingTest.scala\n",
            "spark-3.1.2-bin-hadoop3.2/examples/src/main/scala/org/apache/spark/examples/LocalKMeans.scala\n",
            "spark-3.1.2-bin-hadoop3.2/examples/src/main/scala/org/apache/spark/examples/DriverSubmissionTest.scala\n",
            "spark-3.1.2-bin-hadoop3.2/examples/src/main/scala/org/apache/spark/examples/DFSReadWriteTest.scala\n",
            "spark-3.1.2-bin-hadoop3.2/examples/src/main/scala/org/apache/spark/examples/BroadcastTest.scala\n",
            "spark-3.1.2-bin-hadoop3.2/examples/src/main/scala/org/apache/spark/examples/AccumulatorMetricsTest.scala\n",
            "spark-3.1.2-bin-hadoop3.2/examples/src/main/scala/org/apache/spark/examples/streaming/\n",
            "spark-3.1.2-bin-hadoop3.2/examples/src/main/scala/org/apache/spark/examples/streaming/clickstream/\n",
            "spark-3.1.2-bin-hadoop3.2/examples/src/main/scala/org/apache/spark/examples/streaming/clickstream/PageViewStream.scala\n",
            "spark-3.1.2-bin-hadoop3.2/examples/src/main/scala/org/apache/spark/examples/streaming/clickstream/PageViewGenerator.scala\n",
            "spark-3.1.2-bin-hadoop3.2/examples/src/main/scala/org/apache/spark/examples/streaming/StreamingExamples.scala\n",
            "spark-3.1.2-bin-hadoop3.2/examples/src/main/scala/org/apache/spark/examples/streaming/StatefulNetworkWordCount.scala\n",
            "spark-3.1.2-bin-hadoop3.2/examples/src/main/scala/org/apache/spark/examples/streaming/SqlNetworkWordCount.scala\n",
            "spark-3.1.2-bin-hadoop3.2/examples/src/main/scala/org/apache/spark/examples/streaming/RecoverableNetworkWordCount.scala\n",
            "spark-3.1.2-bin-hadoop3.2/examples/src/main/scala/org/apache/spark/examples/streaming/RawNetworkGrep.scala\n",
            "spark-3.1.2-bin-hadoop3.2/examples/src/main/scala/org/apache/spark/examples/streaming/QueueStream.scala\n",
            "spark-3.1.2-bin-hadoop3.2/examples/src/main/scala/org/apache/spark/examples/streaming/NetworkWordCount.scala\n",
            "spark-3.1.2-bin-hadoop3.2/examples/src/main/scala/org/apache/spark/examples/streaming/HdfsWordCount.scala\n",
            "spark-3.1.2-bin-hadoop3.2/examples/src/main/scala/org/apache/spark/examples/streaming/DirectKerberizedKafkaWordCount.scala\n",
            "spark-3.1.2-bin-hadoop3.2/examples/src/main/scala/org/apache/spark/examples/streaming/DirectKafkaWordCount.scala\n",
            "spark-3.1.2-bin-hadoop3.2/examples/src/main/scala/org/apache/spark/examples/streaming/CustomReceiver.scala\n",
            "spark-3.1.2-bin-hadoop3.2/examples/src/main/scala/org/apache/spark/examples/sql/\n",
            "spark-3.1.2-bin-hadoop3.2/examples/src/main/scala/org/apache/spark/examples/sql/streaming/\n",
            "spark-3.1.2-bin-hadoop3.2/examples/src/main/scala/org/apache/spark/examples/sql/streaming/StructuredSessionization.scala\n",
            "spark-3.1.2-bin-hadoop3.2/examples/src/main/scala/org/apache/spark/examples/sql/streaming/StructuredNetworkWordCountWindowed.scala\n",
            "spark-3.1.2-bin-hadoop3.2/examples/src/main/scala/org/apache/spark/examples/sql/streaming/StructuredNetworkWordCount.scala\n",
            "spark-3.1.2-bin-hadoop3.2/examples/src/main/scala/org/apache/spark/examples/sql/streaming/StructuredKerberizedKafkaWordCount.scala\n",
            "spark-3.1.2-bin-hadoop3.2/examples/src/main/scala/org/apache/spark/examples/sql/streaming/StructuredKafkaWordCount.scala\n",
            "spark-3.1.2-bin-hadoop3.2/examples/src/main/scala/org/apache/spark/examples/sql/hive/\n",
            "spark-3.1.2-bin-hadoop3.2/examples/src/main/scala/org/apache/spark/examples/sql/hive/SparkHiveExample.scala\n",
            "spark-3.1.2-bin-hadoop3.2/examples/src/main/scala/org/apache/spark/examples/sql/UserDefinedUntypedAggregation.scala\n",
            "spark-3.1.2-bin-hadoop3.2/examples/src/main/scala/org/apache/spark/examples/sql/UserDefinedTypedAggregation.scala\n",
            "spark-3.1.2-bin-hadoop3.2/examples/src/main/scala/org/apache/spark/examples/sql/UserDefinedScalar.scala\n",
            "spark-3.1.2-bin-hadoop3.2/examples/src/main/scala/org/apache/spark/examples/sql/SparkSQLExample.scala\n",
            "spark-3.1.2-bin-hadoop3.2/examples/src/main/scala/org/apache/spark/examples/sql/RDDRelation.scala\n",
            "spark-3.1.2-bin-hadoop3.2/examples/src/main/scala/org/apache/spark/examples/sql/SimpleTypedAggregator.scala\n",
            "spark-3.1.2-bin-hadoop3.2/examples/src/main/scala/org/apache/spark/examples/sql/SQLDataSourceExample.scala\n",
            "spark-3.1.2-bin-hadoop3.2/examples/src/main/scala/org/apache/spark/examples/pythonconverters/\n",
            "spark-3.1.2-bin-hadoop3.2/examples/src/main/scala/org/apache/spark/examples/pythonconverters/AvroConverters.scala\n",
            "spark-3.1.2-bin-hadoop3.2/examples/src/main/resources/\n",
            "spark-3.1.2-bin-hadoop3.2/examples/src/main/resources/users.parquet\n",
            "spark-3.1.2-bin-hadoop3.2/examples/src/main/resources/users.orc\n",
            "spark-3.1.2-bin-hadoop3.2/examples/src/main/resources/users.avro\n",
            "spark-3.1.2-bin-hadoop3.2/examples/src/main/resources/user.avsc\n",
            "spark-3.1.2-bin-hadoop3.2/examples/src/main/resources/people.txt\n",
            "spark-3.1.2-bin-hadoop3.2/examples/src/main/resources/people.json\n",
            "spark-3.1.2-bin-hadoop3.2/examples/src/main/resources/people.csv\n",
            "spark-3.1.2-bin-hadoop3.2/examples/src/main/resources/kv1.txt\n",
            "spark-3.1.2-bin-hadoop3.2/examples/src/main/resources/full_user.avsc\n",
            "spark-3.1.2-bin-hadoop3.2/examples/src/main/resources/employees.json\n",
            "spark-3.1.2-bin-hadoop3.2/examples/src/main/resources/dir1/\n",
            "spark-3.1.2-bin-hadoop3.2/examples/src/main/resources/dir1/file3.json\n",
            "spark-3.1.2-bin-hadoop3.2/examples/src/main/resources/dir1/file1.parquet\n",
            "spark-3.1.2-bin-hadoop3.2/examples/src/main/resources/dir1/dir2/\n",
            "spark-3.1.2-bin-hadoop3.2/examples/src/main/resources/dir1/dir2/file2.parquet\n",
            "spark-3.1.2-bin-hadoop3.2/examples/src/main/r/\n",
            "spark-3.1.2-bin-hadoop3.2/examples/src/main/r/streaming/\n",
            "spark-3.1.2-bin-hadoop3.2/examples/src/main/r/streaming/structured_network_wordcount.R\n",
            "spark-3.1.2-bin-hadoop3.2/examples/src/main/r/ml/\n",
            "spark-3.1.2-bin-hadoop3.2/examples/src/main/r/ml/svmLinear.R\n",
            "spark-3.1.2-bin-hadoop3.2/examples/src/main/r/ml/survreg.R\n",
            "spark-3.1.2-bin-hadoop3.2/examples/src/main/r/ml/randomForest.R\n",
            "spark-3.1.2-bin-hadoop3.2/examples/src/main/r/ml/prefixSpan.R\n",
            "spark-3.1.2-bin-hadoop3.2/examples/src/main/r/ml/powerIterationClustering.R\n",
            "spark-3.1.2-bin-hadoop3.2/examples/src/main/r/ml/naiveBayes.R\n",
            "spark-3.1.2-bin-hadoop3.2/examples/src/main/r/ml/mlp.R\n",
            "spark-3.1.2-bin-hadoop3.2/examples/src/main/r/ml/ml.R\n",
            "spark-3.1.2-bin-hadoop3.2/examples/src/main/r/ml/logit.R\n",
            "spark-3.1.2-bin-hadoop3.2/examples/src/main/r/ml/lm_with_elastic_net.R\n",
            "spark-3.1.2-bin-hadoop3.2/examples/src/main/r/ml/lda.R\n",
            "spark-3.1.2-bin-hadoop3.2/examples/src/main/r/ml/kstest.R\n",
            "spark-3.1.2-bin-hadoop3.2/examples/src/main/r/ml/kmeans.R\n",
            "spark-3.1.2-bin-hadoop3.2/examples/src/main/r/ml/isoreg.R\n",
            "spark-3.1.2-bin-hadoop3.2/examples/src/main/r/ml/glm.R\n",
            "spark-3.1.2-bin-hadoop3.2/examples/src/main/r/ml/gbt.R\n",
            "spark-3.1.2-bin-hadoop3.2/examples/src/main/r/ml/gaussianMixture.R\n",
            "spark-3.1.2-bin-hadoop3.2/examples/src/main/r/ml/fpm.R\n",
            "spark-3.1.2-bin-hadoop3.2/examples/src/main/r/ml/fmRegressor.R\n",
            "spark-3.1.2-bin-hadoop3.2/examples/src/main/r/ml/fmClassifier.R\n",
            "spark-3.1.2-bin-hadoop3.2/examples/src/main/r/ml/decisionTree.R\n",
            "spark-3.1.2-bin-hadoop3.2/examples/src/main/r/ml/bisectingKmeans.R\n",
            "spark-3.1.2-bin-hadoop3.2/examples/src/main/r/ml/als.R\n",
            "spark-3.1.2-bin-hadoop3.2/examples/src/main/r/dataframe.R\n",
            "spark-3.1.2-bin-hadoop3.2/examples/src/main/r/data-manipulation.R\n",
            "spark-3.1.2-bin-hadoop3.2/examples/src/main/r/RSparkSQLExample.R\n",
            "spark-3.1.2-bin-hadoop3.2/examples/src/main/python/\n",
            "spark-3.1.2-bin-hadoop3.2/examples/src/main/python/wordcount.py\n",
            "spark-3.1.2-bin-hadoop3.2/examples/src/main/python/transitive_closure.py\n",
            "spark-3.1.2-bin-hadoop3.2/examples/src/main/python/streaming/\n",
            "spark-3.1.2-bin-hadoop3.2/examples/src/main/python/streaming/stateful_network_wordcount.py\n",
            "spark-3.1.2-bin-hadoop3.2/examples/src/main/python/streaming/sql_network_wordcount.py\n",
            "spark-3.1.2-bin-hadoop3.2/examples/src/main/python/streaming/recoverable_network_wordcount.py\n",
            "spark-3.1.2-bin-hadoop3.2/examples/src/main/python/streaming/queue_stream.py\n",
            "spark-3.1.2-bin-hadoop3.2/examples/src/main/python/streaming/network_wordjoinsentiments.py\n",
            "spark-3.1.2-bin-hadoop3.2/examples/src/main/python/streaming/network_wordcount.py\n",
            "spark-3.1.2-bin-hadoop3.2/examples/src/main/python/streaming/hdfs_wordcount.py\n",
            "spark-3.1.2-bin-hadoop3.2/examples/src/main/python/status_api_demo.py\n",
            "spark-3.1.2-bin-hadoop3.2/examples/src/main/python/sql/\n",
            "spark-3.1.2-bin-hadoop3.2/examples/src/main/python/sql/streaming/\n",
            "spark-3.1.2-bin-hadoop3.2/examples/src/main/python/sql/streaming/structured_network_wordcount_windowed.py\n",
            "spark-3.1.2-bin-hadoop3.2/examples/src/main/python/sql/streaming/structured_network_wordcount.py\n",
            "spark-3.1.2-bin-hadoop3.2/examples/src/main/python/sql/streaming/structured_kafka_wordcount.py\n",
            "spark-3.1.2-bin-hadoop3.2/examples/src/main/python/sql/hive.py\n",
            "spark-3.1.2-bin-hadoop3.2/examples/src/main/python/sql/basic.py\n",
            "spark-3.1.2-bin-hadoop3.2/examples/src/main/python/sql/arrow.py\n",
            "spark-3.1.2-bin-hadoop3.2/examples/src/main/python/sql/datasource.py\n",
            "spark-3.1.2-bin-hadoop3.2/examples/src/main/python/sort.py\n",
            "spark-3.1.2-bin-hadoop3.2/examples/src/main/python/pi.py\n",
            "spark-3.1.2-bin-hadoop3.2/examples/src/main/python/parquet_inputformat.py\n",
            "spark-3.1.2-bin-hadoop3.2/examples/src/main/python/pagerank.py\n",
            "spark-3.1.2-bin-hadoop3.2/examples/src/main/python/mllib/\n",
            "spark-3.1.2-bin-hadoop3.2/examples/src/main/python/mllib/word2vec_example.py\n",
            "spark-3.1.2-bin-hadoop3.2/examples/src/main/python/mllib/word2vec.py\n",
            "spark-3.1.2-bin-hadoop3.2/examples/src/main/python/mllib/tf_idf_example.py\n",
            "spark-3.1.2-bin-hadoop3.2/examples/src/main/python/mllib/svm_with_sgd_example.py\n",
            "spark-3.1.2-bin-hadoop3.2/examples/src/main/python/mllib/svd_example.py\n",
            "spark-3.1.2-bin-hadoop3.2/examples/src/main/python/mllib/summary_statistics_example.py\n",
            "spark-3.1.2-bin-hadoop3.2/examples/src/main/python/mllib/streaming_linear_regression_example.py\n",
            "spark-3.1.2-bin-hadoop3.2/examples/src/main/python/mllib/streaming_k_means_example.py\n",
            "spark-3.1.2-bin-hadoop3.2/examples/src/main/python/mllib/stratified_sampling_example.py\n",
            "spark-3.1.2-bin-hadoop3.2/examples/src/main/python/mllib/standard_scaler_example.py\n",
            "spark-3.1.2-bin-hadoop3.2/examples/src/main/python/mllib/sampled_rdds.py\n",
            "spark-3.1.2-bin-hadoop3.2/examples/src/main/python/mllib/regression_metrics_example.py\n",
            "spark-3.1.2-bin-hadoop3.2/examples/src/main/python/mllib/recommendation_example.py\n",
            "spark-3.1.2-bin-hadoop3.2/examples/src/main/python/mllib/ranking_metrics_example.py\n",
            "spark-3.1.2-bin-hadoop3.2/examples/src/main/python/mllib/random_rdd_generation.py\n",
            "spark-3.1.2-bin-hadoop3.2/examples/src/main/python/mllib/random_forest_regression_example.py\n",
            "spark-3.1.2-bin-hadoop3.2/examples/src/main/python/mllib/random_forest_classification_example.py\n",
            "spark-3.1.2-bin-hadoop3.2/examples/src/main/python/mllib/power_iteration_clustering_example.py\n",
            "spark-3.1.2-bin-hadoop3.2/examples/src/main/python/mllib/pca_rowmatrix_example.py\n",
            "spark-3.1.2-bin-hadoop3.2/examples/src/main/python/mllib/normalizer_example.py\n",
            "spark-3.1.2-bin-hadoop3.2/examples/src/main/python/mllib/naive_bayes_example.py\n",
            "spark-3.1.2-bin-hadoop3.2/examples/src/main/python/mllib/multi_label_metrics_example.py\n",
            "spark-3.1.2-bin-hadoop3.2/examples/src/main/python/mllib/multi_class_metrics_example.py\n",
            "spark-3.1.2-bin-hadoop3.2/examples/src/main/python/mllib/logistic_regression_with_lbfgs_example.py\n",
            "spark-3.1.2-bin-hadoop3.2/examples/src/main/python/mllib/logistic_regression.py\n",
            "spark-3.1.2-bin-hadoop3.2/examples/src/main/python/mllib/linear_regression_with_sgd_example.py\n",
            "spark-3.1.2-bin-hadoop3.2/examples/src/main/python/mllib/latent_dirichlet_allocation_example.py\n",
            "spark-3.1.2-bin-hadoop3.2/examples/src/main/python/mllib/kmeans.py\n",
            "spark-3.1.2-bin-hadoop3.2/examples/src/main/python/mllib/kernel_density_estimation_example.py\n",
            "spark-3.1.2-bin-hadoop3.2/examples/src/main/python/mllib/k_means_example.py\n",
            "spark-3.1.2-bin-hadoop3.2/examples/src/main/python/mllib/isotonic_regression_example.py\n",
            "spark-3.1.2-bin-hadoop3.2/examples/src/main/python/mllib/hypothesis_testing_kolmogorov_smirnov_test_example.py\n",
            "spark-3.1.2-bin-hadoop3.2/examples/src/main/python/mllib/hypothesis_testing_example.py\n",
            "spark-3.1.2-bin-hadoop3.2/examples/src/main/python/mllib/gradient_boosting_regression_example.py\n",
            "spark-3.1.2-bin-hadoop3.2/examples/src/main/python/mllib/gradient_boosting_classification_example.py\n",
            "spark-3.1.2-bin-hadoop3.2/examples/src/main/python/mllib/gaussian_mixture_model.py\n",
            "spark-3.1.2-bin-hadoop3.2/examples/src/main/python/mllib/gaussian_mixture_example.py\n",
            "spark-3.1.2-bin-hadoop3.2/examples/src/main/python/mllib/fpgrowth_example.py\n",
            "spark-3.1.2-bin-hadoop3.2/examples/src/main/python/mllib/elementwise_product_example.py\n",
            "spark-3.1.2-bin-hadoop3.2/examples/src/main/python/mllib/decision_tree_regression_example.py\n",
            "spark-3.1.2-bin-hadoop3.2/examples/src/main/python/mllib/decision_tree_classification_example.py\n",
            "spark-3.1.2-bin-hadoop3.2/examples/src/main/python/mllib/correlations_example.py\n",
            "spark-3.1.2-bin-hadoop3.2/examples/src/main/python/mllib/correlations.py\n",
            "spark-3.1.2-bin-hadoop3.2/examples/src/main/python/mllib/bisecting_k_means_example.py\n",
            "spark-3.1.2-bin-hadoop3.2/examples/src/main/python/mllib/binary_classification_metrics_example.py\n",
            "spark-3.1.2-bin-hadoop3.2/examples/src/main/python/ml/\n",
            "spark-3.1.2-bin-hadoop3.2/examples/src/main/python/ml/word2vec_example.py\n",
            "spark-3.1.2-bin-hadoop3.2/examples/src/main/python/ml/vector_slicer_example.py\n",
            "spark-3.1.2-bin-hadoop3.2/examples/src/main/python/ml/vector_size_hint_example.py\n",
            "spark-3.1.2-bin-hadoop3.2/examples/src/main/python/ml/vector_indexer_example.py\n",
            "spark-3.1.2-bin-hadoop3.2/examples/src/main/python/ml/vector_assembler_example.py\n",
            "spark-3.1.2-bin-hadoop3.2/examples/src/main/python/ml/variance_threshold_selector_example.py\n",
            "spark-3.1.2-bin-hadoop3.2/examples/src/main/python/ml/univariate_feature_selector_example.py\n",
            "spark-3.1.2-bin-hadoop3.2/examples/src/main/python/ml/train_validation_split.py\n",
            "spark-3.1.2-bin-hadoop3.2/examples/src/main/python/ml/tokenizer_example.py\n",
            "spark-3.1.2-bin-hadoop3.2/examples/src/main/python/ml/tf_idf_example.py\n",
            "spark-3.1.2-bin-hadoop3.2/examples/src/main/python/ml/summarizer_example.py\n",
            "spark-3.1.2-bin-hadoop3.2/examples/src/main/python/ml/string_indexer_example.py\n",
            "spark-3.1.2-bin-hadoop3.2/examples/src/main/python/ml/stopwords_remover_example.py\n",
            "spark-3.1.2-bin-hadoop3.2/examples/src/main/python/ml/standard_scaler_example.py\n",
            "spark-3.1.2-bin-hadoop3.2/examples/src/main/python/ml/sql_transformer.py\n",
            "spark-3.1.2-bin-hadoop3.2/examples/src/main/python/ml/robust_scaler_example.py\n",
            "spark-3.1.2-bin-hadoop3.2/examples/src/main/python/ml/rformula_example.py\n",
            "spark-3.1.2-bin-hadoop3.2/examples/src/main/python/ml/random_forest_regressor_example.py\n",
            "spark-3.1.2-bin-hadoop3.2/examples/src/main/python/ml/random_forest_classifier_example.py\n",
            "spark-3.1.2-bin-hadoop3.2/examples/src/main/python/ml/quantile_discretizer_example.py\n",
            "spark-3.1.2-bin-hadoop3.2/examples/src/main/python/ml/prefixspan_example.py\n",
            "spark-3.1.2-bin-hadoop3.2/examples/src/main/python/ml/power_iteration_clustering_example.py\n",
            "spark-3.1.2-bin-hadoop3.2/examples/src/main/python/ml/polynomial_expansion_example.py\n",
            "spark-3.1.2-bin-hadoop3.2/examples/src/main/python/ml/pipeline_example.py\n",
            "spark-3.1.2-bin-hadoop3.2/examples/src/main/python/ml/pca_example.py\n",
            "spark-3.1.2-bin-hadoop3.2/examples/src/main/python/ml/onehot_encoder_example.py\n",
            "spark-3.1.2-bin-hadoop3.2/examples/src/main/python/ml/one_vs_rest_example.py\n",
            "spark-3.1.2-bin-hadoop3.2/examples/src/main/python/ml/normalizer_example.py\n",
            "spark-3.1.2-bin-hadoop3.2/examples/src/main/python/ml/naive_bayes_example.py\n",
            "spark-3.1.2-bin-hadoop3.2/examples/src/main/python/ml/n_gram_example.py\n",
            "spark-3.1.2-bin-hadoop3.2/examples/src/main/python/ml/multilayer_perceptron_classification.py\n",
            "spark-3.1.2-bin-hadoop3.2/examples/src/main/python/ml/multiclass_logistic_regression_with_elastic_net.py\n",
            "spark-3.1.2-bin-hadoop3.2/examples/src/main/python/ml/min_max_scaler_example.py\n",
            "spark-3.1.2-bin-hadoop3.2/examples/src/main/python/ml/min_hash_lsh_example.py\n",
            "spark-3.1.2-bin-hadoop3.2/examples/src/main/python/ml/max_abs_scaler_example.py\n",
            "spark-3.1.2-bin-hadoop3.2/examples/src/main/python/ml/logistic_regression_with_elastic_net.py\n",
            "spark-3.1.2-bin-hadoop3.2/examples/src/main/python/ml/logistic_regression_summary_example.py\n",
            "spark-3.1.2-bin-hadoop3.2/examples/src/main/python/ml/linearsvc.py\n",
            "spark-3.1.2-bin-hadoop3.2/examples/src/main/python/ml/linear_regression_with_elastic_net.py\n",
            "spark-3.1.2-bin-hadoop3.2/examples/src/main/python/ml/lda_example.py\n",
            "spark-3.1.2-bin-hadoop3.2/examples/src/main/python/ml/kmeans_example.py\n",
            "spark-3.1.2-bin-hadoop3.2/examples/src/main/python/ml/isotonic_regression_example.py\n",
            "spark-3.1.2-bin-hadoop3.2/examples/src/main/python/ml/interaction_example.py\n",
            "spark-3.1.2-bin-hadoop3.2/examples/src/main/python/ml/index_to_string_example.py\n",
            "spark-3.1.2-bin-hadoop3.2/examples/src/main/python/ml/imputer_example.py\n",
            "spark-3.1.2-bin-hadoop3.2/examples/src/main/python/ml/gradient_boosted_tree_regressor_example.py\n",
            "spark-3.1.2-bin-hadoop3.2/examples/src/main/python/ml/gradient_boosted_tree_classifier_example.py\n",
            "spark-3.1.2-bin-hadoop3.2/examples/src/main/python/ml/generalized_linear_regression_example.py\n",
            "spark-3.1.2-bin-hadoop3.2/examples/src/main/python/ml/gaussian_mixture_example.py\n",
            "spark-3.1.2-bin-hadoop3.2/examples/src/main/python/ml/fpgrowth_example.py\n",
            "spark-3.1.2-bin-hadoop3.2/examples/src/main/python/ml/fm_regressor_example.py\n",
            "spark-3.1.2-bin-hadoop3.2/examples/src/main/python/ml/fm_classifier_example.py\n",
            "spark-3.1.2-bin-hadoop3.2/examples/src/main/python/ml/feature_hasher_example.py\n",
            "spark-3.1.2-bin-hadoop3.2/examples/src/main/python/ml/estimator_transformer_param_example.py\n",
            "spark-3.1.2-bin-hadoop3.2/examples/src/main/python/ml/elementwise_product_example.py\n",
            "spark-3.1.2-bin-hadoop3.2/examples/src/main/python/ml/decision_tree_regression_example.py\n",
            "spark-3.1.2-bin-hadoop3.2/examples/src/main/python/ml/decision_tree_classification_example.py\n",
            "spark-3.1.2-bin-hadoop3.2/examples/src/main/python/ml/dct_example.py\n",
            "spark-3.1.2-bin-hadoop3.2/examples/src/main/python/ml/dataframe_example.py\n",
            "spark-3.1.2-bin-hadoop3.2/examples/src/main/python/ml/cross_validator.py\n",
            "spark-3.1.2-bin-hadoop3.2/examples/src/main/python/ml/count_vectorizer_example.py\n",
            "spark-3.1.2-bin-hadoop3.2/examples/src/main/python/ml/correlation_example.py\n",
            "spark-3.1.2-bin-hadoop3.2/examples/src/main/python/ml/chisq_selector_example.py\n",
            "spark-3.1.2-bin-hadoop3.2/examples/src/main/python/ml/chi_square_test_example.py\n",
            "spark-3.1.2-bin-hadoop3.2/examples/src/main/python/ml/bucketizer_example.py\n",
            "spark-3.1.2-bin-hadoop3.2/examples/src/main/python/ml/bucketed_random_projection_lsh_example.py\n",
            "spark-3.1.2-bin-hadoop3.2/examples/src/main/python/ml/bisecting_k_means_example.py\n",
            "spark-3.1.2-bin-hadoop3.2/examples/src/main/python/ml/binarizer_example.py\n",
            "spark-3.1.2-bin-hadoop3.2/examples/src/main/python/ml/als_example.py\n",
            "spark-3.1.2-bin-hadoop3.2/examples/src/main/python/ml/aft_survival_regression.py\n",
            "spark-3.1.2-bin-hadoop3.2/examples/src/main/python/logistic_regression.py\n",
            "spark-3.1.2-bin-hadoop3.2/examples/src/main/python/kmeans.py\n",
            "spark-3.1.2-bin-hadoop3.2/examples/src/main/python/avro_inputformat.py\n",
            "spark-3.1.2-bin-hadoop3.2/examples/src/main/python/als.py\n",
            "spark-3.1.2-bin-hadoop3.2/examples/src/main/scripts/\n",
            "spark-3.1.2-bin-hadoop3.2/examples/src/main/scripts/getGpusResources.sh\n",
            "spark-3.1.2-bin-hadoop3.2/examples/src/main/java/\n",
            "spark-3.1.2-bin-hadoop3.2/examples/src/main/java/org/\n",
            "spark-3.1.2-bin-hadoop3.2/examples/src/main/java/org/apache/\n",
            "spark-3.1.2-bin-hadoop3.2/examples/src/main/java/org/apache/spark/\n",
            "spark-3.1.2-bin-hadoop3.2/examples/src/main/java/org/apache/spark/examples/\n",
            "spark-3.1.2-bin-hadoop3.2/examples/src/main/java/org/apache/spark/examples/streaming/\n",
            "spark-3.1.2-bin-hadoop3.2/examples/src/main/java/org/apache/spark/examples/streaming/JavaStatefulNetworkWordCount.java\n",
            "spark-3.1.2-bin-hadoop3.2/examples/src/main/java/org/apache/spark/examples/streaming/JavaSqlNetworkWordCount.java\n",
            "spark-3.1.2-bin-hadoop3.2/examples/src/main/java/org/apache/spark/examples/streaming/JavaRecoverableNetworkWordCount.java\n",
            "spark-3.1.2-bin-hadoop3.2/examples/src/main/java/org/apache/spark/examples/streaming/JavaRecord.java\n",
            "spark-3.1.2-bin-hadoop3.2/examples/src/main/java/org/apache/spark/examples/streaming/JavaQueueStream.java\n",
            "spark-3.1.2-bin-hadoop3.2/examples/src/main/java/org/apache/spark/examples/streaming/JavaNetworkWordCount.java\n",
            "spark-3.1.2-bin-hadoop3.2/examples/src/main/java/org/apache/spark/examples/streaming/JavaDirectKerberizedKafkaWordCount.java\n",
            "spark-3.1.2-bin-hadoop3.2/examples/src/main/java/org/apache/spark/examples/streaming/JavaDirectKafkaWordCount.java\n",
            "spark-3.1.2-bin-hadoop3.2/examples/src/main/java/org/apache/spark/examples/streaming/JavaCustomReceiver.java\n",
            "spark-3.1.2-bin-hadoop3.2/examples/src/main/java/org/apache/spark/examples/sql/\n",
            "spark-3.1.2-bin-hadoop3.2/examples/src/main/java/org/apache/spark/examples/sql/streaming/\n",
            "spark-3.1.2-bin-hadoop3.2/examples/src/main/java/org/apache/spark/examples/sql/streaming/JavaStructuredSessionization.java\n",
            "spark-3.1.2-bin-hadoop3.2/examples/src/main/java/org/apache/spark/examples/sql/streaming/JavaStructuredNetworkWordCountWindowed.java\n",
            "spark-3.1.2-bin-hadoop3.2/examples/src/main/java/org/apache/spark/examples/sql/streaming/JavaStructuredNetworkWordCount.java\n",
            "spark-3.1.2-bin-hadoop3.2/examples/src/main/java/org/apache/spark/examples/sql/streaming/JavaStructuredKerberizedKafkaWordCount.java\n",
            "spark-3.1.2-bin-hadoop3.2/examples/src/main/java/org/apache/spark/examples/sql/streaming/JavaStructuredKafkaWordCount.java\n",
            "spark-3.1.2-bin-hadoop3.2/examples/src/main/java/org/apache/spark/examples/sql/hive/\n",
            "spark-3.1.2-bin-hadoop3.2/examples/src/main/java/org/apache/spark/examples/sql/hive/JavaSparkHiveExample.java\n",
            "spark-3.1.2-bin-hadoop3.2/examples/src/main/java/org/apache/spark/examples/sql/JavaUserDefinedUntypedAggregation.java\n",
            "spark-3.1.2-bin-hadoop3.2/examples/src/main/java/org/apache/spark/examples/sql/JavaUserDefinedTypedAggregation.java\n",
            "spark-3.1.2-bin-hadoop3.2/examples/src/main/java/org/apache/spark/examples/sql/JavaUserDefinedScalar.java\n",
            "spark-3.1.2-bin-hadoop3.2/examples/src/main/java/org/apache/spark/examples/sql/JavaSparkSQLExample.java\n",
            "spark-3.1.2-bin-hadoop3.2/examples/src/main/java/org/apache/spark/examples/sql/JavaSQLDataSourceExample.java\n",
            "spark-3.1.2-bin-hadoop3.2/examples/src/main/java/org/apache/spark/examples/mllib/\n",
            "spark-3.1.2-bin-hadoop3.2/examples/src/main/java/org/apache/spark/examples/mllib/JavaSummaryStatisticsExample.java\n",
            "spark-3.1.2-bin-hadoop3.2/examples/src/main/java/org/apache/spark/examples/mllib/JavaStreamingTestExample.java\n",
            "spark-3.1.2-bin-hadoop3.2/examples/src/main/java/org/apache/spark/examples/mllib/JavaStratifiedSamplingExample.java\n",
            "spark-3.1.2-bin-hadoop3.2/examples/src/main/java/org/apache/spark/examples/mllib/JavaSimpleFPGrowth.java\n",
            "spark-3.1.2-bin-hadoop3.2/examples/src/main/java/org/apache/spark/examples/mllib/JavaSVMWithSGDExample.java\n",
            "spark-3.1.2-bin-hadoop3.2/examples/src/main/java/org/apache/spark/examples/mllib/JavaSVDExample.java\n",
            "spark-3.1.2-bin-hadoop3.2/examples/src/main/java/org/apache/spark/examples/mllib/JavaRecommendationExample.java\n",
            "spark-3.1.2-bin-hadoop3.2/examples/src/main/java/org/apache/spark/examples/mllib/JavaRankingMetricsExample.java\n",
            "spark-3.1.2-bin-hadoop3.2/examples/src/main/java/org/apache/spark/examples/mllib/JavaRandomForestRegressionExample.java\n",
            "spark-3.1.2-bin-hadoop3.2/examples/src/main/java/org/apache/spark/examples/mllib/JavaRandomForestClassificationExample.java\n",
            "spark-3.1.2-bin-hadoop3.2/examples/src/main/java/org/apache/spark/examples/mllib/JavaPrefixSpanExample.java\n",
            "spark-3.1.2-bin-hadoop3.2/examples/src/main/java/org/apache/spark/examples/mllib/JavaPowerIterationClusteringExample.java\n",
            "spark-3.1.2-bin-hadoop3.2/examples/src/main/java/org/apache/spark/examples/mllib/JavaPCAExample.java\n",
            "spark-3.1.2-bin-hadoop3.2/examples/src/main/java/org/apache/spark/examples/mllib/JavaNaiveBayesExample.java\n",
            "spark-3.1.2-bin-hadoop3.2/examples/src/main/java/org/apache/spark/examples/mllib/JavaMulticlassClassificationMetricsExample.java\n",
            "spark-3.1.2-bin-hadoop3.2/examples/src/main/java/org/apache/spark/examples/mllib/JavaMultiLabelClassificationMetricsExample.java\n",
            "spark-3.1.2-bin-hadoop3.2/examples/src/main/java/org/apache/spark/examples/mllib/JavaLogisticRegressionWithLBFGSExample.java\n",
            "spark-3.1.2-bin-hadoop3.2/examples/src/main/java/org/apache/spark/examples/mllib/JavaLatentDirichletAllocationExample.java\n",
            "spark-3.1.2-bin-hadoop3.2/examples/src/main/java/org/apache/spark/examples/mllib/JavaLBFGSExample.java\n",
            "spark-3.1.2-bin-hadoop3.2/examples/src/main/java/org/apache/spark/examples/mllib/JavaKernelDensityEstimationExample.java\n",
            "spark-3.1.2-bin-hadoop3.2/examples/src/main/java/org/apache/spark/examples/mllib/JavaKMeansExample.java\n",
            "spark-3.1.2-bin-hadoop3.2/examples/src/main/java/org/apache/spark/examples/mllib/JavaIsotonicRegressionExample.java\n",
            "spark-3.1.2-bin-hadoop3.2/examples/src/main/java/org/apache/spark/examples/mllib/JavaHypothesisTestingKolmogorovSmirnovTestExample.java\n",
            "spark-3.1.2-bin-hadoop3.2/examples/src/main/java/org/apache/spark/examples/mllib/JavaHypothesisTestingExample.java\n",
            "spark-3.1.2-bin-hadoop3.2/examples/src/main/java/org/apache/spark/examples/mllib/JavaGradientBoostingRegressionExample.java\n",
            "spark-3.1.2-bin-hadoop3.2/examples/src/main/java/org/apache/spark/examples/mllib/JavaGradientBoostingClassificationExample.java\n",
            "spark-3.1.2-bin-hadoop3.2/examples/src/main/java/org/apache/spark/examples/mllib/JavaGaussianMixtureExample.java\n",
            "spark-3.1.2-bin-hadoop3.2/examples/src/main/java/org/apache/spark/examples/mllib/JavaElementwiseProductExample.java\n",
            "spark-3.1.2-bin-hadoop3.2/examples/src/main/java/org/apache/spark/examples/mllib/JavaDecisionTreeRegressionExample.java\n",
            "spark-3.1.2-bin-hadoop3.2/examples/src/main/java/org/apache/spark/examples/mllib/JavaDecisionTreeClassificationExample.java\n",
            "spark-3.1.2-bin-hadoop3.2/examples/src/main/java/org/apache/spark/examples/mllib/JavaCorrelationsExample.java\n",
            "spark-3.1.2-bin-hadoop3.2/examples/src/main/java/org/apache/spark/examples/mllib/JavaChiSqSelectorExample.java\n",
            "spark-3.1.2-bin-hadoop3.2/examples/src/main/java/org/apache/spark/examples/mllib/JavaBisectingKMeansExample.java\n",
            "spark-3.1.2-bin-hadoop3.2/examples/src/main/java/org/apache/spark/examples/mllib/JavaBinaryClassificationMetricsExample.java\n",
            "spark-3.1.2-bin-hadoop3.2/examples/src/main/java/org/apache/spark/examples/mllib/JavaAssociationRulesExample.java\n",
            "spark-3.1.2-bin-hadoop3.2/examples/src/main/java/org/apache/spark/examples/mllib/JavaALS.java\n",
            "spark-3.1.2-bin-hadoop3.2/examples/src/main/java/org/apache/spark/examples/ml/\n",
            "spark-3.1.2-bin-hadoop3.2/examples/src/main/java/org/apache/spark/examples/ml/JavaWord2VecExample.java\n",
            "spark-3.1.2-bin-hadoop3.2/examples/src/main/java/org/apache/spark/examples/ml/JavaVectorSlicerExample.java\n",
            "spark-3.1.2-bin-hadoop3.2/examples/src/main/java/org/apache/spark/examples/ml/JavaVectorSizeHintExample.java\n",
            "spark-3.1.2-bin-hadoop3.2/examples/src/main/java/org/apache/spark/examples/ml/JavaVectorIndexerExample.java\n",
            "spark-3.1.2-bin-hadoop3.2/examples/src/main/java/org/apache/spark/examples/ml/JavaVectorAssemblerExample.java\n",
            "spark-3.1.2-bin-hadoop3.2/examples/src/main/java/org/apache/spark/examples/ml/JavaVarianceThresholdSelectorExample.java\n",
            "spark-3.1.2-bin-hadoop3.2/examples/src/main/java/org/apache/spark/examples/ml/JavaUnivariateFeatureSelectorExample.java\n",
            "spark-3.1.2-bin-hadoop3.2/examples/src/main/java/org/apache/spark/examples/ml/JavaTfIdfExample.java\n",
            "spark-3.1.2-bin-hadoop3.2/examples/src/main/java/org/apache/spark/examples/ml/JavaSummarizerExample.java\n",
            "spark-3.1.2-bin-hadoop3.2/examples/src/main/java/org/apache/spark/examples/ml/JavaStringIndexerExample.java\n",
            "spark-3.1.2-bin-hadoop3.2/examples/src/main/java/org/apache/spark/examples/ml/JavaStopWordsRemoverExample.java\n",
            "spark-3.1.2-bin-hadoop3.2/examples/src/main/java/org/apache/spark/examples/ml/JavaStandardScalerExample.java\n",
            "spark-3.1.2-bin-hadoop3.2/examples/src/main/java/org/apache/spark/examples/ml/JavaSQLTransformerExample.java\n",
            "spark-3.1.2-bin-hadoop3.2/examples/src/main/java/org/apache/spark/examples/ml/JavaRobustScalerExample.java\n",
            "spark-3.1.2-bin-hadoop3.2/examples/src/main/java/org/apache/spark/examples/ml/JavaRandomForestRegressorExample.java\n",
            "spark-3.1.2-bin-hadoop3.2/examples/src/main/java/org/apache/spark/examples/ml/JavaRandomForestClassifierExample.java\n",
            "spark-3.1.2-bin-hadoop3.2/examples/src/main/java/org/apache/spark/examples/ml/JavaRFormulaExample.java\n",
            "spark-3.1.2-bin-hadoop3.2/examples/src/main/java/org/apache/spark/examples/ml/JavaQuantileDiscretizerExample.java\n",
            "spark-3.1.2-bin-hadoop3.2/examples/src/main/java/org/apache/spark/examples/ml/JavaPrefixSpanExample.java\n",
            "spark-3.1.2-bin-hadoop3.2/examples/src/main/java/org/apache/spark/examples/ml/JavaPowerIterationClusteringExample.java\n",
            "spark-3.1.2-bin-hadoop3.2/examples/src/main/java/org/apache/spark/examples/ml/JavaPolynomialExpansionExample.java\n",
            "spark-3.1.2-bin-hadoop3.2/examples/src/main/java/org/apache/spark/examples/ml/JavaPipelineExample.java\n",
            "spark-3.1.2-bin-hadoop3.2/examples/src/main/java/org/apache/spark/examples/ml/JavaPCAExample.java\n",
            "spark-3.1.2-bin-hadoop3.2/examples/src/main/java/org/apache/spark/examples/ml/JavaOneVsRestExample.java\n",
            "spark-3.1.2-bin-hadoop3.2/examples/src/main/java/org/apache/spark/examples/ml/JavaOneHotEncoderExample.java\n",
            "spark-3.1.2-bin-hadoop3.2/examples/src/main/java/org/apache/spark/examples/ml/JavaNormalizerExample.java\n",
            "spark-3.1.2-bin-hadoop3.2/examples/src/main/java/org/apache/spark/examples/ml/JavaNaiveBayesExample.java\n",
            "spark-3.1.2-bin-hadoop3.2/examples/src/main/java/org/apache/spark/examples/ml/JavaNGramExample.java\n",
            "spark-3.1.2-bin-hadoop3.2/examples/src/main/java/org/apache/spark/examples/ml/JavaMultilayerPerceptronClassifierExample.java\n",
            "spark-3.1.2-bin-hadoop3.2/examples/src/main/java/org/apache/spark/examples/ml/JavaMulticlassLogisticRegressionWithElasticNetExample.java\n",
            "spark-3.1.2-bin-hadoop3.2/examples/src/main/java/org/apache/spark/examples/ml/JavaModelSelectionViaTrainValidationSplitExample.java\n",
            "spark-3.1.2-bin-hadoop3.2/examples/src/main/java/org/apache/spark/examples/ml/JavaModelSelectionViaCrossValidationExample.java\n",
            "spark-3.1.2-bin-hadoop3.2/examples/src/main/java/org/apache/spark/examples/ml/JavaMinMaxScalerExample.java\n",
            "spark-3.1.2-bin-hadoop3.2/examples/src/main/java/org/apache/spark/examples/ml/JavaMinHashLSHExample.java\n",
            "spark-3.1.2-bin-hadoop3.2/examples/src/main/java/org/apache/spark/examples/ml/JavaMaxAbsScalerExample.java\n",
            "spark-3.1.2-bin-hadoop3.2/examples/src/main/java/org/apache/spark/examples/ml/JavaLogisticRegressionWithElasticNetExample.java\n",
            "spark-3.1.2-bin-hadoop3.2/examples/src/main/java/org/apache/spark/examples/ml/JavaLogisticRegressionSummaryExample.java\n",
            "spark-3.1.2-bin-hadoop3.2/examples/src/main/java/org/apache/spark/examples/ml/JavaLinearSVCExample.java\n",
            "spark-3.1.2-bin-hadoop3.2/examples/src/main/java/org/apache/spark/examples/ml/JavaLinearRegressionWithElasticNetExample.java\n",
            "spark-3.1.2-bin-hadoop3.2/examples/src/main/java/org/apache/spark/examples/ml/JavaLabeledDocument.java\n",
            "spark-3.1.2-bin-hadoop3.2/examples/src/main/java/org/apache/spark/examples/ml/JavaLDAExample.java\n",
            "spark-3.1.2-bin-hadoop3.2/examples/src/main/java/org/apache/spark/examples/ml/JavaKMeansExample.java\n",
            "spark-3.1.2-bin-hadoop3.2/examples/src/main/java/org/apache/spark/examples/ml/JavaIsotonicRegressionExample.java\n",
            "spark-3.1.2-bin-hadoop3.2/examples/src/main/java/org/apache/spark/examples/ml/JavaInteractionExample.java\n",
            "spark-3.1.2-bin-hadoop3.2/examples/src/main/java/org/apache/spark/examples/ml/JavaIndexToStringExample.java\n",
            "spark-3.1.2-bin-hadoop3.2/examples/src/main/java/org/apache/spark/examples/ml/JavaImputerExample.java\n",
            "spark-3.1.2-bin-hadoop3.2/examples/src/main/java/org/apache/spark/examples/ml/JavaGradientBoostedTreeRegressorExample.java\n",
            "spark-3.1.2-bin-hadoop3.2/examples/src/main/java/org/apache/spark/examples/ml/JavaGradientBoostedTreeClassifierExample.java\n",
            "spark-3.1.2-bin-hadoop3.2/examples/src/main/java/org/apache/spark/examples/ml/JavaGeneralizedLinearRegressionExample.java\n",
            "spark-3.1.2-bin-hadoop3.2/examples/src/main/java/org/apache/spark/examples/ml/JavaGaussianMixtureExample.java\n",
            "spark-3.1.2-bin-hadoop3.2/examples/src/main/java/org/apache/spark/examples/ml/JavaFeatureHasherExample.java\n",
            "spark-3.1.2-bin-hadoop3.2/examples/src/main/java/org/apache/spark/examples/ml/JavaFPGrowthExample.java\n",
            "spark-3.1.2-bin-hadoop3.2/examples/src/main/java/org/apache/spark/examples/ml/JavaFMRegressorExample.java\n",
            "spark-3.1.2-bin-hadoop3.2/examples/src/main/java/org/apache/spark/examples/ml/JavaFMClassifierExample.java\n",
            "spark-3.1.2-bin-hadoop3.2/examples/src/main/java/org/apache/spark/examples/ml/JavaEstimatorTransformerParamExample.java\n",
            "spark-3.1.2-bin-hadoop3.2/examples/src/main/java/org/apache/spark/examples/ml/JavaElementwiseProductExample.java\n",
            "spark-3.1.2-bin-hadoop3.2/examples/src/main/java/org/apache/spark/examples/ml/JavaDocument.java\n",
            "spark-3.1.2-bin-hadoop3.2/examples/src/main/java/org/apache/spark/examples/ml/JavaDecisionTreeRegressionExample.java\n",
            "spark-3.1.2-bin-hadoop3.2/examples/src/main/java/org/apache/spark/examples/ml/JavaDecisionTreeClassificationExample.java\n",
            "spark-3.1.2-bin-hadoop3.2/examples/src/main/java/org/apache/spark/examples/ml/JavaDCTExample.java\n",
            "spark-3.1.2-bin-hadoop3.2/examples/src/main/java/org/apache/spark/examples/ml/JavaCountVectorizerExample.java\n",
            "spark-3.1.2-bin-hadoop3.2/examples/src/main/java/org/apache/spark/examples/ml/JavaCorrelationExample.java\n",
            "spark-3.1.2-bin-hadoop3.2/examples/src/main/java/org/apache/spark/examples/ml/JavaChiSquareTestExample.java\n",
            "spark-3.1.2-bin-hadoop3.2/examples/src/main/java/org/apache/spark/examples/ml/JavaChiSqSelectorExample.java\n",
            "spark-3.1.2-bin-hadoop3.2/examples/src/main/java/org/apache/spark/examples/ml/JavaBucketizerExample.java\n",
            "spark-3.1.2-bin-hadoop3.2/examples/src/main/java/org/apache/spark/examples/ml/JavaBucketedRandomProjectionLSHExample.java\n",
            "spark-3.1.2-bin-hadoop3.2/examples/src/main/java/org/apache/spark/examples/ml/JavaBisectingKMeansExample.java\n",
            "spark-3.1.2-bin-hadoop3.2/examples/src/main/java/org/apache/spark/examples/ml/JavaBinarizerExample.java\n",
            "spark-3.1.2-bin-hadoop3.2/examples/src/main/java/org/apache/spark/examples/ml/JavaALSExample.java\n",
            "spark-3.1.2-bin-hadoop3.2/examples/src/main/java/org/apache/spark/examples/ml/JavaAFTSurvivalRegressionExample.java\n",
            "spark-3.1.2-bin-hadoop3.2/examples/src/main/java/org/apache/spark/examples/ml/JavaTokenizerExample.java\n",
            "spark-3.1.2-bin-hadoop3.2/examples/src/main/java/org/apache/spark/examples/JavaWordCount.java\n",
            "spark-3.1.2-bin-hadoop3.2/examples/src/main/java/org/apache/spark/examples/JavaTC.java\n",
            "spark-3.1.2-bin-hadoop3.2/examples/src/main/java/org/apache/spark/examples/JavaStatusTrackerDemo.java\n",
            "spark-3.1.2-bin-hadoop3.2/examples/src/main/java/org/apache/spark/examples/JavaSparkPi.java\n",
            "spark-3.1.2-bin-hadoop3.2/examples/src/main/java/org/apache/spark/examples/JavaPageRank.java\n",
            "spark-3.1.2-bin-hadoop3.2/examples/src/main/java/org/apache/spark/examples/JavaLogQuery.java\n",
            "spark-3.1.2-bin-hadoop3.2/examples/src/main/java/org/apache/spark/examples/JavaHdfsLR.java\n",
            "spark-3.1.2-bin-hadoop3.2/examples/jars/\n",
            "spark-3.1.2-bin-hadoop3.2/examples/jars/spark-examples_2.12-3.1.2.jar\n",
            "spark-3.1.2-bin-hadoop3.2/examples/jars/scopt_2.12-3.7.1.jar\n",
            "spark-3.1.2-bin-hadoop3.2/kubernetes/\n",
            "spark-3.1.2-bin-hadoop3.2/kubernetes/tests/\n",
            "spark-3.1.2-bin-hadoop3.2/kubernetes/tests/worker_memory_check.py\n",
            "spark-3.1.2-bin-hadoop3.2/kubernetes/tests/python_executable_check.py\n",
            "spark-3.1.2-bin-hadoop3.2/kubernetes/tests/pyfiles.py\n",
            "spark-3.1.2-bin-hadoop3.2/kubernetes/tests/py_container_checks.py\n",
            "spark-3.1.2-bin-hadoop3.2/kubernetes/tests/decommissioning_cleanup.py\n",
            "spark-3.1.2-bin-hadoop3.2/kubernetes/tests/decommissioning.py\n",
            "spark-3.1.2-bin-hadoop3.2/kubernetes/tests/autoscale.py\n",
            "spark-3.1.2-bin-hadoop3.2/kubernetes/dockerfiles/\n",
            "spark-3.1.2-bin-hadoop3.2/kubernetes/dockerfiles/spark/\n",
            "spark-3.1.2-bin-hadoop3.2/kubernetes/dockerfiles/spark/bindings/\n",
            "spark-3.1.2-bin-hadoop3.2/kubernetes/dockerfiles/spark/bindings/python/\n",
            "spark-3.1.2-bin-hadoop3.2/kubernetes/dockerfiles/spark/bindings/python/Dockerfile\n",
            "spark-3.1.2-bin-hadoop3.2/kubernetes/dockerfiles/spark/bindings/R/\n",
            "spark-3.1.2-bin-hadoop3.2/kubernetes/dockerfiles/spark/bindings/R/Dockerfile\n",
            "spark-3.1.2-bin-hadoop3.2/kubernetes/dockerfiles/spark/Dockerfile\n",
            "spark-3.1.2-bin-hadoop3.2/kubernetes/dockerfiles/spark/entrypoint.sh\n",
            "spark-3.1.2-bin-hadoop3.2/kubernetes/dockerfiles/spark/decom.sh\n",
            "spark-3.1.2-bin-hadoop3.2/yarn/\n",
            "spark-3.1.2-bin-hadoop3.2/yarn/spark-3.1.2-yarn-shuffle.jar\n",
            "spark-3.1.2-bin-hadoop3.2/jars/\n",
            "spark-3.1.2-bin-hadoop3.2/jars/zstd-jni-1.4.8-1.jar\n",
            "spark-3.1.2-bin-hadoop3.2/jars/zookeeper-3.4.14.jar\n",
            "spark-3.1.2-bin-hadoop3.2/jars/zjsonpatch-0.3.0.jar\n",
            "spark-3.1.2-bin-hadoop3.2/jars/xz-1.5.jar\n",
            "spark-3.1.2-bin-hadoop3.2/jars/xbean-asm7-shaded-4.15.jar\n",
            "spark-3.1.2-bin-hadoop3.2/jars/woodstox-core-5.0.3.jar\n",
            "spark-3.1.2-bin-hadoop3.2/jars/velocity-1.5.jar\n",
            "spark-3.1.2-bin-hadoop3.2/jars/univocity-parsers-2.9.1.jar\n",
            "spark-3.1.2-bin-hadoop3.2/jars/transaction-api-1.1.jar\n",
            "spark-3.1.2-bin-hadoop3.2/jars/token-provider-1.0.1.jar\n",
            "spark-3.1.2-bin-hadoop3.2/jars/threeten-extra-1.5.0.jar\n",
            "spark-3.1.2-bin-hadoop3.2/jars/super-csv-2.2.0.jar\n",
            "spark-3.1.2-bin-hadoop3.2/jars/stream-2.9.6.jar\n",
            "spark-3.1.2-bin-hadoop3.2/jars/stax2-api-3.1.4.jar\n",
            "spark-3.1.2-bin-hadoop3.2/jars/stax-api-1.0.1.jar\n",
            "spark-3.1.2-bin-hadoop3.2/jars/spire_2.12-0.17.0-M1.jar\n",
            "spark-3.1.2-bin-hadoop3.2/jars/spire-util_2.12-0.17.0-M1.jar\n",
            "spark-3.1.2-bin-hadoop3.2/jars/spire-platform_2.12-0.17.0-M1.jar\n",
            "spark-3.1.2-bin-hadoop3.2/jars/spire-macros_2.12-0.17.0-M1.jar\n",
            "spark-3.1.2-bin-hadoop3.2/jars/spark-yarn_2.12-3.1.2.jar\n",
            "spark-3.1.2-bin-hadoop3.2/jars/spark-unsafe_2.12-3.1.2.jar\n",
            "spark-3.1.2-bin-hadoop3.2/jars/spark-tags_2.12-3.1.2.jar\n",
            "spark-3.1.2-bin-hadoop3.2/jars/spark-tags_2.12-3.1.2-tests.jar\n",
            "spark-3.1.2-bin-hadoop3.2/jars/spark-streaming_2.12-3.1.2.jar\n",
            "spark-3.1.2-bin-hadoop3.2/jars/spark-sql_2.12-3.1.2.jar\n",
            "spark-3.1.2-bin-hadoop3.2/jars/spark-sketch_2.12-3.1.2.jar\n",
            "spark-3.1.2-bin-hadoop3.2/jars/spark-repl_2.12-3.1.2.jar\n",
            "spark-3.1.2-bin-hadoop3.2/jars/spark-network-shuffle_2.12-3.1.2.jar\n",
            "spark-3.1.2-bin-hadoop3.2/jars/spark-network-common_2.12-3.1.2.jar\n",
            "spark-3.1.2-bin-hadoop3.2/jars/spark-mllib_2.12-3.1.2.jar\n",
            "spark-3.1.2-bin-hadoop3.2/jars/spark-mllib-local_2.12-3.1.2.jar\n",
            "spark-3.1.2-bin-hadoop3.2/jars/spark-mesos_2.12-3.1.2.jar\n",
            "spark-3.1.2-bin-hadoop3.2/jars/spark-launcher_2.12-3.1.2.jar\n",
            "spark-3.1.2-bin-hadoop3.2/jars/spark-kvstore_2.12-3.1.2.jar\n",
            "spark-3.1.2-bin-hadoop3.2/jars/spark-kubernetes_2.12-3.1.2.jar\n",
            "spark-3.1.2-bin-hadoop3.2/jars/spark-hive_2.12-3.1.2.jar\n",
            "spark-3.1.2-bin-hadoop3.2/jars/spark-hive-thriftserver_2.12-3.1.2.jar\n",
            "spark-3.1.2-bin-hadoop3.2/jars/spark-graphx_2.12-3.1.2.jar\n",
            "spark-3.1.2-bin-hadoop3.2/jars/spark-core_2.12-3.1.2.jar\n",
            "spark-3.1.2-bin-hadoop3.2/jars/spark-catalyst_2.12-3.1.2.jar\n",
            "spark-3.1.2-bin-hadoop3.2/jars/snappy-java-1.1.8.2.jar\n",
            "spark-3.1.2-bin-hadoop3.2/jars/snakeyaml-1.24.jar\n",
            "spark-3.1.2-bin-hadoop3.2/jars/slf4j-log4j12-1.7.30.jar\n",
            "spark-3.1.2-bin-hadoop3.2/jars/slf4j-api-1.7.30.jar\n",
            "spark-3.1.2-bin-hadoop3.2/jars/shims-0.9.0.jar\n",
            "spark-3.1.2-bin-hadoop3.2/jars/shapeless_2.12-2.3.3.jar\n",
            "spark-3.1.2-bin-hadoop3.2/jars/scala-xml_2.12-1.2.0.jar\n",
            "spark-3.1.2-bin-hadoop3.2/jars/scala-reflect-2.12.10.jar\n",
            "spark-3.1.2-bin-hadoop3.2/jars/scala-parser-combinators_2.12-1.1.2.jar\n",
            "spark-3.1.2-bin-hadoop3.2/jars/scala-library-2.12.10.jar\n",
            "spark-3.1.2-bin-hadoop3.2/jars/scala-compiler-2.12.10.jar\n",
            "spark-3.1.2-bin-hadoop3.2/jars/scala-collection-compat_2.12-2.1.1.jar\n",
            "spark-3.1.2-bin-hadoop3.2/jars/re2j-1.1.jar\n",
            "spark-3.1.2-bin-hadoop3.2/jars/pyrolite-4.30.jar\n",
            "spark-3.1.2-bin-hadoop3.2/jars/py4j-0.10.9.jar\n",
            "spark-3.1.2-bin-hadoop3.2/jars/protobuf-java-2.5.0.jar\n",
            "spark-3.1.2-bin-hadoop3.2/jars/parquet-jackson-1.10.1.jar\n",
            "spark-3.1.2-bin-hadoop3.2/jars/parquet-hadoop-1.10.1.jar\n",
            "spark-3.1.2-bin-hadoop3.2/jars/parquet-format-2.4.0.jar\n",
            "spark-3.1.2-bin-hadoop3.2/jars/parquet-encoding-1.10.1.jar\n",
            "spark-3.1.2-bin-hadoop3.2/jars/parquet-common-1.10.1.jar\n",
            "spark-3.1.2-bin-hadoop3.2/jars/parquet-column-1.10.1.jar\n",
            "spark-3.1.2-bin-hadoop3.2/jars/paranamer-2.8.jar\n",
            "spark-3.1.2-bin-hadoop3.2/jars/osgi-resource-locator-1.0.3.jar\n",
            "spark-3.1.2-bin-hadoop3.2/jars/oro-2.0.8.jar\n",
            "spark-3.1.2-bin-hadoop3.2/jars/orc-shims-1.5.12.jar\n",
            "spark-3.1.2-bin-hadoop3.2/jars/orc-mapreduce-1.5.12.jar\n",
            "spark-3.1.2-bin-hadoop3.2/jars/orc-core-1.5.12.jar\n",
            "spark-3.1.2-bin-hadoop3.2/jars/opencsv-2.3.jar\n",
            "spark-3.1.2-bin-hadoop3.2/jars/okio-1.14.0.jar\n",
            "spark-3.1.2-bin-hadoop3.2/jars/okhttp-3.12.12.jar\n",
            "spark-3.1.2-bin-hadoop3.2/jars/okhttp-2.7.5.jar\n",
            "spark-3.1.2-bin-hadoop3.2/jars/objenesis-2.6.jar\n",
            "spark-3.1.2-bin-hadoop3.2/jars/nimbus-jose-jwt-4.41.1.jar\n",
            "spark-3.1.2-bin-hadoop3.2/jars/netty-all-4.1.51.Final.jar\n",
            "spark-3.1.2-bin-hadoop3.2/jars/minlog-1.3.0.jar\n",
            "spark-3.1.2-bin-hadoop3.2/jars/metrics-jvm-4.1.1.jar\n",
            "spark-3.1.2-bin-hadoop3.2/jars/metrics-json-4.1.1.jar\n",
            "spark-3.1.2-bin-hadoop3.2/jars/metrics-jmx-4.1.1.jar\n",
            "spark-3.1.2-bin-hadoop3.2/jars/metrics-graphite-4.1.1.jar\n",
            "spark-3.1.2-bin-hadoop3.2/jars/metrics-core-4.1.1.jar\n",
            "spark-3.1.2-bin-hadoop3.2/jars/mesos-1.4.0-shaded-protobuf.jar\n",
            "spark-3.1.2-bin-hadoop3.2/jars/macro-compat_2.12-1.1.1.jar\n",
            "spark-3.1.2-bin-hadoop3.2/jars/machinist_2.12-0.6.8.jar\n",
            "spark-3.1.2-bin-hadoop3.2/jars/lz4-java-1.7.1.jar\n",
            "spark-3.1.2-bin-hadoop3.2/jars/logging-interceptor-3.12.12.jar\n",
            "spark-3.1.2-bin-hadoop3.2/jars/log4j-1.2.17.jar\n",
            "spark-3.1.2-bin-hadoop3.2/jars/libthrift-0.12.0.jar\n",
            "spark-3.1.2-bin-hadoop3.2/jars/libfb303-0.9.3.jar\n",
            "spark-3.1.2-bin-hadoop3.2/jars/leveldbjni-all-1.8.jar\n",
            "spark-3.1.2-bin-hadoop3.2/jars/kubernetes-model-storageclass-4.12.0.jar\n",
            "spark-3.1.2-bin-hadoop3.2/jars/kubernetes-model-settings-4.12.0.jar\n",
            "spark-3.1.2-bin-hadoop3.2/jars/kubernetes-model-scheduling-4.12.0.jar\n",
            "spark-3.1.2-bin-hadoop3.2/jars/kubernetes-model-rbac-4.12.0.jar\n",
            "spark-3.1.2-bin-hadoop3.2/jars/kubernetes-model-policy-4.12.0.jar\n",
            "spark-3.1.2-bin-hadoop3.2/jars/kubernetes-model-networking-4.12.0.jar\n",
            "spark-3.1.2-bin-hadoop3.2/jars/kubernetes-model-metrics-4.12.0.jar\n",
            "spark-3.1.2-bin-hadoop3.2/jars/kubernetes-model-extensions-4.12.0.jar\n",
            "spark-3.1.2-bin-hadoop3.2/jars/kubernetes-model-events-4.12.0.jar\n",
            "spark-3.1.2-bin-hadoop3.2/jars/kubernetes-model-discovery-4.12.0.jar\n",
            "spark-3.1.2-bin-hadoop3.2/jars/kubernetes-model-core-4.12.0.jar\n",
            "spark-3.1.2-bin-hadoop3.2/jars/kubernetes-model-coordination-4.12.0.jar\n",
            "spark-3.1.2-bin-hadoop3.2/jars/kubernetes-model-common-4.12.0.jar\n",
            "spark-3.1.2-bin-hadoop3.2/jars/kubernetes-model-certificates-4.12.0.jar\n",
            "spark-3.1.2-bin-hadoop3.2/jars/kubernetes-model-batch-4.12.0.jar\n",
            "spark-3.1.2-bin-hadoop3.2/jars/kubernetes-model-autoscaling-4.12.0.jar\n",
            "spark-3.1.2-bin-hadoop3.2/jars/kubernetes-model-apps-4.12.0.jar\n",
            "spark-3.1.2-bin-hadoop3.2/jars/kubernetes-model-apiextensions-4.12.0.jar\n",
            "spark-3.1.2-bin-hadoop3.2/jars/kubernetes-model-admissionregistration-4.12.0.jar\n",
            "spark-3.1.2-bin-hadoop3.2/jars/kubernetes-client-4.12.0.jar\n",
            "spark-3.1.2-bin-hadoop3.2/jars/kryo-shaded-4.0.2.jar\n",
            "spark-3.1.2-bin-hadoop3.2/jars/kerby-xdr-1.0.1.jar\n",
            "spark-3.1.2-bin-hadoop3.2/jars/kerby-util-1.0.1.jar\n",
            "spark-3.1.2-bin-hadoop3.2/jars/kerby-pkix-1.0.1.jar\n",
            "spark-3.1.2-bin-hadoop3.2/jars/kerby-config-1.0.1.jar\n",
            "spark-3.1.2-bin-hadoop3.2/jars/kerby-asn1-1.0.1.jar\n",
            "spark-3.1.2-bin-hadoop3.2/jars/kerb-util-1.0.1.jar\n",
            "spark-3.1.2-bin-hadoop3.2/jars/kerb-simplekdc-1.0.1.jar\n",
            "spark-3.1.2-bin-hadoop3.2/jars/kerb-server-1.0.1.jar\n",
            "spark-3.1.2-bin-hadoop3.2/jars/kerb-identity-1.0.1.jar\n",
            "spark-3.1.2-bin-hadoop3.2/jars/kerb-crypto-1.0.1.jar\n",
            "spark-3.1.2-bin-hadoop3.2/jars/kerb-core-1.0.1.jar\n",
            "spark-3.1.2-bin-hadoop3.2/jars/kerb-common-1.0.1.jar\n",
            "spark-3.1.2-bin-hadoop3.2/jars/kerb-client-1.0.1.jar\n",
            "spark-3.1.2-bin-hadoop3.2/jars/kerb-admin-1.0.1.jar\n",
            "spark-3.1.2-bin-hadoop3.2/jars/jul-to-slf4j-1.7.30.jar\n",
            "spark-3.1.2-bin-hadoop3.2/jars/jta-1.1.jar\n",
            "spark-3.1.2-bin-hadoop3.2/jars/jsr305-3.0.0.jar\n",
            "spark-3.1.2-bin-hadoop3.2/jars/jsp-api-2.1.jar\n",
            "spark-3.1.2-bin-hadoop3.2/jars/json4s-scalap_2.12-3.7.0-M5.jar\n",
            "spark-3.1.2-bin-hadoop3.2/jars/json4s-jackson_2.12-3.7.0-M5.jar\n",
            "spark-3.1.2-bin-hadoop3.2/jars/json4s-core_2.12-3.7.0-M5.jar\n",
            "spark-3.1.2-bin-hadoop3.2/jars/json4s-ast_2.12-3.7.0-M5.jar\n",
            "spark-3.1.2-bin-hadoop3.2/jars/json-smart-2.3.jar\n",
            "spark-3.1.2-bin-hadoop3.2/jars/json-1.8.jar\n",
            "spark-3.1.2-bin-hadoop3.2/jars/jpam-1.1.jar\n",
            "spark-3.1.2-bin-hadoop3.2/jars/jodd-core-3.5.2.jar\n",
            "spark-3.1.2-bin-hadoop3.2/jars/joda-time-2.10.5.jar\n",
            "spark-3.1.2-bin-hadoop3.2/jars/jline-2.14.6.jar\n",
            "spark-3.1.2-bin-hadoop3.2/jars/jersey-server-2.30.jar\n",
            "spark-3.1.2-bin-hadoop3.2/jars/jersey-media-jaxb-2.30.jar\n",
            "spark-3.1.2-bin-hadoop3.2/jars/jersey-hk2-2.30.jar\n",
            "spark-3.1.2-bin-hadoop3.2/jars/jersey-container-servlet-core-2.30.jar\n",
            "spark-3.1.2-bin-hadoop3.2/jars/jersey-container-servlet-2.30.jar\n",
            "spark-3.1.2-bin-hadoop3.2/jars/jersey-common-2.30.jar\n",
            "spark-3.1.2-bin-hadoop3.2/jars/jersey-client-2.30.jar\n",
            "spark-3.1.2-bin-hadoop3.2/jars/jdo-api-3.0.1.jar\n",
            "spark-3.1.2-bin-hadoop3.2/jars/jcl-over-slf4j-1.7.30.jar\n",
            "spark-3.1.2-bin-hadoop3.2/jars/jcip-annotations-1.0-1.jar\n",
            "spark-3.1.2-bin-hadoop3.2/jars/jaxb-runtime-2.3.2.jar\n",
            "spark-3.1.2-bin-hadoop3.2/jars/jaxb-api-2.2.11.jar\n",
            "spark-3.1.2-bin-hadoop3.2/jars/javolution-5.5.1.jar\n",
            "spark-3.1.2-bin-hadoop3.2/jars/javax.jdo-3.2.0-m3.jar\n",
            "spark-3.1.2-bin-hadoop3.2/jars/javax.inject-1.jar\n",
            "spark-3.1.2-bin-hadoop3.2/jars/javassist-3.25.0-GA.jar\n",
            "spark-3.1.2-bin-hadoop3.2/jars/janino-3.0.16.jar\n",
            "spark-3.1.2-bin-hadoop3.2/jars/jakarta.xml.bind-api-2.3.2.jar\n",
            "spark-3.1.2-bin-hadoop3.2/jars/jakarta.ws.rs-api-2.1.6.jar\n",
            "spark-3.1.2-bin-hadoop3.2/jars/jakarta.validation-api-2.0.2.jar\n",
            "spark-3.1.2-bin-hadoop3.2/jars/jakarta.servlet-api-4.0.3.jar\n",
            "spark-3.1.2-bin-hadoop3.2/jars/jakarta.inject-2.6.1.jar\n",
            "spark-3.1.2-bin-hadoop3.2/jars/jakarta.annotation-api-1.3.5.jar\n",
            "spark-3.1.2-bin-hadoop3.2/jars/jakarta.activation-api-1.2.1.jar\n",
            "spark-3.1.2-bin-hadoop3.2/jars/jackson-module-scala_2.12-2.10.0.jar\n",
            "spark-3.1.2-bin-hadoop3.2/jars/jackson-module-paranamer-2.10.0.jar\n",
            "spark-3.1.2-bin-hadoop3.2/jars/jackson-module-jaxb-annotations-2.10.0.jar\n",
            "spark-3.1.2-bin-hadoop3.2/jars/jackson-mapper-asl-1.9.13.jar\n",
            "spark-3.1.2-bin-hadoop3.2/jars/jackson-jaxrs-json-provider-2.9.5.jar\n",
            "spark-3.1.2-bin-hadoop3.2/jars/jackson-jaxrs-base-2.9.5.jar\n",
            "spark-3.1.2-bin-hadoop3.2/jars/jackson-datatype-jsr310-2.11.2.jar\n",
            "spark-3.1.2-bin-hadoop3.2/jars/jackson-dataformat-yaml-2.10.0.jar\n",
            "spark-3.1.2-bin-hadoop3.2/jars/jackson-databind-2.10.0.jar\n",
            "spark-3.1.2-bin-hadoop3.2/jars/jackson-core-asl-1.9.13.jar\n",
            "spark-3.1.2-bin-hadoop3.2/jars/jackson-core-2.10.0.jar\n",
            "spark-3.1.2-bin-hadoop3.2/jars/jackson-annotations-2.10.0.jar\n",
            "spark-3.1.2-bin-hadoop3.2/jars/ivy-2.4.0.jar\n",
            "spark-3.1.2-bin-hadoop3.2/jars/istack-commons-runtime-3.0.8.jar\n",
            "spark-3.1.2-bin-hadoop3.2/jars/httpcore-4.4.12.jar\n",
            "spark-3.1.2-bin-hadoop3.2/jars/httpclient-4.5.6.jar\n",
            "spark-3.1.2-bin-hadoop3.2/jars/htrace-core4-4.1.0-incubating.jar\n",
            "spark-3.1.2-bin-hadoop3.2/jars/hk2-utils-2.6.1.jar\n",
            "spark-3.1.2-bin-hadoop3.2/jars/hk2-locator-2.6.1.jar\n",
            "spark-3.1.2-bin-hadoop3.2/jars/hk2-api-2.6.1.jar\n",
            "spark-3.1.2-bin-hadoop3.2/jars/hive-vector-code-gen-2.3.7.jar\n",
            "spark-3.1.2-bin-hadoop3.2/jars/hive-storage-api-2.7.2.jar\n",
            "spark-3.1.2-bin-hadoop3.2/jars/hive-shims-scheduler-2.3.7.jar\n",
            "spark-3.1.2-bin-hadoop3.2/jars/hive-shims-common-2.3.7.jar\n",
            "spark-3.1.2-bin-hadoop3.2/jars/hive-shims-2.3.7.jar\n",
            "spark-3.1.2-bin-hadoop3.2/jars/hive-shims-0.23-2.3.7.jar\n",
            "spark-3.1.2-bin-hadoop3.2/jars/hive-service-rpc-3.1.2.jar\n",
            "spark-3.1.2-bin-hadoop3.2/jars/hive-serde-2.3.7.jar\n",
            "spark-3.1.2-bin-hadoop3.2/jars/hive-metastore-2.3.7.jar\n",
            "spark-3.1.2-bin-hadoop3.2/jars/hive-llap-common-2.3.7.jar\n",
            "spark-3.1.2-bin-hadoop3.2/jars/hive-jdbc-2.3.7.jar\n",
            "spark-3.1.2-bin-hadoop3.2/jars/hive-exec-2.3.7-core.jar\n",
            "spark-3.1.2-bin-hadoop3.2/jars/hive-common-2.3.7.jar\n",
            "spark-3.1.2-bin-hadoop3.2/jars/hive-cli-2.3.7.jar\n",
            "spark-3.1.2-bin-hadoop3.2/jars/hive-beeline-2.3.7.jar\n",
            "spark-3.1.2-bin-hadoop3.2/jars/hadoop-yarn-server-web-proxy-3.2.0.jar\n",
            "spark-3.1.2-bin-hadoop3.2/jars/hadoop-yarn-server-common-3.2.0.jar\n",
            "spark-3.1.2-bin-hadoop3.2/jars/hadoop-yarn-registry-3.2.0.jar\n",
            "spark-3.1.2-bin-hadoop3.2/jars/hadoop-yarn-common-3.2.0.jar\n",
            "spark-3.1.2-bin-hadoop3.2/jars/hadoop-yarn-client-3.2.0.jar\n",
            "spark-3.1.2-bin-hadoop3.2/jars/hadoop-yarn-api-3.2.0.jar\n",
            "spark-3.1.2-bin-hadoop3.2/jars/hadoop-mapreduce-client-jobclient-3.2.0.jar\n",
            "spark-3.1.2-bin-hadoop3.2/jars/hadoop-mapreduce-client-core-3.2.0.jar\n",
            "spark-3.1.2-bin-hadoop3.2/jars/hadoop-mapreduce-client-common-3.2.0.jar\n",
            "spark-3.1.2-bin-hadoop3.2/jars/hadoop-hdfs-client-3.2.0.jar\n",
            "spark-3.1.2-bin-hadoop3.2/jars/hadoop-common-3.2.0.jar\n",
            "spark-3.1.2-bin-hadoop3.2/jars/hadoop-client-3.2.0.jar\n",
            "spark-3.1.2-bin-hadoop3.2/jars/hadoop-auth-3.2.0.jar\n",
            "spark-3.1.2-bin-hadoop3.2/jars/hadoop-annotations-3.2.0.jar\n",
            "spark-3.1.2-bin-hadoop3.2/jars/guice-servlet-4.0.jar\n",
            "spark-3.1.2-bin-hadoop3.2/jars/guice-4.0.jar\n",
            "spark-3.1.2-bin-hadoop3.2/jars/guava-14.0.1.jar\n",
            "spark-3.1.2-bin-hadoop3.2/jars/gson-2.2.4.jar\n",
            "spark-3.1.2-bin-hadoop3.2/jars/geronimo-jcache_1.0_spec-1.0-alpha-1.jar\n",
            "spark-3.1.2-bin-hadoop3.2/jars/generex-1.0.2.jar\n",
            "spark-3.1.2-bin-hadoop3.2/jars/flatbuffers-java-1.9.0.jar\n",
            "spark-3.1.2-bin-hadoop3.2/jars/ehcache-3.3.1.jar\n",
            "spark-3.1.2-bin-hadoop3.2/jars/dropwizard-metrics-hadoop-metrics2-reporter-0.1.2.jar\n",
            "spark-3.1.2-bin-hadoop3.2/jars/dnsjava-2.1.7.jar\n",
            "spark-3.1.2-bin-hadoop3.2/jars/derby-10.12.1.1.jar\n",
            "spark-3.1.2-bin-hadoop3.2/jars/datanucleus-rdbms-4.1.19.jar\n",
            "spark-3.1.2-bin-hadoop3.2/jars/datanucleus-core-4.1.17.jar\n",
            "spark-3.1.2-bin-hadoop3.2/jars/datanucleus-api-jdo-4.2.4.jar\n",
            "spark-3.1.2-bin-hadoop3.2/jars/curator-recipes-2.13.0.jar\n",
            "spark-3.1.2-bin-hadoop3.2/jars/curator-framework-2.13.0.jar\n",
            "spark-3.1.2-bin-hadoop3.2/jars/curator-client-2.13.0.jar\n",
            "spark-3.1.2-bin-hadoop3.2/jars/core-1.1.2.jar\n",
            "spark-3.1.2-bin-hadoop3.2/jars/compress-lzf-1.0.3.jar\n",
            "spark-3.1.2-bin-hadoop3.2/jars/commons-text-1.6.jar\n",
            "spark-3.1.2-bin-hadoop3.2/jars/commons-pool-1.5.4.jar\n",
            "spark-3.1.2-bin-hadoop3.2/jars/commons-net-3.1.jar\n",
            "spark-3.1.2-bin-hadoop3.2/jars/commons-math3-3.4.1.jar\n",
            "spark-3.1.2-bin-hadoop3.2/jars/commons-logging-1.1.3.jar\n",
            "spark-3.1.2-bin-hadoop3.2/jars/commons-lang3-3.10.jar\n",
            "spark-3.1.2-bin-hadoop3.2/jars/commons-lang-2.6.jar\n",
            "spark-3.1.2-bin-hadoop3.2/jars/commons-io-2.5.jar\n",
            "spark-3.1.2-bin-hadoop3.2/jars/commons-httpclient-3.1.jar\n",
            "spark-3.1.2-bin-hadoop3.2/jars/commons-dbcp-1.4.jar\n",
            "spark-3.1.2-bin-hadoop3.2/jars/commons-daemon-1.0.13.jar\n",
            "spark-3.1.2-bin-hadoop3.2/jars/commons-crypto-1.1.0.jar\n",
            "spark-3.1.2-bin-hadoop3.2/jars/commons-configuration2-2.1.1.jar\n",
            "spark-3.1.2-bin-hadoop3.2/jars/commons-compress-1.20.jar\n",
            "spark-3.1.2-bin-hadoop3.2/jars/commons-compiler-3.0.16.jar\n",
            "spark-3.1.2-bin-hadoop3.2/jars/commons-collections-3.2.2.jar\n",
            "spark-3.1.2-bin-hadoop3.2/jars/commons-codec-1.10.jar\n",
            "spark-3.1.2-bin-hadoop3.2/jars/commons-cli-1.2.jar\n",
            "spark-3.1.2-bin-hadoop3.2/jars/commons-beanutils-1.9.4.jar\n",
            "spark-3.1.2-bin-hadoop3.2/jars/chill_2.12-0.9.5.jar\n",
            "spark-3.1.2-bin-hadoop3.2/jars/chill-java-0.9.5.jar\n",
            "spark-3.1.2-bin-hadoop3.2/jars/cats-kernel_2.12-2.0.0-M4.jar\n",
            "spark-3.1.2-bin-hadoop3.2/jars/breeze_2.12-1.0.jar\n",
            "spark-3.1.2-bin-hadoop3.2/jars/breeze-macros_2.12-1.0.jar\n",
            "spark-3.1.2-bin-hadoop3.2/jars/bonecp-0.8.0.RELEASE.jar\n",
            "spark-3.1.2-bin-hadoop3.2/jars/avro-mapred-1.8.2-hadoop2.jar\n",
            "spark-3.1.2-bin-hadoop3.2/jars/avro-ipc-1.8.2.jar\n",
            "spark-3.1.2-bin-hadoop3.2/jars/avro-1.8.2.jar\n",
            "spark-3.1.2-bin-hadoop3.2/jars/automaton-1.11-8.jar\n",
            "spark-3.1.2-bin-hadoop3.2/jars/audience-annotations-0.5.0.jar\n",
            "spark-3.1.2-bin-hadoop3.2/jars/arrow-vector-2.0.0.jar\n",
            "spark-3.1.2-bin-hadoop3.2/jars/arrow-memory-netty-2.0.0.jar\n",
            "spark-3.1.2-bin-hadoop3.2/jars/arrow-memory-core-2.0.0.jar\n",
            "spark-3.1.2-bin-hadoop3.2/jars/arrow-format-2.0.0.jar\n",
            "spark-3.1.2-bin-hadoop3.2/jars/arpack_combined_all-0.1.jar\n",
            "spark-3.1.2-bin-hadoop3.2/jars/aopalliance-repackaged-2.6.1.jar\n",
            "spark-3.1.2-bin-hadoop3.2/jars/aopalliance-1.0.jar\n",
            "spark-3.1.2-bin-hadoop3.2/jars/antlr4-runtime-4.8-1.jar\n",
            "spark-3.1.2-bin-hadoop3.2/jars/antlr-runtime-3.5.2.jar\n",
            "spark-3.1.2-bin-hadoop3.2/jars/algebra_2.12-2.0.0-M2.jar\n",
            "spark-3.1.2-bin-hadoop3.2/jars/aircompressor-0.10.jar\n",
            "spark-3.1.2-bin-hadoop3.2/jars/activation-1.1.1.jar\n",
            "spark-3.1.2-bin-hadoop3.2/jars/accessors-smart-1.2.jar\n",
            "spark-3.1.2-bin-hadoop3.2/jars/ST4-4.0.4.jar\n",
            "spark-3.1.2-bin-hadoop3.2/jars/RoaringBitmap-0.9.0.jar\n",
            "spark-3.1.2-bin-hadoop3.2/jars/JTransforms-3.1.jar\n",
            "spark-3.1.2-bin-hadoop3.2/jars/JLargeArrays-1.5.jar\n",
            "spark-3.1.2-bin-hadoop3.2/jars/HikariCP-2.5.1.jar\n",
            "spark-3.1.2-bin-hadoop3.2/RELEASE\n"
          ]
        }
      ]
    },
    {
      "cell_type": "code",
      "metadata": {
        "id": "HncZxlV4O5Rg"
      },
      "source": [
        "# Install findspark - a python library to find Spark\n",
        "!pip install -q findspark"
      ],
      "execution_count": null,
      "outputs": []
    },
    {
      "cell_type": "code",
      "metadata": {
        "id": "5J3EorKcN1VQ"
      },
      "source": [
        "# Set environment variables - set Java and Spark home based on the location where they are stored\n",
        "import os\n",
        "os.environ[\"JAVA_HOME\"] = \"/usr/lib/jvm/java-8-openjdk-amd64\"\n",
        "os.environ[\"SPARK_HOME\"] = \"/content/drive/My Drive/IDS561_Project/spark-3.1.2-bin-hadoop3.2\"\n",
        "\n",
        "# Create a local Spark session\n",
        "import findspark\n",
        "findspark.init()\n",
        "from pyspark.sql import SparkSession\n",
        "from pyspark.conf import SparkConf\n",
        "spark = SparkSession.builder.master(\"local[*]\").getOrCreate()\n",
        "\n",
        "from pyspark import SparkContext\n",
        "sc = SparkContext.getOrCreate()\n",
        "from pyspark.sql import SQLContext\n",
        "sql = SQLContext(sc)"
      ],
      "execution_count": null,
      "outputs": []
    },
    {
      "cell_type": "markdown",
      "metadata": {
        "id": "KrJgmnTbIRds"
      },
      "source": [
        "##**Import Libraries**"
      ]
    },
    {
      "cell_type": "code",
      "metadata": {
        "id": "Zm43RBPoGjzd"
      },
      "source": [
        "import csv # Read CSVs \n",
        "import pandas as pd \n",
        "pd.options.mode.chained_assignment = None\n",
        "import pyspark\n",
        "\n",
        "# Libraries for pyspark SQL\n",
        "from pyspark.sql.types import StringType, IntegerType, DoubleType, DecimalType\n",
        "from pyspark.sql.functions import *\n",
        "\n",
        "# Libraries for Machine Learning\n",
        "import numpy as np\n",
        "import gc\n",
        "from pyspark.ml.stat import Correlation\n",
        "\n",
        "from pyspark.sql.types import *\n",
        "import pyspark.sql.functions as F\n",
        "from pyspark.sql.functions import udf, col\n",
        "\n",
        "import numpy as np\n",
        "from sklearn.metrics import roc_curve, auc, roc_auc_score\n",
        "import matplotlib.pyplot as plt\n",
        "from sklearn.preprocessing import label_binarize\n",
        "import lightgbm as lgb\n",
        "\n",
        "# Libraries for data visualization\n",
        "import seaborn as sns\n",
        "import matplotlib.pyplot as plt\n",
        "import plotly\n",
        "\n",
        "# Other libraries\n",
        "import random\n",
        "import datetime as dt\n",
        "import warnings\n",
        "warnings.filterwarnings('ignore')"
      ],
      "execution_count": null,
      "outputs": []
    },
    {
      "cell_type": "code",
      "metadata": {
        "id": "x7SQ3nkCz1TR"
      },
      "source": [
        "# Enable Arrow-based columnar data transfers\n",
        "spark.conf.set(\"spark.sql.execution.arrow.pyspark.enabled\", \"true\")"
      ],
      "execution_count": null,
      "outputs": []
    },
    {
      "cell_type": "markdown",
      "metadata": {
        "id": "FEfLP4QP7Dyt"
      },
      "source": [
        "##**Import Datasets**"
      ]
    },
    {
      "cell_type": "markdown",
      "metadata": {
        "id": "nJWXEKxfzj2C"
      },
      "source": [
        "### Read CSV files and convert to Spark DF"
      ]
    },
    {
      "cell_type": "code",
      "metadata": {
        "id": "ER7_YRtoQnQS"
      },
      "source": [
        "# Read CSV files and convert to Spark DF\n",
        "raw_zillow_df = spark.read.options(inferSchema='True',delimiter=',').csv(\"/content/drive/My Drive/IDS561_Project/properties_2016.csv\", header=True)\n",
        "\n",
        "# Remove rows where taxvaluedollarcnt is null, since this is going to be our dependent variable\n",
        "zillow_df = raw_zillow_df.filter(raw_zillow_df.taxvaluedollarcnt.isNotNull())"
      ],
      "execution_count": null,
      "outputs": []
    },
    {
      "cell_type": "code",
      "metadata": {
        "colab": {
          "base_uri": "https://localhost:8080/"
        },
        "id": "N_qGdu51bycI",
        "outputId": "9dab7676-78f9-4af2-9ca3-fd227d7b0d64"
      },
      "source": [
        "zillow_df.show(n=3)"
      ],
      "execution_count": null,
      "outputs": [
        {
          "name": "stdout",
          "output_type": "stream",
          "text": [
            "+--------+---------------------+------------------------+------------+-----------+----------+-------------------+---------------------+-----------------+----------+------------------------+----------------------------+--------------------+--------------------+--------------------+--------------------+-------------------+----+------------+-----------+------------+---------------+--------------+---------------------+--------+----------+-----------------+-------+-----------+------------+-----------+-----------+-------------------------+---------------------+------------------+----------------------+------------+--------------+--------------------+-----------+-------+-----------+-------------------+----------------------+-------+------------------+------------------+---------+---------------+-------------+--------------------------+-----------------+--------------+---------------------+---------+------------------+------------------+-------------------+\n",
            "|parcelid|airconditioningtypeid|architecturalstyletypeid|basementsqft|bathroomcnt|bedroomcnt|buildingclasstypeid|buildingqualitytypeid|calculatedbathnbr|decktypeid|finishedfloor1squarefeet|calculatedfinishedsquarefeet|finishedsquarefeet12|finishedsquarefeet13|finishedsquarefeet15|finishedsquarefeet50|finishedsquarefeet6|fips|fireplacecnt|fullbathcnt|garagecarcnt|garagetotalsqft|hashottuborspa|heatingorsystemtypeid|latitude| longitude|lotsizesquarefeet|poolcnt|poolsizesum|pooltypeid10|pooltypeid2|pooltypeid7|propertycountylandusecode|propertylandusetypeid|propertyzoningdesc|rawcensustractandblock|regionidcity|regionidcounty|regionidneighborhood|regionidzip|roomcnt|storytypeid|threequarterbathnbr|typeconstructiontypeid|unitcnt|yardbuildingsqft17|yardbuildingsqft26|yearbuilt|numberofstories|fireplaceflag|structuretaxvaluedollarcnt|taxvaluedollarcnt|assessmentyear|landtaxvaluedollarcnt|taxamount|taxdelinquencyflag|taxdelinquencyyear|censustractandblock|\n",
            "+--------+---------------------+------------------------+------------+-----------+----------+-------------------+---------------------+-----------------+----------+------------------------+----------------------------+--------------------+--------------------+--------------------+--------------------+-------------------+----+------------+-----------+------------+---------------+--------------+---------------------+--------+----------+-----------------+-------+-----------+------------+-----------+-----------+-------------------------+---------------------+------------------+----------------------+------------+--------------+--------------------+-----------+-------+-----------+-------------------+----------------------+-------+------------------+------------------+---------+---------------+-------------+--------------------------+-----------------+--------------+---------------------+---------+------------------+------------------+-------------------+\n",
            "|10754147|                 null|                    null|        null|        0.0|       0.0|               null|                 null|             null|      null|                    null|                        null|                null|                null|                null|                null|               null|6037|        null|       null|        null|           null|          null|                 null|34144442|-118654084|          85768.0|   null|       null|        null|       null|       null|                     010D|                  269|              null|        6.0378002041E7|       37688|          3101|                null|      96337|    0.0|       null|               null|                  null|   null|              null|              null|     null|           null|         null|                      null|              9.0|          2015|                  9.0|     null|              null|              null|               null|\n",
            "|10759547|                 null|                    null|        null|        0.0|       0.0|               null|                 null|             null|      null|                    null|                        null|                null|                null|                null|                null|               null|6037|        null|       null|        null|           null|          null|                 null|34140430|-118625364|           4083.0|   null|       null|        null|       null|       null|                     0109|                  261|            LCA11*|     6.0378001011002E7|       37688|          3101|                null|      96337|    0.0|       null|               null|                  null|   null|              null|              null|     null|           null|         null|                      null|          27516.0|          2015|              27516.0|     null|              null|              null|               null|\n",
            "|10843547|                 null|                    null|        null|        0.0|       0.0|               null|                 null|             null|      null|                    null|                     73026.0|                null|                null|               73026|                null|               null|6037|        null|       null|        null|           null|          null|                 null|33989359|-118394633|          63085.0|   null|       null|        null|       null|       null|                     1200|                   47|              LAC2|     6.0377030012017E7|       51617|          3101|                null|      96095|    0.0|       null|               null|                  null|      2|              null|              null|     null|           null|         null|                  650756.0|        1413387.0|          2015|             762631.0| 20800.37|              null|              null|               null|\n",
            "+--------+---------------------+------------------------+------------+-----------+----------+-------------------+---------------------+-----------------+----------+------------------------+----------------------------+--------------------+--------------------+--------------------+--------------------+-------------------+----+------------+-----------+------------+---------------+--------------+---------------------+--------+----------+-----------------+-------+-----------+------------+-----------+-----------+-------------------------+---------------------+------------------+----------------------+------------+--------------+--------------------+-----------+-------+-----------+-------------------+----------------------+-------+------------------+------------------+---------+---------------+-------------+--------------------------+-----------------+--------------+---------------------+---------+------------------+------------------+-------------------+\n",
            "only showing top 3 rows\n",
            "\n"
          ]
        }
      ]
    },
    {
      "cell_type": "markdown",
      "metadata": {
        "id": "dwfeD6CSFdfy"
      },
      "source": [
        "#**1. Exploratory Data Analysis**"
      ]
    },
    {
      "cell_type": "markdown",
      "metadata": {
        "id": "W85Skqew0svD"
      },
      "source": [
        "##**1.1. Exploring the data**"
      ]
    },
    {
      "cell_type": "markdown",
      "metadata": {
        "id": "gaT_NHKo03G1"
      },
      "source": [
        "###1.1.1. How Many Records and Columns in Total?\n",
        "\n",
        "\n"
      ]
    },
    {
      "cell_type": "code",
      "metadata": {
        "colab": {
          "base_uri": "https://localhost:8080/"
        },
        "id": "JmWz8_Z0q7R0",
        "outputId": "fed6c91d-68d0-4aeb-cb42-5cf9333da1cd"
      },
      "source": [
        "# Count number of total records\n",
        "print(\"Total # of Records/Rows: \" + str(zillow_df.count()))\n",
        "\n",
        "# Count number of total columns\n",
        "print(\"Total # of Columns: \" + str(len(zillow_df.columns)))"
      ],
      "execution_count": null,
      "outputs": [
        {
          "name": "stdout",
          "output_type": "stream",
          "text": [
            "Total # of Records/Rows: 2942667\n",
            "Total # of Columns: 58\n"
          ]
        }
      ]
    },
    {
      "cell_type": "markdown",
      "metadata": {
        "id": "NlVVgRTP0_cT"
      },
      "source": [
        "###1.1.2. Column Names and Data Types"
      ]
    },
    {
      "cell_type": "code",
      "metadata": {
        "colab": {
          "base_uri": "https://localhost:8080/",
          "height": 1000
        },
        "id": "wzXGh1AtTVif",
        "outputId": "03f03563-ef05-4740-912b-26280bc9ad0e"
      },
      "source": [
        "print('Columns overview')\n",
        "pd.DataFrame(zillow_df.dtypes, columns = ['Column Name','Data type'])"
      ],
      "execution_count": null,
      "outputs": [
        {
          "name": "stdout",
          "output_type": "stream",
          "text": [
            "Columns overview\n"
          ]
        },
        {
          "data": {
            "text/html": [
              "<div>\n",
              "<style scoped>\n",
              "    .dataframe tbody tr th:only-of-type {\n",
              "        vertical-align: middle;\n",
              "    }\n",
              "\n",
              "    .dataframe tbody tr th {\n",
              "        vertical-align: top;\n",
              "    }\n",
              "\n",
              "    .dataframe thead th {\n",
              "        text-align: right;\n",
              "    }\n",
              "</style>\n",
              "<table border=\"1\" class=\"dataframe\">\n",
              "  <thead>\n",
              "    <tr style=\"text-align: right;\">\n",
              "      <th></th>\n",
              "      <th>Column Name</th>\n",
              "      <th>Data type</th>\n",
              "    </tr>\n",
              "  </thead>\n",
              "  <tbody>\n",
              "    <tr>\n",
              "      <th>0</th>\n",
              "      <td>parcelid</td>\n",
              "      <td>int</td>\n",
              "    </tr>\n",
              "    <tr>\n",
              "      <th>1</th>\n",
              "      <td>airconditioningtypeid</td>\n",
              "      <td>int</td>\n",
              "    </tr>\n",
              "    <tr>\n",
              "      <th>2</th>\n",
              "      <td>architecturalstyletypeid</td>\n",
              "      <td>int</td>\n",
              "    </tr>\n",
              "    <tr>\n",
              "      <th>3</th>\n",
              "      <td>basementsqft</td>\n",
              "      <td>int</td>\n",
              "    </tr>\n",
              "    <tr>\n",
              "      <th>4</th>\n",
              "      <td>bathroomcnt</td>\n",
              "      <td>double</td>\n",
              "    </tr>\n",
              "    <tr>\n",
              "      <th>5</th>\n",
              "      <td>bedroomcnt</td>\n",
              "      <td>double</td>\n",
              "    </tr>\n",
              "    <tr>\n",
              "      <th>6</th>\n",
              "      <td>buildingclasstypeid</td>\n",
              "      <td>int</td>\n",
              "    </tr>\n",
              "    <tr>\n",
              "      <th>7</th>\n",
              "      <td>buildingqualitytypeid</td>\n",
              "      <td>int</td>\n",
              "    </tr>\n",
              "    <tr>\n",
              "      <th>8</th>\n",
              "      <td>calculatedbathnbr</td>\n",
              "      <td>double</td>\n",
              "    </tr>\n",
              "    <tr>\n",
              "      <th>9</th>\n",
              "      <td>decktypeid</td>\n",
              "      <td>int</td>\n",
              "    </tr>\n",
              "    <tr>\n",
              "      <th>10</th>\n",
              "      <td>finishedfloor1squarefeet</td>\n",
              "      <td>int</td>\n",
              "    </tr>\n",
              "    <tr>\n",
              "      <th>11</th>\n",
              "      <td>calculatedfinishedsquarefeet</td>\n",
              "      <td>double</td>\n",
              "    </tr>\n",
              "    <tr>\n",
              "      <th>12</th>\n",
              "      <td>finishedsquarefeet12</td>\n",
              "      <td>int</td>\n",
              "    </tr>\n",
              "    <tr>\n",
              "      <th>13</th>\n",
              "      <td>finishedsquarefeet13</td>\n",
              "      <td>int</td>\n",
              "    </tr>\n",
              "    <tr>\n",
              "      <th>14</th>\n",
              "      <td>finishedsquarefeet15</td>\n",
              "      <td>int</td>\n",
              "    </tr>\n",
              "    <tr>\n",
              "      <th>15</th>\n",
              "      <td>finishedsquarefeet50</td>\n",
              "      <td>int</td>\n",
              "    </tr>\n",
              "    <tr>\n",
              "      <th>16</th>\n",
              "      <td>finishedsquarefeet6</td>\n",
              "      <td>int</td>\n",
              "    </tr>\n",
              "    <tr>\n",
              "      <th>17</th>\n",
              "      <td>fips</td>\n",
              "      <td>int</td>\n",
              "    </tr>\n",
              "    <tr>\n",
              "      <th>18</th>\n",
              "      <td>fireplacecnt</td>\n",
              "      <td>int</td>\n",
              "    </tr>\n",
              "    <tr>\n",
              "      <th>19</th>\n",
              "      <td>fullbathcnt</td>\n",
              "      <td>int</td>\n",
              "    </tr>\n",
              "    <tr>\n",
              "      <th>20</th>\n",
              "      <td>garagecarcnt</td>\n",
              "      <td>int</td>\n",
              "    </tr>\n",
              "    <tr>\n",
              "      <th>21</th>\n",
              "      <td>garagetotalsqft</td>\n",
              "      <td>int</td>\n",
              "    </tr>\n",
              "    <tr>\n",
              "      <th>22</th>\n",
              "      <td>hashottuborspa</td>\n",
              "      <td>boolean</td>\n",
              "    </tr>\n",
              "    <tr>\n",
              "      <th>23</th>\n",
              "      <td>heatingorsystemtypeid</td>\n",
              "      <td>int</td>\n",
              "    </tr>\n",
              "    <tr>\n",
              "      <th>24</th>\n",
              "      <td>latitude</td>\n",
              "      <td>int</td>\n",
              "    </tr>\n",
              "    <tr>\n",
              "      <th>25</th>\n",
              "      <td>longitude</td>\n",
              "      <td>int</td>\n",
              "    </tr>\n",
              "    <tr>\n",
              "      <th>26</th>\n",
              "      <td>lotsizesquarefeet</td>\n",
              "      <td>double</td>\n",
              "    </tr>\n",
              "    <tr>\n",
              "      <th>27</th>\n",
              "      <td>poolcnt</td>\n",
              "      <td>int</td>\n",
              "    </tr>\n",
              "    <tr>\n",
              "      <th>28</th>\n",
              "      <td>poolsizesum</td>\n",
              "      <td>int</td>\n",
              "    </tr>\n",
              "    <tr>\n",
              "      <th>29</th>\n",
              "      <td>pooltypeid10</td>\n",
              "      <td>int</td>\n",
              "    </tr>\n",
              "    <tr>\n",
              "      <th>30</th>\n",
              "      <td>pooltypeid2</td>\n",
              "      <td>int</td>\n",
              "    </tr>\n",
              "    <tr>\n",
              "      <th>31</th>\n",
              "      <td>pooltypeid7</td>\n",
              "      <td>int</td>\n",
              "    </tr>\n",
              "    <tr>\n",
              "      <th>32</th>\n",
              "      <td>propertycountylandusecode</td>\n",
              "      <td>string</td>\n",
              "    </tr>\n",
              "    <tr>\n",
              "      <th>33</th>\n",
              "      <td>propertylandusetypeid</td>\n",
              "      <td>int</td>\n",
              "    </tr>\n",
              "    <tr>\n",
              "      <th>34</th>\n",
              "      <td>propertyzoningdesc</td>\n",
              "      <td>string</td>\n",
              "    </tr>\n",
              "    <tr>\n",
              "      <th>35</th>\n",
              "      <td>rawcensustractandblock</td>\n",
              "      <td>double</td>\n",
              "    </tr>\n",
              "    <tr>\n",
              "      <th>36</th>\n",
              "      <td>regionidcity</td>\n",
              "      <td>int</td>\n",
              "    </tr>\n",
              "    <tr>\n",
              "      <th>37</th>\n",
              "      <td>regionidcounty</td>\n",
              "      <td>int</td>\n",
              "    </tr>\n",
              "    <tr>\n",
              "      <th>38</th>\n",
              "      <td>regionidneighborhood</td>\n",
              "      <td>int</td>\n",
              "    </tr>\n",
              "    <tr>\n",
              "      <th>39</th>\n",
              "      <td>regionidzip</td>\n",
              "      <td>int</td>\n",
              "    </tr>\n",
              "    <tr>\n",
              "      <th>40</th>\n",
              "      <td>roomcnt</td>\n",
              "      <td>double</td>\n",
              "    </tr>\n",
              "    <tr>\n",
              "      <th>41</th>\n",
              "      <td>storytypeid</td>\n",
              "      <td>int</td>\n",
              "    </tr>\n",
              "    <tr>\n",
              "      <th>42</th>\n",
              "      <td>threequarterbathnbr</td>\n",
              "      <td>int</td>\n",
              "    </tr>\n",
              "    <tr>\n",
              "      <th>43</th>\n",
              "      <td>typeconstructiontypeid</td>\n",
              "      <td>int</td>\n",
              "    </tr>\n",
              "    <tr>\n",
              "      <th>44</th>\n",
              "      <td>unitcnt</td>\n",
              "      <td>int</td>\n",
              "    </tr>\n",
              "    <tr>\n",
              "      <th>45</th>\n",
              "      <td>yardbuildingsqft17</td>\n",
              "      <td>int</td>\n",
              "    </tr>\n",
              "    <tr>\n",
              "      <th>46</th>\n",
              "      <td>yardbuildingsqft26</td>\n",
              "      <td>int</td>\n",
              "    </tr>\n",
              "    <tr>\n",
              "      <th>47</th>\n",
              "      <td>yearbuilt</td>\n",
              "      <td>double</td>\n",
              "    </tr>\n",
              "    <tr>\n",
              "      <th>48</th>\n",
              "      <td>numberofstories</td>\n",
              "      <td>int</td>\n",
              "    </tr>\n",
              "    <tr>\n",
              "      <th>49</th>\n",
              "      <td>fireplaceflag</td>\n",
              "      <td>boolean</td>\n",
              "    </tr>\n",
              "    <tr>\n",
              "      <th>50</th>\n",
              "      <td>structuretaxvaluedollarcnt</td>\n",
              "      <td>double</td>\n",
              "    </tr>\n",
              "    <tr>\n",
              "      <th>51</th>\n",
              "      <td>taxvaluedollarcnt</td>\n",
              "      <td>double</td>\n",
              "    </tr>\n",
              "    <tr>\n",
              "      <th>52</th>\n",
              "      <td>assessmentyear</td>\n",
              "      <td>int</td>\n",
              "    </tr>\n",
              "    <tr>\n",
              "      <th>53</th>\n",
              "      <td>landtaxvaluedollarcnt</td>\n",
              "      <td>double</td>\n",
              "    </tr>\n",
              "    <tr>\n",
              "      <th>54</th>\n",
              "      <td>taxamount</td>\n",
              "      <td>double</td>\n",
              "    </tr>\n",
              "    <tr>\n",
              "      <th>55</th>\n",
              "      <td>taxdelinquencyflag</td>\n",
              "      <td>string</td>\n",
              "    </tr>\n",
              "    <tr>\n",
              "      <th>56</th>\n",
              "      <td>taxdelinquencyyear</td>\n",
              "      <td>int</td>\n",
              "    </tr>\n",
              "    <tr>\n",
              "      <th>57</th>\n",
              "      <td>censustractandblock</td>\n",
              "      <td>bigint</td>\n",
              "    </tr>\n",
              "  </tbody>\n",
              "</table>\n",
              "</div>"
            ],
            "text/plain": [
              "                     Column Name Data type\n",
              "0                       parcelid       int\n",
              "1          airconditioningtypeid       int\n",
              "2       architecturalstyletypeid       int\n",
              "3                   basementsqft       int\n",
              "4                    bathroomcnt    double\n",
              "5                     bedroomcnt    double\n",
              "6            buildingclasstypeid       int\n",
              "7          buildingqualitytypeid       int\n",
              "8              calculatedbathnbr    double\n",
              "9                     decktypeid       int\n",
              "10      finishedfloor1squarefeet       int\n",
              "11  calculatedfinishedsquarefeet    double\n",
              "12          finishedsquarefeet12       int\n",
              "13          finishedsquarefeet13       int\n",
              "14          finishedsquarefeet15       int\n",
              "15          finishedsquarefeet50       int\n",
              "16           finishedsquarefeet6       int\n",
              "17                          fips       int\n",
              "18                  fireplacecnt       int\n",
              "19                   fullbathcnt       int\n",
              "20                  garagecarcnt       int\n",
              "21               garagetotalsqft       int\n",
              "22                hashottuborspa   boolean\n",
              "23         heatingorsystemtypeid       int\n",
              "24                      latitude       int\n",
              "25                     longitude       int\n",
              "26             lotsizesquarefeet    double\n",
              "27                       poolcnt       int\n",
              "28                   poolsizesum       int\n",
              "29                  pooltypeid10       int\n",
              "30                   pooltypeid2       int\n",
              "31                   pooltypeid7       int\n",
              "32     propertycountylandusecode    string\n",
              "33         propertylandusetypeid       int\n",
              "34            propertyzoningdesc    string\n",
              "35        rawcensustractandblock    double\n",
              "36                  regionidcity       int\n",
              "37                regionidcounty       int\n",
              "38          regionidneighborhood       int\n",
              "39                   regionidzip       int\n",
              "40                       roomcnt    double\n",
              "41                   storytypeid       int\n",
              "42           threequarterbathnbr       int\n",
              "43        typeconstructiontypeid       int\n",
              "44                       unitcnt       int\n",
              "45            yardbuildingsqft17       int\n",
              "46            yardbuildingsqft26       int\n",
              "47                     yearbuilt    double\n",
              "48               numberofstories       int\n",
              "49                 fireplaceflag   boolean\n",
              "50    structuretaxvaluedollarcnt    double\n",
              "51             taxvaluedollarcnt    double\n",
              "52                assessmentyear       int\n",
              "53         landtaxvaluedollarcnt    double\n",
              "54                     taxamount    double\n",
              "55            taxdelinquencyflag    string\n",
              "56            taxdelinquencyyear       int\n",
              "57           censustractandblock    bigint"
            ]
          },
          "execution_count": 15,
          "metadata": {},
          "output_type": "execute_result"
        }
      ]
    },
    {
      "cell_type": "markdown",
      "metadata": {
        "id": "eJMHbFP2Ew_A"
      },
      "source": [
        "###**1.1.3. Missing Value Percentages in Each Column**\n",
        "\n",
        "\n"
      ]
    },
    {
      "cell_type": "code",
      "metadata": {
        "colab": {
          "base_uri": "https://localhost:8080/"
        },
        "id": "p78rd-yY8rmg",
        "outputId": "e9bbf739-4d5e-4f1e-f7d1-7773affe802c"
      },
      "source": [
        "# Calcuate missing values % for each column\n",
        "perc_missing_df = zillow_df.select([(count(when(isnull(c) | col(c).isNull(), c))/count(lit(1))).alias(c) for c in zillow_df.columns])\n",
        "\n",
        "perc_missing_df.show()"
      ],
      "execution_count": null,
      "outputs": [
        {
          "name": "stdout",
          "output_type": "stream",
          "text": [
            "+--------+---------------------+------------------------+------------------+-------------------+-------------------+-------------------+---------------------+--------------------+------------------+------------------------+----------------------------+--------------------+--------------------+--------------------+--------------------+-------------------+----+-----------------+--------------------+----------------+----------------+------------------+---------------------+--------+---------+-------------------+------------------+------------------+------------------+------------------+------------------+-------------------------+---------------------+-------------------+----------------------+-------------------+--------------+--------------------+--------------------+--------------------+------------------+-------------------+----------------------+----------------+------------------+------------------+-------------------+------------------+------------------+--------------------------+-----------------+--------------+---------------------+--------------------+------------------+------------------+--------------------+\n",
            "|parcelid|airconditioningtypeid|architecturalstyletypeid|      basementsqft|        bathroomcnt|         bedroomcnt|buildingclasstypeid|buildingqualitytypeid|   calculatedbathnbr|        decktypeid|finishedfloor1squarefeet|calculatedfinishedsquarefeet|finishedsquarefeet12|finishedsquarefeet13|finishedsquarefeet15|finishedsquarefeet50|finishedsquarefeet6|fips|     fireplacecnt|         fullbathcnt|    garagecarcnt| garagetotalsqft|    hashottuborspa|heatingorsystemtypeid|latitude|longitude|  lotsizesquarefeet|           poolcnt|       poolsizesum|      pooltypeid10|       pooltypeid2|       pooltypeid7|propertycountylandusecode|propertylandusetypeid| propertyzoningdesc|rawcensustractandblock|       regionidcity|regionidcounty|regionidneighborhood|         regionidzip|             roomcnt|       storytypeid|threequarterbathnbr|typeconstructiontypeid|         unitcnt|yardbuildingsqft17|yardbuildingsqft26|          yearbuilt|   numberofstories|     fireplaceflag|structuretaxvaluedollarcnt|taxvaluedollarcnt|assessmentyear|landtaxvaluedollarcnt|           taxamount|taxdelinquencyflag|taxdelinquencyyear| censustractandblock|\n",
            "+--------+---------------------+------------------------+------------------+-------------------+-------------------+-------------------+---------------------+--------------------+------------------+------------------------+----------------------------+--------------------+--------------------+--------------------+--------------------+-------------------+----+-----------------+--------------------+----------------+----------------+------------------+---------------------+--------+---------+-------------------+------------------+------------------+------------------+------------------+------------------+-------------------------+---------------------+-------------------+----------------------+-------------------+--------------+--------------------+--------------------+--------------------+------------------+-------------------+----------------------+----------------+------------------+------------------+-------------------+------------------+------------------+--------------------------+-----------------+--------------+---------------------+--------------------+------------------+------------------+--------------------+\n",
            "|     0.0|   0.7242304345004039|      0.9979403038128337|0.9994467603707793|8.49569455191498E-6|4.41776116699579E-6| 0.9957130725291037|   0.3413104506897994|0.029415152988768352|0.9941909838931826|      0.9311172484008554|        0.014350247581530633| 0.08780368284960548|  0.9988439058853754|  0.9351781903966708|  0.9311172484008554| 0.9925234489665328| 0.0|0.893760999800521|0.029415152988768352|0.69984813096419|0.69984813096419|0.9765478051033297|   0.3861809712074115|     0.0|      0.0|0.07954586774514412|0.8241299474252438|0.9904984152131383|0.9874474413856545|0.9891003637176752|0.8350295837075686|     2.660851533659772E-4|                  0.0|0.32780127686890836|                   0.0|0.01710727037751808|           0.0|  0.6098926585984754|8.359763439084341E-4|1.291345571891077E-5|0.9994481196819076| 0.8941001479270335|    0.9977071819543292|0.32805682736103|0.9726958571934915|0.9991008156886253|0.01604700769743909|0.7682248789958225|0.9982454691611385|      0.004224738986776282|              0.0|           0.0| 0.008557883036034998|0.004282509709729303|0.9808163818739939|0.9808157022184297|0.012592998120412537|\n",
            "+--------+---------------------+------------------------+------------------+-------------------+-------------------+-------------------+---------------------+--------------------+------------------+------------------------+----------------------------+--------------------+--------------------+--------------------+--------------------+-------------------+----+-----------------+--------------------+----------------+----------------+------------------+---------------------+--------+---------+-------------------+------------------+------------------+------------------+------------------+------------------+-------------------------+---------------------+-------------------+----------------------+-------------------+--------------+--------------------+--------------------+--------------------+------------------+-------------------+----------------------+----------------+------------------+------------------+-------------------+------------------+------------------+--------------------------+-----------------+--------------+---------------------+--------------------+------------------+------------------+--------------------+\n",
            "\n"
          ]
        }
      ]
    },
    {
      "cell_type": "code",
      "metadata": {
        "colab": {
          "base_uri": "https://localhost:8080/",
          "height": 793
        },
        "id": "ypnTDwe5J2q3",
        "outputId": "138cb083-68f9-4a10-c3cc-bd953c31b3f1"
      },
      "source": [
        "# Convert to pandas DF so we can transpose the DF \n",
        "perc_missing_pd = perc_missing_df.select(\"*\").toPandas().transpose().rename(columns={0: \"missing_perc\"}) \n",
        "\n",
        "# Keep only the columns with > 0.8 missing values and sort by descending order\n",
        "over_80_missing_pd = perc_missing_pd.loc[(perc_missing_pd[\"missing_perc\"] >= 0.8)].sort_values(by='missing_perc', ascending=False)\n",
        "\n",
        "over_80_missing_pd"
      ],
      "execution_count": null,
      "outputs": [
        {
          "data": {
            "text/html": [
              "<div>\n",
              "<style scoped>\n",
              "    .dataframe tbody tr th:only-of-type {\n",
              "        vertical-align: middle;\n",
              "    }\n",
              "\n",
              "    .dataframe tbody tr th {\n",
              "        vertical-align: top;\n",
              "    }\n",
              "\n",
              "    .dataframe thead th {\n",
              "        text-align: right;\n",
              "    }\n",
              "</style>\n",
              "<table border=\"1\" class=\"dataframe\">\n",
              "  <thead>\n",
              "    <tr style=\"text-align: right;\">\n",
              "      <th></th>\n",
              "      <th>missing_perc</th>\n",
              "    </tr>\n",
              "  </thead>\n",
              "  <tbody>\n",
              "    <tr>\n",
              "      <th>storytypeid</th>\n",
              "      <td>0.999448</td>\n",
              "    </tr>\n",
              "    <tr>\n",
              "      <th>basementsqft</th>\n",
              "      <td>0.999447</td>\n",
              "    </tr>\n",
              "    <tr>\n",
              "      <th>yardbuildingsqft26</th>\n",
              "      <td>0.999101</td>\n",
              "    </tr>\n",
              "    <tr>\n",
              "      <th>finishedsquarefeet13</th>\n",
              "      <td>0.998844</td>\n",
              "    </tr>\n",
              "    <tr>\n",
              "      <th>fireplaceflag</th>\n",
              "      <td>0.998245</td>\n",
              "    </tr>\n",
              "    <tr>\n",
              "      <th>architecturalstyletypeid</th>\n",
              "      <td>0.997940</td>\n",
              "    </tr>\n",
              "    <tr>\n",
              "      <th>typeconstructiontypeid</th>\n",
              "      <td>0.997707</td>\n",
              "    </tr>\n",
              "    <tr>\n",
              "      <th>buildingclasstypeid</th>\n",
              "      <td>0.995713</td>\n",
              "    </tr>\n",
              "    <tr>\n",
              "      <th>decktypeid</th>\n",
              "      <td>0.994191</td>\n",
              "    </tr>\n",
              "    <tr>\n",
              "      <th>finishedsquarefeet6</th>\n",
              "      <td>0.992523</td>\n",
              "    </tr>\n",
              "    <tr>\n",
              "      <th>poolsizesum</th>\n",
              "      <td>0.990498</td>\n",
              "    </tr>\n",
              "    <tr>\n",
              "      <th>pooltypeid2</th>\n",
              "      <td>0.989100</td>\n",
              "    </tr>\n",
              "    <tr>\n",
              "      <th>pooltypeid10</th>\n",
              "      <td>0.987447</td>\n",
              "    </tr>\n",
              "    <tr>\n",
              "      <th>taxdelinquencyflag</th>\n",
              "      <td>0.980816</td>\n",
              "    </tr>\n",
              "    <tr>\n",
              "      <th>taxdelinquencyyear</th>\n",
              "      <td>0.980816</td>\n",
              "    </tr>\n",
              "    <tr>\n",
              "      <th>hashottuborspa</th>\n",
              "      <td>0.976548</td>\n",
              "    </tr>\n",
              "    <tr>\n",
              "      <th>yardbuildingsqft17</th>\n",
              "      <td>0.972696</td>\n",
              "    </tr>\n",
              "    <tr>\n",
              "      <th>finishedsquarefeet15</th>\n",
              "      <td>0.935178</td>\n",
              "    </tr>\n",
              "    <tr>\n",
              "      <th>finishedsquarefeet50</th>\n",
              "      <td>0.931117</td>\n",
              "    </tr>\n",
              "    <tr>\n",
              "      <th>finishedfloor1squarefeet</th>\n",
              "      <td>0.931117</td>\n",
              "    </tr>\n",
              "    <tr>\n",
              "      <th>threequarterbathnbr</th>\n",
              "      <td>0.894100</td>\n",
              "    </tr>\n",
              "    <tr>\n",
              "      <th>fireplacecnt</th>\n",
              "      <td>0.893761</td>\n",
              "    </tr>\n",
              "    <tr>\n",
              "      <th>pooltypeid7</th>\n",
              "      <td>0.835030</td>\n",
              "    </tr>\n",
              "    <tr>\n",
              "      <th>poolcnt</th>\n",
              "      <td>0.824130</td>\n",
              "    </tr>\n",
              "  </tbody>\n",
              "</table>\n",
              "</div>"
            ],
            "text/plain": [
              "                          missing_perc\n",
              "storytypeid                   0.999448\n",
              "basementsqft                  0.999447\n",
              "yardbuildingsqft26            0.999101\n",
              "finishedsquarefeet13          0.998844\n",
              "fireplaceflag                 0.998245\n",
              "architecturalstyletypeid      0.997940\n",
              "typeconstructiontypeid        0.997707\n",
              "buildingclasstypeid           0.995713\n",
              "decktypeid                    0.994191\n",
              "finishedsquarefeet6           0.992523\n",
              "poolsizesum                   0.990498\n",
              "pooltypeid2                   0.989100\n",
              "pooltypeid10                  0.987447\n",
              "taxdelinquencyflag            0.980816\n",
              "taxdelinquencyyear            0.980816\n",
              "hashottuborspa                0.976548\n",
              "yardbuildingsqft17            0.972696\n",
              "finishedsquarefeet15          0.935178\n",
              "finishedsquarefeet50          0.931117\n",
              "finishedfloor1squarefeet      0.931117\n",
              "threequarterbathnbr           0.894100\n",
              "fireplacecnt                  0.893761\n",
              "pooltypeid7                   0.835030\n",
              "poolcnt                       0.824130"
            ]
          },
          "execution_count": 17,
          "metadata": {},
          "output_type": "execute_result"
        }
      ]
    },
    {
      "cell_type": "markdown",
      "metadata": {
        "id": "yUv4l2qcSqT7"
      },
      "source": [
        "##**1.2. Exploring The Dataset Using Graphs**"
      ]
    },
    {
      "cell_type": "markdown",
      "metadata": {
        "id": "XNjXIstL0JwN"
      },
      "source": [
        "Read CSV as Pandas DF so we can plot graphs using MatPlotLib"
      ]
    },
    {
      "cell_type": "code",
      "metadata": {
        "id": "nTUrqKBPdQij"
      },
      "source": [
        "# Convert to Pandas DF so we can plot graphs\n",
        "raw_zillow_pdDF = pd.read_csv('properties_2016.csv', header = 0)\n",
        "\n",
        "# Remove rows where taxvaluedollarcnt is null, since this is going to be our dependent variable\n",
        "zillow_pdDF = raw_zillow_pdDF.dropna(subset=[\"taxvaluedollarcnt\"])"
      ],
      "execution_count": null,
      "outputs": []
    },
    {
      "cell_type": "code",
      "metadata": {
        "colab": {
          "base_uri": "https://localhost:8080/",
          "height": 439
        },
        "id": "4M5ypfPCzkKO",
        "outputId": "9e01a3ec-bdb9-4b75-b8de-d1724c3b0d92"
      },
      "source": [
        "zillow_pdDF"
      ],
      "execution_count": null,
      "outputs": [
        {
          "data": {
            "text/html": [
              "<div>\n",
              "<style scoped>\n",
              "    .dataframe tbody tr th:only-of-type {\n",
              "        vertical-align: middle;\n",
              "    }\n",
              "\n",
              "    .dataframe tbody tr th {\n",
              "        vertical-align: top;\n",
              "    }\n",
              "\n",
              "    .dataframe thead th {\n",
              "        text-align: right;\n",
              "    }\n",
              "</style>\n",
              "<table border=\"1\" class=\"dataframe\">\n",
              "  <thead>\n",
              "    <tr style=\"text-align: right;\">\n",
              "      <th></th>\n",
              "      <th>parcelid</th>\n",
              "      <th>airconditioningtypeid</th>\n",
              "      <th>architecturalstyletypeid</th>\n",
              "      <th>basementsqft</th>\n",
              "      <th>bathroomcnt</th>\n",
              "      <th>bedroomcnt</th>\n",
              "      <th>buildingclasstypeid</th>\n",
              "      <th>buildingqualitytypeid</th>\n",
              "      <th>calculatedbathnbr</th>\n",
              "      <th>decktypeid</th>\n",
              "      <th>finishedfloor1squarefeet</th>\n",
              "      <th>calculatedfinishedsquarefeet</th>\n",
              "      <th>finishedsquarefeet12</th>\n",
              "      <th>finishedsquarefeet13</th>\n",
              "      <th>finishedsquarefeet15</th>\n",
              "      <th>finishedsquarefeet50</th>\n",
              "      <th>finishedsquarefeet6</th>\n",
              "      <th>fips</th>\n",
              "      <th>fireplacecnt</th>\n",
              "      <th>fullbathcnt</th>\n",
              "      <th>garagecarcnt</th>\n",
              "      <th>garagetotalsqft</th>\n",
              "      <th>hashottuborspa</th>\n",
              "      <th>heatingorsystemtypeid</th>\n",
              "      <th>latitude</th>\n",
              "      <th>longitude</th>\n",
              "      <th>lotsizesquarefeet</th>\n",
              "      <th>poolcnt</th>\n",
              "      <th>poolsizesum</th>\n",
              "      <th>pooltypeid10</th>\n",
              "      <th>pooltypeid2</th>\n",
              "      <th>pooltypeid7</th>\n",
              "      <th>propertycountylandusecode</th>\n",
              "      <th>propertylandusetypeid</th>\n",
              "      <th>propertyzoningdesc</th>\n",
              "      <th>rawcensustractandblock</th>\n",
              "      <th>regionidcity</th>\n",
              "      <th>regionidcounty</th>\n",
              "      <th>regionidneighborhood</th>\n",
              "      <th>regionidzip</th>\n",
              "      <th>roomcnt</th>\n",
              "      <th>storytypeid</th>\n",
              "      <th>threequarterbathnbr</th>\n",
              "      <th>typeconstructiontypeid</th>\n",
              "      <th>unitcnt</th>\n",
              "      <th>yardbuildingsqft17</th>\n",
              "      <th>yardbuildingsqft26</th>\n",
              "      <th>yearbuilt</th>\n",
              "      <th>numberofstories</th>\n",
              "      <th>fireplaceflag</th>\n",
              "      <th>structuretaxvaluedollarcnt</th>\n",
              "      <th>taxvaluedollarcnt</th>\n",
              "      <th>assessmentyear</th>\n",
              "      <th>landtaxvaluedollarcnt</th>\n",
              "      <th>taxamount</th>\n",
              "      <th>taxdelinquencyflag</th>\n",
              "      <th>taxdelinquencyyear</th>\n",
              "      <th>censustractandblock</th>\n",
              "    </tr>\n",
              "  </thead>\n",
              "  <tbody>\n",
              "    <tr>\n",
              "      <th>0</th>\n",
              "      <td>10754147</td>\n",
              "      <td>NaN</td>\n",
              "      <td>NaN</td>\n",
              "      <td>NaN</td>\n",
              "      <td>0.0</td>\n",
              "      <td>0.0</td>\n",
              "      <td>NaN</td>\n",
              "      <td>NaN</td>\n",
              "      <td>NaN</td>\n",
              "      <td>NaN</td>\n",
              "      <td>NaN</td>\n",
              "      <td>NaN</td>\n",
              "      <td>NaN</td>\n",
              "      <td>NaN</td>\n",
              "      <td>NaN</td>\n",
              "      <td>NaN</td>\n",
              "      <td>NaN</td>\n",
              "      <td>6037.0</td>\n",
              "      <td>NaN</td>\n",
              "      <td>NaN</td>\n",
              "      <td>NaN</td>\n",
              "      <td>NaN</td>\n",
              "      <td>NaN</td>\n",
              "      <td>NaN</td>\n",
              "      <td>34144442.0</td>\n",
              "      <td>-118654084.0</td>\n",
              "      <td>85768.0</td>\n",
              "      <td>NaN</td>\n",
              "      <td>NaN</td>\n",
              "      <td>NaN</td>\n",
              "      <td>NaN</td>\n",
              "      <td>NaN</td>\n",
              "      <td>010D</td>\n",
              "      <td>269.0</td>\n",
              "      <td>NaN</td>\n",
              "      <td>6.037800e+07</td>\n",
              "      <td>37688.0</td>\n",
              "      <td>3101.0</td>\n",
              "      <td>NaN</td>\n",
              "      <td>96337.0</td>\n",
              "      <td>0.0</td>\n",
              "      <td>NaN</td>\n",
              "      <td>NaN</td>\n",
              "      <td>NaN</td>\n",
              "      <td>NaN</td>\n",
              "      <td>NaN</td>\n",
              "      <td>NaN</td>\n",
              "      <td>NaN</td>\n",
              "      <td>NaN</td>\n",
              "      <td>NaN</td>\n",
              "      <td>NaN</td>\n",
              "      <td>9.0</td>\n",
              "      <td>2015.0</td>\n",
              "      <td>9.0</td>\n",
              "      <td>NaN</td>\n",
              "      <td>NaN</td>\n",
              "      <td>NaN</td>\n",
              "      <td>NaN</td>\n",
              "    </tr>\n",
              "    <tr>\n",
              "      <th>1</th>\n",
              "      <td>10759547</td>\n",
              "      <td>NaN</td>\n",
              "      <td>NaN</td>\n",
              "      <td>NaN</td>\n",
              "      <td>0.0</td>\n",
              "      <td>0.0</td>\n",
              "      <td>NaN</td>\n",
              "      <td>NaN</td>\n",
              "      <td>NaN</td>\n",
              "      <td>NaN</td>\n",
              "      <td>NaN</td>\n",
              "      <td>NaN</td>\n",
              "      <td>NaN</td>\n",
              "      <td>NaN</td>\n",
              "      <td>NaN</td>\n",
              "      <td>NaN</td>\n",
              "      <td>NaN</td>\n",
              "      <td>6037.0</td>\n",
              "      <td>NaN</td>\n",
              "      <td>NaN</td>\n",
              "      <td>NaN</td>\n",
              "      <td>NaN</td>\n",
              "      <td>NaN</td>\n",
              "      <td>NaN</td>\n",
              "      <td>34140430.0</td>\n",
              "      <td>-118625364.0</td>\n",
              "      <td>4083.0</td>\n",
              "      <td>NaN</td>\n",
              "      <td>NaN</td>\n",
              "      <td>NaN</td>\n",
              "      <td>NaN</td>\n",
              "      <td>NaN</td>\n",
              "      <td>0109</td>\n",
              "      <td>261.0</td>\n",
              "      <td>LCA11*</td>\n",
              "      <td>6.037800e+07</td>\n",
              "      <td>37688.0</td>\n",
              "      <td>3101.0</td>\n",
              "      <td>NaN</td>\n",
              "      <td>96337.0</td>\n",
              "      <td>0.0</td>\n",
              "      <td>NaN</td>\n",
              "      <td>NaN</td>\n",
              "      <td>NaN</td>\n",
              "      <td>NaN</td>\n",
              "      <td>NaN</td>\n",
              "      <td>NaN</td>\n",
              "      <td>NaN</td>\n",
              "      <td>NaN</td>\n",
              "      <td>NaN</td>\n",
              "      <td>NaN</td>\n",
              "      <td>27516.0</td>\n",
              "      <td>2015.0</td>\n",
              "      <td>27516.0</td>\n",
              "      <td>NaN</td>\n",
              "      <td>NaN</td>\n",
              "      <td>NaN</td>\n",
              "      <td>NaN</td>\n",
              "    </tr>\n",
              "    <tr>\n",
              "      <th>2</th>\n",
              "      <td>10843547</td>\n",
              "      <td>NaN</td>\n",
              "      <td>NaN</td>\n",
              "      <td>NaN</td>\n",
              "      <td>0.0</td>\n",
              "      <td>0.0</td>\n",
              "      <td>NaN</td>\n",
              "      <td>NaN</td>\n",
              "      <td>NaN</td>\n",
              "      <td>NaN</td>\n",
              "      <td>NaN</td>\n",
              "      <td>73026.0</td>\n",
              "      <td>NaN</td>\n",
              "      <td>NaN</td>\n",
              "      <td>73026.0</td>\n",
              "      <td>NaN</td>\n",
              "      <td>NaN</td>\n",
              "      <td>6037.0</td>\n",
              "      <td>NaN</td>\n",
              "      <td>NaN</td>\n",
              "      <td>NaN</td>\n",
              "      <td>NaN</td>\n",
              "      <td>NaN</td>\n",
              "      <td>NaN</td>\n",
              "      <td>33989359.0</td>\n",
              "      <td>-118394633.0</td>\n",
              "      <td>63085.0</td>\n",
              "      <td>NaN</td>\n",
              "      <td>NaN</td>\n",
              "      <td>NaN</td>\n",
              "      <td>NaN</td>\n",
              "      <td>NaN</td>\n",
              "      <td>1200</td>\n",
              "      <td>47.0</td>\n",
              "      <td>LAC2</td>\n",
              "      <td>6.037703e+07</td>\n",
              "      <td>51617.0</td>\n",
              "      <td>3101.0</td>\n",
              "      <td>NaN</td>\n",
              "      <td>96095.0</td>\n",
              "      <td>0.0</td>\n",
              "      <td>NaN</td>\n",
              "      <td>NaN</td>\n",
              "      <td>NaN</td>\n",
              "      <td>2.0</td>\n",
              "      <td>NaN</td>\n",
              "      <td>NaN</td>\n",
              "      <td>NaN</td>\n",
              "      <td>NaN</td>\n",
              "      <td>NaN</td>\n",
              "      <td>650756.0</td>\n",
              "      <td>1413387.0</td>\n",
              "      <td>2015.0</td>\n",
              "      <td>762631.0</td>\n",
              "      <td>20800.37</td>\n",
              "      <td>NaN</td>\n",
              "      <td>NaN</td>\n",
              "      <td>NaN</td>\n",
              "    </tr>\n",
              "    <tr>\n",
              "      <th>3</th>\n",
              "      <td>10859147</td>\n",
              "      <td>NaN</td>\n",
              "      <td>NaN</td>\n",
              "      <td>NaN</td>\n",
              "      <td>0.0</td>\n",
              "      <td>0.0</td>\n",
              "      <td>3.0</td>\n",
              "      <td>7.0</td>\n",
              "      <td>NaN</td>\n",
              "      <td>NaN</td>\n",
              "      <td>NaN</td>\n",
              "      <td>5068.0</td>\n",
              "      <td>NaN</td>\n",
              "      <td>NaN</td>\n",
              "      <td>5068.0</td>\n",
              "      <td>NaN</td>\n",
              "      <td>NaN</td>\n",
              "      <td>6037.0</td>\n",
              "      <td>NaN</td>\n",
              "      <td>NaN</td>\n",
              "      <td>NaN</td>\n",
              "      <td>NaN</td>\n",
              "      <td>NaN</td>\n",
              "      <td>NaN</td>\n",
              "      <td>34148863.0</td>\n",
              "      <td>-118437206.0</td>\n",
              "      <td>7521.0</td>\n",
              "      <td>NaN</td>\n",
              "      <td>NaN</td>\n",
              "      <td>NaN</td>\n",
              "      <td>NaN</td>\n",
              "      <td>NaN</td>\n",
              "      <td>1200</td>\n",
              "      <td>47.0</td>\n",
              "      <td>LAC2</td>\n",
              "      <td>6.037141e+07</td>\n",
              "      <td>12447.0</td>\n",
              "      <td>3101.0</td>\n",
              "      <td>27080.0</td>\n",
              "      <td>96424.0</td>\n",
              "      <td>0.0</td>\n",
              "      <td>NaN</td>\n",
              "      <td>NaN</td>\n",
              "      <td>NaN</td>\n",
              "      <td>NaN</td>\n",
              "      <td>NaN</td>\n",
              "      <td>NaN</td>\n",
              "      <td>1948.0</td>\n",
              "      <td>1.0</td>\n",
              "      <td>NaN</td>\n",
              "      <td>571346.0</td>\n",
              "      <td>1156834.0</td>\n",
              "      <td>2015.0</td>\n",
              "      <td>585488.0</td>\n",
              "      <td>14557.57</td>\n",
              "      <td>NaN</td>\n",
              "      <td>NaN</td>\n",
              "      <td>NaN</td>\n",
              "    </tr>\n",
              "    <tr>\n",
              "      <th>4</th>\n",
              "      <td>10879947</td>\n",
              "      <td>NaN</td>\n",
              "      <td>NaN</td>\n",
              "      <td>NaN</td>\n",
              "      <td>0.0</td>\n",
              "      <td>0.0</td>\n",
              "      <td>4.0</td>\n",
              "      <td>NaN</td>\n",
              "      <td>NaN</td>\n",
              "      <td>NaN</td>\n",
              "      <td>NaN</td>\n",
              "      <td>1776.0</td>\n",
              "      <td>NaN</td>\n",
              "      <td>NaN</td>\n",
              "      <td>1776.0</td>\n",
              "      <td>NaN</td>\n",
              "      <td>NaN</td>\n",
              "      <td>6037.0</td>\n",
              "      <td>NaN</td>\n",
              "      <td>NaN</td>\n",
              "      <td>NaN</td>\n",
              "      <td>NaN</td>\n",
              "      <td>NaN</td>\n",
              "      <td>NaN</td>\n",
              "      <td>34194168.0</td>\n",
              "      <td>-118385816.0</td>\n",
              "      <td>8512.0</td>\n",
              "      <td>NaN</td>\n",
              "      <td>NaN</td>\n",
              "      <td>NaN</td>\n",
              "      <td>NaN</td>\n",
              "      <td>NaN</td>\n",
              "      <td>1210</td>\n",
              "      <td>31.0</td>\n",
              "      <td>LAM1</td>\n",
              "      <td>6.037123e+07</td>\n",
              "      <td>12447.0</td>\n",
              "      <td>3101.0</td>\n",
              "      <td>46795.0</td>\n",
              "      <td>96450.0</td>\n",
              "      <td>0.0</td>\n",
              "      <td>NaN</td>\n",
              "      <td>NaN</td>\n",
              "      <td>NaN</td>\n",
              "      <td>1.0</td>\n",
              "      <td>NaN</td>\n",
              "      <td>NaN</td>\n",
              "      <td>1947.0</td>\n",
              "      <td>NaN</td>\n",
              "      <td>NaN</td>\n",
              "      <td>193796.0</td>\n",
              "      <td>433491.0</td>\n",
              "      <td>2015.0</td>\n",
              "      <td>239695.0</td>\n",
              "      <td>5725.17</td>\n",
              "      <td>NaN</td>\n",
              "      <td>NaN</td>\n",
              "      <td>NaN</td>\n",
              "    </tr>\n",
              "    <tr>\n",
              "      <th>...</th>\n",
              "      <td>...</td>\n",
              "      <td>...</td>\n",
              "      <td>...</td>\n",
              "      <td>...</td>\n",
              "      <td>...</td>\n",
              "      <td>...</td>\n",
              "      <td>...</td>\n",
              "      <td>...</td>\n",
              "      <td>...</td>\n",
              "      <td>...</td>\n",
              "      <td>...</td>\n",
              "      <td>...</td>\n",
              "      <td>...</td>\n",
              "      <td>...</td>\n",
              "      <td>...</td>\n",
              "      <td>...</td>\n",
              "      <td>...</td>\n",
              "      <td>...</td>\n",
              "      <td>...</td>\n",
              "      <td>...</td>\n",
              "      <td>...</td>\n",
              "      <td>...</td>\n",
              "      <td>...</td>\n",
              "      <td>...</td>\n",
              "      <td>...</td>\n",
              "      <td>...</td>\n",
              "      <td>...</td>\n",
              "      <td>...</td>\n",
              "      <td>...</td>\n",
              "      <td>...</td>\n",
              "      <td>...</td>\n",
              "      <td>...</td>\n",
              "      <td>...</td>\n",
              "      <td>...</td>\n",
              "      <td>...</td>\n",
              "      <td>...</td>\n",
              "      <td>...</td>\n",
              "      <td>...</td>\n",
              "      <td>...</td>\n",
              "      <td>...</td>\n",
              "      <td>...</td>\n",
              "      <td>...</td>\n",
              "      <td>...</td>\n",
              "      <td>...</td>\n",
              "      <td>...</td>\n",
              "      <td>...</td>\n",
              "      <td>...</td>\n",
              "      <td>...</td>\n",
              "      <td>...</td>\n",
              "      <td>...</td>\n",
              "      <td>...</td>\n",
              "      <td>...</td>\n",
              "      <td>...</td>\n",
              "      <td>...</td>\n",
              "      <td>...</td>\n",
              "      <td>...</td>\n",
              "      <td>...</td>\n",
              "      <td>...</td>\n",
              "    </tr>\n",
              "    <tr>\n",
              "      <th>2973774</th>\n",
              "      <td>12246525</td>\n",
              "      <td>1.0</td>\n",
              "      <td>NaN</td>\n",
              "      <td>NaN</td>\n",
              "      <td>6.0</td>\n",
              "      <td>8.0</td>\n",
              "      <td>NaN</td>\n",
              "      <td>4.0</td>\n",
              "      <td>6.0</td>\n",
              "      <td>NaN</td>\n",
              "      <td>NaN</td>\n",
              "      <td>4582.0</td>\n",
              "      <td>NaN</td>\n",
              "      <td>NaN</td>\n",
              "      <td>4582.0</td>\n",
              "      <td>NaN</td>\n",
              "      <td>NaN</td>\n",
              "      <td>6037.0</td>\n",
              "      <td>NaN</td>\n",
              "      <td>6.0</td>\n",
              "      <td>NaN</td>\n",
              "      <td>NaN</td>\n",
              "      <td>NaN</td>\n",
              "      <td>NaN</td>\n",
              "      <td>33879428.0</td>\n",
              "      <td>-118302589.0</td>\n",
              "      <td>NaN</td>\n",
              "      <td>NaN</td>\n",
              "      <td>NaN</td>\n",
              "      <td>NaN</td>\n",
              "      <td>NaN</td>\n",
              "      <td>NaN</td>\n",
              "      <td>0200</td>\n",
              "      <td>246.0</td>\n",
              "      <td>GAR3</td>\n",
              "      <td>6.037603e+07</td>\n",
              "      <td>45398.0</td>\n",
              "      <td>3101.0</td>\n",
              "      <td>NaN</td>\n",
              "      <td>96104.0</td>\n",
              "      <td>0.0</td>\n",
              "      <td>NaN</td>\n",
              "      <td>NaN</td>\n",
              "      <td>NaN</td>\n",
              "      <td>2.0</td>\n",
              "      <td>NaN</td>\n",
              "      <td>NaN</td>\n",
              "      <td>2012.0</td>\n",
              "      <td>NaN</td>\n",
              "      <td>NaN</td>\n",
              "      <td>450000.0</td>\n",
              "      <td>800000.0</td>\n",
              "      <td>2015.0</td>\n",
              "      <td>350000.0</td>\n",
              "      <td>NaN</td>\n",
              "      <td>NaN</td>\n",
              "      <td>NaN</td>\n",
              "      <td>NaN</td>\n",
              "    </tr>\n",
              "    <tr>\n",
              "      <th>2973775</th>\n",
              "      <td>11366340</td>\n",
              "      <td>NaN</td>\n",
              "      <td>NaN</td>\n",
              "      <td>NaN</td>\n",
              "      <td>1.0</td>\n",
              "      <td>2.0</td>\n",
              "      <td>NaN</td>\n",
              "      <td>7.0</td>\n",
              "      <td>1.0</td>\n",
              "      <td>NaN</td>\n",
              "      <td>NaN</td>\n",
              "      <td>798.0</td>\n",
              "      <td>798.0</td>\n",
              "      <td>NaN</td>\n",
              "      <td>NaN</td>\n",
              "      <td>NaN</td>\n",
              "      <td>NaN</td>\n",
              "      <td>6037.0</td>\n",
              "      <td>NaN</td>\n",
              "      <td>1.0</td>\n",
              "      <td>NaN</td>\n",
              "      <td>NaN</td>\n",
              "      <td>NaN</td>\n",
              "      <td>NaN</td>\n",
              "      <td>34769356.0</td>\n",
              "      <td>-118553521.0</td>\n",
              "      <td>7034153.0</td>\n",
              "      <td>NaN</td>\n",
              "      <td>NaN</td>\n",
              "      <td>NaN</td>\n",
              "      <td>NaN</td>\n",
              "      <td>NaN</td>\n",
              "      <td>0700</td>\n",
              "      <td>263.0</td>\n",
              "      <td>LCA25*</td>\n",
              "      <td>6.037901e+07</td>\n",
              "      <td>5534.0</td>\n",
              "      <td>3101.0</td>\n",
              "      <td>NaN</td>\n",
              "      <td>97319.0</td>\n",
              "      <td>0.0</td>\n",
              "      <td>NaN</td>\n",
              "      <td>NaN</td>\n",
              "      <td>NaN</td>\n",
              "      <td>1.0</td>\n",
              "      <td>NaN</td>\n",
              "      <td>NaN</td>\n",
              "      <td>2006.0</td>\n",
              "      <td>NaN</td>\n",
              "      <td>NaN</td>\n",
              "      <td>49749.0</td>\n",
              "      <td>428749.0</td>\n",
              "      <td>2015.0</td>\n",
              "      <td>379000.0</td>\n",
              "      <td>5764.45</td>\n",
              "      <td>NaN</td>\n",
              "      <td>NaN</td>\n",
              "      <td>NaN</td>\n",
              "    </tr>\n",
              "    <tr>\n",
              "      <th>2973776</th>\n",
              "      <td>13010327</td>\n",
              "      <td>1.0</td>\n",
              "      <td>NaN</td>\n",
              "      <td>NaN</td>\n",
              "      <td>3.0</td>\n",
              "      <td>3.0</td>\n",
              "      <td>NaN</td>\n",
              "      <td>4.0</td>\n",
              "      <td>3.0</td>\n",
              "      <td>NaN</td>\n",
              "      <td>NaN</td>\n",
              "      <td>1526.0</td>\n",
              "      <td>1526.0</td>\n",
              "      <td>NaN</td>\n",
              "      <td>NaN</td>\n",
              "      <td>NaN</td>\n",
              "      <td>NaN</td>\n",
              "      <td>6037.0</td>\n",
              "      <td>NaN</td>\n",
              "      <td>3.0</td>\n",
              "      <td>NaN</td>\n",
              "      <td>NaN</td>\n",
              "      <td>NaN</td>\n",
              "      <td>2.0</td>\n",
              "      <td>34087735.0</td>\n",
              "      <td>-118063008.0</td>\n",
              "      <td>NaN</td>\n",
              "      <td>NaN</td>\n",
              "      <td>NaN</td>\n",
              "      <td>NaN</td>\n",
              "      <td>NaN</td>\n",
              "      <td>NaN</td>\n",
              "      <td>010C</td>\n",
              "      <td>266.0</td>\n",
              "      <td>TCM2*</td>\n",
              "      <td>6.037432e+07</td>\n",
              "      <td>14111.0</td>\n",
              "      <td>3101.0</td>\n",
              "      <td>NaN</td>\n",
              "      <td>96517.0</td>\n",
              "      <td>0.0</td>\n",
              "      <td>NaN</td>\n",
              "      <td>NaN</td>\n",
              "      <td>NaN</td>\n",
              "      <td>1.0</td>\n",
              "      <td>NaN</td>\n",
              "      <td>NaN</td>\n",
              "      <td>2014.0</td>\n",
              "      <td>NaN</td>\n",
              "      <td>NaN</td>\n",
              "      <td>351100.0</td>\n",
              "      <td>585100.0</td>\n",
              "      <td>2015.0</td>\n",
              "      <td>234000.0</td>\n",
              "      <td>7343.47</td>\n",
              "      <td>NaN</td>\n",
              "      <td>NaN</td>\n",
              "      <td>NaN</td>\n",
              "    </tr>\n",
              "    <tr>\n",
              "      <th>2973777</th>\n",
              "      <td>12385768</td>\n",
              "      <td>1.0</td>\n",
              "      <td>NaN</td>\n",
              "      <td>NaN</td>\n",
              "      <td>4.0</td>\n",
              "      <td>4.0</td>\n",
              "      <td>NaN</td>\n",
              "      <td>4.0</td>\n",
              "      <td>4.0</td>\n",
              "      <td>NaN</td>\n",
              "      <td>NaN</td>\n",
              "      <td>2110.0</td>\n",
              "      <td>2110.0</td>\n",
              "      <td>NaN</td>\n",
              "      <td>NaN</td>\n",
              "      <td>NaN</td>\n",
              "      <td>NaN</td>\n",
              "      <td>6037.0</td>\n",
              "      <td>NaN</td>\n",
              "      <td>4.0</td>\n",
              "      <td>NaN</td>\n",
              "      <td>NaN</td>\n",
              "      <td>NaN</td>\n",
              "      <td>2.0</td>\n",
              "      <td>33951985.0</td>\n",
              "      <td>-118124097.0</td>\n",
              "      <td>NaN</td>\n",
              "      <td>1.0</td>\n",
              "      <td>NaN</td>\n",
              "      <td>NaN</td>\n",
              "      <td>NaN</td>\n",
              "      <td>1.0</td>\n",
              "      <td>010C</td>\n",
              "      <td>266.0</td>\n",
              "      <td>DOC2*</td>\n",
              "      <td>6.037551e+07</td>\n",
              "      <td>4406.0</td>\n",
              "      <td>3101.0</td>\n",
              "      <td>NaN</td>\n",
              "      <td>96100.0</td>\n",
              "      <td>0.0</td>\n",
              "      <td>NaN</td>\n",
              "      <td>NaN</td>\n",
              "      <td>NaN</td>\n",
              "      <td>1.0</td>\n",
              "      <td>NaN</td>\n",
              "      <td>NaN</td>\n",
              "      <td>2014.0</td>\n",
              "      <td>NaN</td>\n",
              "      <td>NaN</td>\n",
              "      <td>331493.0</td>\n",
              "      <td>545688.0</td>\n",
              "      <td>2015.0</td>\n",
              "      <td>214195.0</td>\n",
              "      <td>6761.20</td>\n",
              "      <td>Y</td>\n",
              "      <td>15.0</td>\n",
              "      <td>NaN</td>\n",
              "    </tr>\n",
              "    <tr>\n",
              "      <th>2973778</th>\n",
              "      <td>11795063</td>\n",
              "      <td>1.0</td>\n",
              "      <td>NaN</td>\n",
              "      <td>NaN</td>\n",
              "      <td>1.0</td>\n",
              "      <td>1.0</td>\n",
              "      <td>NaN</td>\n",
              "      <td>4.0</td>\n",
              "      <td>1.0</td>\n",
              "      <td>NaN</td>\n",
              "      <td>NaN</td>\n",
              "      <td>1040.0</td>\n",
              "      <td>1040.0</td>\n",
              "      <td>NaN</td>\n",
              "      <td>NaN</td>\n",
              "      <td>NaN</td>\n",
              "      <td>NaN</td>\n",
              "      <td>6037.0</td>\n",
              "      <td>NaN</td>\n",
              "      <td>1.0</td>\n",
              "      <td>NaN</td>\n",
              "      <td>NaN</td>\n",
              "      <td>NaN</td>\n",
              "      <td>2.0</td>\n",
              "      <td>34041100.0</td>\n",
              "      <td>-118234000.0</td>\n",
              "      <td>NaN</td>\n",
              "      <td>1.0</td>\n",
              "      <td>NaN</td>\n",
              "      <td>NaN</td>\n",
              "      <td>NaN</td>\n",
              "      <td>1.0</td>\n",
              "      <td>010E</td>\n",
              "      <td>266.0</td>\n",
              "      <td>LAM3</td>\n",
              "      <td>6.037206e+07</td>\n",
              "      <td>12447.0</td>\n",
              "      <td>3101.0</td>\n",
              "      <td>268057.0</td>\n",
              "      <td>95994.0</td>\n",
              "      <td>0.0</td>\n",
              "      <td>NaN</td>\n",
              "      <td>NaN</td>\n",
              "      <td>NaN</td>\n",
              "      <td>1.0</td>\n",
              "      <td>NaN</td>\n",
              "      <td>NaN</td>\n",
              "      <td>1910.0</td>\n",
              "      <td>NaN</td>\n",
              "      <td>NaN</td>\n",
              "      <td>366172.0</td>\n",
              "      <td>610967.0</td>\n",
              "      <td>2015.0</td>\n",
              "      <td>244795.0</td>\n",
              "      <td>7611.91</td>\n",
              "      <td>NaN</td>\n",
              "      <td>NaN</td>\n",
              "      <td>NaN</td>\n",
              "    </tr>\n",
              "  </tbody>\n",
              "</table>\n",
              "<p>2942667 rows × 58 columns</p>\n",
              "</div>"
            ],
            "text/plain": [
              "         parcelid  ...  censustractandblock\n",
              "0        10754147  ...                  NaN\n",
              "1        10759547  ...                  NaN\n",
              "2        10843547  ...                  NaN\n",
              "3        10859147  ...                  NaN\n",
              "4        10879947  ...                  NaN\n",
              "...           ...  ...                  ...\n",
              "2973774  12246525  ...                  NaN\n",
              "2973775  11366340  ...                  NaN\n",
              "2973776  13010327  ...                  NaN\n",
              "2973777  12385768  ...                  NaN\n",
              "2973778  11795063  ...                  NaN\n",
              "\n",
              "[2942667 rows x 58 columns]"
            ]
          },
          "execution_count": 19,
          "metadata": {},
          "output_type": "execute_result"
        }
      ]
    },
    {
      "cell_type": "markdown",
      "metadata": {
        "id": "WiLh0ViwEo-m"
      },
      "source": [
        "###1.2.1. Which Years Were The Properties Built In?\n"
      ]
    },
    {
      "cell_type": "code",
      "metadata": {
        "colab": {
          "base_uri": "https://localhost:8080/",
          "height": 93
        },
        "id": "HxE0P4Px3hd4",
        "outputId": "b256ae5c-fbb1-4906-f879-6fb910194734"
      },
      "source": [
        "# Create a barplot with the total number of properties built each year with the values from both datasets put side by side\n",
        "ax = plt.subplots(figsize = (150,7))\n",
        "ax = sns.countplot(x=\"yearbuilt\", data=zillow_pdDF)\n",
        "plt.xlabel('Year', fontsize=12)\n",
        "plt.ylabel('# Properties', fontsize=12)\n",
        "plt.title(\"Frequency of when the sold Properties were built\", fontsize=15)"
      ],
      "execution_count": null,
      "outputs": [
        {
          "data": {
            "text/plain": [
              "Text(0.5, 1.0, 'Frequency of when the sold Properties were built')"
            ]
          },
          "execution_count": 20,
          "metadata": {},
          "output_type": "execute_result"
        },
        {
          "data": {
            "image/png": "[encoded data removed]",
            "text/plain": [
              "<Figure size 10800x504 with 1 Axes>"
            ]
          },
          "metadata": {},
          "output_type": "display_data"
        }
      ]
    },
    {
      "cell_type": "code",
      "metadata": {
        "colab": {
          "base_uri": "https://localhost:8080/",
          "height": 480
        },
        "id": "mjQWuy3Av0cu",
        "outputId": "518cdbc9-55f4-4039-d672-08db6c7cb5ed"
      },
      "source": [
        "#Order the barplot by descending total number of properties built\n",
        "ax = plt.subplots(figsize = (15,7))\n",
        "ax = sns.countplot(x=\"yearbuilt\", data=zillow_pdDF, order=zillow_pdDF.yearbuilt.value_counts().iloc[:10].index)\n",
        "plt.xlabel('Year', fontsize=12)\n",
        "plt.ylabel('# Properties', fontsize=12)\n",
        "plt.title(\"Top 10 years in which the Properties sold in 2016 & 2017 were built\", fontsize=15)"
      ],
      "execution_count": null,
      "outputs": [
        {
          "data": {
            "text/plain": [
              "Text(0.5, 1.0, 'Top 10 years in which the Properties sold in 2016 & 2017 were built')"
            ]
          },
          "execution_count": 21,
          "metadata": {},
          "output_type": "execute_result"
        },
        {
          "data": {
            "image/png": "[encoded data removed]",
            "text/plain": [
              "<Figure size 1080x504 with 1 Axes>"
            ]
          },
          "metadata": {},
          "output_type": "display_data"
        }
      ]
    },
    {
      "cell_type": "markdown",
      "metadata": {
        "id": "B9Cczm1jOq32"
      },
      "source": [
        "###1.2.2. How Many Bedrooms Do The Properties Have?"
      ]
    },
    {
      "cell_type": "code",
      "metadata": {
        "colab": {
          "base_uri": "https://localhost:8080/",
          "height": 480
        },
        "id": "T5IvRlktIrvD",
        "outputId": "357c6f31-455c-479b-9644-96047d6beacc"
      },
      "source": [
        "#Create a barplot to show the distribution of frequency of bathroom count in the properties from both years put side by side\n",
        "ax = plt.subplots(figsize = (15,7))\n",
        "ax = sns.countplot(x=\"bedroomcnt\", data=zillow_pdDF)\n",
        "plt.xlabel('# of Bedrooms', fontsize=12)\n",
        "plt.ylabel('Count', fontsize=12)\n",
        "plt.title(\"Frequency of Bedroom Count\", fontsize=15)"
      ],
      "execution_count": null,
      "outputs": [
        {
          "data": {
            "text/plain": [
              "Text(0.5, 1.0, 'Frequency of Bedroom Count')"
            ]
          },
          "execution_count": 22,
          "metadata": {},
          "output_type": "execute_result"
        },
        {
          "data": {
            "image/png": "[encoded data removed]",
            "text/plain": [
              "<Figure size 1080x504 with 1 Axes>"
            ]
          },
          "metadata": {},
          "output_type": "display_data"
        }
      ]
    },
    {
      "cell_type": "markdown",
      "metadata": {
        "id": "CTcEQimhINJR"
      },
      "source": [
        "###1.2.3. How Many Bathrooms Do The Properties Have?\n",
        "\n"
      ]
    },
    {
      "cell_type": "code",
      "metadata": {
        "colab": {
          "base_uri": "https://localhost:8080/",
          "height": 480
        },
        "id": "piiPobl4IMcZ",
        "outputId": "201d3632-2835-4c97-bc5c-cc202faa41ed"
      },
      "source": [
        "#Create a barplot to show the distribution of frequency of bathroom count in the properties from both years put side by side\n",
        "ax = plt.subplots(figsize = (15,7))\n",
        "ax = sns.countplot(x=\"bathroomcnt\", data=zillow_pdDF)\n",
        "plt.xlabel('# of Bathrooms', fontsize=12)\n",
        "plt.ylabel('Count', fontsize=12)\n",
        "plt.title(\"Frequency of Bathroom Count\", fontsize=15)"
      ],
      "execution_count": null,
      "outputs": [
        {
          "data": {
            "text/plain": [
              "Text(0.5, 1.0, 'Frequency of Bathroom Count')"
            ]
          },
          "execution_count": 23,
          "metadata": {},
          "output_type": "execute_result"
        },
        {
          "data": {
            "image/png": "[encoded data removed]",
            "text/plain": [
              "<Figure size 1080x504 with 1 Axes>"
            ]
          },
          "metadata": {},
          "output_type": "display_data"
        }
      ]
    },
    {
      "cell_type": "markdown",
      "metadata": {
        "id": "vJGfzhHmCejY"
      },
      "source": [
        "#**2. Data Cleaning**"
      ]
    },
    {
      "cell_type": "markdown",
      "metadata": {
        "id": "EKq3BLEJssip"
      },
      "source": [
        "Handling the columns with NULL values - replace with zeroes or drop them based on the meaning od each column in the data dictionary"
      ]
    },
    {
      "cell_type": "markdown",
      "metadata": {
        "id": "MHZJXNTVCjV6"
      },
      "source": [
        "##**2.1. Remove All Columns With > 80% Missing Values**"
      ]
    },
    {
      "cell_type": "code",
      "metadata": {
        "colab": {
          "base_uri": "https://localhost:8080/"
        },
        "id": "qRLCNBUZXXMl",
        "outputId": "99fa1e1b-8bbb-4d69-bc6c-202dace47bc3"
      },
      "source": [
        "# Store columns with NA Ratio > 80%\n",
        "na_col_list = over_80_missing_pd.index.tolist()\n",
        "\n",
        "na_col_list"
      ],
      "execution_count": null,
      "outputs": [
        {
          "data": {
            "text/plain": [
              "['storytypeid',\n",
              " 'basementsqft',\n",
              " 'yardbuildingsqft26',\n",
              " 'finishedsquarefeet13',\n",
              " 'fireplaceflag',\n",
              " 'architecturalstyletypeid',\n",
              " 'typeconstructiontypeid',\n",
              " 'buildingclasstypeid',\n",
              " 'decktypeid',\n",
              " 'finishedsquarefeet6',\n",
              " 'poolsizesum',\n",
              " 'pooltypeid2',\n",
              " 'pooltypeid10',\n",
              " 'taxdelinquencyflag',\n",
              " 'taxdelinquencyyear',\n",
              " 'hashottuborspa',\n",
              " 'yardbuildingsqft17',\n",
              " 'finishedsquarefeet15',\n",
              " 'finishedsquarefeet50',\n",
              " 'finishedfloor1squarefeet',\n",
              " 'threequarterbathnbr',\n",
              " 'fireplacecnt',\n",
              " 'pooltypeid7',\n",
              " 'poolcnt']"
            ]
          },
          "execution_count": 24,
          "metadata": {},
          "output_type": "execute_result"
        }
      ]
    },
    {
      "cell_type": "code",
      "metadata": {
        "colab": {
          "base_uri": "https://localhost:8080/"
        },
        "id": "DEF8Qm32h6br",
        "outputId": "85acbefe-b618-40b6-db43-3fa7ad470676"
      },
      "source": [
        "# Remove columns with more than 80% missing values\n",
        "zillow_df_drop_na_over80 = zillow_df.drop(*na_col_list)\n",
        "\n",
        "print(\"Column Count Before: \" + str(len(zillow_df.columns)))\n",
        "print(\"Column Count After: \" + str(len(zillow_df_drop_na_over80.columns)))"
      ],
      "execution_count": null,
      "outputs": [
        {
          "name": "stdout",
          "output_type": "stream",
          "text": [
            "Column Count Before: 58\n",
            "Column Count After: 34\n"
          ]
        }
      ]
    },
    {
      "cell_type": "markdown",
      "metadata": {
        "id": "Yx67-S2qs5jN"
      },
      "source": [
        "##**2.2. Checking For Multicollinearity Using Correlation Matrix And Remove Columns With High Correlation**"
      ]
    },
    {
      "cell_type": "code",
      "metadata": {
        "id": "hdD6tnR5oVsM"
      },
      "source": [
        "# Create empty list to store all the columns we plan to drop\n",
        "cols_to_drop = []"
      ],
      "execution_count": null,
      "outputs": []
    },
    {
      "cell_type": "markdown",
      "metadata": {
        "id": "NLGCv75PuDRD"
      },
      "source": [
        "###2.2.1. Check Correlation of Tax Related Variables"
      ]
    },
    {
      "cell_type": "code",
      "metadata": {
        "id": "JpRXEx0Tpos4"
      },
      "source": [
        "# Create a df with only columns with only the Room related variables \n",
        "tax_variables_df = zillow_df_drop_na_over80.select('structuretaxvaluedollarcnt', 'taxvaluedollarcnt', 'landtaxvaluedollarcnt', 'taxamount','assessmentyear')\n",
        "tax_variables_pd = tax_variables_df.toPandas()"
      ],
      "execution_count": null,
      "outputs": []
    },
    {
      "cell_type": "code",
      "metadata": {
        "colab": {
          "base_uri": "https://localhost:8080/",
          "height": 204
        },
        "id": "exk6yhRxKmgj",
        "outputId": "828b64ef-c7b0-42a3-b76b-802d01eb3611"
      },
      "source": [
        "# Get the absolute correlations of the variables\n",
        "tax_corr_matrix= tax_variables_pd.corr().abs()\n",
        "\n",
        "# Plot Correlation matrix graph and hide diagonal and upper half values\n",
        "mask = np.zeros_like(tax_corr_matrix, dtype=bool)\n",
        "mask[np.triu_indices_from(mask)] = True\n",
        "tax_corr_matrix[mask] = np.nan\n",
        "(tax_corr_matrix\n",
        " .style\n",
        " .background_gradient(cmap='coolwarm', axis=None, vmin=-1, vmax=1)\n",
        " .highlight_null(null_color='#f1f1f1')  # Color NaNs grey\n",
        " .set_precision(2))"
      ],
      "execution_count": null,
      "outputs": [
        {
          "data": {
            "text/html": [
              "<style  type=\"text/css\" >\n",
              "#T_a7cb12a0_50e6_11ec_a253_0242ac1c0002row0_col0,#T_a7cb12a0_50e6_11ec_a253_0242ac1c0002row0_col1,#T_a7cb12a0_50e6_11ec_a253_0242ac1c0002row0_col2,#T_a7cb12a0_50e6_11ec_a253_0242ac1c0002row0_col3,#T_a7cb12a0_50e6_11ec_a253_0242ac1c0002row0_col4,#T_a7cb12a0_50e6_11ec_a253_0242ac1c0002row1_col1,#T_a7cb12a0_50e6_11ec_a253_0242ac1c0002row1_col2,#T_a7cb12a0_50e6_11ec_a253_0242ac1c0002row1_col3,#T_a7cb12a0_50e6_11ec_a253_0242ac1c0002row1_col4,#T_a7cb12a0_50e6_11ec_a253_0242ac1c0002row2_col2,#T_a7cb12a0_50e6_11ec_a253_0242ac1c0002row2_col3,#T_a7cb12a0_50e6_11ec_a253_0242ac1c0002row2_col4,#T_a7cb12a0_50e6_11ec_a253_0242ac1c0002row3_col3,#T_a7cb12a0_50e6_11ec_a253_0242ac1c0002row3_col4,#T_a7cb12a0_50e6_11ec_a253_0242ac1c0002row4_col4{\n",
              "            background-color:  #000000;\n",
              "            color:  #f1f1f1;\n",
              "            background-color:  #f1f1f1;\n",
              "        }#T_a7cb12a0_50e6_11ec_a253_0242ac1c0002row1_col0{\n",
              "            background-color:  #cf453c;\n",
              "            color:  #f1f1f1;\n",
              "        }#T_a7cb12a0_50e6_11ec_a253_0242ac1c0002row2_col0{\n",
              "            background-color:  #f59d7e;\n",
              "            color:  #000000;\n",
              "        }#T_a7cb12a0_50e6_11ec_a253_0242ac1c0002row2_col1{\n",
              "            background-color:  #cb3e38;\n",
              "            color:  #f1f1f1;\n",
              "        }#T_a7cb12a0_50e6_11ec_a253_0242ac1c0002row3_col0{\n",
              "            background-color:  #d55042;\n",
              "            color:  #000000;\n",
              "        }#T_a7cb12a0_50e6_11ec_a253_0242ac1c0002row3_col1{\n",
              "            background-color:  #bd1f2d;\n",
              "            color:  #f1f1f1;\n",
              "        }#T_a7cb12a0_50e6_11ec_a253_0242ac1c0002row3_col2{\n",
              "            background-color:  #d24b40;\n",
              "            color:  #f1f1f1;\n",
              "        }#T_a7cb12a0_50e6_11ec_a253_0242ac1c0002row4_col0{\n",
              "            background-color:  #dddcdc;\n",
              "            color:  #000000;\n",
              "        }#T_a7cb12a0_50e6_11ec_a253_0242ac1c0002row4_col1,#T_a7cb12a0_50e6_11ec_a253_0242ac1c0002row4_col2,#T_a7cb12a0_50e6_11ec_a253_0242ac1c0002row4_col3{\n",
              "            background-color:  #dedcdb;\n",
              "            color:  #000000;\n",
              "        }</style><table id=\"T_a7cb12a0_50e6_11ec_a253_0242ac1c0002\" class=\"dataframe\"><thead>    <tr>        <th class=\"blank level0\" ></th>        <th class=\"col_heading level0 col0\" >structuretaxvaluedollarcnt</th>        <th class=\"col_heading level0 col1\" >taxvaluedollarcnt</th>        <th class=\"col_heading level0 col2\" >landtaxvaluedollarcnt</th>        <th class=\"col_heading level0 col3\" >taxamount</th>        <th class=\"col_heading level0 col4\" >assessmentyear</th>    </tr></thead><tbody>\n",
              "                <tr>\n",
              "                        <th id=\"T_a7cb12a0_50e6_11ec_a253_0242ac1c0002level0_row0\" class=\"row_heading level0 row0\" >structuretaxvaluedollarcnt</th>\n",
              "                        <td id=\"T_a7cb12a0_50e6_11ec_a253_0242ac1c0002row0_col0\" class=\"data row0 col0\" >nan</td>\n",
              "                        <td id=\"T_a7cb12a0_50e6_11ec_a253_0242ac1c0002row0_col1\" class=\"data row0 col1\" >nan</td>\n",
              "                        <td id=\"T_a7cb12a0_50e6_11ec_a253_0242ac1c0002row0_col2\" class=\"data row0 col2\" >nan</td>\n",
              "                        <td id=\"T_a7cb12a0_50e6_11ec_a253_0242ac1c0002row0_col3\" class=\"data row0 col3\" >nan</td>\n",
              "                        <td id=\"T_a7cb12a0_50e6_11ec_a253_0242ac1c0002row0_col4\" class=\"data row0 col4\" >nan</td>\n",
              "            </tr>\n",
              "            <tr>\n",
              "                        <th id=\"T_a7cb12a0_50e6_11ec_a253_0242ac1c0002level0_row1\" class=\"row_heading level0 row1\" >taxvaluedollarcnt</th>\n",
              "                        <td id=\"T_a7cb12a0_50e6_11ec_a253_0242ac1c0002row1_col0\" class=\"data row1 col0\" >0.85</td>\n",
              "                        <td id=\"T_a7cb12a0_50e6_11ec_a253_0242ac1c0002row1_col1\" class=\"data row1 col1\" >nan</td>\n",
              "                        <td id=\"T_a7cb12a0_50e6_11ec_a253_0242ac1c0002row1_col2\" class=\"data row1 col2\" >nan</td>\n",
              "                        <td id=\"T_a7cb12a0_50e6_11ec_a253_0242ac1c0002row1_col3\" class=\"data row1 col3\" >nan</td>\n",
              "                        <td id=\"T_a7cb12a0_50e6_11ec_a253_0242ac1c0002row1_col4\" class=\"data row1 col4\" >nan</td>\n",
              "            </tr>\n",
              "            <tr>\n",
              "                        <th id=\"T_a7cb12a0_50e6_11ec_a253_0242ac1c0002level0_row2\" class=\"row_heading level0 row2\" >landtaxvaluedollarcnt</th>\n",
              "                        <td id=\"T_a7cb12a0_50e6_11ec_a253_0242ac1c0002row2_col0\" class=\"data row2 col0\" >0.48</td>\n",
              "                        <td id=\"T_a7cb12a0_50e6_11ec_a253_0242ac1c0002row2_col1\" class=\"data row2 col1\" >0.87</td>\n",
              "                        <td id=\"T_a7cb12a0_50e6_11ec_a253_0242ac1c0002row2_col2\" class=\"data row2 col2\" >nan</td>\n",
              "                        <td id=\"T_a7cb12a0_50e6_11ec_a253_0242ac1c0002row2_col3\" class=\"data row2 col3\" >nan</td>\n",
              "                        <td id=\"T_a7cb12a0_50e6_11ec_a253_0242ac1c0002row2_col4\" class=\"data row2 col4\" >nan</td>\n",
              "            </tr>\n",
              "            <tr>\n",
              "                        <th id=\"T_a7cb12a0_50e6_11ec_a253_0242ac1c0002level0_row3\" class=\"row_heading level0 row3\" >taxamount</th>\n",
              "                        <td id=\"T_a7cb12a0_50e6_11ec_a253_0242ac1c0002row3_col0\" class=\"data row3 col0\" >0.81</td>\n",
              "                        <td id=\"T_a7cb12a0_50e6_11ec_a253_0242ac1c0002row3_col1\" class=\"data row3 col1\" >0.95</td>\n",
              "                        <td id=\"T_a7cb12a0_50e6_11ec_a253_0242ac1c0002row3_col2\" class=\"data row3 col2\" >0.82</td>\n",
              "                        <td id=\"T_a7cb12a0_50e6_11ec_a253_0242ac1c0002row3_col3\" class=\"data row3 col3\" >nan</td>\n",
              "                        <td id=\"T_a7cb12a0_50e6_11ec_a253_0242ac1c0002row3_col4\" class=\"data row3 col4\" >nan</td>\n",
              "            </tr>\n",
              "            <tr>\n",
              "                        <th id=\"T_a7cb12a0_50e6_11ec_a253_0242ac1c0002level0_row4\" class=\"row_heading level0 row4\" >assessmentyear</th>\n",
              "                        <td id=\"T_a7cb12a0_50e6_11ec_a253_0242ac1c0002row4_col0\" class=\"data row4 col0\" >0.00</td>\n",
              "                        <td id=\"T_a7cb12a0_50e6_11ec_a253_0242ac1c0002row4_col1\" class=\"data row4 col1\" >0.01</td>\n",
              "                        <td id=\"T_a7cb12a0_50e6_11ec_a253_0242ac1c0002row4_col2\" class=\"data row4 col2\" >0.01</td>\n",
              "                        <td id=\"T_a7cb12a0_50e6_11ec_a253_0242ac1c0002row4_col3\" class=\"data row4 col3\" >0.02</td>\n",
              "                        <td id=\"T_a7cb12a0_50e6_11ec_a253_0242ac1c0002row4_col4\" class=\"data row4 col4\" >nan</td>\n",
              "            </tr>\n",
              "    </tbody></table>"
            ],
            "text/plain": [
              "<pandas.io.formats.style.Styler at 0x7f736f426b50>"
            ]
          },
          "execution_count": 28,
          "metadata": {},
          "output_type": "execute_result"
        }
      ]
    },
    {
      "cell_type": "markdown",
      "metadata": {
        "id": "Gp-sTzu3jKAq"
      },
      "source": [
        "All 3 other tax related variables are strongly correlated to our target variable as expected, so we should remove 'structuretaxvaluedollarcnt', 'landtaxvaluedollarcnt', 'taxamount'. We also should remove 'assessmentyear' as it has almost no correlation to 'taxvaluedollarcnt' or the other."
      ]
    },
    {
      "cell_type": "code",
      "metadata": {
        "colab": {
          "base_uri": "https://localhost:8080/"
        },
        "id": "wE1DdcbkoC7H",
        "outputId": "0e70639d-be29-469f-d97f-5adf0b378427"
      },
      "source": [
        "# Add column names to the list of columns to drop\n",
        "cols_to_drop.extend(['structuretaxvaluedollarcnt', 'landtaxvaluedollarcnt', 'taxamount', 'assessmentyear'])\n",
        "cols_to_drop"
      ],
      "execution_count": null,
      "outputs": [
        {
          "data": {
            "text/plain": [
              "['structuretaxvaluedollarcnt',\n",
              " 'landtaxvaluedollarcnt',\n",
              " 'taxamount',\n",
              " 'assessmentyear']"
            ]
          },
          "execution_count": 29,
          "metadata": {},
          "output_type": "execute_result"
        }
      ]
    },
    {
      "cell_type": "markdown",
      "metadata": {
        "id": "Hb2ZrzVFtTWM"
      },
      "source": [
        "###2.2.2. Check Correlation of Room Type Related Variables"
      ]
    },
    {
      "cell_type": "code",
      "metadata": {
        "id": "6HagOuexRrsC"
      },
      "source": [
        "# Create a df with only columns with only the Room related variables \n",
        "room_variables_df = zillow_df_drop_na_over80.select('bathroomcnt', 'bedroomcnt', 'calculatedbathnbr', 'fullbathcnt', 'roomcnt', 'unitcnt','taxvaluedollarcnt')\n",
        "room_variables_pd = room_variables_df.toPandas()"
      ],
      "execution_count": null,
      "outputs": []
    },
    {
      "cell_type": "code",
      "metadata": {
        "colab": {
          "base_uri": "https://localhost:8080/",
          "height": 266
        },
        "id": "rk2lxs7ZJT06",
        "outputId": "4dd6ece4-6ef6-4f11-ec24-b2a0e2916374"
      },
      "source": [
        "# Get the absolute correlations of the variables\n",
        "room_corr_matrix= room_variables_pd.corr().abs()\n",
        "\n",
        "# Plot Correlation matrix graph and hide diagonal and upper half values\n",
        "mask = np.zeros_like(room_corr_matrix, dtype=bool)\n",
        "mask[np.triu_indices_from(mask)] = True\n",
        "room_corr_matrix[mask] = np.nan\n",
        "(room_corr_matrix\n",
        " .style\n",
        " .background_gradient(cmap='coolwarm', axis=None, vmin=-1, vmax=1)\n",
        " .highlight_null(null_color='#f1f1f1')  # Color NaNs grey\n",
        " .set_precision(2))"
      ],
      "execution_count": null,
      "outputs": [
        {
          "data": {
            "text/html": [
              "<style  type=\"text/css\" >\n",
              "#T_af229ee2_50e6_11ec_a253_0242ac1c0002row0_col0,#T_af229ee2_50e6_11ec_a253_0242ac1c0002row0_col1,#T_af229ee2_50e6_11ec_a253_0242ac1c0002row0_col2,#T_af229ee2_50e6_11ec_a253_0242ac1c0002row0_col3,#T_af229ee2_50e6_11ec_a253_0242ac1c0002row0_col4,#T_af229ee2_50e6_11ec_a253_0242ac1c0002row0_col5,#T_af229ee2_50e6_11ec_a253_0242ac1c0002row0_col6,#T_af229ee2_50e6_11ec_a253_0242ac1c0002row1_col1,#T_af229ee2_50e6_11ec_a253_0242ac1c0002row1_col2,#T_af229ee2_50e6_11ec_a253_0242ac1c0002row1_col3,#T_af229ee2_50e6_11ec_a253_0242ac1c0002row1_col4,#T_af229ee2_50e6_11ec_a253_0242ac1c0002row1_col5,#T_af229ee2_50e6_11ec_a253_0242ac1c0002row1_col6,#T_af229ee2_50e6_11ec_a253_0242ac1c0002row2_col2,#T_af229ee2_50e6_11ec_a253_0242ac1c0002row2_col3,#T_af229ee2_50e6_11ec_a253_0242ac1c0002row2_col4,#T_af229ee2_50e6_11ec_a253_0242ac1c0002row2_col5,#T_af229ee2_50e6_11ec_a253_0242ac1c0002row2_col6,#T_af229ee2_50e6_11ec_a253_0242ac1c0002row3_col3,#T_af229ee2_50e6_11ec_a253_0242ac1c0002row3_col4,#T_af229ee2_50e6_11ec_a253_0242ac1c0002row3_col5,#T_af229ee2_50e6_11ec_a253_0242ac1c0002row3_col6,#T_af229ee2_50e6_11ec_a253_0242ac1c0002row4_col4,#T_af229ee2_50e6_11ec_a253_0242ac1c0002row4_col5,#T_af229ee2_50e6_11ec_a253_0242ac1c0002row4_col6,#T_af229ee2_50e6_11ec_a253_0242ac1c0002row5_col5,#T_af229ee2_50e6_11ec_a253_0242ac1c0002row5_col6,#T_af229ee2_50e6_11ec_a253_0242ac1c0002row6_col6{\n",
              "            background-color:  #000000;\n",
              "            color:  #f1f1f1;\n",
              "            background-color:  #f1f1f1;\n",
              "        }#T_af229ee2_50e6_11ec_a253_0242ac1c0002row1_col0{\n",
              "            background-color:  #e57058;\n",
              "            color:  #000000;\n",
              "        }#T_af229ee2_50e6_11ec_a253_0242ac1c0002row2_col0{\n",
              "            background-color:  #b40426;\n",
              "            color:  #f1f1f1;\n",
              "        }#T_af229ee2_50e6_11ec_a253_0242ac1c0002row2_col1,#T_af229ee2_50e6_11ec_a253_0242ac1c0002row3_col1{\n",
              "            background-color:  #eb7d62;\n",
              "            color:  #000000;\n",
              "        }#T_af229ee2_50e6_11ec_a253_0242ac1c0002row3_col0,#T_af229ee2_50e6_11ec_a253_0242ac1c0002row3_col2{\n",
              "            background-color:  #b50927;\n",
              "            color:  #f1f1f1;\n",
              "        }#T_af229ee2_50e6_11ec_a253_0242ac1c0002row4_col0{\n",
              "            background-color:  #e3d9d3;\n",
              "            color:  #000000;\n",
              "        }#T_af229ee2_50e6_11ec_a253_0242ac1c0002row4_col1{\n",
              "            background-color:  #eed0c0;\n",
              "            color:  #000000;\n",
              "        }#T_af229ee2_50e6_11ec_a253_0242ac1c0002row4_col2{\n",
              "            background-color:  #dfdbd9;\n",
              "            color:  #000000;\n",
              "        }#T_af229ee2_50e6_11ec_a253_0242ac1c0002row4_col3{\n",
              "            background-color:  #e0dbd8;\n",
              "            color:  #000000;\n",
              "        }#T_af229ee2_50e6_11ec_a253_0242ac1c0002row5_col0{\n",
              "            background-color:  #e1dad6;\n",
              "            color:  #000000;\n",
              "        }#T_af229ee2_50e6_11ec_a253_0242ac1c0002row5_col1{\n",
              "            background-color:  #e4d9d2;\n",
              "            color:  #000000;\n",
              "        }#T_af229ee2_50e6_11ec_a253_0242ac1c0002row5_col2,#T_af229ee2_50e6_11ec_a253_0242ac1c0002row5_col3{\n",
              "            background-color:  #f4c5ad;\n",
              "            color:  #000000;\n",
              "        }#T_af229ee2_50e6_11ec_a253_0242ac1c0002row5_col4{\n",
              "            background-color:  #dedcdb;\n",
              "            color:  #000000;\n",
              "        }#T_af229ee2_50e6_11ec_a253_0242ac1c0002row6_col0{\n",
              "            background-color:  #f7b99e;\n",
              "            color:  #000000;\n",
              "        }#T_af229ee2_50e6_11ec_a253_0242ac1c0002row6_col1{\n",
              "            background-color:  #edd1c2;\n",
              "            color:  #000000;\n",
              "        }#T_af229ee2_50e6_11ec_a253_0242ac1c0002row6_col2{\n",
              "            background-color:  #f5a081;\n",
              "            color:  #000000;\n",
              "        }#T_af229ee2_50e6_11ec_a253_0242ac1c0002row6_col3{\n",
              "            background-color:  #f6a385;\n",
              "            color:  #000000;\n",
              "        }#T_af229ee2_50e6_11ec_a253_0242ac1c0002row6_col4{\n",
              "            background-color:  #dddcdc;\n",
              "            color:  #000000;\n",
              "        }#T_af229ee2_50e6_11ec_a253_0242ac1c0002row6_col5{\n",
              "            background-color:  #efcebd;\n",
              "            color:  #000000;\n",
              "        }</style><table id=\"T_af229ee2_50e6_11ec_a253_0242ac1c0002\" class=\"dataframe\"><thead>    <tr>        <th class=\"blank level0\" ></th>        <th class=\"col_heading level0 col0\" >bathroomcnt</th>        <th class=\"col_heading level0 col1\" >bedroomcnt</th>        <th class=\"col_heading level0 col2\" >calculatedbathnbr</th>        <th class=\"col_heading level0 col3\" >fullbathcnt</th>        <th class=\"col_heading level0 col4\" >roomcnt</th>        <th class=\"col_heading level0 col5\" >unitcnt</th>        <th class=\"col_heading level0 col6\" >taxvaluedollarcnt</th>    </tr></thead><tbody>\n",
              "                <tr>\n",
              "                        <th id=\"T_af229ee2_50e6_11ec_a253_0242ac1c0002level0_row0\" class=\"row_heading level0 row0\" >bathroomcnt</th>\n",
              "                        <td id=\"T_af229ee2_50e6_11ec_a253_0242ac1c0002row0_col0\" class=\"data row0 col0\" >nan</td>\n",
              "                        <td id=\"T_af229ee2_50e6_11ec_a253_0242ac1c0002row0_col1\" class=\"data row0 col1\" >nan</td>\n",
              "                        <td id=\"T_af229ee2_50e6_11ec_a253_0242ac1c0002row0_col2\" class=\"data row0 col2\" >nan</td>\n",
              "                        <td id=\"T_af229ee2_50e6_11ec_a253_0242ac1c0002row0_col3\" class=\"data row0 col3\" >nan</td>\n",
              "                        <td id=\"T_af229ee2_50e6_11ec_a253_0242ac1c0002row0_col4\" class=\"data row0 col4\" >nan</td>\n",
              "                        <td id=\"T_af229ee2_50e6_11ec_a253_0242ac1c0002row0_col5\" class=\"data row0 col5\" >nan</td>\n",
              "                        <td id=\"T_af229ee2_50e6_11ec_a253_0242ac1c0002row0_col6\" class=\"data row0 col6\" >nan</td>\n",
              "            </tr>\n",
              "            <tr>\n",
              "                        <th id=\"T_af229ee2_50e6_11ec_a253_0242ac1c0002level0_row1\" class=\"row_heading level0 row1\" >bedroomcnt</th>\n",
              "                        <td id=\"T_af229ee2_50e6_11ec_a253_0242ac1c0002row1_col0\" class=\"data row1 col0\" >0.69</td>\n",
              "                        <td id=\"T_af229ee2_50e6_11ec_a253_0242ac1c0002row1_col1\" class=\"data row1 col1\" >nan</td>\n",
              "                        <td id=\"T_af229ee2_50e6_11ec_a253_0242ac1c0002row1_col2\" class=\"data row1 col2\" >nan</td>\n",
              "                        <td id=\"T_af229ee2_50e6_11ec_a253_0242ac1c0002row1_col3\" class=\"data row1 col3\" >nan</td>\n",
              "                        <td id=\"T_af229ee2_50e6_11ec_a253_0242ac1c0002row1_col4\" class=\"data row1 col4\" >nan</td>\n",
              "                        <td id=\"T_af229ee2_50e6_11ec_a253_0242ac1c0002row1_col5\" class=\"data row1 col5\" >nan</td>\n",
              "                        <td id=\"T_af229ee2_50e6_11ec_a253_0242ac1c0002row1_col6\" class=\"data row1 col6\" >nan</td>\n",
              "            </tr>\n",
              "            <tr>\n",
              "                        <th id=\"T_af229ee2_50e6_11ec_a253_0242ac1c0002level0_row2\" class=\"row_heading level0 row2\" >calculatedbathnbr</th>\n",
              "                        <td id=\"T_af229ee2_50e6_11ec_a253_0242ac1c0002row2_col0\" class=\"data row2 col0\" >1.00</td>\n",
              "                        <td id=\"T_af229ee2_50e6_11ec_a253_0242ac1c0002row2_col1\" class=\"data row2 col1\" >0.63</td>\n",
              "                        <td id=\"T_af229ee2_50e6_11ec_a253_0242ac1c0002row2_col2\" class=\"data row2 col2\" >nan</td>\n",
              "                        <td id=\"T_af229ee2_50e6_11ec_a253_0242ac1c0002row2_col3\" class=\"data row2 col3\" >nan</td>\n",
              "                        <td id=\"T_af229ee2_50e6_11ec_a253_0242ac1c0002row2_col4\" class=\"data row2 col4\" >nan</td>\n",
              "                        <td id=\"T_af229ee2_50e6_11ec_a253_0242ac1c0002row2_col5\" class=\"data row2 col5\" >nan</td>\n",
              "                        <td id=\"T_af229ee2_50e6_11ec_a253_0242ac1c0002row2_col6\" class=\"data row2 col6\" >nan</td>\n",
              "            </tr>\n",
              "            <tr>\n",
              "                        <th id=\"T_af229ee2_50e6_11ec_a253_0242ac1c0002level0_row3\" class=\"row_heading level0 row3\" >fullbathcnt</th>\n",
              "                        <td id=\"T_af229ee2_50e6_11ec_a253_0242ac1c0002row3_col0\" class=\"data row3 col0\" >0.99</td>\n",
              "                        <td id=\"T_af229ee2_50e6_11ec_a253_0242ac1c0002row3_col1\" class=\"data row3 col1\" >0.63</td>\n",
              "                        <td id=\"T_af229ee2_50e6_11ec_a253_0242ac1c0002row3_col2\" class=\"data row3 col2\" >0.99</td>\n",
              "                        <td id=\"T_af229ee2_50e6_11ec_a253_0242ac1c0002row3_col3\" class=\"data row3 col3\" >nan</td>\n",
              "                        <td id=\"T_af229ee2_50e6_11ec_a253_0242ac1c0002row3_col4\" class=\"data row3 col4\" >nan</td>\n",
              "                        <td id=\"T_af229ee2_50e6_11ec_a253_0242ac1c0002row3_col5\" class=\"data row3 col5\" >nan</td>\n",
              "                        <td id=\"T_af229ee2_50e6_11ec_a253_0242ac1c0002row3_col6\" class=\"data row3 col6\" >nan</td>\n",
              "            </tr>\n",
              "            <tr>\n",
              "                        <th id=\"T_af229ee2_50e6_11ec_a253_0242ac1c0002level0_row4\" class=\"row_heading level0 row4\" >roomcnt</th>\n",
              "                        <td id=\"T_af229ee2_50e6_11ec_a253_0242ac1c0002row4_col0\" class=\"data row4 col0\" >0.05</td>\n",
              "                        <td id=\"T_af229ee2_50e6_11ec_a253_0242ac1c0002row4_col1\" class=\"data row4 col1\" >0.15</td>\n",
              "                        <td id=\"T_af229ee2_50e6_11ec_a253_0242ac1c0002row4_col2\" class=\"data row4 col2\" >0.02</td>\n",
              "                        <td id=\"T_af229ee2_50e6_11ec_a253_0242ac1c0002row4_col3\" class=\"data row4 col3\" >0.03</td>\n",
              "                        <td id=\"T_af229ee2_50e6_11ec_a253_0242ac1c0002row4_col4\" class=\"data row4 col4\" >nan</td>\n",
              "                        <td id=\"T_af229ee2_50e6_11ec_a253_0242ac1c0002row4_col5\" class=\"data row4 col5\" >nan</td>\n",
              "                        <td id=\"T_af229ee2_50e6_11ec_a253_0242ac1c0002row4_col6\" class=\"data row4 col6\" >nan</td>\n",
              "            </tr>\n",
              "            <tr>\n",
              "                        <th id=\"T_af229ee2_50e6_11ec_a253_0242ac1c0002level0_row5\" class=\"row_heading level0 row5\" >unitcnt</th>\n",
              "                        <td id=\"T_af229ee2_50e6_11ec_a253_0242ac1c0002row5_col0\" class=\"data row5 col0\" >0.04</td>\n",
              "                        <td id=\"T_af229ee2_50e6_11ec_a253_0242ac1c0002row5_col1\" class=\"data row5 col1\" >0.06</td>\n",
              "                        <td id=\"T_af229ee2_50e6_11ec_a253_0242ac1c0002row5_col2\" class=\"data row5 col2\" >0.25</td>\n",
              "                        <td id=\"T_af229ee2_50e6_11ec_a253_0242ac1c0002row5_col3\" class=\"data row5 col3\" >0.25</td>\n",
              "                        <td id=\"T_af229ee2_50e6_11ec_a253_0242ac1c0002row5_col4\" class=\"data row5 col4\" >0.01</td>\n",
              "                        <td id=\"T_af229ee2_50e6_11ec_a253_0242ac1c0002row5_col5\" class=\"data row5 col5\" >nan</td>\n",
              "                        <td id=\"T_af229ee2_50e6_11ec_a253_0242ac1c0002row5_col6\" class=\"data row5 col6\" >nan</td>\n",
              "            </tr>\n",
              "            <tr>\n",
              "                        <th id=\"T_af229ee2_50e6_11ec_a253_0242ac1c0002level0_row6\" class=\"row_heading level0 row6\" >taxvaluedollarcnt</th>\n",
              "                        <td id=\"T_af229ee2_50e6_11ec_a253_0242ac1c0002row6_col0\" class=\"data row6 col0\" >0.33</td>\n",
              "                        <td id=\"T_af229ee2_50e6_11ec_a253_0242ac1c0002row6_col1\" class=\"data row6 col1\" >0.15</td>\n",
              "                        <td id=\"T_af229ee2_50e6_11ec_a253_0242ac1c0002row6_col2\" class=\"data row6 col2\" >0.46</td>\n",
              "                        <td id=\"T_af229ee2_50e6_11ec_a253_0242ac1c0002row6_col3\" class=\"data row6 col3\" >0.45</td>\n",
              "                        <td id=\"T_af229ee2_50e6_11ec_a253_0242ac1c0002row6_col4\" class=\"data row6 col4\" >0.00</td>\n",
              "                        <td id=\"T_af229ee2_50e6_11ec_a253_0242ac1c0002row6_col5\" class=\"data row6 col5\" >0.17</td>\n",
              "                        <td id=\"T_af229ee2_50e6_11ec_a253_0242ac1c0002row6_col6\" class=\"data row6 col6\" >nan</td>\n",
              "            </tr>\n",
              "    </tbody></table>"
            ],
            "text/plain": [
              "<pandas.io.formats.style.Styler at 0x7f73661a64d0>"
            ]
          },
          "execution_count": 31,
          "metadata": {},
          "output_type": "execute_result"
        }
      ]
    },
    {
      "cell_type": "markdown",
      "metadata": {
        "id": "CcBrlTZej9LA"
      },
      "source": [
        "\"calculatedbathnbr\", \"bathroomcnt\", \"fullbathcnt\" are highly correlated with eachother, with \"calculatedbathnbr\" and \"bathroomcnt\" being perfectly correlated. "
      ]
    },
    {
      "cell_type": "code",
      "metadata": {
        "colab": {
          "base_uri": "https://localhost:8080/"
        },
        "id": "8YaRSbpVmbJT",
        "outputId": "ae9a1a9b-d8d0-4f8a-fbd6-ebd30314fe91"
      },
      "source": [
        "# Check the number of rows with missing values in each column\n",
        "room_variables_pd.isna().sum()"
      ],
      "execution_count": null,
      "outputs": [
        {
          "data": {
            "text/plain": [
              "bathroomcnt              25\n",
              "bedroomcnt               13\n",
              "calculatedbathnbr     86559\n",
              "fullbathcnt           86559\n",
              "roomcnt                  38\n",
              "unitcnt              965362\n",
              "taxvaluedollarcnt         0\n",
              "dtype: int64"
            ]
          },
          "execution_count": 32,
          "metadata": {},
          "output_type": "execute_result"
        }
      ]
    },
    {
      "cell_type": "markdown",
      "metadata": {
        "id": "qk1RigQ_IuqY"
      },
      "source": [
        "Since \"bathroomcnt\" has the least number of missing values, we will keep that column and remove \"calculatedbathnbr\" and \"fullbathcnt\" to prevent multicolinearity"
      ]
    },
    {
      "cell_type": "code",
      "metadata": {
        "colab": {
          "base_uri": "https://localhost:8080/"
        },
        "id": "zyuuPcP1lfk8",
        "outputId": "3bb9b569-ab57-4220-96b9-b6ec28f6389b"
      },
      "source": [
        "# Add column names to the list of columns to drop\n",
        "cols_to_drop.extend(['calculatedbathnbr', 'fullbathcnt'])\n",
        "cols_to_drop"
      ],
      "execution_count": null,
      "outputs": [
        {
          "data": {
            "text/plain": [
              "['structuretaxvaluedollarcnt',\n",
              " 'landtaxvaluedollarcnt',\n",
              " 'taxamount',\n",
              " 'assessmentyear',\n",
              " 'calculatedbathnbr',\n",
              " 'fullbathcnt']"
            ]
          },
          "execution_count": 33,
          "metadata": {},
          "output_type": "execute_result"
        }
      ]
    },
    {
      "cell_type": "markdown",
      "metadata": {
        "id": "9TP9sOyAtfcb"
      },
      "source": [
        "###2.2.3. Check Correlation of Finished Living Area Related Variables\n",
        "\n",
        "\n"
      ]
    },
    {
      "cell_type": "code",
      "metadata": {
        "colab": {
          "base_uri": "https://localhost:8080/"
        },
        "id": "SQd8rrbdq-1J",
        "outputId": "9705bdfb-fce7-4b24-ba87-f013c24dd55f"
      },
      "source": [
        "zillow_df_drop_na_over80.show()"
      ],
      "execution_count": null,
      "outputs": [
        {
          "name": "stdout",
          "output_type": "stream",
          "text": [
            "+--------+---------------------+-----------+----------+---------------------+-----------------+----------------------------+--------------------+----+-----------+------------+---------------+---------------------+--------+----------+-----------------+-------------------------+---------------------+------------------+----------------------+------------+--------------+--------------------+-----------+-------+-------+---------+---------------+--------------------------+-----------------+--------------+---------------------+---------+-------------------+\n",
            "|parcelid|airconditioningtypeid|bathroomcnt|bedroomcnt|buildingqualitytypeid|calculatedbathnbr|calculatedfinishedsquarefeet|finishedsquarefeet12|fips|fullbathcnt|garagecarcnt|garagetotalsqft|heatingorsystemtypeid|latitude| longitude|lotsizesquarefeet|propertycountylandusecode|propertylandusetypeid|propertyzoningdesc|rawcensustractandblock|regionidcity|regionidcounty|regionidneighborhood|regionidzip|roomcnt|unitcnt|yearbuilt|numberofstories|structuretaxvaluedollarcnt|taxvaluedollarcnt|assessmentyear|landtaxvaluedollarcnt|taxamount|censustractandblock|\n",
            "+--------+---------------------+-----------+----------+---------------------+-----------------+----------------------------+--------------------+----+-----------+------------+---------------+---------------------+--------+----------+-----------------+-------------------------+---------------------+------------------+----------------------+------------+--------------+--------------------+-----------+-------+-------+---------+---------------+--------------------------+-----------------+--------------+---------------------+---------+-------------------+\n",
            "|10754147|                 null|        0.0|       0.0|                 null|             null|                        null|                null|6037|       null|        null|           null|                 null|34144442|-118654084|          85768.0|                     010D|                  269|              null|        6.0378002041E7|       37688|          3101|                null|      96337|    0.0|   null|     null|           null|                      null|              9.0|          2015|                  9.0|     null|               null|\n",
            "|10759547|                 null|        0.0|       0.0|                 null|             null|                        null|                null|6037|       null|        null|           null|                 null|34140430|-118625364|           4083.0|                     0109|                  261|            LCA11*|     6.0378001011002E7|       37688|          3101|                null|      96337|    0.0|   null|     null|           null|                      null|          27516.0|          2015|              27516.0|     null|               null|\n",
            "|10843547|                 null|        0.0|       0.0|                 null|             null|                     73026.0|                null|6037|       null|        null|           null|                 null|33989359|-118394633|          63085.0|                     1200|                   47|              LAC2|     6.0377030012017E7|       51617|          3101|                null|      96095|    0.0|      2|     null|           null|                  650756.0|        1413387.0|          2015|             762631.0| 20800.37|               null|\n",
            "|10859147|                 null|        0.0|       0.0|                    7|             null|                      5068.0|                null|6037|       null|        null|           null|                 null|34148863|-118437206|           7521.0|                     1200|                   47|              LAC2|     6.0371412023001E7|       12447|          3101|               27080|      96424|    0.0|   null|   1948.0|              1|                  571346.0|        1156834.0|          2015|             585488.0| 14557.57|               null|\n",
            "|10879947|                 null|        0.0|       0.0|                 null|             null|                      1776.0|                null|6037|       null|        null|           null|                 null|34194168|-118385816|           8512.0|                     1210|                   31|              LAM1|     6.0371232052003E7|       12447|          3101|               46795|      96450|    0.0|      1|   1947.0|           null|                  193796.0|         433491.0|          2015|             239695.0|  5725.17|               null|\n",
            "|10898347|                 null|        0.0|       0.0|                    7|             null|                      2400.0|                null|6037|       null|        null|           null|                 null|34171873|-118380906|           2500.0|                     1210|                   31|              LAC4|        6.0371252001E7|       12447|          3101|               46795|      96446|    0.0|   null|   1943.0|              1|                  176383.0|         283315.0|          2015|             106932.0|  3661.28|               null|\n",
            "|10933547|                 null|        0.0|       0.0|                 null|             null|                        null|                null|6037|       null|        null|           null|                 null|34131929|-118351474|             null|                     010V|                  260|              LAC2|      6.037143700101E7|       12447|          3101|              274049|      96049|    0.0|   null|     null|           null|                  397945.0|         554573.0|          2015|             156628.0|  6773.34|               null|\n",
            "|10940747|                 null|        0.0|       0.0|                 null|             null|                      3611.0|                null|6037|       null|        null|           null|                 null|34171345|-118314900|           5333.0|                     1210|                   31|            BUC4YY|     6.0373108003004E7|      396054|          3101|                null|      96434|    0.0|   null|   1946.0|              1|                  101998.0|         688486.0|          2015|             586488.0|  7857.84|               null|\n",
            "|10954547|                 null|        0.0|       0.0|                 null|             null|                        null|                null|6037|       null|        null|           null|                 null|34218210|-118331311|         145865.0|                     010D|                  269|             BUR1*|     6.0373101003001E7|      396054|          3101|                null|      96436|    0.0|   null|     null|           null|                      null|              9.0|          2015|                  9.0|     null|               null|\n",
            "|10976347|                 null|        0.0|       0.0|                    7|             null|                      3754.0|                null|6037|       null|        null|           null|                 null|34289776|-118432085|           7494.0|                     1210|                   31|             SFC2*|     6.0373202023005E7|       47547|          3101|                null|      96366|    0.0|   null|   1978.0|              1|                  218440.0|         261201.0|          2015|              42761.0|  4054.76|               null|\n",
            "|11073947|                 null|        0.0|       0.0|                 null|             null|                      2470.0|                null|6037|       null|        null|           null|                 null|34265214|-118520217|           3423.0|                     1200|                   47|              LAC2|     6.0371112022021E7|       12447|          3101|               31817|      96370|    0.0|   null|   1958.0|              1|                  245834.0|         430208.0|          2015|             184374.0|  6014.18|               null|\n",
            "|11114347|                 null|        0.0|       0.0|                 null|             null|                        null|                null|6037|       null|        null|           null|                 null|34447747|-118565056|          81293.0|                     010D|                  269|             SCUR3|     6.0379201081013E7|        null|          3101|                null|      96377|    0.0|   null|     null|           null|                      null|              9.0|          2015|                  9.0|     null|               null|\n",
            "|11116947|                 null|        0.0|       0.0|                 null|             null|                        null|                null|6037|       null|        null|           null|                 null|34465048|-118568166|           6286.0|                     010D|                  269|            LCA25*|     6.0379201071002E7|        null|          3101|                null|      96377|    0.0|   null|     null|           null|                      null|         171200.0|          2015|             171200.0|  4690.68|               null|\n",
            "|11142747|                 null|        0.0|       0.0|                 null|             null|                        null|                null|6037|       null|        null|           null|                 null|34416889|-118505805|             null|                     300V|                  266|              SCBP|        6.0379203142E7|       54311|          3101|               37739|      96373|    0.0|   null|     null|           null|                      null|           4265.0|          2015|               4265.0|     null|               null|\n",
            "|11193347|                 null|        0.0|       0.0|                 null|             null|                        null|                null|6037|       null|        null|           null|                 null|34585014|-118162010|          11975.0|                     0100|                  261|             PDA1*|      6.037910401101E7|       40227|          3101|                null|      97329|    0.0|   null|     null|           null|                      null|             10.0|          2015|                 10.0|     null|               null|\n",
            "|11215747|                 null|        0.0|       0.0|                 null|             null|                        null|                null|6037|       null|        null|           null|                 null|34563376|-118019104|           9403.0|                     0100|                  261|            PDA21*|      6.037910705102E7|       40227|          3101|                null|      97330|    0.0|   null|     null|           null|                      null|             10.0|          2015|                 10.0|     null|               null|\n",
            "|11229347|                 null|        0.0|       0.0|                 null|             null|                        null|                null|6037|       null|        null|           null|                 null|34526913|-118050581|           3817.0|                     0100|                  261|            LCA21*|     6.0379107091112E7|       40227|          3101|                null|      97330|    0.0|   null|     null|           null|                      null|           2077.0|          2015|               2077.0|   174.21|               null|\n",
            "|11287347|                 null|        0.0|       0.0|                    7|             null|                      2760.0|                null|6037|       null|        null|           null|                 null|34690736|-118135225|           8856.0|                     1210|                   31|             LRC3*|     6.0379008061041E7|        5534|          3101|                null|      97317|    0.0|   null|   1949.0|           null|                   32654.0|          62424.0|          2015|              29770.0|  2330.24|               null|\n",
            "|11288547|                 null|        0.0|       0.0|                    7|             null|                      4000.0|                4000|6037|       null|        null|           null|                 null|34733960|-118139298|          46526.0|                     300V|                  260|              LCM*|     6.0379003001052E7|        5534|          3101|                null|      97318|    0.0|   null|   1956.0|           null|                   56736.0|         102385.0|          2015|              45649.0|  4162.56|               null|\n",
            "|11324547|                    1|        2.0|       4.0|                    4|              2.0|                      3633.0|                3633|6037|          2|        null|           null|                    2|34560018|-118169806|           9826.0|                     0100|                  261|             LCA22|       6.03791020611E7|       40227|          3101|                null|      97329|    0.0|      1|   2005.0|           null|                  218982.0|         291973.0|          2015|              72991.0|  6941.39|               null|\n",
            "+--------+---------------------+-----------+----------+---------------------+-----------------+----------------------------+--------------------+----+-----------+------------+---------------+---------------------+--------+----------+-----------------+-------------------------+---------------------+------------------+----------------------+------------+--------------+--------------------+-----------+-------+-------+---------+---------------+--------------------------+-----------------+--------------+---------------------+---------+-------------------+\n",
            "only showing top 20 rows\n",
            "\n"
          ]
        }
      ]
    },
    {
      "cell_type": "code",
      "metadata": {
        "id": "nOaskb6mqOfL"
      },
      "source": [
        "# Create a df with only columns with only the Living Area related variables \n",
        "living_area_variables_df = zillow_df_drop_na_over80.select('calculatedfinishedsquarefeet', 'finishedsquarefeet12', 'garagetotalsqft', 'garagecarcnt', 'lotsizesquarefeet','taxvaluedollarcnt')\n",
        "living_area_variables_pd = living_area_variables_df.toPandas()"
      ],
      "execution_count": null,
      "outputs": []
    },
    {
      "cell_type": "code",
      "metadata": {
        "colab": {
          "base_uri": "https://localhost:8080/",
          "height": 255
        },
        "id": "xEd8XG8JoKx-",
        "outputId": "a3049bcd-f03a-4228-bc68-2140c1d6a530"
      },
      "source": [
        "# Get the absolute correlations of the variables\n",
        "living_area_corr_matrix= living_area_variables_pd.corr().abs()\n",
        "\n",
        "# Plot Correlation matrix graph and hide diagonal and upper half values\n",
        "mask = np.zeros_like(living_area_corr_matrix, dtype=bool)\n",
        "mask[np.triu_indices_from(mask)] = True\n",
        "living_area_corr_matrix[mask] = np.nan\n",
        "(living_area_corr_matrix\n",
        " .style\n",
        " .background_gradient(cmap='coolwarm', axis=None, vmin=-1, vmax=1)\n",
        " .highlight_null(null_color='#f1f1f1')  # Color NaNs grey\n",
        " .set_precision(2))"
      ],
      "execution_count": null,
      "outputs": [
        {
          "data": {
            "text/html": [
              "<style  type=\"text/css\" >\n",
              "#T_b602f57c_50e6_11ec_a253_0242ac1c0002row0_col0,#T_b602f57c_50e6_11ec_a253_0242ac1c0002row0_col1,#T_b602f57c_50e6_11ec_a253_0242ac1c0002row0_col2,#T_b602f57c_50e6_11ec_a253_0242ac1c0002row0_col3,#T_b602f57c_50e6_11ec_a253_0242ac1c0002row0_col4,#T_b602f57c_50e6_11ec_a253_0242ac1c0002row0_col5,#T_b602f57c_50e6_11ec_a253_0242ac1c0002row1_col1,#T_b602f57c_50e6_11ec_a253_0242ac1c0002row1_col2,#T_b602f57c_50e6_11ec_a253_0242ac1c0002row1_col3,#T_b602f57c_50e6_11ec_a253_0242ac1c0002row1_col4,#T_b602f57c_50e6_11ec_a253_0242ac1c0002row1_col5,#T_b602f57c_50e6_11ec_a253_0242ac1c0002row2_col2,#T_b602f57c_50e6_11ec_a253_0242ac1c0002row2_col3,#T_b602f57c_50e6_11ec_a253_0242ac1c0002row2_col4,#T_b602f57c_50e6_11ec_a253_0242ac1c0002row2_col5,#T_b602f57c_50e6_11ec_a253_0242ac1c0002row3_col3,#T_b602f57c_50e6_11ec_a253_0242ac1c0002row3_col4,#T_b602f57c_50e6_11ec_a253_0242ac1c0002row3_col5,#T_b602f57c_50e6_11ec_a253_0242ac1c0002row4_col4,#T_b602f57c_50e6_11ec_a253_0242ac1c0002row4_col5,#T_b602f57c_50e6_11ec_a253_0242ac1c0002row5_col5{\n",
              "            background-color:  #000000;\n",
              "            color:  #f1f1f1;\n",
              "            background-color:  #f1f1f1;\n",
              "        }#T_b602f57c_50e6_11ec_a253_0242ac1c0002row1_col0{\n",
              "            background-color:  #b40426;\n",
              "            color:  #f1f1f1;\n",
              "        }#T_b602f57c_50e6_11ec_a253_0242ac1c0002row2_col0{\n",
              "            background-color:  #f29072;\n",
              "            color:  #000000;\n",
              "        }#T_b602f57c_50e6_11ec_a253_0242ac1c0002row2_col1,#T_b602f57c_50e6_11ec_a253_0242ac1c0002row5_col1{\n",
              "            background-color:  #ee8468;\n",
              "            color:  #000000;\n",
              "        }#T_b602f57c_50e6_11ec_a253_0242ac1c0002row3_col0{\n",
              "            background-color:  #f6a586;\n",
              "            color:  #000000;\n",
              "        }#T_b602f57c_50e6_11ec_a253_0242ac1c0002row3_col1{\n",
              "            background-color:  #f39475;\n",
              "            color:  #000000;\n",
              "        }#T_b602f57c_50e6_11ec_a253_0242ac1c0002row3_col2{\n",
              "            background-color:  #e8765c;\n",
              "            color:  #000000;\n",
              "        }#T_b602f57c_50e6_11ec_a253_0242ac1c0002row4_col0,#T_b602f57c_50e6_11ec_a253_0242ac1c0002row4_col1,#T_b602f57c_50e6_11ec_a253_0242ac1c0002row4_col2,#T_b602f57c_50e6_11ec_a253_0242ac1c0002row4_col3,#T_b602f57c_50e6_11ec_a253_0242ac1c0002row5_col4{\n",
              "            background-color:  #dddcdc;\n",
              "            color:  #000000;\n",
              "        }#T_b602f57c_50e6_11ec_a253_0242ac1c0002row5_col0{\n",
              "            background-color:  #f29274;\n",
              "            color:  #000000;\n",
              "        }#T_b602f57c_50e6_11ec_a253_0242ac1c0002row5_col2{\n",
              "            background-color:  #f7ba9f;\n",
              "            color:  #000000;\n",
              "        }#T_b602f57c_50e6_11ec_a253_0242ac1c0002row5_col3{\n",
              "            background-color:  #f7b99e;\n",
              "            color:  #000000;\n",
              "        }</style><table id=\"T_b602f57c_50e6_11ec_a253_0242ac1c0002\" class=\"dataframe\"><thead>    <tr>        <th class=\"blank level0\" ></th>        <th class=\"col_heading level0 col0\" >calculatedfinishedsquarefeet</th>        <th class=\"col_heading level0 col1\" >finishedsquarefeet12</th>        <th class=\"col_heading level0 col2\" >garagetotalsqft</th>        <th class=\"col_heading level0 col3\" >garagecarcnt</th>        <th class=\"col_heading level0 col4\" >lotsizesquarefeet</th>        <th class=\"col_heading level0 col5\" >taxvaluedollarcnt</th>    </tr></thead><tbody>\n",
              "                <tr>\n",
              "                        <th id=\"T_b602f57c_50e6_11ec_a253_0242ac1c0002level0_row0\" class=\"row_heading level0 row0\" >calculatedfinishedsquarefeet</th>\n",
              "                        <td id=\"T_b602f57c_50e6_11ec_a253_0242ac1c0002row0_col0\" class=\"data row0 col0\" >nan</td>\n",
              "                        <td id=\"T_b602f57c_50e6_11ec_a253_0242ac1c0002row0_col1\" class=\"data row0 col1\" >nan</td>\n",
              "                        <td id=\"T_b602f57c_50e6_11ec_a253_0242ac1c0002row0_col2\" class=\"data row0 col2\" >nan</td>\n",
              "                        <td id=\"T_b602f57c_50e6_11ec_a253_0242ac1c0002row0_col3\" class=\"data row0 col3\" >nan</td>\n",
              "                        <td id=\"T_b602f57c_50e6_11ec_a253_0242ac1c0002row0_col4\" class=\"data row0 col4\" >nan</td>\n",
              "                        <td id=\"T_b602f57c_50e6_11ec_a253_0242ac1c0002row0_col5\" class=\"data row0 col5\" >nan</td>\n",
              "            </tr>\n",
              "            <tr>\n",
              "                        <th id=\"T_b602f57c_50e6_11ec_a253_0242ac1c0002level0_row1\" class=\"row_heading level0 row1\" >finishedsquarefeet12</th>\n",
              "                        <td id=\"T_b602f57c_50e6_11ec_a253_0242ac1c0002row1_col0\" class=\"data row1 col0\" >1.00</td>\n",
              "                        <td id=\"T_b602f57c_50e6_11ec_a253_0242ac1c0002row1_col1\" class=\"data row1 col1\" >nan</td>\n",
              "                        <td id=\"T_b602f57c_50e6_11ec_a253_0242ac1c0002row1_col2\" class=\"data row1 col2\" >nan</td>\n",
              "                        <td id=\"T_b602f57c_50e6_11ec_a253_0242ac1c0002row1_col3\" class=\"data row1 col3\" >nan</td>\n",
              "                        <td id=\"T_b602f57c_50e6_11ec_a253_0242ac1c0002row1_col4\" class=\"data row1 col4\" >nan</td>\n",
              "                        <td id=\"T_b602f57c_50e6_11ec_a253_0242ac1c0002row1_col5\" class=\"data row1 col5\" >nan</td>\n",
              "            </tr>\n",
              "            <tr>\n",
              "                        <th id=\"T_b602f57c_50e6_11ec_a253_0242ac1c0002level0_row2\" class=\"row_heading level0 row2\" >garagetotalsqft</th>\n",
              "                        <td id=\"T_b602f57c_50e6_11ec_a253_0242ac1c0002row2_col0\" class=\"data row2 col0\" >0.55</td>\n",
              "                        <td id=\"T_b602f57c_50e6_11ec_a253_0242ac1c0002row2_col1\" class=\"data row2 col1\" >0.60</td>\n",
              "                        <td id=\"T_b602f57c_50e6_11ec_a253_0242ac1c0002row2_col2\" class=\"data row2 col2\" >nan</td>\n",
              "                        <td id=\"T_b602f57c_50e6_11ec_a253_0242ac1c0002row2_col3\" class=\"data row2 col3\" >nan</td>\n",
              "                        <td id=\"T_b602f57c_50e6_11ec_a253_0242ac1c0002row2_col4\" class=\"data row2 col4\" >nan</td>\n",
              "                        <td id=\"T_b602f57c_50e6_11ec_a253_0242ac1c0002row2_col5\" class=\"data row2 col5\" >nan</td>\n",
              "            </tr>\n",
              "            <tr>\n",
              "                        <th id=\"T_b602f57c_50e6_11ec_a253_0242ac1c0002level0_row3\" class=\"row_heading level0 row3\" >garagecarcnt</th>\n",
              "                        <td id=\"T_b602f57c_50e6_11ec_a253_0242ac1c0002row3_col0\" class=\"data row3 col0\" >0.44</td>\n",
              "                        <td id=\"T_b602f57c_50e6_11ec_a253_0242ac1c0002row3_col1\" class=\"data row3 col1\" >0.53</td>\n",
              "                        <td id=\"T_b602f57c_50e6_11ec_a253_0242ac1c0002row3_col2\" class=\"data row3 col2\" >0.66</td>\n",
              "                        <td id=\"T_b602f57c_50e6_11ec_a253_0242ac1c0002row3_col3\" class=\"data row3 col3\" >nan</td>\n",
              "                        <td id=\"T_b602f57c_50e6_11ec_a253_0242ac1c0002row3_col4\" class=\"data row3 col4\" >nan</td>\n",
              "                        <td id=\"T_b602f57c_50e6_11ec_a253_0242ac1c0002row3_col5\" class=\"data row3 col5\" >nan</td>\n",
              "            </tr>\n",
              "            <tr>\n",
              "                        <th id=\"T_b602f57c_50e6_11ec_a253_0242ac1c0002level0_row4\" class=\"row_heading level0 row4\" >lotsizesquarefeet</th>\n",
              "                        <td id=\"T_b602f57c_50e6_11ec_a253_0242ac1c0002row4_col0\" class=\"data row4 col0\" >0.00</td>\n",
              "                        <td id=\"T_b602f57c_50e6_11ec_a253_0242ac1c0002row4_col1\" class=\"data row4 col1\" >0.00</td>\n",
              "                        <td id=\"T_b602f57c_50e6_11ec_a253_0242ac1c0002row4_col2\" class=\"data row4 col2\" >0.01</td>\n",
              "                        <td id=\"T_b602f57c_50e6_11ec_a253_0242ac1c0002row4_col3\" class=\"data row4 col3\" >0.01</td>\n",
              "                        <td id=\"T_b602f57c_50e6_11ec_a253_0242ac1c0002row4_col4\" class=\"data row4 col4\" >nan</td>\n",
              "                        <td id=\"T_b602f57c_50e6_11ec_a253_0242ac1c0002row4_col5\" class=\"data row4 col5\" >nan</td>\n",
              "            </tr>\n",
              "            <tr>\n",
              "                        <th id=\"T_b602f57c_50e6_11ec_a253_0242ac1c0002level0_row5\" class=\"row_heading level0 row5\" >taxvaluedollarcnt</th>\n",
              "                        <td id=\"T_b602f57c_50e6_11ec_a253_0242ac1c0002row5_col0\" class=\"data row5 col0\" >0.54</td>\n",
              "                        <td id=\"T_b602f57c_50e6_11ec_a253_0242ac1c0002row5_col1\" class=\"data row5 col1\" >0.60</td>\n",
              "                        <td id=\"T_b602f57c_50e6_11ec_a253_0242ac1c0002row5_col2\" class=\"data row5 col2\" >0.32</td>\n",
              "                        <td id=\"T_b602f57c_50e6_11ec_a253_0242ac1c0002row5_col3\" class=\"data row5 col3\" >0.32</td>\n",
              "                        <td id=\"T_b602f57c_50e6_11ec_a253_0242ac1c0002row5_col4\" class=\"data row5 col4\" >0.00</td>\n",
              "                        <td id=\"T_b602f57c_50e6_11ec_a253_0242ac1c0002row5_col5\" class=\"data row5 col5\" >nan</td>\n",
              "            </tr>\n",
              "    </tbody></table>"
            ],
            "text/plain": [
              "<pandas.io.formats.style.Styler at 0x7f7386083390>"
            ]
          },
          "execution_count": 36,
          "metadata": {},
          "output_type": "execute_result"
        }
      ]
    },
    {
      "cell_type": "markdown",
      "metadata": {
        "id": "Efeyaomh6BxZ"
      },
      "source": [
        "\"finishedsquarefeet12\" and \"calculatedfinishedsquarefeet\" are perfectly correlated, and since \"finishedsquarefeet12\" has more missing values compared to \"calculatedfinishedsquarefeet\", we should remove that column and keep the other. We also should remove \"garagecarcnt\" since it is highly correlated to \"garagetotalsqft\""
      ]
    },
    {
      "cell_type": "code",
      "metadata": {
        "colab": {
          "base_uri": "https://localhost:8080/"
        },
        "id": "MVt8vUQr58lw",
        "outputId": "b87187ba-09bc-416c-9c97-d261f185a0cd"
      },
      "source": [
        "# Check the number of rows with missing values in each column\n",
        "living_area_variables_pd.isna().sum()"
      ],
      "execution_count": null,
      "outputs": [
        {
          "data": {
            "text/plain": [
              "calculatedfinishedsquarefeet      42228\n",
              "finishedsquarefeet12             258377\n",
              "garagetotalsqft                 2059420\n",
              "garagecarcnt                    2059420\n",
              "lotsizesquarefeet                234077\n",
              "taxvaluedollarcnt                     0\n",
              "dtype: int64"
            ]
          },
          "execution_count": 37,
          "metadata": {},
          "output_type": "execute_result"
        }
      ]
    },
    {
      "cell_type": "code",
      "metadata": {
        "colab": {
          "base_uri": "https://localhost:8080/"
        },
        "id": "CBShi9_V5vxe",
        "outputId": "6140077a-7003-402a-d06c-6cd2d93c0f7c"
      },
      "source": [
        "# Add column names to the list of columns to drop\n",
        "cols_to_drop.extend(['finishedsquarefeet12','garagecarcnt'])\n",
        "cols_to_drop"
      ],
      "execution_count": null,
      "outputs": [
        {
          "data": {
            "text/plain": [
              "['structuretaxvaluedollarcnt',\n",
              " 'landtaxvaluedollarcnt',\n",
              " 'taxamount',\n",
              " 'assessmentyear',\n",
              " 'calculatedbathnbr',\n",
              " 'fullbathcnt',\n",
              " 'finishedsquarefeet12',\n",
              " 'garagecarcnt']"
            ]
          },
          "execution_count": 38,
          "metadata": {},
          "output_type": "execute_result"
        }
      ]
    },
    {
      "cell_type": "markdown",
      "metadata": {
        "id": "On8D1JTXYEBE"
      },
      "source": [
        "###2.2.4. Check Correlation of Region Variables"
      ]
    },
    {
      "cell_type": "code",
      "metadata": {
        "id": "g_ywKw8yW43Y"
      },
      "source": [
        "# Create a df with only columns with only the finished living area related variables \n",
        "region_variables_df = zillow_df_drop_na_over80.select('regionidzip', 'regionidneighborhood', 'regionidcounty','regionidcity','propertylandusetypeid','taxvaluedollarcnt')\n",
        "region_variables_pd = region_variables_df.toPandas()"
      ],
      "execution_count": null,
      "outputs": []
    },
    {
      "cell_type": "code",
      "metadata": {
        "colab": {
          "base_uri": "https://localhost:8080/",
          "height": 235
        },
        "id": "rSwb_ZlqVsxp",
        "outputId": "e4bdb24c-a740-4ef8-d25d-a24988cacb61"
      },
      "source": [
        "# Get the absolute correlations of the variables\n",
        "region_corr_matrix= region_variables_pd.corr().abs()\n",
        "\n",
        "# Plot Correlation matrix graph and hide diagonal and upper half values\n",
        "mask = np.zeros_like(region_corr_matrix, dtype=bool)\n",
        "mask[np.triu_indices_from(mask)] = True\n",
        "region_corr_matrix[mask] = np.nan\n",
        "(region_corr_matrix\n",
        " .style\n",
        " .background_gradient(cmap='coolwarm', axis=None, vmin=-1, vmax=1)\n",
        " .highlight_null(null_color='#f1f1f1')  # Color NaNs grey\n",
        " .set_precision(2))"
      ],
      "execution_count": null,
      "outputs": [
        {
          "data": {
            "text/html": [
              "<style  type=\"text/css\" >\n",
              "#T_bc6e4538_50e6_11ec_a253_0242ac1c0002row0_col0,#T_bc6e4538_50e6_11ec_a253_0242ac1c0002row0_col1,#T_bc6e4538_50e6_11ec_a253_0242ac1c0002row0_col2,#T_bc6e4538_50e6_11ec_a253_0242ac1c0002row0_col3,#T_bc6e4538_50e6_11ec_a253_0242ac1c0002row0_col4,#T_bc6e4538_50e6_11ec_a253_0242ac1c0002row0_col5,#T_bc6e4538_50e6_11ec_a253_0242ac1c0002row1_col1,#T_bc6e4538_50e6_11ec_a253_0242ac1c0002row1_col2,#T_bc6e4538_50e6_11ec_a253_0242ac1c0002row1_col3,#T_bc6e4538_50e6_11ec_a253_0242ac1c0002row1_col4,#T_bc6e4538_50e6_11ec_a253_0242ac1c0002row1_col5,#T_bc6e4538_50e6_11ec_a253_0242ac1c0002row2_col2,#T_bc6e4538_50e6_11ec_a253_0242ac1c0002row2_col3,#T_bc6e4538_50e6_11ec_a253_0242ac1c0002row2_col4,#T_bc6e4538_50e6_11ec_a253_0242ac1c0002row2_col5,#T_bc6e4538_50e6_11ec_a253_0242ac1c0002row3_col3,#T_bc6e4538_50e6_11ec_a253_0242ac1c0002row3_col4,#T_bc6e4538_50e6_11ec_a253_0242ac1c0002row3_col5,#T_bc6e4538_50e6_11ec_a253_0242ac1c0002row4_col4,#T_bc6e4538_50e6_11ec_a253_0242ac1c0002row4_col5,#T_bc6e4538_50e6_11ec_a253_0242ac1c0002row5_col5{\n",
              "            background-color:  #000000;\n",
              "            color:  #f1f1f1;\n",
              "            background-color:  #f1f1f1;\n",
              "        }#T_bc6e4538_50e6_11ec_a253_0242ac1c0002row1_col0{\n",
              "            background-color:  #e9d5cb;\n",
              "            color:  #000000;\n",
              "        }#T_bc6e4538_50e6_11ec_a253_0242ac1c0002row2_col0,#T_bc6e4538_50e6_11ec_a253_0242ac1c0002row5_col4{\n",
              "            background-color:  #e5d8d1;\n",
              "            color:  #000000;\n",
              "        }#T_bc6e4538_50e6_11ec_a253_0242ac1c0002row2_col1{\n",
              "            background-color:  #f0cdbb;\n",
              "            color:  #000000;\n",
              "        }#T_bc6e4538_50e6_11ec_a253_0242ac1c0002row3_col0,#T_bc6e4538_50e6_11ec_a253_0242ac1c0002row4_col0,#T_bc6e4538_50e6_11ec_a253_0242ac1c0002row4_col3,#T_bc6e4538_50e6_11ec_a253_0242ac1c0002row5_col0,#T_bc6e4538_50e6_11ec_a253_0242ac1c0002row5_col1{\n",
              "            background-color:  #dedcdb;\n",
              "            color:  #000000;\n",
              "        }#T_bc6e4538_50e6_11ec_a253_0242ac1c0002row3_col1{\n",
              "            background-color:  #f6bda2;\n",
              "            color:  #000000;\n",
              "        }#T_bc6e4538_50e6_11ec_a253_0242ac1c0002row3_col2{\n",
              "            background-color:  #e4d9d2;\n",
              "            color:  #000000;\n",
              "        }#T_bc6e4538_50e6_11ec_a253_0242ac1c0002row4_col1,#T_bc6e4538_50e6_11ec_a253_0242ac1c0002row5_col3{\n",
              "            background-color:  #dfdbd9;\n",
              "            color:  #000000;\n",
              "        }#T_bc6e4538_50e6_11ec_a253_0242ac1c0002row4_col2{\n",
              "            background-color:  #e6d7cf;\n",
              "            color:  #000000;\n",
              "        }#T_bc6e4538_50e6_11ec_a253_0242ac1c0002row5_col2{\n",
              "            background-color:  #e0dbd8;\n",
              "            color:  #000000;\n",
              "        }</style><table id=\"T_bc6e4538_50e6_11ec_a253_0242ac1c0002\" class=\"dataframe\"><thead>    <tr>        <th class=\"blank level0\" ></th>        <th class=\"col_heading level0 col0\" >regionidzip</th>        <th class=\"col_heading level0 col1\" >regionidneighborhood</th>        <th class=\"col_heading level0 col2\" >regionidcounty</th>        <th class=\"col_heading level0 col3\" >regionidcity</th>        <th class=\"col_heading level0 col4\" >propertylandusetypeid</th>        <th class=\"col_heading level0 col5\" >taxvaluedollarcnt</th>    </tr></thead><tbody>\n",
              "                <tr>\n",
              "                        <th id=\"T_bc6e4538_50e6_11ec_a253_0242ac1c0002level0_row0\" class=\"row_heading level0 row0\" >regionidzip</th>\n",
              "                        <td id=\"T_bc6e4538_50e6_11ec_a253_0242ac1c0002row0_col0\" class=\"data row0 col0\" >nan</td>\n",
              "                        <td id=\"T_bc6e4538_50e6_11ec_a253_0242ac1c0002row0_col1\" class=\"data row0 col1\" >nan</td>\n",
              "                        <td id=\"T_bc6e4538_50e6_11ec_a253_0242ac1c0002row0_col2\" class=\"data row0 col2\" >nan</td>\n",
              "                        <td id=\"T_bc6e4538_50e6_11ec_a253_0242ac1c0002row0_col3\" class=\"data row0 col3\" >nan</td>\n",
              "                        <td id=\"T_bc6e4538_50e6_11ec_a253_0242ac1c0002row0_col4\" class=\"data row0 col4\" >nan</td>\n",
              "                        <td id=\"T_bc6e4538_50e6_11ec_a253_0242ac1c0002row0_col5\" class=\"data row0 col5\" >nan</td>\n",
              "            </tr>\n",
              "            <tr>\n",
              "                        <th id=\"T_bc6e4538_50e6_11ec_a253_0242ac1c0002level0_row1\" class=\"row_heading level0 row1\" >regionidneighborhood</th>\n",
              "                        <td id=\"T_bc6e4538_50e6_11ec_a253_0242ac1c0002row1_col0\" class=\"data row1 col0\" >0.10</td>\n",
              "                        <td id=\"T_bc6e4538_50e6_11ec_a253_0242ac1c0002row1_col1\" class=\"data row1 col1\" >nan</td>\n",
              "                        <td id=\"T_bc6e4538_50e6_11ec_a253_0242ac1c0002row1_col2\" class=\"data row1 col2\" >nan</td>\n",
              "                        <td id=\"T_bc6e4538_50e6_11ec_a253_0242ac1c0002row1_col3\" class=\"data row1 col3\" >nan</td>\n",
              "                        <td id=\"T_bc6e4538_50e6_11ec_a253_0242ac1c0002row1_col4\" class=\"data row1 col4\" >nan</td>\n",
              "                        <td id=\"T_bc6e4538_50e6_11ec_a253_0242ac1c0002row1_col5\" class=\"data row1 col5\" >nan</td>\n",
              "            </tr>\n",
              "            <tr>\n",
              "                        <th id=\"T_bc6e4538_50e6_11ec_a253_0242ac1c0002level0_row2\" class=\"row_heading level0 row2\" >regionidcounty</th>\n",
              "                        <td id=\"T_bc6e4538_50e6_11ec_a253_0242ac1c0002row2_col0\" class=\"data row2 col0\" >0.07</td>\n",
              "                        <td id=\"T_bc6e4538_50e6_11ec_a253_0242ac1c0002row2_col1\" class=\"data row2 col1\" >0.18</td>\n",
              "                        <td id=\"T_bc6e4538_50e6_11ec_a253_0242ac1c0002row2_col2\" class=\"data row2 col2\" >nan</td>\n",
              "                        <td id=\"T_bc6e4538_50e6_11ec_a253_0242ac1c0002row2_col3\" class=\"data row2 col3\" >nan</td>\n",
              "                        <td id=\"T_bc6e4538_50e6_11ec_a253_0242ac1c0002row2_col4\" class=\"data row2 col4\" >nan</td>\n",
              "                        <td id=\"T_bc6e4538_50e6_11ec_a253_0242ac1c0002row2_col5\" class=\"data row2 col5\" >nan</td>\n",
              "            </tr>\n",
              "            <tr>\n",
              "                        <th id=\"T_bc6e4538_50e6_11ec_a253_0242ac1c0002level0_row3\" class=\"row_heading level0 row3\" >regionidcity</th>\n",
              "                        <td id=\"T_bc6e4538_50e6_11ec_a253_0242ac1c0002row3_col0\" class=\"data row3 col0\" >0.01</td>\n",
              "                        <td id=\"T_bc6e4538_50e6_11ec_a253_0242ac1c0002row3_col1\" class=\"data row3 col1\" >0.30</td>\n",
              "                        <td id=\"T_bc6e4538_50e6_11ec_a253_0242ac1c0002row3_col2\" class=\"data row3 col2\" >0.06</td>\n",
              "                        <td id=\"T_bc6e4538_50e6_11ec_a253_0242ac1c0002row3_col3\" class=\"data row3 col3\" >nan</td>\n",
              "                        <td id=\"T_bc6e4538_50e6_11ec_a253_0242ac1c0002row3_col4\" class=\"data row3 col4\" >nan</td>\n",
              "                        <td id=\"T_bc6e4538_50e6_11ec_a253_0242ac1c0002row3_col5\" class=\"data row3 col5\" >nan</td>\n",
              "            </tr>\n",
              "            <tr>\n",
              "                        <th id=\"T_bc6e4538_50e6_11ec_a253_0242ac1c0002level0_row4\" class=\"row_heading level0 row4\" >propertylandusetypeid</th>\n",
              "                        <td id=\"T_bc6e4538_50e6_11ec_a253_0242ac1c0002row4_col0\" class=\"data row4 col0\" >0.01</td>\n",
              "                        <td id=\"T_bc6e4538_50e6_11ec_a253_0242ac1c0002row4_col1\" class=\"data row4 col1\" >0.02</td>\n",
              "                        <td id=\"T_bc6e4538_50e6_11ec_a253_0242ac1c0002row4_col2\" class=\"data row4 col2\" >0.07</td>\n",
              "                        <td id=\"T_bc6e4538_50e6_11ec_a253_0242ac1c0002row4_col3\" class=\"data row4 col3\" >0.01</td>\n",
              "                        <td id=\"T_bc6e4538_50e6_11ec_a253_0242ac1c0002row4_col4\" class=\"data row4 col4\" >nan</td>\n",
              "                        <td id=\"T_bc6e4538_50e6_11ec_a253_0242ac1c0002row4_col5\" class=\"data row4 col5\" >nan</td>\n",
              "            </tr>\n",
              "            <tr>\n",
              "                        <th id=\"T_bc6e4538_50e6_11ec_a253_0242ac1c0002level0_row5\" class=\"row_heading level0 row5\" >taxvaluedollarcnt</th>\n",
              "                        <td id=\"T_bc6e4538_50e6_11ec_a253_0242ac1c0002row5_col0\" class=\"data row5 col0\" >0.01</td>\n",
              "                        <td id=\"T_bc6e4538_50e6_11ec_a253_0242ac1c0002row5_col1\" class=\"data row5 col1\" >0.01</td>\n",
              "                        <td id=\"T_bc6e4538_50e6_11ec_a253_0242ac1c0002row5_col2\" class=\"data row5 col2\" >0.03</td>\n",
              "                        <td id=\"T_bc6e4538_50e6_11ec_a253_0242ac1c0002row5_col3\" class=\"data row5 col3\" >0.02</td>\n",
              "                        <td id=\"T_bc6e4538_50e6_11ec_a253_0242ac1c0002row5_col4\" class=\"data row5 col4\" >0.07</td>\n",
              "                        <td id=\"T_bc6e4538_50e6_11ec_a253_0242ac1c0002row5_col5\" class=\"data row5 col5\" >nan</td>\n",
              "            </tr>\n",
              "    </tbody></table>"
            ],
            "text/plain": [
              "<pandas.io.formats.style.Styler at 0x7f73661ac190>"
            ]
          },
          "execution_count": 40,
          "metadata": {},
          "output_type": "execute_result"
        }
      ]
    },
    {
      "cell_type": "markdown",
      "metadata": {
        "id": "7SSoC5r6Zy0X"
      },
      "source": [
        "Since they have low correlation to our dependent variable, \"taxvaluedollarcnt\", so we can assume they will not be important in our model."
      ]
    },
    {
      "cell_type": "code",
      "metadata": {
        "colab": {
          "base_uri": "https://localhost:8080/"
        },
        "id": "tACSG1cdaTH8",
        "outputId": "62d92cbd-497c-40a8-a30a-a5e5a4bd54c3"
      },
      "source": [
        "# Add column names to the list of columns to drop\n",
        "cols_to_drop.extend(['propertyzoningdesc', 'regionidzip','regionidcity','regionidneighborhood', 'regionidcounty'])\n",
        "cols_to_drop"
      ],
      "execution_count": null,
      "outputs": [
        {
          "data": {
            "text/plain": [
              "['structuretaxvaluedollarcnt',\n",
              " 'landtaxvaluedollarcnt',\n",
              " 'taxamount',\n",
              " 'assessmentyear',\n",
              " 'calculatedbathnbr',\n",
              " 'fullbathcnt',\n",
              " 'finishedsquarefeet12',\n",
              " 'garagecarcnt',\n",
              " 'propertyzoningdesc',\n",
              " 'regionidzip',\n",
              " 'regionidcity',\n",
              " 'regionidneighborhood',\n",
              " 'regionidcounty']"
            ]
          },
          "execution_count": 41,
          "metadata": {},
          "output_type": "execute_result"
        }
      ]
    },
    {
      "cell_type": "markdown",
      "metadata": {
        "id": "dL06XvIAV_qe"
      },
      "source": [
        "###2.2.5.  Check Correlation of Census Related Cariables"
      ]
    },
    {
      "cell_type": "code",
      "metadata": {
        "id": "t3hz2IF5zGh-"
      },
      "source": [
        "# Create a df with only columns with only the census related variables \n",
        "census_df = zillow_df_drop_na_over80.select('rawcensustractandblock', 'censustractandblock', 'fips')\n",
        "census_pd = census_df.toPandas()"
      ],
      "execution_count": null,
      "outputs": []
    },
    {
      "cell_type": "code",
      "metadata": {
        "colab": {
          "base_uri": "https://localhost:8080/",
          "height": 142
        },
        "id": "zebxQJOBzK0U",
        "outputId": "3a86b978-16e3-432d-c41c-78ae36b49161"
      },
      "source": [
        "# Get the absolute correlations of the variables\n",
        "census_matrix= census_pd.corr().abs()\n",
        "\n",
        "# Plot Correlation matrix graph and hide diagonal and upper half values\n",
        "mask = np.zeros_like(census_matrix, dtype=bool)\n",
        "mask[np.triu_indices_from(mask)] = True\n",
        "census_matrix[mask] = np.nan\n",
        "(census_matrix\n",
        " .style\n",
        " .background_gradient(cmap='coolwarm', axis=None, vmin=-1, vmax=1)\n",
        " .highlight_null(null_color='#f1f1f1')  # Color NaNs grey\n",
        " .set_precision(2))"
      ],
      "execution_count": null,
      "outputs": [
        {
          "data": {
            "text/html": [
              "<style  type=\"text/css\" >\n",
              "#T_c280bee2_50e6_11ec_a253_0242ac1c0002row0_col0,#T_c280bee2_50e6_11ec_a253_0242ac1c0002row0_col1,#T_c280bee2_50e6_11ec_a253_0242ac1c0002row0_col2,#T_c280bee2_50e6_11ec_a253_0242ac1c0002row1_col1,#T_c280bee2_50e6_11ec_a253_0242ac1c0002row1_col2,#T_c280bee2_50e6_11ec_a253_0242ac1c0002row2_col2{\n",
              "            background-color:  #000000;\n",
              "            color:  #f1f1f1;\n",
              "            background-color:  #f1f1f1;\n",
              "        }#T_c280bee2_50e6_11ec_a253_0242ac1c0002row1_col0,#T_c280bee2_50e6_11ec_a253_0242ac1c0002row2_col1{\n",
              "            background-color:  #ec8165;\n",
              "            color:  #000000;\n",
              "        }#T_c280bee2_50e6_11ec_a253_0242ac1c0002row2_col0{\n",
              "            background-color:  #b40426;\n",
              "            color:  #f1f1f1;\n",
              "        }</style><table id=\"T_c280bee2_50e6_11ec_a253_0242ac1c0002\" class=\"dataframe\"><thead>    <tr>        <th class=\"blank level0\" ></th>        <th class=\"col_heading level0 col0\" >rawcensustractandblock</th>        <th class=\"col_heading level0 col1\" >censustractandblock</th>        <th class=\"col_heading level0 col2\" >fips</th>    </tr></thead><tbody>\n",
              "                <tr>\n",
              "                        <th id=\"T_c280bee2_50e6_11ec_a253_0242ac1c0002level0_row0\" class=\"row_heading level0 row0\" >rawcensustractandblock</th>\n",
              "                        <td id=\"T_c280bee2_50e6_11ec_a253_0242ac1c0002row0_col0\" class=\"data row0 col0\" >nan</td>\n",
              "                        <td id=\"T_c280bee2_50e6_11ec_a253_0242ac1c0002row0_col1\" class=\"data row0 col1\" >nan</td>\n",
              "                        <td id=\"T_c280bee2_50e6_11ec_a253_0242ac1c0002row0_col2\" class=\"data row0 col2\" >nan</td>\n",
              "            </tr>\n",
              "            <tr>\n",
              "                        <th id=\"T_c280bee2_50e6_11ec_a253_0242ac1c0002level0_row1\" class=\"row_heading level0 row1\" >censustractandblock</th>\n",
              "                        <td id=\"T_c280bee2_50e6_11ec_a253_0242ac1c0002row1_col0\" class=\"data row1 col0\" >0.62</td>\n",
              "                        <td id=\"T_c280bee2_50e6_11ec_a253_0242ac1c0002row1_col1\" class=\"data row1 col1\" >nan</td>\n",
              "                        <td id=\"T_c280bee2_50e6_11ec_a253_0242ac1c0002row1_col2\" class=\"data row1 col2\" >nan</td>\n",
              "            </tr>\n",
              "            <tr>\n",
              "                        <th id=\"T_c280bee2_50e6_11ec_a253_0242ac1c0002level0_row2\" class=\"row_heading level0 row2\" >fips</th>\n",
              "                        <td id=\"T_c280bee2_50e6_11ec_a253_0242ac1c0002row2_col0\" class=\"data row2 col0\" >1.00</td>\n",
              "                        <td id=\"T_c280bee2_50e6_11ec_a253_0242ac1c0002row2_col1\" class=\"data row2 col1\" >0.62</td>\n",
              "                        <td id=\"T_c280bee2_50e6_11ec_a253_0242ac1c0002row2_col2\" class=\"data row2 col2\" >nan</td>\n",
              "            </tr>\n",
              "    </tbody></table>"
            ],
            "text/plain": [
              "<pandas.io.formats.style.Styler at 0x7f7359ef6910>"
            ]
          },
          "execution_count": 43,
          "metadata": {},
          "output_type": "execute_result"
        }
      ]
    },
    {
      "cell_type": "code",
      "metadata": {
        "colab": {
          "base_uri": "https://localhost:8080/"
        },
        "id": "UEsvquo2TQ04",
        "outputId": "3a662d2e-ee1a-4c2b-ed75-dff757e06ba3"
      },
      "source": [
        "# Select \"rawcensustractandblock\" and \"fips\" columns\n",
        "zillow_df_drop_na_over80.withColumn('rawcensustractandblock', zillow_df_drop_na_over80.rawcensustractandblock.cast(DecimalType(11, 3))).select('rawcensustractandblock','censustractandblock','fips').show()"
      ],
      "execution_count": null,
      "outputs": [
        {
          "name": "stdout",
          "output_type": "stream",
          "text": [
            "+----------------------+-------------------+----+\n",
            "|rawcensustractandblock|censustractandblock|fips|\n",
            "+----------------------+-------------------+----+\n",
            "|          60378002.041|               null|6037|\n",
            "|          60378001.011|               null|6037|\n",
            "|          60377030.012|               null|6037|\n",
            "|          60371412.023|               null|6037|\n",
            "|          60371232.052|               null|6037|\n",
            "|          60371252.001|               null|6037|\n",
            "|          60371437.001|               null|6037|\n",
            "|          60373108.003|               null|6037|\n",
            "|          60373101.003|               null|6037|\n",
            "|          60373202.023|               null|6037|\n",
            "|          60371112.022|               null|6037|\n",
            "|          60379201.081|               null|6037|\n",
            "|          60379201.071|               null|6037|\n",
            "|          60379203.142|               null|6037|\n",
            "|          60379104.011|               null|6037|\n",
            "|          60379107.051|               null|6037|\n",
            "|          60379107.091|               null|6037|\n",
            "|          60379008.061|               null|6037|\n",
            "|          60379003.001|               null|6037|\n",
            "|          60379102.061|               null|6037|\n",
            "+----------------------+-------------------+----+\n",
            "only showing top 20 rows\n",
            "\n"
          ]
        }
      ]
    },
    {
      "cell_type": "code",
      "metadata": {
        "colab": {
          "base_uri": "https://localhost:8080/"
        },
        "id": "bnHKe9ge30RT",
        "outputId": "aac8617d-d0fb-4bf1-e9d1-0c34bae77518"
      },
      "source": [
        "from pyspark.sql.functions import *\n",
        "\n",
        "# Calcuate missing values % \n",
        "zillow_df_drop_na_over80.select([(count(when(isnull(c) | col(c).isNull(), c))/count(lit(1))).alias(c) for c in ['rawcensustractandblock', 'censustractandblock', 'fips']]).show()"
      ],
      "execution_count": null,
      "outputs": [
        {
          "name": "stdout",
          "output_type": "stream",
          "text": [
            "+----------------------+--------------------+----+\n",
            "|rawcensustractandblock| censustractandblock|fips|\n",
            "+----------------------+--------------------+----+\n",
            "|                   0.0|0.012592998120412537| 0.0|\n",
            "+----------------------+--------------------+----+\n",
            "\n"
          ]
        }
      ]
    },
    {
      "cell_type": "markdown",
      "metadata": {
        "id": "fbqaCVn2EqlX"
      },
      "source": [
        "censustractandblock (e.g. 60378002.041) is comprised of FIPS Code (6037) - Tract Number (8002.04) - And block Number (4), so we can remove the \"censustractandblock\" and \"fips\" columns"
      ]
    },
    {
      "cell_type": "code",
      "metadata": {
        "colab": {
          "base_uri": "https://localhost:8080/"
        },
        "id": "6F2did_OVhvn",
        "outputId": "048f4ae6-5ff6-4c12-d08b-b2fb77397964"
      },
      "source": [
        "# Add column names to the list of columns to drop\n",
        "cols_to_drop.extend(['censustractandblock','fips'])\n",
        "cols_to_drop"
      ],
      "execution_count": null,
      "outputs": [
        {
          "data": {
            "text/plain": [
              "['structuretaxvaluedollarcnt',\n",
              " 'landtaxvaluedollarcnt',\n",
              " 'taxamount',\n",
              " 'assessmentyear',\n",
              " 'calculatedbathnbr',\n",
              " 'fullbathcnt',\n",
              " 'finishedsquarefeet12',\n",
              " 'garagecarcnt',\n",
              " 'propertyzoningdesc',\n",
              " 'regionidzip',\n",
              " 'regionidcity',\n",
              " 'regionidneighborhood',\n",
              " 'regionidcounty',\n",
              " 'censustractandblock',\n",
              " 'fips']"
            ]
          },
          "execution_count": 46,
          "metadata": {},
          "output_type": "execute_result"
        }
      ]
    },
    {
      "cell_type": "markdown",
      "metadata": {
        "id": "K8V3eEEWoMB-"
      },
      "source": [
        "###2.2.6.  Final Correlation Check\n",
        "\n"
      ]
    },
    {
      "cell_type": "code",
      "metadata": {
        "colab": {
          "base_uri": "https://localhost:8080/",
          "height": 472
        },
        "id": "Nsab870Ihdb7",
        "outputId": "55ae8129-88e2-4d21-af22-76341a11cfc7"
      },
      "source": [
        "# Remove columns that we have found to have high correlation\n",
        "zillow_df_drop_cols = zillow_df_drop_na_over80\n",
        "\n",
        "for col in cols_to_drop:\n",
        "  zillow_df_drop_cols = zillow_df_drop_cols.drop(col)\n",
        "\n",
        "# Create a df with only columns with \"int\" and \"double\" variables \n",
        "corr_df = (zillow_df_drop_cols.select(\"*\").toPandas()).select_dtypes(exclude=['object'])\n",
        "\n",
        "# Remove ID variables as they are vategorical variables\n",
        "corr_df = corr_df.drop(columns=['parcelid','airconditioningtypeid','buildingqualitytypeid','heatingorsystemtypeid','propertylandusetypeid'])\n",
        "\n",
        "# Get the absolute correlations of the variables\n",
        "corr_matrix= corr_df.corr().abs()\n",
        "\n",
        "# Plot Correlation matrix graph and hide diagonal and upper half values\n",
        "mask = np.zeros_like(corr_matrix, dtype=bool)\n",
        "mask[np.triu_indices_from(mask)] = True\n",
        "corr_matrix[mask] = np.nan\n",
        "(corr_matrix\n",
        " .style\n",
        " .background_gradient(cmap='coolwarm', axis=None, vmin=-1, vmax=1)\n",
        " .highlight_null(null_color='#f1f1f1')  # Color NaNs grey\n",
        " .set_precision(2))"
      ],
      "execution_count": null,
      "outputs": [
        {
          "data": {
            "text/html": [
              "<style  type=\"text/css\" >\n",
              "#T_d52907d4_50e6_11ec_a253_0242ac1c0002row0_col0,#T_d52907d4_50e6_11ec_a253_0242ac1c0002row0_col1,#T_d52907d4_50e6_11ec_a253_0242ac1c0002row0_col2,#T_d52907d4_50e6_11ec_a253_0242ac1c0002row0_col3,#T_d52907d4_50e6_11ec_a253_0242ac1c0002row0_col4,#T_d52907d4_50e6_11ec_a253_0242ac1c0002row0_col5,#T_d52907d4_50e6_11ec_a253_0242ac1c0002row0_col6,#T_d52907d4_50e6_11ec_a253_0242ac1c0002row0_col7,#T_d52907d4_50e6_11ec_a253_0242ac1c0002row0_col8,#T_d52907d4_50e6_11ec_a253_0242ac1c0002row0_col9,#T_d52907d4_50e6_11ec_a253_0242ac1c0002row0_col10,#T_d52907d4_50e6_11ec_a253_0242ac1c0002row0_col11,#T_d52907d4_50e6_11ec_a253_0242ac1c0002row0_col12,#T_d52907d4_50e6_11ec_a253_0242ac1c0002row1_col1,#T_d52907d4_50e6_11ec_a253_0242ac1c0002row1_col2,#T_d52907d4_50e6_11ec_a253_0242ac1c0002row1_col3,#T_d52907d4_50e6_11ec_a253_0242ac1c0002row1_col4,#T_d52907d4_50e6_11ec_a253_0242ac1c0002row1_col5,#T_d52907d4_50e6_11ec_a253_0242ac1c0002row1_col6,#T_d52907d4_50e6_11ec_a253_0242ac1c0002row1_col7,#T_d52907d4_50e6_11ec_a253_0242ac1c0002row1_col8,#T_d52907d4_50e6_11ec_a253_0242ac1c0002row1_col9,#T_d52907d4_50e6_11ec_a253_0242ac1c0002row1_col10,#T_d52907d4_50e6_11ec_a253_0242ac1c0002row1_col11,#T_d52907d4_50e6_11ec_a253_0242ac1c0002row1_col12,#T_d52907d4_50e6_11ec_a253_0242ac1c0002row2_col2,#T_d52907d4_50e6_11ec_a253_0242ac1c0002row2_col3,#T_d52907d4_50e6_11ec_a253_0242ac1c0002row2_col4,#T_d52907d4_50e6_11ec_a253_0242ac1c0002row2_col5,#T_d52907d4_50e6_11ec_a253_0242ac1c0002row2_col6,#T_d52907d4_50e6_11ec_a253_0242ac1c0002row2_col7,#T_d52907d4_50e6_11ec_a253_0242ac1c0002row2_col8,#T_d52907d4_50e6_11ec_a253_0242ac1c0002row2_col9,#T_d52907d4_50e6_11ec_a253_0242ac1c0002row2_col10,#T_d52907d4_50e6_11ec_a253_0242ac1c0002row2_col11,#T_d52907d4_50e6_11ec_a253_0242ac1c0002row2_col12,#T_d52907d4_50e6_11ec_a253_0242ac1c0002row3_col3,#T_d52907d4_50e6_11ec_a253_0242ac1c0002row3_col4,#T_d52907d4_50e6_11ec_a253_0242ac1c0002row3_col5,#T_d52907d4_50e6_11ec_a253_0242ac1c0002row3_col6,#T_d52907d4_50e6_11ec_a253_0242ac1c0002row3_col7,#T_d52907d4_50e6_11ec_a253_0242ac1c0002row3_col8,#T_d52907d4_50e6_11ec_a253_0242ac1c0002row3_col9,#T_d52907d4_50e6_11ec_a253_0242ac1c0002row3_col10,#T_d52907d4_50e6_11ec_a253_0242ac1c0002row3_col11,#T_d52907d4_50e6_11ec_a253_0242ac1c0002row3_col12,#T_d52907d4_50e6_11ec_a253_0242ac1c0002row4_col4,#T_d52907d4_50e6_11ec_a253_0242ac1c0002row4_col5,#T_d52907d4_50e6_11ec_a253_0242ac1c0002row4_col6,#T_d52907d4_50e6_11ec_a253_0242ac1c0002row4_col7,#T_d52907d4_50e6_11ec_a253_0242ac1c0002row4_col8,#T_d52907d4_50e6_11ec_a253_0242ac1c0002row4_col9,#T_d52907d4_50e6_11ec_a253_0242ac1c0002row4_col10,#T_d52907d4_50e6_11ec_a253_0242ac1c0002row4_col11,#T_d52907d4_50e6_11ec_a253_0242ac1c0002row4_col12,#T_d52907d4_50e6_11ec_a253_0242ac1c0002row5_col5,#T_d52907d4_50e6_11ec_a253_0242ac1c0002row5_col6,#T_d52907d4_50e6_11ec_a253_0242ac1c0002row5_col7,#T_d52907d4_50e6_11ec_a253_0242ac1c0002row5_col8,#T_d52907d4_50e6_11ec_a253_0242ac1c0002row5_col9,#T_d52907d4_50e6_11ec_a253_0242ac1c0002row5_col10,#T_d52907d4_50e6_11ec_a253_0242ac1c0002row5_col11,#T_d52907d4_50e6_11ec_a253_0242ac1c0002row5_col12,#T_d52907d4_50e6_11ec_a253_0242ac1c0002row6_col6,#T_d52907d4_50e6_11ec_a253_0242ac1c0002row6_col7,#T_d52907d4_50e6_11ec_a253_0242ac1c0002row6_col8,#T_d52907d4_50e6_11ec_a253_0242ac1c0002row6_col9,#T_d52907d4_50e6_11ec_a253_0242ac1c0002row6_col10,#T_d52907d4_50e6_11ec_a253_0242ac1c0002row6_col11,#T_d52907d4_50e6_11ec_a253_0242ac1c0002row6_col12,#T_d52907d4_50e6_11ec_a253_0242ac1c0002row7_col7,#T_d52907d4_50e6_11ec_a253_0242ac1c0002row7_col8,#T_d52907d4_50e6_11ec_a253_0242ac1c0002row7_col9,#T_d52907d4_50e6_11ec_a253_0242ac1c0002row7_col10,#T_d52907d4_50e6_11ec_a253_0242ac1c0002row7_col11,#T_d52907d4_50e6_11ec_a253_0242ac1c0002row7_col12,#T_d52907d4_50e6_11ec_a253_0242ac1c0002row8_col8,#T_d52907d4_50e6_11ec_a253_0242ac1c0002row8_col9,#T_d52907d4_50e6_11ec_a253_0242ac1c0002row8_col10,#T_d52907d4_50e6_11ec_a253_0242ac1c0002row8_col11,#T_d52907d4_50e6_11ec_a253_0242ac1c0002row8_col12,#T_d52907d4_50e6_11ec_a253_0242ac1c0002row9_col9,#T_d52907d4_50e6_11ec_a253_0242ac1c0002row9_col10,#T_d52907d4_50e6_11ec_a253_0242ac1c0002row9_col11,#T_d52907d4_50e6_11ec_a253_0242ac1c0002row9_col12,#T_d52907d4_50e6_11ec_a253_0242ac1c0002row10_col10,#T_d52907d4_50e6_11ec_a253_0242ac1c0002row10_col11,#T_d52907d4_50e6_11ec_a253_0242ac1c0002row10_col12,#T_d52907d4_50e6_11ec_a253_0242ac1c0002row11_col11,#T_d52907d4_50e6_11ec_a253_0242ac1c0002row11_col12,#T_d52907d4_50e6_11ec_a253_0242ac1c0002row12_col12{\n",
              "            background-color:  #000000;\n",
              "            color:  #f1f1f1;\n",
              "            background-color:  #f1f1f1;\n",
              "        }#T_d52907d4_50e6_11ec_a253_0242ac1c0002row1_col0{\n",
              "            background-color:  #e57058;\n",
              "            color:  #000000;\n",
              "        }#T_d52907d4_50e6_11ec_a253_0242ac1c0002row2_col0,#T_d52907d4_50e6_11ec_a253_0242ac1c0002row10_col0{\n",
              "            background-color:  #f7b497;\n",
              "            color:  #000000;\n",
              "        }#T_d52907d4_50e6_11ec_a253_0242ac1c0002row2_col1,#T_d52907d4_50e6_11ec_a253_0242ac1c0002row10_col7{\n",
              "            background-color:  #f5c2aa;\n",
              "            color:  #000000;\n",
              "        }#T_d52907d4_50e6_11ec_a253_0242ac1c0002row3_col0{\n",
              "            background-color:  #f6a586;\n",
              "            color:  #000000;\n",
              "        }#T_d52907d4_50e6_11ec_a253_0242ac1c0002row3_col1{\n",
              "            background-color:  #f18d6f;\n",
              "            color:  #000000;\n",
              "        }#T_d52907d4_50e6_11ec_a253_0242ac1c0002row3_col2{\n",
              "            background-color:  #f29072;\n",
              "            color:  #000000;\n",
              "        }#T_d52907d4_50e6_11ec_a253_0242ac1c0002row4_col0,#T_d52907d4_50e6_11ec_a253_0242ac1c0002row6_col1,#T_d52907d4_50e6_11ec_a253_0242ac1c0002row6_col4,#T_d52907d4_50e6_11ec_a253_0242ac1c0002row7_col3,#T_d52907d4_50e6_11ec_a253_0242ac1c0002row11_col9{\n",
              "            background-color:  #e0dbd8;\n",
              "            color:  #000000;\n",
              "        }#T_d52907d4_50e6_11ec_a253_0242ac1c0002row4_col1,#T_d52907d4_50e6_11ec_a253_0242ac1c0002row8_col0,#T_d52907d4_50e6_11ec_a253_0242ac1c0002row11_col7{\n",
              "            background-color:  #e3d9d3;\n",
              "            color:  #000000;\n",
              "        }#T_d52907d4_50e6_11ec_a253_0242ac1c0002row4_col2,#T_d52907d4_50e6_11ec_a253_0242ac1c0002row5_col1,#T_d52907d4_50e6_11ec_a253_0242ac1c0002row6_col0,#T_d52907d4_50e6_11ec_a253_0242ac1c0002row6_col2,#T_d52907d4_50e6_11ec_a253_0242ac1c0002row6_col3,#T_d52907d4_50e6_11ec_a253_0242ac1c0002row7_col1,#T_d52907d4_50e6_11ec_a253_0242ac1c0002row9_col5,#T_d52907d4_50e6_11ec_a253_0242ac1c0002row11_col5,#T_d52907d4_50e6_11ec_a253_0242ac1c0002row11_col6,#T_d52907d4_50e6_11ec_a253_0242ac1c0002row12_col6,#T_d52907d4_50e6_11ec_a253_0242ac1c0002row12_col7,#T_d52907d4_50e6_11ec_a253_0242ac1c0002row12_col8{\n",
              "            background-color:  #dddcdc;\n",
              "            color:  #000000;\n",
              "        }#T_d52907d4_50e6_11ec_a253_0242ac1c0002row4_col3,#T_d52907d4_50e6_11ec_a253_0242ac1c0002row9_col1,#T_d52907d4_50e6_11ec_a253_0242ac1c0002row12_col4{\n",
              "            background-color:  #e4d9d2;\n",
              "            color:  #000000;\n",
              "        }#T_d52907d4_50e6_11ec_a253_0242ac1c0002row5_col0,#T_d52907d4_50e6_11ec_a253_0242ac1c0002row5_col3,#T_d52907d4_50e6_11ec_a253_0242ac1c0002row6_col5,#T_d52907d4_50e6_11ec_a253_0242ac1c0002row7_col2,#T_d52907d4_50e6_11ec_a253_0242ac1c0002row7_col6,#T_d52907d4_50e6_11ec_a253_0242ac1c0002row8_col5,#T_d52907d4_50e6_11ec_a253_0242ac1c0002row8_col6,#T_d52907d4_50e6_11ec_a253_0242ac1c0002row12_col5{\n",
              "            background-color:  #dfdbd9;\n",
              "            color:  #000000;\n",
              "        }#T_d52907d4_50e6_11ec_a253_0242ac1c0002row5_col2,#T_d52907d4_50e6_11ec_a253_0242ac1c0002row7_col0,#T_d52907d4_50e6_11ec_a253_0242ac1c0002row9_col3,#T_d52907d4_50e6_11ec_a253_0242ac1c0002row9_col6,#T_d52907d4_50e6_11ec_a253_0242ac1c0002row9_col8,#T_d52907d4_50e6_11ec_a253_0242ac1c0002row10_col4,#T_d52907d4_50e6_11ec_a253_0242ac1c0002row11_col4{\n",
              "            background-color:  #dedcdb;\n",
              "            color:  #000000;\n",
              "        }#T_d52907d4_50e6_11ec_a253_0242ac1c0002row5_col4{\n",
              "            background-color:  #ef886b;\n",
              "            color:  #000000;\n",
              "        }#T_d52907d4_50e6_11ec_a253_0242ac1c0002row7_col4,#T_d52907d4_50e6_11ec_a253_0242ac1c0002row10_col3,#T_d52907d4_50e6_11ec_a253_0242ac1c0002row11_col3{\n",
              "            background-color:  #e2dad5;\n",
              "            color:  #000000;\n",
              "        }#T_d52907d4_50e6_11ec_a253_0242ac1c0002row7_col5{\n",
              "            background-color:  #f7b599;\n",
              "            color:  #000000;\n",
              "        }#T_d52907d4_50e6_11ec_a253_0242ac1c0002row8_col1{\n",
              "            background-color:  #eed0c0;\n",
              "            color:  #000000;\n",
              "        }#T_d52907d4_50e6_11ec_a253_0242ac1c0002row8_col2,#T_d52907d4_50e6_11ec_a253_0242ac1c0002row9_col0,#T_d52907d4_50e6_11ec_a253_0242ac1c0002row9_col4,#T_d52907d4_50e6_11ec_a253_0242ac1c0002row10_col6,#T_d52907d4_50e6_11ec_a253_0242ac1c0002row10_col9{\n",
              "            background-color:  #e1dad6;\n",
              "            color:  #000000;\n",
              "        }#T_d52907d4_50e6_11ec_a253_0242ac1c0002row8_col3,#T_d52907d4_50e6_11ec_a253_0242ac1c0002row9_col2{\n",
              "            background-color:  #f7af91;\n",
              "            color:  #000000;\n",
              "        }#T_d52907d4_50e6_11ec_a253_0242ac1c0002row8_col4{\n",
              "            background-color:  #f3c7b1;\n",
              "            color:  #000000;\n",
              "        }#T_d52907d4_50e6_11ec_a253_0242ac1c0002row8_col7{\n",
              "            background-color:  #e36c55;\n",
              "            color:  #000000;\n",
              "        }#T_d52907d4_50e6_11ec_a253_0242ac1c0002row9_col7,#T_d52907d4_50e6_11ec_a253_0242ac1c0002row10_col5{\n",
              "            background-color:  #e5d8d1;\n",
              "            color:  #000000;\n",
              "        }#T_d52907d4_50e6_11ec_a253_0242ac1c0002row10_col1{\n",
              "            background-color:  #e6d7cf;\n",
              "            color:  #000000;\n",
              "        }#T_d52907d4_50e6_11ec_a253_0242ac1c0002row10_col2{\n",
              "            background-color:  #ebd3c6;\n",
              "            color:  #000000;\n",
              "        }#T_d52907d4_50e6_11ec_a253_0242ac1c0002row10_col8{\n",
              "            background-color:  #ecd3c5;\n",
              "            color:  #000000;\n",
              "        }#T_d52907d4_50e6_11ec_a253_0242ac1c0002row11_col0{\n",
              "            background-color:  #f6bda2;\n",
              "            color:  #000000;\n",
              "        }#T_d52907d4_50e6_11ec_a253_0242ac1c0002row11_col1,#T_d52907d4_50e6_11ec_a253_0242ac1c0002row12_col1{\n",
              "            background-color:  #edd1c2;\n",
              "            color:  #000000;\n",
              "        }#T_d52907d4_50e6_11ec_a253_0242ac1c0002row11_col2,#T_d52907d4_50e6_11ec_a253_0242ac1c0002row12_col10{\n",
              "            background-color:  #edd2c3;\n",
              "            color:  #000000;\n",
              "        }#T_d52907d4_50e6_11ec_a253_0242ac1c0002row11_col8{\n",
              "            background-color:  #f4c6af;\n",
              "            color:  #000000;\n",
              "        }#T_d52907d4_50e6_11ec_a253_0242ac1c0002row11_col10{\n",
              "            background-color:  #f7bca1;\n",
              "            color:  #000000;\n",
              "        }#T_d52907d4_50e6_11ec_a253_0242ac1c0002row12_col0{\n",
              "            background-color:  #f7b99e;\n",
              "            color:  #000000;\n",
              "        }#T_d52907d4_50e6_11ec_a253_0242ac1c0002row12_col2{\n",
              "            background-color:  #f29274;\n",
              "            color:  #000000;\n",
              "        }#T_d52907d4_50e6_11ec_a253_0242ac1c0002row12_col3{\n",
              "            background-color:  #f7ba9f;\n",
              "            color:  #000000;\n",
              "        }#T_d52907d4_50e6_11ec_a253_0242ac1c0002row12_col9{\n",
              "            background-color:  #efcebd;\n",
              "            color:  #000000;\n",
              "        }#T_d52907d4_50e6_11ec_a253_0242ac1c0002row12_col11{\n",
              "            background-color:  #ead4c8;\n",
              "            color:  #000000;\n",
              "        }</style><table id=\"T_d52907d4_50e6_11ec_a253_0242ac1c0002\" class=\"dataframe\"><thead>    <tr>        <th class=\"blank level0\" ></th>        <th class=\"col_heading level0 col0\" >bathroomcnt</th>        <th class=\"col_heading level0 col1\" >bedroomcnt</th>        <th class=\"col_heading level0 col2\" >calculatedfinishedsquarefeet</th>        <th class=\"col_heading level0 col3\" >garagetotalsqft</th>        <th class=\"col_heading level0 col4\" >latitude</th>        <th class=\"col_heading level0 col5\" >longitude</th>        <th class=\"col_heading level0 col6\" >lotsizesquarefeet</th>        <th class=\"col_heading level0 col7\" >rawcensustractandblock</th>        <th class=\"col_heading level0 col8\" >roomcnt</th>        <th class=\"col_heading level0 col9\" >unitcnt</th>        <th class=\"col_heading level0 col10\" >yearbuilt</th>        <th class=\"col_heading level0 col11\" >numberofstories</th>        <th class=\"col_heading level0 col12\" >taxvaluedollarcnt</th>    </tr></thead><tbody>\n",
              "                <tr>\n",
              "                        <th id=\"T_d52907d4_50e6_11ec_a253_0242ac1c0002level0_row0\" class=\"row_heading level0 row0\" >bathroomcnt</th>\n",
              "                        <td id=\"T_d52907d4_50e6_11ec_a253_0242ac1c0002row0_col0\" class=\"data row0 col0\" >nan</td>\n",
              "                        <td id=\"T_d52907d4_50e6_11ec_a253_0242ac1c0002row0_col1\" class=\"data row0 col1\" >nan</td>\n",
              "                        <td id=\"T_d52907d4_50e6_11ec_a253_0242ac1c0002row0_col2\" class=\"data row0 col2\" >nan</td>\n",
              "                        <td id=\"T_d52907d4_50e6_11ec_a253_0242ac1c0002row0_col3\" class=\"data row0 col3\" >nan</td>\n",
              "                        <td id=\"T_d52907d4_50e6_11ec_a253_0242ac1c0002row0_col4\" class=\"data row0 col4\" >nan</td>\n",
              "                        <td id=\"T_d52907d4_50e6_11ec_a253_0242ac1c0002row0_col5\" class=\"data row0 col5\" >nan</td>\n",
              "                        <td id=\"T_d52907d4_50e6_11ec_a253_0242ac1c0002row0_col6\" class=\"data row0 col6\" >nan</td>\n",
              "                        <td id=\"T_d52907d4_50e6_11ec_a253_0242ac1c0002row0_col7\" class=\"data row0 col7\" >nan</td>\n",
              "                        <td id=\"T_d52907d4_50e6_11ec_a253_0242ac1c0002row0_col8\" class=\"data row0 col8\" >nan</td>\n",
              "                        <td id=\"T_d52907d4_50e6_11ec_a253_0242ac1c0002row0_col9\" class=\"data row0 col9\" >nan</td>\n",
              "                        <td id=\"T_d52907d4_50e6_11ec_a253_0242ac1c0002row0_col10\" class=\"data row0 col10\" >nan</td>\n",
              "                        <td id=\"T_d52907d4_50e6_11ec_a253_0242ac1c0002row0_col11\" class=\"data row0 col11\" >nan</td>\n",
              "                        <td id=\"T_d52907d4_50e6_11ec_a253_0242ac1c0002row0_col12\" class=\"data row0 col12\" >nan</td>\n",
              "            </tr>\n",
              "            <tr>\n",
              "                        <th id=\"T_d52907d4_50e6_11ec_a253_0242ac1c0002level0_row1\" class=\"row_heading level0 row1\" >bedroomcnt</th>\n",
              "                        <td id=\"T_d52907d4_50e6_11ec_a253_0242ac1c0002row1_col0\" class=\"data row1 col0\" >0.69</td>\n",
              "                        <td id=\"T_d52907d4_50e6_11ec_a253_0242ac1c0002row1_col1\" class=\"data row1 col1\" >nan</td>\n",
              "                        <td id=\"T_d52907d4_50e6_11ec_a253_0242ac1c0002row1_col2\" class=\"data row1 col2\" >nan</td>\n",
              "                        <td id=\"T_d52907d4_50e6_11ec_a253_0242ac1c0002row1_col3\" class=\"data row1 col3\" >nan</td>\n",
              "                        <td id=\"T_d52907d4_50e6_11ec_a253_0242ac1c0002row1_col4\" class=\"data row1 col4\" >nan</td>\n",
              "                        <td id=\"T_d52907d4_50e6_11ec_a253_0242ac1c0002row1_col5\" class=\"data row1 col5\" >nan</td>\n",
              "                        <td id=\"T_d52907d4_50e6_11ec_a253_0242ac1c0002row1_col6\" class=\"data row1 col6\" >nan</td>\n",
              "                        <td id=\"T_d52907d4_50e6_11ec_a253_0242ac1c0002row1_col7\" class=\"data row1 col7\" >nan</td>\n",
              "                        <td id=\"T_d52907d4_50e6_11ec_a253_0242ac1c0002row1_col8\" class=\"data row1 col8\" >nan</td>\n",
              "                        <td id=\"T_d52907d4_50e6_11ec_a253_0242ac1c0002row1_col9\" class=\"data row1 col9\" >nan</td>\n",
              "                        <td id=\"T_d52907d4_50e6_11ec_a253_0242ac1c0002row1_col10\" class=\"data row1 col10\" >nan</td>\n",
              "                        <td id=\"T_d52907d4_50e6_11ec_a253_0242ac1c0002row1_col11\" class=\"data row1 col11\" >nan</td>\n",
              "                        <td id=\"T_d52907d4_50e6_11ec_a253_0242ac1c0002row1_col12\" class=\"data row1 col12\" >nan</td>\n",
              "            </tr>\n",
              "            <tr>\n",
              "                        <th id=\"T_d52907d4_50e6_11ec_a253_0242ac1c0002level0_row2\" class=\"row_heading level0 row2\" >calculatedfinishedsquarefeet</th>\n",
              "                        <td id=\"T_d52907d4_50e6_11ec_a253_0242ac1c0002row2_col0\" class=\"data row2 col0\" >0.35</td>\n",
              "                        <td id=\"T_d52907d4_50e6_11ec_a253_0242ac1c0002row2_col1\" class=\"data row2 col1\" >0.26</td>\n",
              "                        <td id=\"T_d52907d4_50e6_11ec_a253_0242ac1c0002row2_col2\" class=\"data row2 col2\" >nan</td>\n",
              "                        <td id=\"T_d52907d4_50e6_11ec_a253_0242ac1c0002row2_col3\" class=\"data row2 col3\" >nan</td>\n",
              "                        <td id=\"T_d52907d4_50e6_11ec_a253_0242ac1c0002row2_col4\" class=\"data row2 col4\" >nan</td>\n",
              "                        <td id=\"T_d52907d4_50e6_11ec_a253_0242ac1c0002row2_col5\" class=\"data row2 col5\" >nan</td>\n",
              "                        <td id=\"T_d52907d4_50e6_11ec_a253_0242ac1c0002row2_col6\" class=\"data row2 col6\" >nan</td>\n",
              "                        <td id=\"T_d52907d4_50e6_11ec_a253_0242ac1c0002row2_col7\" class=\"data row2 col7\" >nan</td>\n",
              "                        <td id=\"T_d52907d4_50e6_11ec_a253_0242ac1c0002row2_col8\" class=\"data row2 col8\" >nan</td>\n",
              "                        <td id=\"T_d52907d4_50e6_11ec_a253_0242ac1c0002row2_col9\" class=\"data row2 col9\" >nan</td>\n",
              "                        <td id=\"T_d52907d4_50e6_11ec_a253_0242ac1c0002row2_col10\" class=\"data row2 col10\" >nan</td>\n",
              "                        <td id=\"T_d52907d4_50e6_11ec_a253_0242ac1c0002row2_col11\" class=\"data row2 col11\" >nan</td>\n",
              "                        <td id=\"T_d52907d4_50e6_11ec_a253_0242ac1c0002row2_col12\" class=\"data row2 col12\" >nan</td>\n",
              "            </tr>\n",
              "            <tr>\n",
              "                        <th id=\"T_d52907d4_50e6_11ec_a253_0242ac1c0002level0_row3\" class=\"row_heading level0 row3\" >garagetotalsqft</th>\n",
              "                        <td id=\"T_d52907d4_50e6_11ec_a253_0242ac1c0002row3_col0\" class=\"data row3 col0\" >0.44</td>\n",
              "                        <td id=\"T_d52907d4_50e6_11ec_a253_0242ac1c0002row3_col1\" class=\"data row3 col1\" >0.56</td>\n",
              "                        <td id=\"T_d52907d4_50e6_11ec_a253_0242ac1c0002row3_col2\" class=\"data row3 col2\" >0.55</td>\n",
              "                        <td id=\"T_d52907d4_50e6_11ec_a253_0242ac1c0002row3_col3\" class=\"data row3 col3\" >nan</td>\n",
              "                        <td id=\"T_d52907d4_50e6_11ec_a253_0242ac1c0002row3_col4\" class=\"data row3 col4\" >nan</td>\n",
              "                        <td id=\"T_d52907d4_50e6_11ec_a253_0242ac1c0002row3_col5\" class=\"data row3 col5\" >nan</td>\n",
              "                        <td id=\"T_d52907d4_50e6_11ec_a253_0242ac1c0002row3_col6\" class=\"data row3 col6\" >nan</td>\n",
              "                        <td id=\"T_d52907d4_50e6_11ec_a253_0242ac1c0002row3_col7\" class=\"data row3 col7\" >nan</td>\n",
              "                        <td id=\"T_d52907d4_50e6_11ec_a253_0242ac1c0002row3_col8\" class=\"data row3 col8\" >nan</td>\n",
              "                        <td id=\"T_d52907d4_50e6_11ec_a253_0242ac1c0002row3_col9\" class=\"data row3 col9\" >nan</td>\n",
              "                        <td id=\"T_d52907d4_50e6_11ec_a253_0242ac1c0002row3_col10\" class=\"data row3 col10\" >nan</td>\n",
              "                        <td id=\"T_d52907d4_50e6_11ec_a253_0242ac1c0002row3_col11\" class=\"data row3 col11\" >nan</td>\n",
              "                        <td id=\"T_d52907d4_50e6_11ec_a253_0242ac1c0002row3_col12\" class=\"data row3 col12\" >nan</td>\n",
              "            </tr>\n",
              "            <tr>\n",
              "                        <th id=\"T_d52907d4_50e6_11ec_a253_0242ac1c0002level0_row4\" class=\"row_heading level0 row4\" >latitude</th>\n",
              "                        <td id=\"T_d52907d4_50e6_11ec_a253_0242ac1c0002row4_col0\" class=\"data row4 col0\" >0.03</td>\n",
              "                        <td id=\"T_d52907d4_50e6_11ec_a253_0242ac1c0002row4_col1\" class=\"data row4 col1\" >0.05</td>\n",
              "                        <td id=\"T_d52907d4_50e6_11ec_a253_0242ac1c0002row4_col2\" class=\"data row4 col2\" >0.00</td>\n",
              "                        <td id=\"T_d52907d4_50e6_11ec_a253_0242ac1c0002row4_col3\" class=\"data row4 col3\" >0.06</td>\n",
              "                        <td id=\"T_d52907d4_50e6_11ec_a253_0242ac1c0002row4_col4\" class=\"data row4 col4\" >nan</td>\n",
              "                        <td id=\"T_d52907d4_50e6_11ec_a253_0242ac1c0002row4_col5\" class=\"data row4 col5\" >nan</td>\n",
              "                        <td id=\"T_d52907d4_50e6_11ec_a253_0242ac1c0002row4_col6\" class=\"data row4 col6\" >nan</td>\n",
              "                        <td id=\"T_d52907d4_50e6_11ec_a253_0242ac1c0002row4_col7\" class=\"data row4 col7\" >nan</td>\n",
              "                        <td id=\"T_d52907d4_50e6_11ec_a253_0242ac1c0002row4_col8\" class=\"data row4 col8\" >nan</td>\n",
              "                        <td id=\"T_d52907d4_50e6_11ec_a253_0242ac1c0002row4_col9\" class=\"data row4 col9\" >nan</td>\n",
              "                        <td id=\"T_d52907d4_50e6_11ec_a253_0242ac1c0002row4_col10\" class=\"data row4 col10\" >nan</td>\n",
              "                        <td id=\"T_d52907d4_50e6_11ec_a253_0242ac1c0002row4_col11\" class=\"data row4 col11\" >nan</td>\n",
              "                        <td id=\"T_d52907d4_50e6_11ec_a253_0242ac1c0002row4_col12\" class=\"data row4 col12\" >nan</td>\n",
              "            </tr>\n",
              "            <tr>\n",
              "                        <th id=\"T_d52907d4_50e6_11ec_a253_0242ac1c0002level0_row5\" class=\"row_heading level0 row5\" >longitude</th>\n",
              "                        <td id=\"T_d52907d4_50e6_11ec_a253_0242ac1c0002row5_col0\" class=\"data row5 col0\" >0.02</td>\n",
              "                        <td id=\"T_d52907d4_50e6_11ec_a253_0242ac1c0002row5_col1\" class=\"data row5 col1\" >0.00</td>\n",
              "                        <td id=\"T_d52907d4_50e6_11ec_a253_0242ac1c0002row5_col2\" class=\"data row5 col2\" >0.01</td>\n",
              "                        <td id=\"T_d52907d4_50e6_11ec_a253_0242ac1c0002row5_col3\" class=\"data row5 col3\" >0.02</td>\n",
              "                        <td id=\"T_d52907d4_50e6_11ec_a253_0242ac1c0002row5_col4\" class=\"data row5 col4\" >0.58</td>\n",
              "                        <td id=\"T_d52907d4_50e6_11ec_a253_0242ac1c0002row5_col5\" class=\"data row5 col5\" >nan</td>\n",
              "                        <td id=\"T_d52907d4_50e6_11ec_a253_0242ac1c0002row5_col6\" class=\"data row5 col6\" >nan</td>\n",
              "                        <td id=\"T_d52907d4_50e6_11ec_a253_0242ac1c0002row5_col7\" class=\"data row5 col7\" >nan</td>\n",
              "                        <td id=\"T_d52907d4_50e6_11ec_a253_0242ac1c0002row5_col8\" class=\"data row5 col8\" >nan</td>\n",
              "                        <td id=\"T_d52907d4_50e6_11ec_a253_0242ac1c0002row5_col9\" class=\"data row5 col9\" >nan</td>\n",
              "                        <td id=\"T_d52907d4_50e6_11ec_a253_0242ac1c0002row5_col10\" class=\"data row5 col10\" >nan</td>\n",
              "                        <td id=\"T_d52907d4_50e6_11ec_a253_0242ac1c0002row5_col11\" class=\"data row5 col11\" >nan</td>\n",
              "                        <td id=\"T_d52907d4_50e6_11ec_a253_0242ac1c0002row5_col12\" class=\"data row5 col12\" >nan</td>\n",
              "            </tr>\n",
              "            <tr>\n",
              "                        <th id=\"T_d52907d4_50e6_11ec_a253_0242ac1c0002level0_row6\" class=\"row_heading level0 row6\" >lotsizesquarefeet</th>\n",
              "                        <td id=\"T_d52907d4_50e6_11ec_a253_0242ac1c0002row6_col0\" class=\"data row6 col0\" >0.01</td>\n",
              "                        <td id=\"T_d52907d4_50e6_11ec_a253_0242ac1c0002row6_col1\" class=\"data row6 col1\" >0.02</td>\n",
              "                        <td id=\"T_d52907d4_50e6_11ec_a253_0242ac1c0002row6_col2\" class=\"data row6 col2\" >0.00</td>\n",
              "                        <td id=\"T_d52907d4_50e6_11ec_a253_0242ac1c0002row6_col3\" class=\"data row6 col3\" >0.01</td>\n",
              "                        <td id=\"T_d52907d4_50e6_11ec_a253_0242ac1c0002row6_col4\" class=\"data row6 col4\" >0.03</td>\n",
              "                        <td id=\"T_d52907d4_50e6_11ec_a253_0242ac1c0002row6_col5\" class=\"data row6 col5\" >0.02</td>\n",
              "                        <td id=\"T_d52907d4_50e6_11ec_a253_0242ac1c0002row6_col6\" class=\"data row6 col6\" >nan</td>\n",
              "                        <td id=\"T_d52907d4_50e6_11ec_a253_0242ac1c0002row6_col7\" class=\"data row6 col7\" >nan</td>\n",
              "                        <td id=\"T_d52907d4_50e6_11ec_a253_0242ac1c0002row6_col8\" class=\"data row6 col8\" >nan</td>\n",
              "                        <td id=\"T_d52907d4_50e6_11ec_a253_0242ac1c0002row6_col9\" class=\"data row6 col9\" >nan</td>\n",
              "                        <td id=\"T_d52907d4_50e6_11ec_a253_0242ac1c0002row6_col10\" class=\"data row6 col10\" >nan</td>\n",
              "                        <td id=\"T_d52907d4_50e6_11ec_a253_0242ac1c0002row6_col11\" class=\"data row6 col11\" >nan</td>\n",
              "                        <td id=\"T_d52907d4_50e6_11ec_a253_0242ac1c0002row6_col12\" class=\"data row6 col12\" >nan</td>\n",
              "            </tr>\n",
              "            <tr>\n",
              "                        <th id=\"T_d52907d4_50e6_11ec_a253_0242ac1c0002level0_row7\" class=\"row_heading level0 row7\" >rawcensustractandblock</th>\n",
              "                        <td id=\"T_d52907d4_50e6_11ec_a253_0242ac1c0002row7_col0\" class=\"data row7 col0\" >0.01</td>\n",
              "                        <td id=\"T_d52907d4_50e6_11ec_a253_0242ac1c0002row7_col1\" class=\"data row7 col1\" >0.01</td>\n",
              "                        <td id=\"T_d52907d4_50e6_11ec_a253_0242ac1c0002row7_col2\" class=\"data row7 col2\" >0.02</td>\n",
              "                        <td id=\"T_d52907d4_50e6_11ec_a253_0242ac1c0002row7_col3\" class=\"data row7 col3\" >0.03</td>\n",
              "                        <td id=\"T_d52907d4_50e6_11ec_a253_0242ac1c0002row7_col4\" class=\"data row7 col4\" >0.04</td>\n",
              "                        <td id=\"T_d52907d4_50e6_11ec_a253_0242ac1c0002row7_col5\" class=\"data row7 col5\" >0.35</td>\n",
              "                        <td id=\"T_d52907d4_50e6_11ec_a253_0242ac1c0002row7_col6\" class=\"data row7 col6\" >0.02</td>\n",
              "                        <td id=\"T_d52907d4_50e6_11ec_a253_0242ac1c0002row7_col7\" class=\"data row7 col7\" >nan</td>\n",
              "                        <td id=\"T_d52907d4_50e6_11ec_a253_0242ac1c0002row7_col8\" class=\"data row7 col8\" >nan</td>\n",
              "                        <td id=\"T_d52907d4_50e6_11ec_a253_0242ac1c0002row7_col9\" class=\"data row7 col9\" >nan</td>\n",
              "                        <td id=\"T_d52907d4_50e6_11ec_a253_0242ac1c0002row7_col10\" class=\"data row7 col10\" >nan</td>\n",
              "                        <td id=\"T_d52907d4_50e6_11ec_a253_0242ac1c0002row7_col11\" class=\"data row7 col11\" >nan</td>\n",
              "                        <td id=\"T_d52907d4_50e6_11ec_a253_0242ac1c0002row7_col12\" class=\"data row7 col12\" >nan</td>\n",
              "            </tr>\n",
              "            <tr>\n",
              "                        <th id=\"T_d52907d4_50e6_11ec_a253_0242ac1c0002level0_row8\" class=\"row_heading level0 row8\" >roomcnt</th>\n",
              "                        <td id=\"T_d52907d4_50e6_11ec_a253_0242ac1c0002row8_col0\" class=\"data row8 col0\" >0.05</td>\n",
              "                        <td id=\"T_d52907d4_50e6_11ec_a253_0242ac1c0002row8_col1\" class=\"data row8 col1\" >0.15</td>\n",
              "                        <td id=\"T_d52907d4_50e6_11ec_a253_0242ac1c0002row8_col2\" class=\"data row8 col2\" >0.03</td>\n",
              "                        <td id=\"T_d52907d4_50e6_11ec_a253_0242ac1c0002row8_col3\" class=\"data row8 col3\" >0.38</td>\n",
              "                        <td id=\"T_d52907d4_50e6_11ec_a253_0242ac1c0002row8_col4\" class=\"data row8 col4\" >0.23</td>\n",
              "                        <td id=\"T_d52907d4_50e6_11ec_a253_0242ac1c0002row8_col5\" class=\"data row8 col5\" >0.02</td>\n",
              "                        <td id=\"T_d52907d4_50e6_11ec_a253_0242ac1c0002row8_col6\" class=\"data row8 col6\" >0.02</td>\n",
              "                        <td id=\"T_d52907d4_50e6_11ec_a253_0242ac1c0002row8_col7\" class=\"data row8 col7\" >0.70</td>\n",
              "                        <td id=\"T_d52907d4_50e6_11ec_a253_0242ac1c0002row8_col8\" class=\"data row8 col8\" >nan</td>\n",
              "                        <td id=\"T_d52907d4_50e6_11ec_a253_0242ac1c0002row8_col9\" class=\"data row8 col9\" >nan</td>\n",
              "                        <td id=\"T_d52907d4_50e6_11ec_a253_0242ac1c0002row8_col10\" class=\"data row8 col10\" >nan</td>\n",
              "                        <td id=\"T_d52907d4_50e6_11ec_a253_0242ac1c0002row8_col11\" class=\"data row8 col11\" >nan</td>\n",
              "                        <td id=\"T_d52907d4_50e6_11ec_a253_0242ac1c0002row8_col12\" class=\"data row8 col12\" >nan</td>\n",
              "            </tr>\n",
              "            <tr>\n",
              "                        <th id=\"T_d52907d4_50e6_11ec_a253_0242ac1c0002level0_row9\" class=\"row_heading level0 row9\" >unitcnt</th>\n",
              "                        <td id=\"T_d52907d4_50e6_11ec_a253_0242ac1c0002row9_col0\" class=\"data row9 col0\" >0.04</td>\n",
              "                        <td id=\"T_d52907d4_50e6_11ec_a253_0242ac1c0002row9_col1\" class=\"data row9 col1\" >0.06</td>\n",
              "                        <td id=\"T_d52907d4_50e6_11ec_a253_0242ac1c0002row9_col2\" class=\"data row9 col2\" >0.39</td>\n",
              "                        <td id=\"T_d52907d4_50e6_11ec_a253_0242ac1c0002row9_col3\" class=\"data row9 col3\" >0.02</td>\n",
              "                        <td id=\"T_d52907d4_50e6_11ec_a253_0242ac1c0002row9_col4\" class=\"data row9 col4\" >0.04</td>\n",
              "                        <td id=\"T_d52907d4_50e6_11ec_a253_0242ac1c0002row9_col5\" class=\"data row9 col5\" >0.01</td>\n",
              "                        <td id=\"T_d52907d4_50e6_11ec_a253_0242ac1c0002row9_col6\" class=\"data row9 col6\" >0.01</td>\n",
              "                        <td id=\"T_d52907d4_50e6_11ec_a253_0242ac1c0002row9_col7\" class=\"data row9 col7\" >0.07</td>\n",
              "                        <td id=\"T_d52907d4_50e6_11ec_a253_0242ac1c0002row9_col8\" class=\"data row9 col8\" >0.01</td>\n",
              "                        <td id=\"T_d52907d4_50e6_11ec_a253_0242ac1c0002row9_col9\" class=\"data row9 col9\" >nan</td>\n",
              "                        <td id=\"T_d52907d4_50e6_11ec_a253_0242ac1c0002row9_col10\" class=\"data row9 col10\" >nan</td>\n",
              "                        <td id=\"T_d52907d4_50e6_11ec_a253_0242ac1c0002row9_col11\" class=\"data row9 col11\" >nan</td>\n",
              "                        <td id=\"T_d52907d4_50e6_11ec_a253_0242ac1c0002row9_col12\" class=\"data row9 col12\" >nan</td>\n",
              "            </tr>\n",
              "            <tr>\n",
              "                        <th id=\"T_d52907d4_50e6_11ec_a253_0242ac1c0002level0_row10\" class=\"row_heading level0 row10\" >yearbuilt</th>\n",
              "                        <td id=\"T_d52907d4_50e6_11ec_a253_0242ac1c0002row10_col0\" class=\"data row10 col0\" >0.36</td>\n",
              "                        <td id=\"T_d52907d4_50e6_11ec_a253_0242ac1c0002row10_col1\" class=\"data row10 col1\" >0.07</td>\n",
              "                        <td id=\"T_d52907d4_50e6_11ec_a253_0242ac1c0002row10_col2\" class=\"data row10 col2\" >0.12</td>\n",
              "                        <td id=\"T_d52907d4_50e6_11ec_a253_0242ac1c0002row10_col3\" class=\"data row10 col3\" >0.04</td>\n",
              "                        <td id=\"T_d52907d4_50e6_11ec_a253_0242ac1c0002row10_col4\" class=\"data row10 col4\" >0.01</td>\n",
              "                        <td id=\"T_d52907d4_50e6_11ec_a253_0242ac1c0002row10_col5\" class=\"data row10 col5\" >0.06</td>\n",
              "                        <td id=\"T_d52907d4_50e6_11ec_a253_0242ac1c0002row10_col6\" class=\"data row10 col6\" >0.03</td>\n",
              "                        <td id=\"T_d52907d4_50e6_11ec_a253_0242ac1c0002row10_col7\" class=\"data row10 col7\" >0.26</td>\n",
              "                        <td id=\"T_d52907d4_50e6_11ec_a253_0242ac1c0002row10_col8\" class=\"data row10 col8\" >0.13</td>\n",
              "                        <td id=\"T_d52907d4_50e6_11ec_a253_0242ac1c0002row10_col9\" class=\"data row10 col9\" >0.04</td>\n",
              "                        <td id=\"T_d52907d4_50e6_11ec_a253_0242ac1c0002row10_col10\" class=\"data row10 col10\" >nan</td>\n",
              "                        <td id=\"T_d52907d4_50e6_11ec_a253_0242ac1c0002row10_col11\" class=\"data row10 col11\" >nan</td>\n",
              "                        <td id=\"T_d52907d4_50e6_11ec_a253_0242ac1c0002row10_col12\" class=\"data row10 col12\" >nan</td>\n",
              "            </tr>\n",
              "            <tr>\n",
              "                        <th id=\"T_d52907d4_50e6_11ec_a253_0242ac1c0002level0_row11\" class=\"row_heading level0 row11\" >numberofstories</th>\n",
              "                        <td id=\"T_d52907d4_50e6_11ec_a253_0242ac1c0002row11_col0\" class=\"data row11 col0\" >0.30</td>\n",
              "                        <td id=\"T_d52907d4_50e6_11ec_a253_0242ac1c0002row11_col1\" class=\"data row11 col1\" >0.14</td>\n",
              "                        <td id=\"T_d52907d4_50e6_11ec_a253_0242ac1c0002row11_col2\" class=\"data row11 col2\" >0.14</td>\n",
              "                        <td id=\"T_d52907d4_50e6_11ec_a253_0242ac1c0002row11_col3\" class=\"data row11 col3\" >0.05</td>\n",
              "                        <td id=\"T_d52907d4_50e6_11ec_a253_0242ac1c0002row11_col4\" class=\"data row11 col4\" >0.01</td>\n",
              "                        <td id=\"T_d52907d4_50e6_11ec_a253_0242ac1c0002row11_col5\" class=\"data row11 col5\" >0.01</td>\n",
              "                        <td id=\"T_d52907d4_50e6_11ec_a253_0242ac1c0002row11_col6\" class=\"data row11 col6\" >0.00</td>\n",
              "                        <td id=\"T_d52907d4_50e6_11ec_a253_0242ac1c0002row11_col7\" class=\"data row11 col7\" >0.05</td>\n",
              "                        <td id=\"T_d52907d4_50e6_11ec_a253_0242ac1c0002row11_col8\" class=\"data row11 col8\" >0.24</td>\n",
              "                        <td id=\"T_d52907d4_50e6_11ec_a253_0242ac1c0002row11_col9\" class=\"data row11 col9\" >0.03</td>\n",
              "                        <td id=\"T_d52907d4_50e6_11ec_a253_0242ac1c0002row11_col10\" class=\"data row11 col10\" >0.31</td>\n",
              "                        <td id=\"T_d52907d4_50e6_11ec_a253_0242ac1c0002row11_col11\" class=\"data row11 col11\" >nan</td>\n",
              "                        <td id=\"T_d52907d4_50e6_11ec_a253_0242ac1c0002row11_col12\" class=\"data row11 col12\" >nan</td>\n",
              "            </tr>\n",
              "            <tr>\n",
              "                        <th id=\"T_d52907d4_50e6_11ec_a253_0242ac1c0002level0_row12\" class=\"row_heading level0 row12\" >taxvaluedollarcnt</th>\n",
              "                        <td id=\"T_d52907d4_50e6_11ec_a253_0242ac1c0002row12_col0\" class=\"data row12 col0\" >0.33</td>\n",
              "                        <td id=\"T_d52907d4_50e6_11ec_a253_0242ac1c0002row12_col1\" class=\"data row12 col1\" >0.15</td>\n",
              "                        <td id=\"T_d52907d4_50e6_11ec_a253_0242ac1c0002row12_col2\" class=\"data row12 col2\" >0.54</td>\n",
              "                        <td id=\"T_d52907d4_50e6_11ec_a253_0242ac1c0002row12_col3\" class=\"data row12 col3\" >0.32</td>\n",
              "                        <td id=\"T_d52907d4_50e6_11ec_a253_0242ac1c0002row12_col4\" class=\"data row12 col4\" >0.06</td>\n",
              "                        <td id=\"T_d52907d4_50e6_11ec_a253_0242ac1c0002row12_col5\" class=\"data row12 col5\" >0.02</td>\n",
              "                        <td id=\"T_d52907d4_50e6_11ec_a253_0242ac1c0002row12_col6\" class=\"data row12 col6\" >0.00</td>\n",
              "                        <td id=\"T_d52907d4_50e6_11ec_a253_0242ac1c0002row12_col7\" class=\"data row12 col7\" >0.00</td>\n",
              "                        <td id=\"T_d52907d4_50e6_11ec_a253_0242ac1c0002row12_col8\" class=\"data row12 col8\" >0.00</td>\n",
              "                        <td id=\"T_d52907d4_50e6_11ec_a253_0242ac1c0002row12_col9\" class=\"data row12 col9\" >0.17</td>\n",
              "                        <td id=\"T_d52907d4_50e6_11ec_a253_0242ac1c0002row12_col10\" class=\"data row12 col10\" >0.14</td>\n",
              "                        <td id=\"T_d52907d4_50e6_11ec_a253_0242ac1c0002row12_col11\" class=\"data row12 col11\" >0.11</td>\n",
              "                        <td id=\"T_d52907d4_50e6_11ec_a253_0242ac1c0002row12_col12\" class=\"data row12 col12\" >nan</td>\n",
              "            </tr>\n",
              "    </tbody></table>"
            ],
            "text/plain": [
              "<pandas.io.formats.style.Styler at 0x7f736ed56d10>"
            ]
          },
          "execution_count": 47,
          "metadata": {},
          "output_type": "execute_result"
        }
      ]
    },
    {
      "cell_type": "markdown",
      "metadata": {
        "id": "u3mitMj6jaNx"
      },
      "source": [
        "Since there are no variables left that have a correlation coefficient higher than 0.8, we should not have issues with multicollinearity "
      ]
    },
    {
      "cell_type": "code",
      "metadata": {
        "colab": {
          "base_uri": "https://localhost:8080/"
        },
        "id": "fJ3AXCV0gQ_j",
        "outputId": "44e7f744-1bfa-4766-c208-0932ee5ed345"
      },
      "source": [
        "print(\"Column Count Before: \" + str(len(zillow_df_drop_na_over80.columns)))\n",
        "print(\"Column Count After: \" + str(len(zillow_df_drop_cols.columns)))"
      ],
      "execution_count": null,
      "outputs": [
        {
          "name": "stdout",
          "output_type": "stream",
          "text": [
            "Column Count Before: 34\n",
            "Column Count After: 19\n"
          ]
        }
      ]
    },
    {
      "cell_type": "markdown",
      "metadata": {
        "id": "3exdGg4Mb8K1"
      },
      "source": [
        "##**2.3. Remove Rows With Missing Values**\n"
      ]
    },
    {
      "cell_type": "code",
      "metadata": {
        "colab": {
          "base_uri": "https://localhost:8080/",
          "height": 638
        },
        "id": "21p4DFjVif0z",
        "outputId": "05a8a3e5-61ee-4a30-8612-0dbb53b5fde0"
      },
      "source": [
        "from pyspark.sql.functions import *\n",
        "\n",
        "# Calcuate missing values % for each column after removing columns with over 80% missing values and columns that may lead to data leakage\n",
        "perc_missing_cleaned_df = zillow_df_drop_cols.select([(count(when(isnan(c) | col(c).isNull(), c))/count(lit(1))).alias(c) for c in zillow_df_drop_cols.columns])\n",
        "\n",
        "# Convert to pandas DF and sort by descending missing_perc values\n",
        "perc_missing_cleaned_pd = perc_missing_cleaned_df.select(\"*\").toPandas().transpose().rename(columns={0: \"missing_perc\"}).sort_values(by='missing_perc', ascending=False)\n",
        "\n",
        "perc_missing_cleaned_pd"
      ],
      "execution_count": null,
      "outputs": [
        {
          "data": {
            "text/html": [
              "<div>\n",
              "<style scoped>\n",
              "    .dataframe tbody tr th:only-of-type {\n",
              "        vertical-align: middle;\n",
              "    }\n",
              "\n",
              "    .dataframe tbody tr th {\n",
              "        vertical-align: top;\n",
              "    }\n",
              "\n",
              "    .dataframe thead th {\n",
              "        text-align: right;\n",
              "    }\n",
              "</style>\n",
              "<table border=\"1\" class=\"dataframe\">\n",
              "  <thead>\n",
              "    <tr style=\"text-align: right;\">\n",
              "      <th></th>\n",
              "      <th>missing_perc</th>\n",
              "    </tr>\n",
              "  </thead>\n",
              "  <tbody>\n",
              "    <tr>\n",
              "      <th>numberofstories</th>\n",
              "      <td>0.768225</td>\n",
              "    </tr>\n",
              "    <tr>\n",
              "      <th>airconditioningtypeid</th>\n",
              "      <td>0.724230</td>\n",
              "    </tr>\n",
              "    <tr>\n",
              "      <th>garagetotalsqft</th>\n",
              "      <td>0.699848</td>\n",
              "    </tr>\n",
              "    <tr>\n",
              "      <th>heatingorsystemtypeid</th>\n",
              "      <td>0.386181</td>\n",
              "    </tr>\n",
              "    <tr>\n",
              "      <th>buildingqualitytypeid</th>\n",
              "      <td>0.341310</td>\n",
              "    </tr>\n",
              "    <tr>\n",
              "      <th>unitcnt</th>\n",
              "      <td>0.328057</td>\n",
              "    </tr>\n",
              "    <tr>\n",
              "      <th>lotsizesquarefeet</th>\n",
              "      <td>0.079546</td>\n",
              "    </tr>\n",
              "    <tr>\n",
              "      <th>yearbuilt</th>\n",
              "      <td>0.016047</td>\n",
              "    </tr>\n",
              "    <tr>\n",
              "      <th>calculatedfinishedsquarefeet</th>\n",
              "      <td>0.014350</td>\n",
              "    </tr>\n",
              "    <tr>\n",
              "      <th>propertycountylandusecode</th>\n",
              "      <td>0.000266</td>\n",
              "    </tr>\n",
              "    <tr>\n",
              "      <th>roomcnt</th>\n",
              "      <td>0.000013</td>\n",
              "    </tr>\n",
              "    <tr>\n",
              "      <th>bathroomcnt</th>\n",
              "      <td>0.000008</td>\n",
              "    </tr>\n",
              "    <tr>\n",
              "      <th>bedroomcnt</th>\n",
              "      <td>0.000004</td>\n",
              "    </tr>\n",
              "    <tr>\n",
              "      <th>parcelid</th>\n",
              "      <td>0.000000</td>\n",
              "    </tr>\n",
              "    <tr>\n",
              "      <th>longitude</th>\n",
              "      <td>0.000000</td>\n",
              "    </tr>\n",
              "    <tr>\n",
              "      <th>rawcensustractandblock</th>\n",
              "      <td>0.000000</td>\n",
              "    </tr>\n",
              "    <tr>\n",
              "      <th>propertylandusetypeid</th>\n",
              "      <td>0.000000</td>\n",
              "    </tr>\n",
              "    <tr>\n",
              "      <th>latitude</th>\n",
              "      <td>0.000000</td>\n",
              "    </tr>\n",
              "    <tr>\n",
              "      <th>taxvaluedollarcnt</th>\n",
              "      <td>0.000000</td>\n",
              "    </tr>\n",
              "  </tbody>\n",
              "</table>\n",
              "</div>"
            ],
            "text/plain": [
              "                              missing_perc\n",
              "numberofstories                   0.768225\n",
              "airconditioningtypeid             0.724230\n",
              "garagetotalsqft                   0.699848\n",
              "heatingorsystemtypeid             0.386181\n",
              "buildingqualitytypeid             0.341310\n",
              "unitcnt                           0.328057\n",
              "lotsizesquarefeet                 0.079546\n",
              "yearbuilt                         0.016047\n",
              "calculatedfinishedsquarefeet      0.014350\n",
              "propertycountylandusecode         0.000266\n",
              "roomcnt                           0.000013\n",
              "bathroomcnt                       0.000008\n",
              "bedroomcnt                        0.000004\n",
              "parcelid                          0.000000\n",
              "longitude                         0.000000\n",
              "rawcensustractandblock            0.000000\n",
              "propertylandusetypeid             0.000000\n",
              "latitude                          0.000000\n",
              "taxvaluedollarcnt                 0.000000"
            ]
          },
          "execution_count": 49,
          "metadata": {},
          "output_type": "execute_result"
        }
      ]
    },
    {
      "cell_type": "markdown",
      "metadata": {
        "id": "blGPmwlnqFeu"
      },
      "source": [
        "Since there is only a small number of records with null values in certain columns (\"bathroomcnt\", \"bedroomcnt\",\"propertycountylandusecode\", and \"roomcnt\") we can just remove those records in columns with a small number of missing columns instead of replacing the null values with something else since it would be difficult to replace the values, and since it is a small number of records it's quicker to just drop those records. "
      ]
    },
    {
      "cell_type": "code",
      "metadata": {
        "colab": {
          "base_uri": "https://localhost:8080/"
        },
        "id": "zEH13nJB1Ldf",
        "outputId": "97423ffa-2eb6-42d5-dc28-260ab4dc690c"
      },
      "source": [
        "# Keep only the columns with missing value percentages between 0 and 0.1 and sort by descending order\n",
        "under_10perc_missing_pd = perc_missing_cleaned_pd.loc[(perc_missing_cleaned_pd[\"missing_perc\"] < 0.1) & (perc_missing_cleaned_pd[\"missing_perc\"] > 0)].sort_values(by='missing_perc', ascending=False)\n",
        "\n",
        "# Store the columns with missing value percentages between 0 and 0.1\n",
        "column_list = under_10perc_missing_pd.index.to_list()\n",
        "\n",
        "# Create a copy of the zillow_df_drop_cols Dataframe\n",
        "zillow_df_drop_cols2 = zillow_df_drop_cols\n",
        "\n",
        "# Iterate through each column in the list and filter out the rows that contain null values for that column\n",
        "for c in column_list:\n",
        "  zillow_df_drop_cols2 = zillow_df_drop_cols2.filter(col(c).isNotNull())\n",
        "\n",
        "print(\"Record Count Before: \" + str(zillow_df_drop_cols.count()))\n",
        "print(\"Record Count After: \" + str(zillow_df_drop_cols2.count()))"
      ],
      "execution_count": null,
      "outputs": [
        {
          "name": "stdout",
          "output_type": "stream",
          "text": [
            "Record Count Before: 2942667\n",
            "Record Count After: 2690809\n"
          ]
        }
      ]
    },
    {
      "cell_type": "code",
      "metadata": {
        "colab": {
          "base_uri": "https://localhost:8080/"
        },
        "id": "UdRSxvGnk3Gy",
        "outputId": "64904cef-93e7-4878-eab6-4ce67fa05f82"
      },
      "source": [
        "print(len(zillow_df_drop_cols2.columns))"
      ],
      "execution_count": null,
      "outputs": [
        {
          "name": "stdout",
          "output_type": "stream",
          "text": [
            "19\n"
          ]
        }
      ]
    },
    {
      "cell_type": "markdown",
      "metadata": {
        "id": "kj_Q05i-CTVN"
      },
      "source": [
        "##**2.4. Replacing Missing Values**"
      ]
    },
    {
      "cell_type": "markdown",
      "metadata": {
        "id": "186XDXxIbIUy"
      },
      "source": [
        "###2.4.1. Categorical Variables"
      ]
    },
    {
      "cell_type": "code",
      "metadata": {
        "colab": {
          "base_uri": "https://localhost:8080/"
        },
        "id": "Tnvhv8ZZk5Fn",
        "outputId": "113f48a1-11cf-44fc-f61f-8843c0de4495"
      },
      "source": [
        "zillow_df_drop_cols2.groupBy('airconditioningtypeid').count().show()"
      ],
      "execution_count": null,
      "outputs": [
        {
          "name": "stdout",
          "output_type": "stream",
          "text": [
            "+---------------------+-------+\n",
            "|airconditioningtypeid|  count|\n",
            "+---------------------+-------+\n",
            "|                   12|     47|\n",
            "|                 null|1918727|\n",
            "|                    1| 704442|\n",
            "|                   13|  58305|\n",
            "|                    3|      5|\n",
            "|                    5|   8394|\n",
            "|                    9|     19|\n",
            "|                   11|    870|\n",
            "+---------------------+-------+\n",
            "\n"
          ]
        }
      ]
    },
    {
      "cell_type": "markdown",
      "metadata": {
        "id": "dZtxggjuitBV"
      },
      "source": [
        "Since airconditioningtypeid = 5, which represents no airconditioning unit present on the property, already exists, we can use replace the null values with 0 still since that ID does not already represent a category in that column"
      ]
    },
    {
      "cell_type": "code",
      "metadata": {
        "colab": {
          "base_uri": "https://localhost:8080/"
        },
        "id": "zIXrOsE15vFp",
        "outputId": "54aa288f-6f71-440f-f85f-3a2a97680ac8"
      },
      "source": [
        "zillow_df_drop_cols2.groupBy('buildingqualitytypeid').count().show()"
      ],
      "execution_count": null,
      "outputs": [
        {
          "name": "stdout",
          "output_type": "stream",
          "text": [
            "+---------------------+-------+\n",
            "|buildingqualitytypeid|  count|\n",
            "+---------------------+-------+\n",
            "|                   12|   3572|\n",
            "|                 null| 787396|\n",
            "|                    1|  64871|\n",
            "|                    6|     78|\n",
            "|                    3|      6|\n",
            "|                    5|     20|\n",
            "|                    9|     25|\n",
            "|                    4| 671924|\n",
            "|                    8|     49|\n",
            "|                    7|1125247|\n",
            "|                   10|  37600|\n",
            "|                   11|     19|\n",
            "|                    2|      2|\n",
            "+---------------------+-------+\n",
            "\n"
          ]
        }
      ]
    },
    {
      "cell_type": "code",
      "metadata": {
        "colab": {
          "base_uri": "https://localhost:8080/"
        },
        "id": "nZfUj3L_b7eD",
        "outputId": "ff562b3c-b705-47cf-bf74-e5e9e217ec0d"
      },
      "source": [
        "zillow_df_drop_cols2.groupBy('heatingorsystemtypeid').count().show()       "
      ],
      "execution_count": null,
      "outputs": [
        {
          "name": "stdout",
          "output_type": "stream",
          "text": [
            "+---------------------+-------+\n",
            "|heatingorsystemtypeid|  count|\n",
            "+---------------------+-------+\n",
            "|                 null| 946793|\n",
            "|                    1|    148|\n",
            "|                   13|    550|\n",
            "|                    6|  20915|\n",
            "|                   20|   2250|\n",
            "|                    7| 592379|\n",
            "|                   10|     18|\n",
            "|                   24|     29|\n",
            "|                   11|      5|\n",
            "|                   14|     41|\n",
            "|                    2|1127592|\n",
            "|                   18|     89|\n",
            "+---------------------+-------+\n",
            "\n"
          ]
        }
      ]
    },
    {
      "cell_type": "markdown",
      "metadata": {
        "id": "yFVXkxFHkXEh"
      },
      "source": [
        "Again, since heatingorsystemtypeid = 13 represents No heating system present on the property, we can still use 0 to replace the null values since that ID does not already represent a category in that column"
      ]
    },
    {
      "cell_type": "markdown",
      "metadata": {
        "id": "lM7Pw7DBbNPc"
      },
      "source": [
        "###2.4.2. Discrete & Continuous Variables"
      ]
    },
    {
      "cell_type": "code",
      "metadata": {
        "colab": {
          "base_uri": "https://localhost:8080/"
        },
        "id": "gJ6VrbdyU4Xb",
        "outputId": "df87beee-c6cc-487e-f1ae-76a194ba8a40"
      },
      "source": [
        "zillow_df_drop_cols2.groupBy('unitcnt').count().orderBy(['unitcnt'], ascending=[1]).show()"
      ],
      "execution_count": null,
      "outputs": [
        {
          "name": "stdout",
          "output_type": "stream",
          "text": [
            "+-------+-------+\n",
            "|unitcnt|  count|\n",
            "+-------+-------+\n",
            "|   null| 751414|\n",
            "|      1|1746577|\n",
            "|      2| 113241|\n",
            "|      3|  38795|\n",
            "|      4|  38855|\n",
            "|      5|    560|\n",
            "|      6|    345|\n",
            "|      7|    160|\n",
            "|      8|    170|\n",
            "|      9|     85|\n",
            "|     10|     94|\n",
            "|     11|     44|\n",
            "|     12|     47|\n",
            "|     13|     33|\n",
            "|     14|     30|\n",
            "|     15|     15|\n",
            "|     16|     30|\n",
            "|     17|     11|\n",
            "|     18|     16|\n",
            "|     19|      9|\n",
            "+-------+-------+\n",
            "only showing top 20 rows\n",
            "\n"
          ]
        }
      ]
    },
    {
      "cell_type": "markdown",
      "metadata": {
        "id": "XS-RujUcVUos"
      },
      "source": [
        "According to the data dictionary, unitcnt is the \"Number of units the structure is built into (i.e. 2 = duplex, 3 = triplex, etc...)\". We can assume that if the value is null that means it is built into a structure that does not have any sort of unit system, so for now we can replace it with 0 as well."
      ]
    },
    {
      "cell_type": "markdown",
      "metadata": {
        "id": "hXUxK5YmfJ-i"
      },
      "source": [
        "We can assume that if the value is null that means there is no garage on the property, hence we can also change any null values to 0 as no garage means the size is 0 by default."
      ]
    },
    {
      "cell_type": "code",
      "metadata": {
        "colab": {
          "base_uri": "https://localhost:8080/"
        },
        "id": "Tre9drU_cFtK",
        "outputId": "1d9109df-6d0c-4550-fc32-c8c9569e3e19"
      },
      "source": [
        "zillow_df_drop_cols2.groupBy('numberofstories').count().orderBy([\"count\"], ascending=[0]).show()"
      ],
      "execution_count": null,
      "outputs": [
        {
          "name": "stdout",
          "output_type": "stream",
          "text": [
            "+---------------+-------+\n",
            "|numberofstories|  count|\n",
            "+---------------+-------+\n",
            "|           null|2059915|\n",
            "|              1| 396854|\n",
            "|              2| 219443|\n",
            "|              3|  14524|\n",
            "|              4|     54|\n",
            "|              5|      9|\n",
            "|              6|      4|\n",
            "|              7|      2|\n",
            "|             41|      1|\n",
            "|             17|      1|\n",
            "|             14|      1|\n",
            "|              8|      1|\n",
            "+---------------+-------+\n",
            "\n"
          ]
        }
      ]
    },
    {
      "cell_type": "markdown",
      "metadata": {
        "id": "JZhxtEA_hwz2"
      },
      "source": [
        "numberofstories, according to the data dictionary, is the \"Number of stories or levels the home has\". So we can assume that if the value is null, that means that the property does not have any stories, so we can set the null values to 0. Since there are a bunch of outliers, we can group all values > 3 together "
      ]
    },
    {
      "cell_type": "code",
      "metadata": {
        "colab": {
          "base_uri": "https://localhost:8080/"
        },
        "id": "ezN5iG0RJEhh",
        "outputId": "73f4765f-e2eb-46ff-d208-36aca4014619"
      },
      "source": [
        "# Replace missing values in selected colmns with 0\n",
        "zillow_no_missing_val_df = zillow_df_drop_cols2.na.fill(value=0,subset=[\"airconditioningtypeid\", \"buildingqualitytypeid\", \"heatingorsystemtypeid\", \"unitcnt\", \"garagetotalsqft\", \"numberofstories\"])\n",
        "\n",
        "zillow_no_missing_val_df.show()"
      ],
      "execution_count": null,
      "outputs": [
        {
          "name": "stdout",
          "output_type": "stream",
          "text": [
            "+--------+---------------------+-----------+----------+---------------------+----------------------------+---------------+---------------------+--------+----------+-----------------+-------------------------+---------------------+----------------------+-------+-------+---------+---------------+-----------------+\n",
            "|parcelid|airconditioningtypeid|bathroomcnt|bedroomcnt|buildingqualitytypeid|calculatedfinishedsquarefeet|garagetotalsqft|heatingorsystemtypeid|latitude| longitude|lotsizesquarefeet|propertycountylandusecode|propertylandusetypeid|rawcensustractandblock|roomcnt|unitcnt|yearbuilt|numberofstories|taxvaluedollarcnt|\n",
            "+--------+---------------------+-----------+----------+---------------------+----------------------------+---------------+---------------------+--------+----------+-----------------+-------------------------+---------------------+----------------------+-------+-------+---------+---------------+-----------------+\n",
            "|10859147|                    0|        0.0|       0.0|                    7|                      5068.0|              0|                    0|34148863|-118437206|           7521.0|                     1200|                   47|     6.0371412023001E7|    0.0|      0|   1948.0|              1|        1156834.0|\n",
            "|10879947|                    0|        0.0|       0.0|                    0|                      1776.0|              0|                    0|34194168|-118385816|           8512.0|                     1210|                   31|     6.0371232052003E7|    0.0|      1|   1947.0|              0|         433491.0|\n",
            "|10898347|                    0|        0.0|       0.0|                    7|                      2400.0|              0|                    0|34171873|-118380906|           2500.0|                     1210|                   31|        6.0371252001E7|    0.0|      0|   1943.0|              1|         283315.0|\n",
            "|10940747|                    0|        0.0|       0.0|                    0|                      3611.0|              0|                    0|34171345|-118314900|           5333.0|                     1210|                   31|     6.0373108003004E7|    0.0|      0|   1946.0|              1|         688486.0|\n",
            "|10976347|                    0|        0.0|       0.0|                    7|                      3754.0|              0|                    0|34289776|-118432085|           7494.0|                     1210|                   31|     6.0373202023005E7|    0.0|      0|   1978.0|              1|         261201.0|\n",
            "|11073947|                    0|        0.0|       0.0|                    0|                      2470.0|              0|                    0|34265214|-118520217|           3423.0|                     1200|                   47|     6.0371112022021E7|    0.0|      0|   1958.0|              1|         430208.0|\n",
            "|11287347|                    0|        0.0|       0.0|                    7|                      2760.0|              0|                    0|34690736|-118135225|           8856.0|                     1210|                   31|     6.0379008061041E7|    0.0|      0|   1949.0|              0|          62424.0|\n",
            "|11288547|                    0|        0.0|       0.0|                    7|                      4000.0|              0|                    0|34733960|-118139298|          46526.0|                     300V|                  260|     6.0379003001052E7|    0.0|      0|   1956.0|              0|         102385.0|\n",
            "|11324547|                    1|        2.0|       4.0|                    4|                      3633.0|              0|                    2|34560018|-118169806|           9826.0|                     0100|                  261|       6.03791020611E7|    0.0|      1|   2005.0|              0|         291973.0|\n",
            "|11391347|                    0|        0.0|       0.0|                    7|                      4053.0|              0|                    0|33986910|-118329553|           8050.0|                     1210|                   31|     6.0372347003007E7|    0.0|      1|   1957.0|              0|         503752.0|\n",
            "|11404347|                    0|        0.0|       0.0|                    7|                      1936.0|              0|                    0|33959896|-118350438|           1821.0|                     1210|                   31|     6.0376010012021E7|    0.0|      0|   1939.0|              1|         231720.0|\n",
            "|11405747|                    0|        0.0|       0.0|                    7|                      1606.0|              0|                    7|33952952|-118361711|           5231.0|                     1210|                   31|     6.0376014021005E7|    0.0|      1|   1926.0|              1|         181667.0|\n",
            "|11417147|                    0|        0.0|       0.0|                    7|                      2820.0|              0|                    0|33931500|-118352104|           5934.0|                     1210|                   31|     6.0376021031001E7|    0.0|      2|   1938.0|              1|         133717.0|\n",
            "|11488147|                    0|        4.0|       5.0|                    4|                      2865.0|              0|                    0|33879216|-118361434|           4990.0|                     0200|                  246|     6.0376205211004E7|    0.0|      2|   1972.0|              0|         818739.0|\n",
            "|11520747|                    0|        0.0|       0.0|                    7|                      6790.0|              0|                    0|34016768|-118408671|          10437.0|                     1200|                   47|     6.0377028013006E7|    0.0|      0|   1955.0|              1|         786584.0|\n",
            "|11524947|                    1|        2.0|       2.0|                    4|                      1090.0|              0|                    2|33974100|-118423000|          40247.0|                     010C|                  266|     6.0372756021009E7|    0.0|      1|   2004.0|              0|         352198.0|\n",
            "|11579347|                    0|        0.0|       0.0|                    4|                      3170.0|              0|                    0|34047254|-118490143|           5010.0|                     1210|                   31|     6.0377012011008E7|    0.0|      0|   1955.0|              1|         528621.0|\n",
            "|11585547|                    0|        2.0|       3.0|                    4|                      2077.0|              0|                    2|34012977|-118479243|           6490.0|                     0100|                  261|     6.0377022014001E7|    0.0|      1|   1926.0|              0|         637046.0|\n",
            "|11609547|                    0|        0.0|       0.0|                    7|                      5610.0|              0|                    0|34043579|-118420247|           5500.0|                     1210|                   31|     6.0372693005005E7|    0.0|      1|   1929.0|              0|         236380.0|\n",
            "|11698747|                    0|        0.0|       0.0|                    7|                     18629.0|              0|                    0|33989166|-118352009|          17015.0|                     1200|                   47|     6.0377031003012E7|    0.0|      0|   1949.0|              0|        1295374.0|\n",
            "+--------+---------------------+-----------+----------+---------------------+----------------------------+---------------+---------------------+--------+----------+-----------------+-------------------------+---------------------+----------------------+-------+-------+---------+---------------+-----------------+\n",
            "only showing top 20 rows\n",
            "\n"
          ]
        }
      ]
    },
    {
      "cell_type": "code",
      "metadata": {
        "colab": {
          "base_uri": "https://localhost:8080/"
        },
        "id": "K4CwLBx3qqGo",
        "outputId": "9f3a52d0-d9db-4208-a234-4ef451cad81a"
      },
      "source": [
        "# Check to make sure there are no missing values\n",
        "zillow_no_missing_val_df.select(\"*\").toPandas().isna().sum()"
      ],
      "execution_count": null,
      "outputs": [
        {
          "data": {
            "text/plain": [
              "parcelid                        0\n",
              "airconditioningtypeid           0\n",
              "bathroomcnt                     0\n",
              "bedroomcnt                      0\n",
              "buildingqualitytypeid           0\n",
              "calculatedfinishedsquarefeet    0\n",
              "garagetotalsqft                 0\n",
              "heatingorsystemtypeid           0\n",
              "latitude                        0\n",
              "longitude                       0\n",
              "lotsizesquarefeet               0\n",
              "propertycountylandusecode       0\n",
              "propertylandusetypeid           0\n",
              "rawcensustractandblock          0\n",
              "roomcnt                         0\n",
              "unitcnt                         0\n",
              "yearbuilt                       0\n",
              "numberofstories                 0\n",
              "taxvaluedollarcnt               0\n",
              "dtype: int64"
            ]
          },
          "execution_count": 58,
          "metadata": {},
          "output_type": "execute_result"
        }
      ]
    },
    {
      "cell_type": "markdown",
      "metadata": {
        "id": "nkAd1lKvse1u"
      },
      "source": [
        "##**2.5. Convert Column Datatypes**\n",
        "\n",
        "\n"
      ]
    },
    {
      "cell_type": "code",
      "metadata": {
        "colab": {
          "base_uri": "https://localhost:8080/",
          "height": 655
        },
        "id": "sNlRFbkK_xMi",
        "outputId": "79267872-8abf-4e48-91c8-35897511efe0"
      },
      "source": [
        "# Check the datatypes for each column\n",
        "print('Columns overview')\n",
        "pd.DataFrame(zillow_no_missing_val_df.dtypes, columns = ['Column Name','Data type'])"
      ],
      "execution_count": null,
      "outputs": [
        {
          "name": "stdout",
          "output_type": "stream",
          "text": [
            "Columns overview\n"
          ]
        },
        {
          "data": {
            "text/html": [
              "<div>\n",
              "<style scoped>\n",
              "    .dataframe tbody tr th:only-of-type {\n",
              "        vertical-align: middle;\n",
              "    }\n",
              "\n",
              "    .dataframe tbody tr th {\n",
              "        vertical-align: top;\n",
              "    }\n",
              "\n",
              "    .dataframe thead th {\n",
              "        text-align: right;\n",
              "    }\n",
              "</style>\n",
              "<table border=\"1\" class=\"dataframe\">\n",
              "  <thead>\n",
              "    <tr style=\"text-align: right;\">\n",
              "      <th></th>\n",
              "      <th>Column Name</th>\n",
              "      <th>Data type</th>\n",
              "    </tr>\n",
              "  </thead>\n",
              "  <tbody>\n",
              "    <tr>\n",
              "      <th>0</th>\n",
              "      <td>parcelid</td>\n",
              "      <td>int</td>\n",
              "    </tr>\n",
              "    <tr>\n",
              "      <th>1</th>\n",
              "      <td>airconditioningtypeid</td>\n",
              "      <td>int</td>\n",
              "    </tr>\n",
              "    <tr>\n",
              "      <th>2</th>\n",
              "      <td>bathroomcnt</td>\n",
              "      <td>double</td>\n",
              "    </tr>\n",
              "    <tr>\n",
              "      <th>3</th>\n",
              "      <td>bedroomcnt</td>\n",
              "      <td>double</td>\n",
              "    </tr>\n",
              "    <tr>\n",
              "      <th>4</th>\n",
              "      <td>buildingqualitytypeid</td>\n",
              "      <td>int</td>\n",
              "    </tr>\n",
              "    <tr>\n",
              "      <th>5</th>\n",
              "      <td>calculatedfinishedsquarefeet</td>\n",
              "      <td>double</td>\n",
              "    </tr>\n",
              "    <tr>\n",
              "      <th>6</th>\n",
              "      <td>garagetotalsqft</td>\n",
              "      <td>int</td>\n",
              "    </tr>\n",
              "    <tr>\n",
              "      <th>7</th>\n",
              "      <td>heatingorsystemtypeid</td>\n",
              "      <td>int</td>\n",
              "    </tr>\n",
              "    <tr>\n",
              "      <th>8</th>\n",
              "      <td>latitude</td>\n",
              "      <td>int</td>\n",
              "    </tr>\n",
              "    <tr>\n",
              "      <th>9</th>\n",
              "      <td>longitude</td>\n",
              "      <td>int</td>\n",
              "    </tr>\n",
              "    <tr>\n",
              "      <th>10</th>\n",
              "      <td>lotsizesquarefeet</td>\n",
              "      <td>double</td>\n",
              "    </tr>\n",
              "    <tr>\n",
              "      <th>11</th>\n",
              "      <td>propertycountylandusecode</td>\n",
              "      <td>string</td>\n",
              "    </tr>\n",
              "    <tr>\n",
              "      <th>12</th>\n",
              "      <td>propertylandusetypeid</td>\n",
              "      <td>int</td>\n",
              "    </tr>\n",
              "    <tr>\n",
              "      <th>13</th>\n",
              "      <td>rawcensustractandblock</td>\n",
              "      <td>double</td>\n",
              "    </tr>\n",
              "    <tr>\n",
              "      <th>14</th>\n",
              "      <td>roomcnt</td>\n",
              "      <td>double</td>\n",
              "    </tr>\n",
              "    <tr>\n",
              "      <th>15</th>\n",
              "      <td>unitcnt</td>\n",
              "      <td>int</td>\n",
              "    </tr>\n",
              "    <tr>\n",
              "      <th>16</th>\n",
              "      <td>yearbuilt</td>\n",
              "      <td>double</td>\n",
              "    </tr>\n",
              "    <tr>\n",
              "      <th>17</th>\n",
              "      <td>numberofstories</td>\n",
              "      <td>int</td>\n",
              "    </tr>\n",
              "    <tr>\n",
              "      <th>18</th>\n",
              "      <td>taxvaluedollarcnt</td>\n",
              "      <td>double</td>\n",
              "    </tr>\n",
              "  </tbody>\n",
              "</table>\n",
              "</div>"
            ],
            "text/plain": [
              "                     Column Name Data type\n",
              "0                       parcelid       int\n",
              "1          airconditioningtypeid       int\n",
              "2                    bathroomcnt    double\n",
              "3                     bedroomcnt    double\n",
              "4          buildingqualitytypeid       int\n",
              "5   calculatedfinishedsquarefeet    double\n",
              "6                garagetotalsqft       int\n",
              "7          heatingorsystemtypeid       int\n",
              "8                       latitude       int\n",
              "9                      longitude       int\n",
              "10             lotsizesquarefeet    double\n",
              "11     propertycountylandusecode    string\n",
              "12         propertylandusetypeid       int\n",
              "13        rawcensustractandblock    double\n",
              "14                       roomcnt    double\n",
              "15                       unitcnt       int\n",
              "16                     yearbuilt    double\n",
              "17               numberofstories       int\n",
              "18             taxvaluedollarcnt    double"
            ]
          },
          "execution_count": 59,
          "metadata": {},
          "output_type": "execute_result"
        }
      ]
    },
    {
      "cell_type": "code",
      "metadata": {
        "id": "p_LsHK9BhEih"
      },
      "source": [
        "# Convert the categorical variables from int to string\n",
        "# zillow_no_missing_vals2 = zillow_no_missing_val_df.withColumn(\"parcelid\",zillow_no_missing_val_df[\"parcelid\"].cast(StringType()))\n",
        "# zillow_no_missing_vals3 = zillow_no_missing_vals2.withColumn(\"airconditioningtypeid\",zillow_no_missing_vals2[\"airconditioningtypeid\"].cast(StringType()))\n",
        "# zillow_no_missing_vals4 = zillow_no_missing_vals3.withColumn(\"buildingqualitytypeid\",zillow_no_missing_vals3[\"buildingqualitytypeid\"].cast(StringType()))\n",
        "# zillow_no_missing_vals5 = zillow_no_missing_vals4.withColumn(\"heatingorsystemtypeid\",zillow_no_missing_vals4[\"heatingorsystemtypeid\"].cast(StringType()))\n",
        "# zillow_no_missing_vals6 = zillow_no_missing_vals5.withColumn(\"propertylandusetypeid\",zillow_no_missing_vals5[\"propertylandusetypeid\"].cast(StringType()))\n",
        "\n",
        "# Convert count and year variable from double to int\n",
        "zillow_no_missing_vals7 = zillow_no_missing_val_df.withColumn(\"bathroomcnt\",zillow_no_missing_val_df[\"bathroomcnt\"].cast(IntegerType()))\n",
        "zillow_no_missing_vals8 = zillow_no_missing_vals7.withColumn(\"bedroomcnt\",zillow_no_missing_vals7[\"bedroomcnt\"].cast(IntegerType()))\n",
        "zillow_no_missing_vals9 = zillow_no_missing_vals8.withColumn(\"yearbuilt\",zillow_no_missing_vals8[\"yearbuilt\"].cast(IntegerType()))\n",
        "\n",
        "# Convert the categorical variables from string to int\n",
        "zillow_no_missing_vals10 = zillow_no_missing_vals9.withColumn(\"propertylandusetypeid\",zillow_no_missing_vals9[\"propertylandusetypeid\"].cast(IntegerType()))\n",
        "\n",
        "# Convert from int to double\n",
        "zillow_final_df = zillow_no_missing_vals10.withColumn(\"garagetotalsqft\",zillow_no_missing_vals10[\"garagetotalsqft\"].cast(DoubleType()))\n",
        "\n"
      ],
      "execution_count": null,
      "outputs": []
    },
    {
      "cell_type": "code",
      "metadata": {
        "colab": {
          "base_uri": "https://localhost:8080/",
          "height": 655
        },
        "id": "f-Iy7qZUgNgd",
        "outputId": "e532d85a-d824-4f94-8b7d-abeb4ff5def1"
      },
      "source": [
        "# Check the datatypes for each column again\n",
        "print('Columns overview')\n",
        "pd.DataFrame(zillow_final_df.dtypes, columns = ['Column Name','Data type'])"
      ],
      "execution_count": null,
      "outputs": [
        {
          "name": "stdout",
          "output_type": "stream",
          "text": [
            "Columns overview\n"
          ]
        },
        {
          "data": {
            "text/html": [
              "<div>\n",
              "<style scoped>\n",
              "    .dataframe tbody tr th:only-of-type {\n",
              "        vertical-align: middle;\n",
              "    }\n",
              "\n",
              "    .dataframe tbody tr th {\n",
              "        vertical-align: top;\n",
              "    }\n",
              "\n",
              "    .dataframe thead th {\n",
              "        text-align: right;\n",
              "    }\n",
              "</style>\n",
              "<table border=\"1\" class=\"dataframe\">\n",
              "  <thead>\n",
              "    <tr style=\"text-align: right;\">\n",
              "      <th></th>\n",
              "      <th>Column Name</th>\n",
              "      <th>Data type</th>\n",
              "    </tr>\n",
              "  </thead>\n",
              "  <tbody>\n",
              "    <tr>\n",
              "      <th>0</th>\n",
              "      <td>parcelid</td>\n",
              "      <td>int</td>\n",
              "    </tr>\n",
              "    <tr>\n",
              "      <th>1</th>\n",
              "      <td>airconditioningtypeid</td>\n",
              "      <td>int</td>\n",
              "    </tr>\n",
              "    <tr>\n",
              "      <th>2</th>\n",
              "      <td>bathroomcnt</td>\n",
              "      <td>int</td>\n",
              "    </tr>\n",
              "    <tr>\n",
              "      <th>3</th>\n",
              "      <td>bedroomcnt</td>\n",
              "      <td>int</td>\n",
              "    </tr>\n",
              "    <tr>\n",
              "      <th>4</th>\n",
              "      <td>buildingqualitytypeid</td>\n",
              "      <td>int</td>\n",
              "    </tr>\n",
              "    <tr>\n",
              "      <th>5</th>\n",
              "      <td>calculatedfinishedsquarefeet</td>\n",
              "      <td>double</td>\n",
              "    </tr>\n",
              "    <tr>\n",
              "      <th>6</th>\n",
              "      <td>garagetotalsqft</td>\n",
              "      <td>double</td>\n",
              "    </tr>\n",
              "    <tr>\n",
              "      <th>7</th>\n",
              "      <td>heatingorsystemtypeid</td>\n",
              "      <td>int</td>\n",
              "    </tr>\n",
              "    <tr>\n",
              "      <th>8</th>\n",
              "      <td>latitude</td>\n",
              "      <td>int</td>\n",
              "    </tr>\n",
              "    <tr>\n",
              "      <th>9</th>\n",
              "      <td>longitude</td>\n",
              "      <td>int</td>\n",
              "    </tr>\n",
              "    <tr>\n",
              "      <th>10</th>\n",
              "      <td>lotsizesquarefeet</td>\n",
              "      <td>double</td>\n",
              "    </tr>\n",
              "    <tr>\n",
              "      <th>11</th>\n",
              "      <td>propertycountylandusecode</td>\n",
              "      <td>string</td>\n",
              "    </tr>\n",
              "    <tr>\n",
              "      <th>12</th>\n",
              "      <td>propertylandusetypeid</td>\n",
              "      <td>int</td>\n",
              "    </tr>\n",
              "    <tr>\n",
              "      <th>13</th>\n",
              "      <td>rawcensustractandblock</td>\n",
              "      <td>double</td>\n",
              "    </tr>\n",
              "    <tr>\n",
              "      <th>14</th>\n",
              "      <td>roomcnt</td>\n",
              "      <td>double</td>\n",
              "    </tr>\n",
              "    <tr>\n",
              "      <th>15</th>\n",
              "      <td>unitcnt</td>\n",
              "      <td>int</td>\n",
              "    </tr>\n",
              "    <tr>\n",
              "      <th>16</th>\n",
              "      <td>yearbuilt</td>\n",
              "      <td>int</td>\n",
              "    </tr>\n",
              "    <tr>\n",
              "      <th>17</th>\n",
              "      <td>numberofstories</td>\n",
              "      <td>int</td>\n",
              "    </tr>\n",
              "    <tr>\n",
              "      <th>18</th>\n",
              "      <td>taxvaluedollarcnt</td>\n",
              "      <td>double</td>\n",
              "    </tr>\n",
              "  </tbody>\n",
              "</table>\n",
              "</div>"
            ],
            "text/plain": [
              "                     Column Name Data type\n",
              "0                       parcelid       int\n",
              "1          airconditioningtypeid       int\n",
              "2                    bathroomcnt       int\n",
              "3                     bedroomcnt       int\n",
              "4          buildingqualitytypeid       int\n",
              "5   calculatedfinishedsquarefeet    double\n",
              "6                garagetotalsqft    double\n",
              "7          heatingorsystemtypeid       int\n",
              "8                       latitude       int\n",
              "9                      longitude       int\n",
              "10             lotsizesquarefeet    double\n",
              "11     propertycountylandusecode    string\n",
              "12         propertylandusetypeid       int\n",
              "13        rawcensustractandblock    double\n",
              "14                       roomcnt    double\n",
              "15                       unitcnt       int\n",
              "16                     yearbuilt       int\n",
              "17               numberofstories       int\n",
              "18             taxvaluedollarcnt    double"
            ]
          },
          "execution_count": 64,
          "metadata": {},
          "output_type": "execute_result"
        }
      ]
    },
    {
      "cell_type": "markdown",
      "metadata": {
        "id": "AzNqtRSrB4N1"
      },
      "source": [
        "##**2.6. Use Correlation Matrix To Check Final Data**"
      ]
    },
    {
      "cell_type": "code",
      "metadata": {
        "colab": {
          "base_uri": "https://localhost:8080/",
          "height": 627
        },
        "id": "1CH9HC14C-gS",
        "outputId": "db50394c-9e1e-4998-c6f3-886e3dc19898"
      },
      "source": [
        "# Create a df with only columns with \"int\" and \"double\" variables \n",
        "corr_df = (zillow_final_df.select(\"*\").toPandas()).select_dtypes(exclude=['object'])\n",
        "\n",
        "# Get the absolute correlations of the variables\n",
        "corr_matrix= corr_df.corr().abs()\n",
        "\n",
        "# Plot Correlation matrix graph and hide diagonal and upper half values\n",
        "mask = np.zeros_like(corr_matrix, dtype=bool)\n",
        "mask[np.triu_indices_from(mask)] = True\n",
        "corr_matrix[mask] = np.nan\n",
        "(corr_matrix\n",
        " .style\n",
        " .background_gradient(cmap='coolwarm', axis=None, vmin=-1, vmax=1)\n",
        " .highlight_null(null_color='#f1f1f1')  # Color NaNs grey\n",
        " .set_precision(2))"
      ],
      "execution_count": null,
      "outputs": [
        {
          "data": {
            "text/html": [
              "<style  type=\"text/css\" >\n",
              "#T_44c01204_50e7_11ec_a253_0242ac1c0002row0_col0,#T_44c01204_50e7_11ec_a253_0242ac1c0002row0_col1,#T_44c01204_50e7_11ec_a253_0242ac1c0002row0_col2,#T_44c01204_50e7_11ec_a253_0242ac1c0002row0_col3,#T_44c01204_50e7_11ec_a253_0242ac1c0002row0_col4,#T_44c01204_50e7_11ec_a253_0242ac1c0002row0_col5,#T_44c01204_50e7_11ec_a253_0242ac1c0002row0_col6,#T_44c01204_50e7_11ec_a253_0242ac1c0002row0_col7,#T_44c01204_50e7_11ec_a253_0242ac1c0002row0_col8,#T_44c01204_50e7_11ec_a253_0242ac1c0002row0_col9,#T_44c01204_50e7_11ec_a253_0242ac1c0002row0_col10,#T_44c01204_50e7_11ec_a253_0242ac1c0002row0_col11,#T_44c01204_50e7_11ec_a253_0242ac1c0002row0_col12,#T_44c01204_50e7_11ec_a253_0242ac1c0002row0_col13,#T_44c01204_50e7_11ec_a253_0242ac1c0002row0_col14,#T_44c01204_50e7_11ec_a253_0242ac1c0002row0_col15,#T_44c01204_50e7_11ec_a253_0242ac1c0002row0_col16,#T_44c01204_50e7_11ec_a253_0242ac1c0002row0_col17,#T_44c01204_50e7_11ec_a253_0242ac1c0002row1_col1,#T_44c01204_50e7_11ec_a253_0242ac1c0002row1_col2,#T_44c01204_50e7_11ec_a253_0242ac1c0002row1_col3,#T_44c01204_50e7_11ec_a253_0242ac1c0002row1_col4,#T_44c01204_50e7_11ec_a253_0242ac1c0002row1_col5,#T_44c01204_50e7_11ec_a253_0242ac1c0002row1_col6,#T_44c01204_50e7_11ec_a253_0242ac1c0002row1_col7,#T_44c01204_50e7_11ec_a253_0242ac1c0002row1_col8,#T_44c01204_50e7_11ec_a253_0242ac1c0002row1_col9,#T_44c01204_50e7_11ec_a253_0242ac1c0002row1_col10,#T_44c01204_50e7_11ec_a253_0242ac1c0002row1_col11,#T_44c01204_50e7_11ec_a253_0242ac1c0002row1_col12,#T_44c01204_50e7_11ec_a253_0242ac1c0002row1_col13,#T_44c01204_50e7_11ec_a253_0242ac1c0002row1_col14,#T_44c01204_50e7_11ec_a253_0242ac1c0002row1_col15,#T_44c01204_50e7_11ec_a253_0242ac1c0002row1_col16,#T_44c01204_50e7_11ec_a253_0242ac1c0002row1_col17,#T_44c01204_50e7_11ec_a253_0242ac1c0002row2_col2,#T_44c01204_50e7_11ec_a253_0242ac1c0002row2_col3,#T_44c01204_50e7_11ec_a253_0242ac1c0002row2_col4,#T_44c01204_50e7_11ec_a253_0242ac1c0002row2_col5,#T_44c01204_50e7_11ec_a253_0242ac1c0002row2_col6,#T_44c01204_50e7_11ec_a253_0242ac1c0002row2_col7,#T_44c01204_50e7_11ec_a253_0242ac1c0002row2_col8,#T_44c01204_50e7_11ec_a253_0242ac1c0002row2_col9,#T_44c01204_50e7_11ec_a253_0242ac1c0002row2_col10,#T_44c01204_50e7_11ec_a253_0242ac1c0002row2_col11,#T_44c01204_50e7_11ec_a253_0242ac1c0002row2_col12,#T_44c01204_50e7_11ec_a253_0242ac1c0002row2_col13,#T_44c01204_50e7_11ec_a253_0242ac1c0002row2_col14,#T_44c01204_50e7_11ec_a253_0242ac1c0002row2_col15,#T_44c01204_50e7_11ec_a253_0242ac1c0002row2_col16,#T_44c01204_50e7_11ec_a253_0242ac1c0002row2_col17,#T_44c01204_50e7_11ec_a253_0242ac1c0002row3_col3,#T_44c01204_50e7_11ec_a253_0242ac1c0002row3_col4,#T_44c01204_50e7_11ec_a253_0242ac1c0002row3_col5,#T_44c01204_50e7_11ec_a253_0242ac1c0002row3_col6,#T_44c01204_50e7_11ec_a253_0242ac1c0002row3_col7,#T_44c01204_50e7_11ec_a253_0242ac1c0002row3_col8,#T_44c01204_50e7_11ec_a253_0242ac1c0002row3_col9,#T_44c01204_50e7_11ec_a253_0242ac1c0002row3_col10,#T_44c01204_50e7_11ec_a253_0242ac1c0002row3_col11,#T_44c01204_50e7_11ec_a253_0242ac1c0002row3_col12,#T_44c01204_50e7_11ec_a253_0242ac1c0002row3_col13,#T_44c01204_50e7_11ec_a253_0242ac1c0002row3_col14,#T_44c01204_50e7_11ec_a253_0242ac1c0002row3_col15,#T_44c01204_50e7_11ec_a253_0242ac1c0002row3_col16,#T_44c01204_50e7_11ec_a253_0242ac1c0002row3_col17,#T_44c01204_50e7_11ec_a253_0242ac1c0002row4_col4,#T_44c01204_50e7_11ec_a253_0242ac1c0002row4_col5,#T_44c01204_50e7_11ec_a253_0242ac1c0002row4_col6,#T_44c01204_50e7_11ec_a253_0242ac1c0002row4_col7,#T_44c01204_50e7_11ec_a253_0242ac1c0002row4_col8,#T_44c01204_50e7_11ec_a253_0242ac1c0002row4_col9,#T_44c01204_50e7_11ec_a253_0242ac1c0002row4_col10,#T_44c01204_50e7_11ec_a253_0242ac1c0002row4_col11,#T_44c01204_50e7_11ec_a253_0242ac1c0002row4_col12,#T_44c01204_50e7_11ec_a253_0242ac1c0002row4_col13,#T_44c01204_50e7_11ec_a253_0242ac1c0002row4_col14,#T_44c01204_50e7_11ec_a253_0242ac1c0002row4_col15,#T_44c01204_50e7_11ec_a253_0242ac1c0002row4_col16,#T_44c01204_50e7_11ec_a253_0242ac1c0002row4_col17,#T_44c01204_50e7_11ec_a253_0242ac1c0002row5_col5,#T_44c01204_50e7_11ec_a253_0242ac1c0002row5_col6,#T_44c01204_50e7_11ec_a253_0242ac1c0002row5_col7,#T_44c01204_50e7_11ec_a253_0242ac1c0002row5_col8,#T_44c01204_50e7_11ec_a253_0242ac1c0002row5_col9,#T_44c01204_50e7_11ec_a253_0242ac1c0002row5_col10,#T_44c01204_50e7_11ec_a253_0242ac1c0002row5_col11,#T_44c01204_50e7_11ec_a253_0242ac1c0002row5_col12,#T_44c01204_50e7_11ec_a253_0242ac1c0002row5_col13,#T_44c01204_50e7_11ec_a253_0242ac1c0002row5_col14,#T_44c01204_50e7_11ec_a253_0242ac1c0002row5_col15,#T_44c01204_50e7_11ec_a253_0242ac1c0002row5_col16,#T_44c01204_50e7_11ec_a253_0242ac1c0002row5_col17,#T_44c01204_50e7_11ec_a253_0242ac1c0002row6_col6,#T_44c01204_50e7_11ec_a253_0242ac1c0002row6_col7,#T_44c01204_50e7_11ec_a253_0242ac1c0002row6_col8,#T_44c01204_50e7_11ec_a253_0242ac1c0002row6_col9,#T_44c01204_50e7_11ec_a253_0242ac1c0002row6_col10,#T_44c01204_50e7_11ec_a253_0242ac1c0002row6_col11,#T_44c01204_50e7_11ec_a253_0242ac1c0002row6_col12,#T_44c01204_50e7_11ec_a253_0242ac1c0002row6_col13,#T_44c01204_50e7_11ec_a253_0242ac1c0002row6_col14,#T_44c01204_50e7_11ec_a253_0242ac1c0002row6_col15,#T_44c01204_50e7_11ec_a253_0242ac1c0002row6_col16,#T_44c01204_50e7_11ec_a253_0242ac1c0002row6_col17,#T_44c01204_50e7_11ec_a253_0242ac1c0002row7_col7,#T_44c01204_50e7_11ec_a253_0242ac1c0002row7_col8,#T_44c01204_50e7_11ec_a253_0242ac1c0002row7_col9,#T_44c01204_50e7_11ec_a253_0242ac1c0002row7_col10,#T_44c01204_50e7_11ec_a253_0242ac1c0002row7_col11,#T_44c01204_50e7_11ec_a253_0242ac1c0002row7_col12,#T_44c01204_50e7_11ec_a253_0242ac1c0002row7_col13,#T_44c01204_50e7_11ec_a253_0242ac1c0002row7_col14,#T_44c01204_50e7_11ec_a253_0242ac1c0002row7_col15,#T_44c01204_50e7_11ec_a253_0242ac1c0002row7_col16,#T_44c01204_50e7_11ec_a253_0242ac1c0002row7_col17,#T_44c01204_50e7_11ec_a253_0242ac1c0002row8_col8,#T_44c01204_50e7_11ec_a253_0242ac1c0002row8_col9,#T_44c01204_50e7_11ec_a253_0242ac1c0002row8_col10,#T_44c01204_50e7_11ec_a253_0242ac1c0002row8_col11,#T_44c01204_50e7_11ec_a253_0242ac1c0002row8_col12,#T_44c01204_50e7_11ec_a253_0242ac1c0002row8_col13,#T_44c01204_50e7_11ec_a253_0242ac1c0002row8_col14,#T_44c01204_50e7_11ec_a253_0242ac1c0002row8_col15,#T_44c01204_50e7_11ec_a253_0242ac1c0002row8_col16,#T_44c01204_50e7_11ec_a253_0242ac1c0002row8_col17,#T_44c01204_50e7_11ec_a253_0242ac1c0002row9_col9,#T_44c01204_50e7_11ec_a253_0242ac1c0002row9_col10,#T_44c01204_50e7_11ec_a253_0242ac1c0002row9_col11,#T_44c01204_50e7_11ec_a253_0242ac1c0002row9_col12,#T_44c01204_50e7_11ec_a253_0242ac1c0002row9_col13,#T_44c01204_50e7_11ec_a253_0242ac1c0002row9_col14,#T_44c01204_50e7_11ec_a253_0242ac1c0002row9_col15,#T_44c01204_50e7_11ec_a253_0242ac1c0002row9_col16,#T_44c01204_50e7_11ec_a253_0242ac1c0002row9_col17,#T_44c01204_50e7_11ec_a253_0242ac1c0002row10_col10,#T_44c01204_50e7_11ec_a253_0242ac1c0002row10_col11,#T_44c01204_50e7_11ec_a253_0242ac1c0002row10_col12,#T_44c01204_50e7_11ec_a253_0242ac1c0002row10_col13,#T_44c01204_50e7_11ec_a253_0242ac1c0002row10_col14,#T_44c01204_50e7_11ec_a253_0242ac1c0002row10_col15,#T_44c01204_50e7_11ec_a253_0242ac1c0002row10_col16,#T_44c01204_50e7_11ec_a253_0242ac1c0002row10_col17,#T_44c01204_50e7_11ec_a253_0242ac1c0002row11_col11,#T_44c01204_50e7_11ec_a253_0242ac1c0002row11_col12,#T_44c01204_50e7_11ec_a253_0242ac1c0002row11_col13,#T_44c01204_50e7_11ec_a253_0242ac1c0002row11_col14,#T_44c01204_50e7_11ec_a253_0242ac1c0002row11_col15,#T_44c01204_50e7_11ec_a253_0242ac1c0002row11_col16,#T_44c01204_50e7_11ec_a253_0242ac1c0002row11_col17,#T_44c01204_50e7_11ec_a253_0242ac1c0002row12_col12,#T_44c01204_50e7_11ec_a253_0242ac1c0002row12_col13,#T_44c01204_50e7_11ec_a253_0242ac1c0002row12_col14,#T_44c01204_50e7_11ec_a253_0242ac1c0002row12_col15,#T_44c01204_50e7_11ec_a253_0242ac1c0002row12_col16,#T_44c01204_50e7_11ec_a253_0242ac1c0002row12_col17,#T_44c01204_50e7_11ec_a253_0242ac1c0002row13_col13,#T_44c01204_50e7_11ec_a253_0242ac1c0002row13_col14,#T_44c01204_50e7_11ec_a253_0242ac1c0002row13_col15,#T_44c01204_50e7_11ec_a253_0242ac1c0002row13_col16,#T_44c01204_50e7_11ec_a253_0242ac1c0002row13_col17,#T_44c01204_50e7_11ec_a253_0242ac1c0002row14_col14,#T_44c01204_50e7_11ec_a253_0242ac1c0002row14_col15,#T_44c01204_50e7_11ec_a253_0242ac1c0002row14_col16,#T_44c01204_50e7_11ec_a253_0242ac1c0002row14_col17,#T_44c01204_50e7_11ec_a253_0242ac1c0002row15_col15,#T_44c01204_50e7_11ec_a253_0242ac1c0002row15_col16,#T_44c01204_50e7_11ec_a253_0242ac1c0002row15_col17,#T_44c01204_50e7_11ec_a253_0242ac1c0002row16_col16,#T_44c01204_50e7_11ec_a253_0242ac1c0002row16_col17,#T_44c01204_50e7_11ec_a253_0242ac1c0002row17_col17{\n",
              "            background-color:  #000000;\n",
              "            color:  #f1f1f1;\n",
              "            background-color:  #f1f1f1;\n",
              "        }#T_44c01204_50e7_11ec_a253_0242ac1c0002row1_col0,#T_44c01204_50e7_11ec_a253_0242ac1c0002row2_col0,#T_44c01204_50e7_11ec_a253_0242ac1c0002row3_col1,#T_44c01204_50e7_11ec_a253_0242ac1c0002row8_col2,#T_44c01204_50e7_11ec_a253_0242ac1c0002row9_col7,#T_44c01204_50e7_11ec_a253_0242ac1c0002row12_col2,#T_44c01204_50e7_11ec_a253_0242ac1c0002row12_col11,#T_44c01204_50e7_11ec_a253_0242ac1c0002row14_col9,#T_44c01204_50e7_11ec_a253_0242ac1c0002row15_col9,#T_44c01204_50e7_11ec_a253_0242ac1c0002row15_col10,#T_44c01204_50e7_11ec_a253_0242ac1c0002row17_col14{\n",
              "            background-color:  #e1dad6;\n",
              "            color:  #000000;\n",
              "        }#T_44c01204_50e7_11ec_a253_0242ac1c0002row2_col1,#T_44c01204_50e7_11ec_a253_0242ac1c0002row16_col5,#T_44c01204_50e7_11ec_a253_0242ac1c0002row17_col11{\n",
              "            background-color:  #e5d8d1;\n",
              "            color:  #000000;\n",
              "        }#T_44c01204_50e7_11ec_a253_0242ac1c0002row3_col0,#T_44c01204_50e7_11ec_a253_0242ac1c0002row9_col0,#T_44c01204_50e7_11ec_a253_0242ac1c0002row11_col4,#T_44c01204_50e7_11ec_a253_0242ac1c0002row13_col11,#T_44c01204_50e7_11ec_a253_0242ac1c0002row14_col1,#T_44c01204_50e7_11ec_a253_0242ac1c0002row16_col2,#T_44c01204_50e7_11ec_a253_0242ac1c0002row16_col11{\n",
              "            background-color:  #e3d9d3;\n",
              "            color:  #000000;\n",
              "        }#T_44c01204_50e7_11ec_a253_0242ac1c0002row3_col2{\n",
              "            background-color:  #e9785d;\n",
              "            color:  #000000;\n",
              "        }#T_44c01204_50e7_11ec_a253_0242ac1c0002row4_col0,#T_44c01204_50e7_11ec_a253_0242ac1c0002row16_col0{\n",
              "            background-color:  #f59f80;\n",
              "            color:  #000000;\n",
              "        }#T_44c01204_50e7_11ec_a253_0242ac1c0002row4_col1,#T_44c01204_50e7_11ec_a253_0242ac1c0002row16_col14,#T_44c01204_50e7_11ec_a253_0242ac1c0002row17_col3{\n",
              "            background-color:  #f0cdbb;\n",
              "            color:  #000000;\n",
              "        }#T_44c01204_50e7_11ec_a253_0242ac1c0002row4_col2,#T_44c01204_50e7_11ec_a253_0242ac1c0002row6_col2,#T_44c01204_50e7_11ec_a253_0242ac1c0002row11_col3,#T_44c01204_50e7_11ec_a253_0242ac1c0002row14_col11{\n",
              "            background-color:  #e9d5cb;\n",
              "            color:  #000000;\n",
              "        }#T_44c01204_50e7_11ec_a253_0242ac1c0002row4_col3,#T_44c01204_50e7_11ec_a253_0242ac1c0002row9_col4,#T_44c01204_50e7_11ec_a253_0242ac1c0002row14_col8{\n",
              "            background-color:  #e7d7ce;\n",
              "            color:  #000000;\n",
              "        }#T_44c01204_50e7_11ec_a253_0242ac1c0002row5_col0,#T_44c01204_50e7_11ec_a253_0242ac1c0002row8_col5,#T_44c01204_50e7_11ec_a253_0242ac1c0002row10_col3,#T_44c01204_50e7_11ec_a253_0242ac1c0002row10_col8,#T_44c01204_50e7_11ec_a253_0242ac1c0002row12_col1,#T_44c01204_50e7_11ec_a253_0242ac1c0002row12_col8,#T_44c01204_50e7_11ec_a253_0242ac1c0002row14_col3{\n",
              "            background-color:  #e0dbd8;\n",
              "            color:  #000000;\n",
              "        }#T_44c01204_50e7_11ec_a253_0242ac1c0002row5_col1,#T_44c01204_50e7_11ec_a253_0242ac1c0002row8_col1{\n",
              "            background-color:  #e6d7cf;\n",
              "            color:  #000000;\n",
              "        }#T_44c01204_50e7_11ec_a253_0242ac1c0002row5_col2,#T_44c01204_50e7_11ec_a253_0242ac1c0002row8_col6,#T_44c01204_50e7_11ec_a253_0242ac1c0002row17_col2{\n",
              "            background-color:  #f7ad90;\n",
              "            color:  #000000;\n",
              "        }#T_44c01204_50e7_11ec_a253_0242ac1c0002row5_col3{\n",
              "            background-color:  #f6bea4;\n",
              "            color:  #000000;\n",
              "        }#T_44c01204_50e7_11ec_a253_0242ac1c0002row5_col4,#T_44c01204_50e7_11ec_a253_0242ac1c0002row11_col2,#T_44c01204_50e7_11ec_a253_0242ac1c0002row17_col7{\n",
              "            background-color:  #ead4c8;\n",
              "            color:  #000000;\n",
              "        }#T_44c01204_50e7_11ec_a253_0242ac1c0002row6_col0{\n",
              "            background-color:  #f59c7d;\n",
              "            color:  #000000;\n",
              "        }#T_44c01204_50e7_11ec_a253_0242ac1c0002row6_col1,#T_44c01204_50e7_11ec_a253_0242ac1c0002row6_col3{\n",
              "            background-color:  #f1cdba;\n",
              "            color:  #000000;\n",
              "        }#T_44c01204_50e7_11ec_a253_0242ac1c0002row6_col4{\n",
              "            background-color:  #de614d;\n",
              "            color:  #000000;\n",
              "        }#T_44c01204_50e7_11ec_a253_0242ac1c0002row6_col5,#T_44c01204_50e7_11ec_a253_0242ac1c0002row8_col7,#T_44c01204_50e7_11ec_a253_0242ac1c0002row14_col5,#T_44c01204_50e7_11ec_a253_0242ac1c0002row15_col3{\n",
              "            background-color:  #ecd3c5;\n",
              "            color:  #000000;\n",
              "        }#T_44c01204_50e7_11ec_a253_0242ac1c0002row7_col0{\n",
              "            background-color:  #f6bfa6;\n",
              "            color:  #000000;\n",
              "        }#T_44c01204_50e7_11ec_a253_0242ac1c0002row7_col1,#T_44c01204_50e7_11ec_a253_0242ac1c0002row14_col0{\n",
              "            background-color:  #edd2c3;\n",
              "            color:  #000000;\n",
              "        }#T_44c01204_50e7_11ec_a253_0242ac1c0002row7_col2,#T_44c01204_50e7_11ec_a253_0242ac1c0002row15_col6{\n",
              "            background-color:  #f6bda2;\n",
              "            color:  #000000;\n",
              "        }#T_44c01204_50e7_11ec_a253_0242ac1c0002row7_col3,#T_44c01204_50e7_11ec_a253_0242ac1c0002row13_col1{\n",
              "            background-color:  #f4c6af;\n",
              "            color:  #000000;\n",
              "        }#T_44c01204_50e7_11ec_a253_0242ac1c0002row7_col4{\n",
              "            background-color:  #ee8669;\n",
              "            color:  #000000;\n",
              "        }#T_44c01204_50e7_11ec_a253_0242ac1c0002row7_col5,#T_44c01204_50e7_11ec_a253_0242ac1c0002row8_col0,#T_44c01204_50e7_11ec_a253_0242ac1c0002row14_col12{\n",
              "            background-color:  #f1ccb8;\n",
              "            color:  #000000;\n",
              "        }#T_44c01204_50e7_11ec_a253_0242ac1c0002row7_col6{\n",
              "            background-color:  #f5a081;\n",
              "            color:  #000000;\n",
              "        }#T_44c01204_50e7_11ec_a253_0242ac1c0002row8_col3,#T_44c01204_50e7_11ec_a253_0242ac1c0002row10_col2,#T_44c01204_50e7_11ec_a253_0242ac1c0002row10_col9,#T_44c01204_50e7_11ec_a253_0242ac1c0002row11_col1,#T_44c01204_50e7_11ec_a253_0242ac1c0002row11_col10,#T_44c01204_50e7_11ec_a253_0242ac1c0002row13_col2,#T_44c01204_50e7_11ec_a253_0242ac1c0002row13_col9,#T_44c01204_50e7_11ec_a253_0242ac1c0002row17_col0{\n",
              "            background-color:  #dedcdb;\n",
              "            color:  #000000;\n",
              "        }#T_44c01204_50e7_11ec_a253_0242ac1c0002row8_col4{\n",
              "            background-color:  #f7ba9f;\n",
              "            color:  #000000;\n",
              "        }#T_44c01204_50e7_11ec_a253_0242ac1c0002row9_col1,#T_44c01204_50e7_11ec_a253_0242ac1c0002row15_col1,#T_44c01204_50e7_11ec_a253_0242ac1c0002row15_col5,#T_44c01204_50e7_11ec_a253_0242ac1c0002row15_col13,#T_44c01204_50e7_11ec_a253_0242ac1c0002row17_col15{\n",
              "            background-color:  #efcfbf;\n",
              "            color:  #000000;\n",
              "        }#T_44c01204_50e7_11ec_a253_0242ac1c0002row9_col2,#T_44c01204_50e7_11ec_a253_0242ac1c0002row10_col0,#T_44c01204_50e7_11ec_a253_0242ac1c0002row10_col6,#T_44c01204_50e7_11ec_a253_0242ac1c0002row11_col0,#T_44c01204_50e7_11ec_a253_0242ac1c0002row11_col8,#T_44c01204_50e7_11ec_a253_0242ac1c0002row12_col10,#T_44c01204_50e7_11ec_a253_0242ac1c0002row13_col10,#T_44c01204_50e7_11ec_a253_0242ac1c0002row16_col9,#T_44c01204_50e7_11ec_a253_0242ac1c0002row16_col10,#T_44c01204_50e7_11ec_a253_0242ac1c0002row17_col9,#T_44c01204_50e7_11ec_a253_0242ac1c0002row17_col12,#T_44c01204_50e7_11ec_a253_0242ac1c0002row17_col16{\n",
              "            background-color:  #dfdbd9;\n",
              "            color:  #000000;\n",
              "        }#T_44c01204_50e7_11ec_a253_0242ac1c0002row9_col3,#T_44c01204_50e7_11ec_a253_0242ac1c0002row11_col6,#T_44c01204_50e7_11ec_a253_0242ac1c0002row12_col5,#T_44c01204_50e7_11ec_a253_0242ac1c0002row13_col5,#T_44c01204_50e7_11ec_a253_0242ac1c0002row14_col2,#T_44c01204_50e7_11ec_a253_0242ac1c0002row15_col8,#T_44c01204_50e7_11ec_a253_0242ac1c0002row17_col1{\n",
              "            background-color:  #e2dad5;\n",
              "            color:  #000000;\n",
              "        }#T_44c01204_50e7_11ec_a253_0242ac1c0002row9_col5,#T_44c01204_50e7_11ec_a253_0242ac1c0002row10_col1,#T_44c01204_50e7_11ec_a253_0242ac1c0002row10_col4,#T_44c01204_50e7_11ec_a253_0242ac1c0002row10_col5,#T_44c01204_50e7_11ec_a253_0242ac1c0002row10_col7,#T_44c01204_50e7_11ec_a253_0242ac1c0002row11_col9,#T_44c01204_50e7_11ec_a253_0242ac1c0002row14_col10,#T_44c01204_50e7_11ec_a253_0242ac1c0002row17_col10,#T_44c01204_50e7_11ec_a253_0242ac1c0002row17_col13{\n",
              "            background-color:  #dddcdc;\n",
              "            color:  #000000;\n",
              "        }#T_44c01204_50e7_11ec_a253_0242ac1c0002row9_col6{\n",
              "            background-color:  #efcebd;\n",
              "            color:  #000000;\n",
              "        }#T_44c01204_50e7_11ec_a253_0242ac1c0002row9_col8{\n",
              "            background-color:  #f29072;\n",
              "            color:  #000000;\n",
              "        }#T_44c01204_50e7_11ec_a253_0242ac1c0002row11_col5,#T_44c01204_50e7_11ec_a253_0242ac1c0002row14_col6,#T_44c01204_50e7_11ec_a253_0242ac1c0002row15_col12{\n",
              "            background-color:  #f3c7b1;\n",
              "            color:  #000000;\n",
              "        }#T_44c01204_50e7_11ec_a253_0242ac1c0002row11_col7,#T_44c01204_50e7_11ec_a253_0242ac1c0002row15_col14{\n",
              "            background-color:  #ead5c9;\n",
              "            color:  #000000;\n",
              "        }#T_44c01204_50e7_11ec_a253_0242ac1c0002row12_col0{\n",
              "            background-color:  #eb7d62;\n",
              "            color:  #000000;\n",
              "        }#T_44c01204_50e7_11ec_a253_0242ac1c0002row12_col3,#T_44c01204_50e7_11ec_a253_0242ac1c0002row14_col7,#T_44c01204_50e7_11ec_a253_0242ac1c0002row16_col3{\n",
              "            background-color:  #e4d9d2;\n",
              "            color:  #000000;\n",
              "        }#T_44c01204_50e7_11ec_a253_0242ac1c0002row12_col4{\n",
              "            background-color:  #e7745b;\n",
              "            color:  #000000;\n",
              "        }#T_44c01204_50e7_11ec_a253_0242ac1c0002row12_col6,#T_44c01204_50e7_11ec_a253_0242ac1c0002row16_col4{\n",
              "            background-color:  #e67259;\n",
              "            color:  #000000;\n",
              "        }#T_44c01204_50e7_11ec_a253_0242ac1c0002row12_col7,#T_44c01204_50e7_11ec_a253_0242ac1c0002row13_col7{\n",
              "            background-color:  #f7a688;\n",
              "            color:  #000000;\n",
              "        }#T_44c01204_50e7_11ec_a253_0242ac1c0002row12_col9,#T_44c01204_50e7_11ec_a253_0242ac1c0002row15_col7{\n",
              "            background-color:  #f7b194;\n",
              "            color:  #000000;\n",
              "        }#T_44c01204_50e7_11ec_a253_0242ac1c0002row13_col0{\n",
              "            background-color:  #f4987a;\n",
              "            color:  #000000;\n",
              "        }#T_44c01204_50e7_11ec_a253_0242ac1c0002row13_col3,#T_44c01204_50e7_11ec_a253_0242ac1c0002row15_col0{\n",
              "            background-color:  #edd1c2;\n",
              "            color:  #000000;\n",
              "        }#T_44c01204_50e7_11ec_a253_0242ac1c0002row13_col4{\n",
              "            background-color:  #e36b54;\n",
              "            color:  #000000;\n",
              "        }#T_44c01204_50e7_11ec_a253_0242ac1c0002row13_col6{\n",
              "            background-color:  #d95847;\n",
              "            color:  #000000;\n",
              "        }#T_44c01204_50e7_11ec_a253_0242ac1c0002row13_col8,#T_44c01204_50e7_11ec_a253_0242ac1c0002row16_col8{\n",
              "            background-color:  #f5c0a7;\n",
              "            color:  #000000;\n",
              "        }#T_44c01204_50e7_11ec_a253_0242ac1c0002row13_col12{\n",
              "            background-color:  #df634e;\n",
              "            color:  #000000;\n",
              "        }#T_44c01204_50e7_11ec_a253_0242ac1c0002row14_col4{\n",
              "            background-color:  #f2cab5;\n",
              "            color:  #000000;\n",
              "        }#T_44c01204_50e7_11ec_a253_0242ac1c0002row14_col13{\n",
              "            background-color:  #f3c8b2;\n",
              "            color:  #000000;\n",
              "        }#T_44c01204_50e7_11ec_a253_0242ac1c0002row15_col2{\n",
              "            background-color:  #f7b497;\n",
              "            color:  #000000;\n",
              "        }#T_44c01204_50e7_11ec_a253_0242ac1c0002row15_col4{\n",
              "            background-color:  #f7aa8c;\n",
              "            color:  #000000;\n",
              "        }#T_44c01204_50e7_11ec_a253_0242ac1c0002row15_col11,#T_44c01204_50e7_11ec_a253_0242ac1c0002row16_col15{\n",
              "            background-color:  #eed0c0;\n",
              "            color:  #000000;\n",
              "        }#T_44c01204_50e7_11ec_a253_0242ac1c0002row16_col1{\n",
              "            background-color:  #f4c5ad;\n",
              "            color:  #000000;\n",
              "        }#T_44c01204_50e7_11ec_a253_0242ac1c0002row16_col6,#T_44c01204_50e7_11ec_a253_0242ac1c0002row16_col12{\n",
              "            background-color:  #e46e56;\n",
              "            color:  #000000;\n",
              "        }#T_44c01204_50e7_11ec_a253_0242ac1c0002row16_col7{\n",
              "            background-color:  #f7a889;\n",
              "            color:  #000000;\n",
              "        }#T_44c01204_50e7_11ec_a253_0242ac1c0002row16_col13{\n",
              "            background-color:  #c73635;\n",
              "            color:  #f1f1f1;\n",
              "        }#T_44c01204_50e7_11ec_a253_0242ac1c0002row17_col4,#T_44c01204_50e7_11ec_a253_0242ac1c0002row17_col8{\n",
              "            background-color:  #e8d6cc;\n",
              "            color:  #000000;\n",
              "        }#T_44c01204_50e7_11ec_a253_0242ac1c0002row17_col5{\n",
              "            background-color:  #f49a7b;\n",
              "            color:  #000000;\n",
              "        }#T_44c01204_50e7_11ec_a253_0242ac1c0002row17_col6{\n",
              "            background-color:  #ebd3c6;\n",
              "            color:  #000000;\n",
              "        }</style><table id=\"T_44c01204_50e7_11ec_a253_0242ac1c0002\" class=\"dataframe\"><thead>    <tr>        <th class=\"blank level0\" ></th>        <th class=\"col_heading level0 col0\" >parcelid</th>        <th class=\"col_heading level0 col1\" >airconditioningtypeid</th>        <th class=\"col_heading level0 col2\" >bathroomcnt</th>        <th class=\"col_heading level0 col3\" >bedroomcnt</th>        <th class=\"col_heading level0 col4\" >buildingqualitytypeid</th>        <th class=\"col_heading level0 col5\" >calculatedfinishedsquarefeet</th>        <th class=\"col_heading level0 col6\" >garagetotalsqft</th>        <th class=\"col_heading level0 col7\" >heatingorsystemtypeid</th>        <th class=\"col_heading level0 col8\" >latitude</th>        <th class=\"col_heading level0 col9\" >longitude</th>        <th class=\"col_heading level0 col10\" >lotsizesquarefeet</th>        <th class=\"col_heading level0 col11\" >propertylandusetypeid</th>        <th class=\"col_heading level0 col12\" >rawcensustractandblock</th>        <th class=\"col_heading level0 col13\" >roomcnt</th>        <th class=\"col_heading level0 col14\" >unitcnt</th>        <th class=\"col_heading level0 col15\" >yearbuilt</th>        <th class=\"col_heading level0 col16\" >numberofstories</th>        <th class=\"col_heading level0 col17\" >taxvaluedollarcnt</th>    </tr></thead><tbody>\n",
              "                <tr>\n",
              "                        <th id=\"T_44c01204_50e7_11ec_a253_0242ac1c0002level0_row0\" class=\"row_heading level0 row0\" >parcelid</th>\n",
              "                        <td id=\"T_44c01204_50e7_11ec_a253_0242ac1c0002row0_col0\" class=\"data row0 col0\" >nan</td>\n",
              "                        <td id=\"T_44c01204_50e7_11ec_a253_0242ac1c0002row0_col1\" class=\"data row0 col1\" >nan</td>\n",
              "                        <td id=\"T_44c01204_50e7_11ec_a253_0242ac1c0002row0_col2\" class=\"data row0 col2\" >nan</td>\n",
              "                        <td id=\"T_44c01204_50e7_11ec_a253_0242ac1c0002row0_col3\" class=\"data row0 col3\" >nan</td>\n",
              "                        <td id=\"T_44c01204_50e7_11ec_a253_0242ac1c0002row0_col4\" class=\"data row0 col4\" >nan</td>\n",
              "                        <td id=\"T_44c01204_50e7_11ec_a253_0242ac1c0002row0_col5\" class=\"data row0 col5\" >nan</td>\n",
              "                        <td id=\"T_44c01204_50e7_11ec_a253_0242ac1c0002row0_col6\" class=\"data row0 col6\" >nan</td>\n",
              "                        <td id=\"T_44c01204_50e7_11ec_a253_0242ac1c0002row0_col7\" class=\"data row0 col7\" >nan</td>\n",
              "                        <td id=\"T_44c01204_50e7_11ec_a253_0242ac1c0002row0_col8\" class=\"data row0 col8\" >nan</td>\n",
              "                        <td id=\"T_44c01204_50e7_11ec_a253_0242ac1c0002row0_col9\" class=\"data row0 col9\" >nan</td>\n",
              "                        <td id=\"T_44c01204_50e7_11ec_a253_0242ac1c0002row0_col10\" class=\"data row0 col10\" >nan</td>\n",
              "                        <td id=\"T_44c01204_50e7_11ec_a253_0242ac1c0002row0_col11\" class=\"data row0 col11\" >nan</td>\n",
              "                        <td id=\"T_44c01204_50e7_11ec_a253_0242ac1c0002row0_col12\" class=\"data row0 col12\" >nan</td>\n",
              "                        <td id=\"T_44c01204_50e7_11ec_a253_0242ac1c0002row0_col13\" class=\"data row0 col13\" >nan</td>\n",
              "                        <td id=\"T_44c01204_50e7_11ec_a253_0242ac1c0002row0_col14\" class=\"data row0 col14\" >nan</td>\n",
              "                        <td id=\"T_44c01204_50e7_11ec_a253_0242ac1c0002row0_col15\" class=\"data row0 col15\" >nan</td>\n",
              "                        <td id=\"T_44c01204_50e7_11ec_a253_0242ac1c0002row0_col16\" class=\"data row0 col16\" >nan</td>\n",
              "                        <td id=\"T_44c01204_50e7_11ec_a253_0242ac1c0002row0_col17\" class=\"data row0 col17\" >nan</td>\n",
              "            </tr>\n",
              "            <tr>\n",
              "                        <th id=\"T_44c01204_50e7_11ec_a253_0242ac1c0002level0_row1\" class=\"row_heading level0 row1\" >airconditioningtypeid</th>\n",
              "                        <td id=\"T_44c01204_50e7_11ec_a253_0242ac1c0002row1_col0\" class=\"data row1 col0\" >0.03</td>\n",
              "                        <td id=\"T_44c01204_50e7_11ec_a253_0242ac1c0002row1_col1\" class=\"data row1 col1\" >nan</td>\n",
              "                        <td id=\"T_44c01204_50e7_11ec_a253_0242ac1c0002row1_col2\" class=\"data row1 col2\" >nan</td>\n",
              "                        <td id=\"T_44c01204_50e7_11ec_a253_0242ac1c0002row1_col3\" class=\"data row1 col3\" >nan</td>\n",
              "                        <td id=\"T_44c01204_50e7_11ec_a253_0242ac1c0002row1_col4\" class=\"data row1 col4\" >nan</td>\n",
              "                        <td id=\"T_44c01204_50e7_11ec_a253_0242ac1c0002row1_col5\" class=\"data row1 col5\" >nan</td>\n",
              "                        <td id=\"T_44c01204_50e7_11ec_a253_0242ac1c0002row1_col6\" class=\"data row1 col6\" >nan</td>\n",
              "                        <td id=\"T_44c01204_50e7_11ec_a253_0242ac1c0002row1_col7\" class=\"data row1 col7\" >nan</td>\n",
              "                        <td id=\"T_44c01204_50e7_11ec_a253_0242ac1c0002row1_col8\" class=\"data row1 col8\" >nan</td>\n",
              "                        <td id=\"T_44c01204_50e7_11ec_a253_0242ac1c0002row1_col9\" class=\"data row1 col9\" >nan</td>\n",
              "                        <td id=\"T_44c01204_50e7_11ec_a253_0242ac1c0002row1_col10\" class=\"data row1 col10\" >nan</td>\n",
              "                        <td id=\"T_44c01204_50e7_11ec_a253_0242ac1c0002row1_col11\" class=\"data row1 col11\" >nan</td>\n",
              "                        <td id=\"T_44c01204_50e7_11ec_a253_0242ac1c0002row1_col12\" class=\"data row1 col12\" >nan</td>\n",
              "                        <td id=\"T_44c01204_50e7_11ec_a253_0242ac1c0002row1_col13\" class=\"data row1 col13\" >nan</td>\n",
              "                        <td id=\"T_44c01204_50e7_11ec_a253_0242ac1c0002row1_col14\" class=\"data row1 col14\" >nan</td>\n",
              "                        <td id=\"T_44c01204_50e7_11ec_a253_0242ac1c0002row1_col15\" class=\"data row1 col15\" >nan</td>\n",
              "                        <td id=\"T_44c01204_50e7_11ec_a253_0242ac1c0002row1_col16\" class=\"data row1 col16\" >nan</td>\n",
              "                        <td id=\"T_44c01204_50e7_11ec_a253_0242ac1c0002row1_col17\" class=\"data row1 col17\" >nan</td>\n",
              "            </tr>\n",
              "            <tr>\n",
              "                        <th id=\"T_44c01204_50e7_11ec_a253_0242ac1c0002level0_row2\" class=\"row_heading level0 row2\" >bathroomcnt</th>\n",
              "                        <td id=\"T_44c01204_50e7_11ec_a253_0242ac1c0002row2_col0\" class=\"data row2 col0\" >0.04</td>\n",
              "                        <td id=\"T_44c01204_50e7_11ec_a253_0242ac1c0002row2_col1\" class=\"data row2 col1\" >0.07</td>\n",
              "                        <td id=\"T_44c01204_50e7_11ec_a253_0242ac1c0002row2_col2\" class=\"data row2 col2\" >nan</td>\n",
              "                        <td id=\"T_44c01204_50e7_11ec_a253_0242ac1c0002row2_col3\" class=\"data row2 col3\" >nan</td>\n",
              "                        <td id=\"T_44c01204_50e7_11ec_a253_0242ac1c0002row2_col4\" class=\"data row2 col4\" >nan</td>\n",
              "                        <td id=\"T_44c01204_50e7_11ec_a253_0242ac1c0002row2_col5\" class=\"data row2 col5\" >nan</td>\n",
              "                        <td id=\"T_44c01204_50e7_11ec_a253_0242ac1c0002row2_col6\" class=\"data row2 col6\" >nan</td>\n",
              "                        <td id=\"T_44c01204_50e7_11ec_a253_0242ac1c0002row2_col7\" class=\"data row2 col7\" >nan</td>\n",
              "                        <td id=\"T_44c01204_50e7_11ec_a253_0242ac1c0002row2_col8\" class=\"data row2 col8\" >nan</td>\n",
              "                        <td id=\"T_44c01204_50e7_11ec_a253_0242ac1c0002row2_col9\" class=\"data row2 col9\" >nan</td>\n",
              "                        <td id=\"T_44c01204_50e7_11ec_a253_0242ac1c0002row2_col10\" class=\"data row2 col10\" >nan</td>\n",
              "                        <td id=\"T_44c01204_50e7_11ec_a253_0242ac1c0002row2_col11\" class=\"data row2 col11\" >nan</td>\n",
              "                        <td id=\"T_44c01204_50e7_11ec_a253_0242ac1c0002row2_col12\" class=\"data row2 col12\" >nan</td>\n",
              "                        <td id=\"T_44c01204_50e7_11ec_a253_0242ac1c0002row2_col13\" class=\"data row2 col13\" >nan</td>\n",
              "                        <td id=\"T_44c01204_50e7_11ec_a253_0242ac1c0002row2_col14\" class=\"data row2 col14\" >nan</td>\n",
              "                        <td id=\"T_44c01204_50e7_11ec_a253_0242ac1c0002row2_col15\" class=\"data row2 col15\" >nan</td>\n",
              "                        <td id=\"T_44c01204_50e7_11ec_a253_0242ac1c0002row2_col16\" class=\"data row2 col16\" >nan</td>\n",
              "                        <td id=\"T_44c01204_50e7_11ec_a253_0242ac1c0002row2_col17\" class=\"data row2 col17\" >nan</td>\n",
              "            </tr>\n",
              "            <tr>\n",
              "                        <th id=\"T_44c01204_50e7_11ec_a253_0242ac1c0002level0_row3\" class=\"row_heading level0 row3\" >bedroomcnt</th>\n",
              "                        <td id=\"T_44c01204_50e7_11ec_a253_0242ac1c0002row3_col0\" class=\"data row3 col0\" >0.05</td>\n",
              "                        <td id=\"T_44c01204_50e7_11ec_a253_0242ac1c0002row3_col1\" class=\"data row3 col1\" >0.03</td>\n",
              "                        <td id=\"T_44c01204_50e7_11ec_a253_0242ac1c0002row3_col2\" class=\"data row3 col2\" >0.65</td>\n",
              "                        <td id=\"T_44c01204_50e7_11ec_a253_0242ac1c0002row3_col3\" class=\"data row3 col3\" >nan</td>\n",
              "                        <td id=\"T_44c01204_50e7_11ec_a253_0242ac1c0002row3_col4\" class=\"data row3 col4\" >nan</td>\n",
              "                        <td id=\"T_44c01204_50e7_11ec_a253_0242ac1c0002row3_col5\" class=\"data row3 col5\" >nan</td>\n",
              "                        <td id=\"T_44c01204_50e7_11ec_a253_0242ac1c0002row3_col6\" class=\"data row3 col6\" >nan</td>\n",
              "                        <td id=\"T_44c01204_50e7_11ec_a253_0242ac1c0002row3_col7\" class=\"data row3 col7\" >nan</td>\n",
              "                        <td id=\"T_44c01204_50e7_11ec_a253_0242ac1c0002row3_col8\" class=\"data row3 col8\" >nan</td>\n",
              "                        <td id=\"T_44c01204_50e7_11ec_a253_0242ac1c0002row3_col9\" class=\"data row3 col9\" >nan</td>\n",
              "                        <td id=\"T_44c01204_50e7_11ec_a253_0242ac1c0002row3_col10\" class=\"data row3 col10\" >nan</td>\n",
              "                        <td id=\"T_44c01204_50e7_11ec_a253_0242ac1c0002row3_col11\" class=\"data row3 col11\" >nan</td>\n",
              "                        <td id=\"T_44c01204_50e7_11ec_a253_0242ac1c0002row3_col12\" class=\"data row3 col12\" >nan</td>\n",
              "                        <td id=\"T_44c01204_50e7_11ec_a253_0242ac1c0002row3_col13\" class=\"data row3 col13\" >nan</td>\n",
              "                        <td id=\"T_44c01204_50e7_11ec_a253_0242ac1c0002row3_col14\" class=\"data row3 col14\" >nan</td>\n",
              "                        <td id=\"T_44c01204_50e7_11ec_a253_0242ac1c0002row3_col15\" class=\"data row3 col15\" >nan</td>\n",
              "                        <td id=\"T_44c01204_50e7_11ec_a253_0242ac1c0002row3_col16\" class=\"data row3 col16\" >nan</td>\n",
              "                        <td id=\"T_44c01204_50e7_11ec_a253_0242ac1c0002row3_col17\" class=\"data row3 col17\" >nan</td>\n",
              "            </tr>\n",
              "            <tr>\n",
              "                        <th id=\"T_44c01204_50e7_11ec_a253_0242ac1c0002level0_row4\" class=\"row_heading level0 row4\" >buildingqualitytypeid</th>\n",
              "                        <td id=\"T_44c01204_50e7_11ec_a253_0242ac1c0002row4_col0\" class=\"data row4 col0\" >0.47</td>\n",
              "                        <td id=\"T_44c01204_50e7_11ec_a253_0242ac1c0002row4_col1\" class=\"data row4 col1\" >0.18</td>\n",
              "                        <td id=\"T_44c01204_50e7_11ec_a253_0242ac1c0002row4_col2\" class=\"data row4 col2\" >0.10</td>\n",
              "                        <td id=\"T_44c01204_50e7_11ec_a253_0242ac1c0002row4_col3\" class=\"data row4 col3\" >0.08</td>\n",
              "                        <td id=\"T_44c01204_50e7_11ec_a253_0242ac1c0002row4_col4\" class=\"data row4 col4\" >nan</td>\n",
              "                        <td id=\"T_44c01204_50e7_11ec_a253_0242ac1c0002row4_col5\" class=\"data row4 col5\" >nan</td>\n",
              "                        <td id=\"T_44c01204_50e7_11ec_a253_0242ac1c0002row4_col6\" class=\"data row4 col6\" >nan</td>\n",
              "                        <td id=\"T_44c01204_50e7_11ec_a253_0242ac1c0002row4_col7\" class=\"data row4 col7\" >nan</td>\n",
              "                        <td id=\"T_44c01204_50e7_11ec_a253_0242ac1c0002row4_col8\" class=\"data row4 col8\" >nan</td>\n",
              "                        <td id=\"T_44c01204_50e7_11ec_a253_0242ac1c0002row4_col9\" class=\"data row4 col9\" >nan</td>\n",
              "                        <td id=\"T_44c01204_50e7_11ec_a253_0242ac1c0002row4_col10\" class=\"data row4 col10\" >nan</td>\n",
              "                        <td id=\"T_44c01204_50e7_11ec_a253_0242ac1c0002row4_col11\" class=\"data row4 col11\" >nan</td>\n",
              "                        <td id=\"T_44c01204_50e7_11ec_a253_0242ac1c0002row4_col12\" class=\"data row4 col12\" >nan</td>\n",
              "                        <td id=\"T_44c01204_50e7_11ec_a253_0242ac1c0002row4_col13\" class=\"data row4 col13\" >nan</td>\n",
              "                        <td id=\"T_44c01204_50e7_11ec_a253_0242ac1c0002row4_col14\" class=\"data row4 col14\" >nan</td>\n",
              "                        <td id=\"T_44c01204_50e7_11ec_a253_0242ac1c0002row4_col15\" class=\"data row4 col15\" >nan</td>\n",
              "                        <td id=\"T_44c01204_50e7_11ec_a253_0242ac1c0002row4_col16\" class=\"data row4 col16\" >nan</td>\n",
              "                        <td id=\"T_44c01204_50e7_11ec_a253_0242ac1c0002row4_col17\" class=\"data row4 col17\" >nan</td>\n",
              "            </tr>\n",
              "            <tr>\n",
              "                        <th id=\"T_44c01204_50e7_11ec_a253_0242ac1c0002level0_row5\" class=\"row_heading level0 row5\" >calculatedfinishedsquarefeet</th>\n",
              "                        <td id=\"T_44c01204_50e7_11ec_a253_0242ac1c0002row5_col0\" class=\"data row5 col0\" >0.02</td>\n",
              "                        <td id=\"T_44c01204_50e7_11ec_a253_0242ac1c0002row5_col1\" class=\"data row5 col1\" >0.08</td>\n",
              "                        <td id=\"T_44c01204_50e7_11ec_a253_0242ac1c0002row5_col2\" class=\"data row5 col2\" >0.40</td>\n",
              "                        <td id=\"T_44c01204_50e7_11ec_a253_0242ac1c0002row5_col3\" class=\"data row5 col3\" >0.29</td>\n",
              "                        <td id=\"T_44c01204_50e7_11ec_a253_0242ac1c0002row5_col4\" class=\"data row5 col4\" >0.12</td>\n",
              "                        <td id=\"T_44c01204_50e7_11ec_a253_0242ac1c0002row5_col5\" class=\"data row5 col5\" >nan</td>\n",
              "                        <td id=\"T_44c01204_50e7_11ec_a253_0242ac1c0002row5_col6\" class=\"data row5 col6\" >nan</td>\n",
              "                        <td id=\"T_44c01204_50e7_11ec_a253_0242ac1c0002row5_col7\" class=\"data row5 col7\" >nan</td>\n",
              "                        <td id=\"T_44c01204_50e7_11ec_a253_0242ac1c0002row5_col8\" class=\"data row5 col8\" >nan</td>\n",
              "                        <td id=\"T_44c01204_50e7_11ec_a253_0242ac1c0002row5_col9\" class=\"data row5 col9\" >nan</td>\n",
              "                        <td id=\"T_44c01204_50e7_11ec_a253_0242ac1c0002row5_col10\" class=\"data row5 col10\" >nan</td>\n",
              "                        <td id=\"T_44c01204_50e7_11ec_a253_0242ac1c0002row5_col11\" class=\"data row5 col11\" >nan</td>\n",
              "                        <td id=\"T_44c01204_50e7_11ec_a253_0242ac1c0002row5_col12\" class=\"data row5 col12\" >nan</td>\n",
              "                        <td id=\"T_44c01204_50e7_11ec_a253_0242ac1c0002row5_col13\" class=\"data row5 col13\" >nan</td>\n",
              "                        <td id=\"T_44c01204_50e7_11ec_a253_0242ac1c0002row5_col14\" class=\"data row5 col14\" >nan</td>\n",
              "                        <td id=\"T_44c01204_50e7_11ec_a253_0242ac1c0002row5_col15\" class=\"data row5 col15\" >nan</td>\n",
              "                        <td id=\"T_44c01204_50e7_11ec_a253_0242ac1c0002row5_col16\" class=\"data row5 col16\" >nan</td>\n",
              "                        <td id=\"T_44c01204_50e7_11ec_a253_0242ac1c0002row5_col17\" class=\"data row5 col17\" >nan</td>\n",
              "            </tr>\n",
              "            <tr>\n",
              "                        <th id=\"T_44c01204_50e7_11ec_a253_0242ac1c0002level0_row6\" class=\"row_heading level0 row6\" >garagetotalsqft</th>\n",
              "                        <td id=\"T_44c01204_50e7_11ec_a253_0242ac1c0002row6_col0\" class=\"data row6 col0\" >0.48</td>\n",
              "                        <td id=\"T_44c01204_50e7_11ec_a253_0242ac1c0002row6_col1\" class=\"data row6 col1\" >0.18</td>\n",
              "                        <td id=\"T_44c01204_50e7_11ec_a253_0242ac1c0002row6_col2\" class=\"data row6 col2\" >0.10</td>\n",
              "                        <td id=\"T_44c01204_50e7_11ec_a253_0242ac1c0002row6_col3\" class=\"data row6 col3\" >0.18</td>\n",
              "                        <td id=\"T_44c01204_50e7_11ec_a253_0242ac1c0002row6_col4\" class=\"data row6 col4\" >0.74</td>\n",
              "                        <td id=\"T_44c01204_50e7_11ec_a253_0242ac1c0002row6_col5\" class=\"data row6 col5\" >0.13</td>\n",
              "                        <td id=\"T_44c01204_50e7_11ec_a253_0242ac1c0002row6_col6\" class=\"data row6 col6\" >nan</td>\n",
              "                        <td id=\"T_44c01204_50e7_11ec_a253_0242ac1c0002row6_col7\" class=\"data row6 col7\" >nan</td>\n",
              "                        <td id=\"T_44c01204_50e7_11ec_a253_0242ac1c0002row6_col8\" class=\"data row6 col8\" >nan</td>\n",
              "                        <td id=\"T_44c01204_50e7_11ec_a253_0242ac1c0002row6_col9\" class=\"data row6 col9\" >nan</td>\n",
              "                        <td id=\"T_44c01204_50e7_11ec_a253_0242ac1c0002row6_col10\" class=\"data row6 col10\" >nan</td>\n",
              "                        <td id=\"T_44c01204_50e7_11ec_a253_0242ac1c0002row6_col11\" class=\"data row6 col11\" >nan</td>\n",
              "                        <td id=\"T_44c01204_50e7_11ec_a253_0242ac1c0002row6_col12\" class=\"data row6 col12\" >nan</td>\n",
              "                        <td id=\"T_44c01204_50e7_11ec_a253_0242ac1c0002row6_col13\" class=\"data row6 col13\" >nan</td>\n",
              "                        <td id=\"T_44c01204_50e7_11ec_a253_0242ac1c0002row6_col14\" class=\"data row6 col14\" >nan</td>\n",
              "                        <td id=\"T_44c01204_50e7_11ec_a253_0242ac1c0002row6_col15\" class=\"data row6 col15\" >nan</td>\n",
              "                        <td id=\"T_44c01204_50e7_11ec_a253_0242ac1c0002row6_col16\" class=\"data row6 col16\" >nan</td>\n",
              "                        <td id=\"T_44c01204_50e7_11ec_a253_0242ac1c0002row6_col17\" class=\"data row6 col17\" >nan</td>\n",
              "            </tr>\n",
              "            <tr>\n",
              "                        <th id=\"T_44c01204_50e7_11ec_a253_0242ac1c0002level0_row7\" class=\"row_heading level0 row7\" >heatingorsystemtypeid</th>\n",
              "                        <td id=\"T_44c01204_50e7_11ec_a253_0242ac1c0002row7_col0\" class=\"data row7 col0\" >0.28</td>\n",
              "                        <td id=\"T_44c01204_50e7_11ec_a253_0242ac1c0002row7_col1\" class=\"data row7 col1\" >0.14</td>\n",
              "                        <td id=\"T_44c01204_50e7_11ec_a253_0242ac1c0002row7_col2\" class=\"data row7 col2\" >0.30</td>\n",
              "                        <td id=\"T_44c01204_50e7_11ec_a253_0242ac1c0002row7_col3\" class=\"data row7 col3\" >0.24</td>\n",
              "                        <td id=\"T_44c01204_50e7_11ec_a253_0242ac1c0002row7_col4\" class=\"data row7 col4\" >0.59</td>\n",
              "                        <td id=\"T_44c01204_50e7_11ec_a253_0242ac1c0002row7_col5\" class=\"data row7 col5\" >0.19</td>\n",
              "                        <td id=\"T_44c01204_50e7_11ec_a253_0242ac1c0002row7_col6\" class=\"data row7 col6\" >0.46</td>\n",
              "                        <td id=\"T_44c01204_50e7_11ec_a253_0242ac1c0002row7_col7\" class=\"data row7 col7\" >nan</td>\n",
              "                        <td id=\"T_44c01204_50e7_11ec_a253_0242ac1c0002row7_col8\" class=\"data row7 col8\" >nan</td>\n",
              "                        <td id=\"T_44c01204_50e7_11ec_a253_0242ac1c0002row7_col9\" class=\"data row7 col9\" >nan</td>\n",
              "                        <td id=\"T_44c01204_50e7_11ec_a253_0242ac1c0002row7_col10\" class=\"data row7 col10\" >nan</td>\n",
              "                        <td id=\"T_44c01204_50e7_11ec_a253_0242ac1c0002row7_col11\" class=\"data row7 col11\" >nan</td>\n",
              "                        <td id=\"T_44c01204_50e7_11ec_a253_0242ac1c0002row7_col12\" class=\"data row7 col12\" >nan</td>\n",
              "                        <td id=\"T_44c01204_50e7_11ec_a253_0242ac1c0002row7_col13\" class=\"data row7 col13\" >nan</td>\n",
              "                        <td id=\"T_44c01204_50e7_11ec_a253_0242ac1c0002row7_col14\" class=\"data row7 col14\" >nan</td>\n",
              "                        <td id=\"T_44c01204_50e7_11ec_a253_0242ac1c0002row7_col15\" class=\"data row7 col15\" >nan</td>\n",
              "                        <td id=\"T_44c01204_50e7_11ec_a253_0242ac1c0002row7_col16\" class=\"data row7 col16\" >nan</td>\n",
              "                        <td id=\"T_44c01204_50e7_11ec_a253_0242ac1c0002row7_col17\" class=\"data row7 col17\" >nan</td>\n",
              "            </tr>\n",
              "            <tr>\n",
              "                        <th id=\"T_44c01204_50e7_11ec_a253_0242ac1c0002level0_row8\" class=\"row_heading level0 row8\" >latitude</th>\n",
              "                        <td id=\"T_44c01204_50e7_11ec_a253_0242ac1c0002row8_col0\" class=\"data row8 col0\" >0.19</td>\n",
              "                        <td id=\"T_44c01204_50e7_11ec_a253_0242ac1c0002row8_col1\" class=\"data row8 col1\" >0.07</td>\n",
              "                        <td id=\"T_44c01204_50e7_11ec_a253_0242ac1c0002row8_col2\" class=\"data row8 col2\" >0.04</td>\n",
              "                        <td id=\"T_44c01204_50e7_11ec_a253_0242ac1c0002row8_col3\" class=\"data row8 col3\" >0.01</td>\n",
              "                        <td id=\"T_44c01204_50e7_11ec_a253_0242ac1c0002row8_col4\" class=\"data row8 col4\" >0.31</td>\n",
              "                        <td id=\"T_44c01204_50e7_11ec_a253_0242ac1c0002row8_col5\" class=\"data row8 col5\" >0.02</td>\n",
              "                        <td id=\"T_44c01204_50e7_11ec_a253_0242ac1c0002row8_col6\" class=\"data row8 col6\" >0.39</td>\n",
              "                        <td id=\"T_44c01204_50e7_11ec_a253_0242ac1c0002row8_col7\" class=\"data row8 col7\" >0.13</td>\n",
              "                        <td id=\"T_44c01204_50e7_11ec_a253_0242ac1c0002row8_col8\" class=\"data row8 col8\" >nan</td>\n",
              "                        <td id=\"T_44c01204_50e7_11ec_a253_0242ac1c0002row8_col9\" class=\"data row8 col9\" >nan</td>\n",
              "                        <td id=\"T_44c01204_50e7_11ec_a253_0242ac1c0002row8_col10\" class=\"data row8 col10\" >nan</td>\n",
              "                        <td id=\"T_44c01204_50e7_11ec_a253_0242ac1c0002row8_col11\" class=\"data row8 col11\" >nan</td>\n",
              "                        <td id=\"T_44c01204_50e7_11ec_a253_0242ac1c0002row8_col12\" class=\"data row8 col12\" >nan</td>\n",
              "                        <td id=\"T_44c01204_50e7_11ec_a253_0242ac1c0002row8_col13\" class=\"data row8 col13\" >nan</td>\n",
              "                        <td id=\"T_44c01204_50e7_11ec_a253_0242ac1c0002row8_col14\" class=\"data row8 col14\" >nan</td>\n",
              "                        <td id=\"T_44c01204_50e7_11ec_a253_0242ac1c0002row8_col15\" class=\"data row8 col15\" >nan</td>\n",
              "                        <td id=\"T_44c01204_50e7_11ec_a253_0242ac1c0002row8_col16\" class=\"data row8 col16\" >nan</td>\n",
              "                        <td id=\"T_44c01204_50e7_11ec_a253_0242ac1c0002row8_col17\" class=\"data row8 col17\" >nan</td>\n",
              "            </tr>\n",
              "            <tr>\n",
              "                        <th id=\"T_44c01204_50e7_11ec_a253_0242ac1c0002level0_row9\" class=\"row_heading level0 row9\" >longitude</th>\n",
              "                        <td id=\"T_44c01204_50e7_11ec_a253_0242ac1c0002row9_col0\" class=\"data row9 col0\" >0.05</td>\n",
              "                        <td id=\"T_44c01204_50e7_11ec_a253_0242ac1c0002row9_col1\" class=\"data row9 col1\" >0.16</td>\n",
              "                        <td id=\"T_44c01204_50e7_11ec_a253_0242ac1c0002row9_col2\" class=\"data row9 col2\" >0.02</td>\n",
              "                        <td id=\"T_44c01204_50e7_11ec_a253_0242ac1c0002row9_col3\" class=\"data row9 col3\" >0.04</td>\n",
              "                        <td id=\"T_44c01204_50e7_11ec_a253_0242ac1c0002row9_col4\" class=\"data row9 col4\" >0.09</td>\n",
              "                        <td id=\"T_44c01204_50e7_11ec_a253_0242ac1c0002row9_col5\" class=\"data row9 col5\" >0.00</td>\n",
              "                        <td id=\"T_44c01204_50e7_11ec_a253_0242ac1c0002row9_col6\" class=\"data row9 col6\" >0.17</td>\n",
              "                        <td id=\"T_44c01204_50e7_11ec_a253_0242ac1c0002row9_col7\" class=\"data row9 col7\" >0.03</td>\n",
              "                        <td id=\"T_44c01204_50e7_11ec_a253_0242ac1c0002row9_col8\" class=\"data row9 col8\" >0.54</td>\n",
              "                        <td id=\"T_44c01204_50e7_11ec_a253_0242ac1c0002row9_col9\" class=\"data row9 col9\" >nan</td>\n",
              "                        <td id=\"T_44c01204_50e7_11ec_a253_0242ac1c0002row9_col10\" class=\"data row9 col10\" >nan</td>\n",
              "                        <td id=\"T_44c01204_50e7_11ec_a253_0242ac1c0002row9_col11\" class=\"data row9 col11\" >nan</td>\n",
              "                        <td id=\"T_44c01204_50e7_11ec_a253_0242ac1c0002row9_col12\" class=\"data row9 col12\" >nan</td>\n",
              "                        <td id=\"T_44c01204_50e7_11ec_a253_0242ac1c0002row9_col13\" class=\"data row9 col13\" >nan</td>\n",
              "                        <td id=\"T_44c01204_50e7_11ec_a253_0242ac1c0002row9_col14\" class=\"data row9 col14\" >nan</td>\n",
              "                        <td id=\"T_44c01204_50e7_11ec_a253_0242ac1c0002row9_col15\" class=\"data row9 col15\" >nan</td>\n",
              "                        <td id=\"T_44c01204_50e7_11ec_a253_0242ac1c0002row9_col16\" class=\"data row9 col16\" >nan</td>\n",
              "                        <td id=\"T_44c01204_50e7_11ec_a253_0242ac1c0002row9_col17\" class=\"data row9 col17\" >nan</td>\n",
              "            </tr>\n",
              "            <tr>\n",
              "                        <th id=\"T_44c01204_50e7_11ec_a253_0242ac1c0002level0_row10\" class=\"row_heading level0 row10\" >lotsizesquarefeet</th>\n",
              "                        <td id=\"T_44c01204_50e7_11ec_a253_0242ac1c0002row10_col0\" class=\"data row10 col0\" >0.02</td>\n",
              "                        <td id=\"T_44c01204_50e7_11ec_a253_0242ac1c0002row10_col1\" class=\"data row10 col1\" >0.00</td>\n",
              "                        <td id=\"T_44c01204_50e7_11ec_a253_0242ac1c0002row10_col2\" class=\"data row10 col2\" >0.01</td>\n",
              "                        <td id=\"T_44c01204_50e7_11ec_a253_0242ac1c0002row10_col3\" class=\"data row10 col3\" >0.02</td>\n",
              "                        <td id=\"T_44c01204_50e7_11ec_a253_0242ac1c0002row10_col4\" class=\"data row10 col4\" >0.01</td>\n",
              "                        <td id=\"T_44c01204_50e7_11ec_a253_0242ac1c0002row10_col5\" class=\"data row10 col5\" >0.00</td>\n",
              "                        <td id=\"T_44c01204_50e7_11ec_a253_0242ac1c0002row10_col6\" class=\"data row10 col6\" >0.02</td>\n",
              "                        <td id=\"T_44c01204_50e7_11ec_a253_0242ac1c0002row10_col7\" class=\"data row10 col7\" >0.01</td>\n",
              "                        <td id=\"T_44c01204_50e7_11ec_a253_0242ac1c0002row10_col8\" class=\"data row10 col8\" >0.03</td>\n",
              "                        <td id=\"T_44c01204_50e7_11ec_a253_0242ac1c0002row10_col9\" class=\"data row10 col9\" >0.02</td>\n",
              "                        <td id=\"T_44c01204_50e7_11ec_a253_0242ac1c0002row10_col10\" class=\"data row10 col10\" >nan</td>\n",
              "                        <td id=\"T_44c01204_50e7_11ec_a253_0242ac1c0002row10_col11\" class=\"data row10 col11\" >nan</td>\n",
              "                        <td id=\"T_44c01204_50e7_11ec_a253_0242ac1c0002row10_col12\" class=\"data row10 col12\" >nan</td>\n",
              "                        <td id=\"T_44c01204_50e7_11ec_a253_0242ac1c0002row10_col13\" class=\"data row10 col13\" >nan</td>\n",
              "                        <td id=\"T_44c01204_50e7_11ec_a253_0242ac1c0002row10_col14\" class=\"data row10 col14\" >nan</td>\n",
              "                        <td id=\"T_44c01204_50e7_11ec_a253_0242ac1c0002row10_col15\" class=\"data row10 col15\" >nan</td>\n",
              "                        <td id=\"T_44c01204_50e7_11ec_a253_0242ac1c0002row10_col16\" class=\"data row10 col16\" >nan</td>\n",
              "                        <td id=\"T_44c01204_50e7_11ec_a253_0242ac1c0002row10_col17\" class=\"data row10 col17\" >nan</td>\n",
              "            </tr>\n",
              "            <tr>\n",
              "                        <th id=\"T_44c01204_50e7_11ec_a253_0242ac1c0002level0_row11\" class=\"row_heading level0 row11\" >propertylandusetypeid</th>\n",
              "                        <td id=\"T_44c01204_50e7_11ec_a253_0242ac1c0002row11_col0\" class=\"data row11 col0\" >0.02</td>\n",
              "                        <td id=\"T_44c01204_50e7_11ec_a253_0242ac1c0002row11_col1\" class=\"data row11 col1\" >0.01</td>\n",
              "                        <td id=\"T_44c01204_50e7_11ec_a253_0242ac1c0002row11_col2\" class=\"data row11 col2\" >0.12</td>\n",
              "                        <td id=\"T_44c01204_50e7_11ec_a253_0242ac1c0002row11_col3\" class=\"data row11 col3\" >0.10</td>\n",
              "                        <td id=\"T_44c01204_50e7_11ec_a253_0242ac1c0002row11_col4\" class=\"data row11 col4\" >0.05</td>\n",
              "                        <td id=\"T_44c01204_50e7_11ec_a253_0242ac1c0002row11_col5\" class=\"data row11 col5\" >0.23</td>\n",
              "                        <td id=\"T_44c01204_50e7_11ec_a253_0242ac1c0002row11_col6\" class=\"data row11 col6\" >0.05</td>\n",
              "                        <td id=\"T_44c01204_50e7_11ec_a253_0242ac1c0002row11_col7\" class=\"data row11 col7\" >0.10</td>\n",
              "                        <td id=\"T_44c01204_50e7_11ec_a253_0242ac1c0002row11_col8\" class=\"data row11 col8\" >0.02</td>\n",
              "                        <td id=\"T_44c01204_50e7_11ec_a253_0242ac1c0002row11_col9\" class=\"data row11 col9\" >0.00</td>\n",
              "                        <td id=\"T_44c01204_50e7_11ec_a253_0242ac1c0002row11_col10\" class=\"data row11 col10\" >0.01</td>\n",
              "                        <td id=\"T_44c01204_50e7_11ec_a253_0242ac1c0002row11_col11\" class=\"data row11 col11\" >nan</td>\n",
              "                        <td id=\"T_44c01204_50e7_11ec_a253_0242ac1c0002row11_col12\" class=\"data row11 col12\" >nan</td>\n",
              "                        <td id=\"T_44c01204_50e7_11ec_a253_0242ac1c0002row11_col13\" class=\"data row11 col13\" >nan</td>\n",
              "                        <td id=\"T_44c01204_50e7_11ec_a253_0242ac1c0002row11_col14\" class=\"data row11 col14\" >nan</td>\n",
              "                        <td id=\"T_44c01204_50e7_11ec_a253_0242ac1c0002row11_col15\" class=\"data row11 col15\" >nan</td>\n",
              "                        <td id=\"T_44c01204_50e7_11ec_a253_0242ac1c0002row11_col16\" class=\"data row11 col16\" >nan</td>\n",
              "                        <td id=\"T_44c01204_50e7_11ec_a253_0242ac1c0002row11_col17\" class=\"data row11 col17\" >nan</td>\n",
              "            </tr>\n",
              "            <tr>\n",
              "                        <th id=\"T_44c01204_50e7_11ec_a253_0242ac1c0002level0_row12\" class=\"row_heading level0 row12\" >rawcensustractandblock</th>\n",
              "                        <td id=\"T_44c01204_50e7_11ec_a253_0242ac1c0002row12_col0\" class=\"data row12 col0\" >0.63</td>\n",
              "                        <td id=\"T_44c01204_50e7_11ec_a253_0242ac1c0002row12_col1\" class=\"data row12 col1\" >0.03</td>\n",
              "                        <td id=\"T_44c01204_50e7_11ec_a253_0242ac1c0002row12_col2\" class=\"data row12 col2\" >0.03</td>\n",
              "                        <td id=\"T_44c01204_50e7_11ec_a253_0242ac1c0002row12_col3\" class=\"data row12 col3\" >0.06</td>\n",
              "                        <td id=\"T_44c01204_50e7_11ec_a253_0242ac1c0002row12_col4\" class=\"data row12 col4\" >0.67</td>\n",
              "                        <td id=\"T_44c01204_50e7_11ec_a253_0242ac1c0002row12_col5\" class=\"data row12 col5\" >0.04</td>\n",
              "                        <td id=\"T_44c01204_50e7_11ec_a253_0242ac1c0002row12_col6\" class=\"data row12 col6\" >0.68</td>\n",
              "                        <td id=\"T_44c01204_50e7_11ec_a253_0242ac1c0002row12_col7\" class=\"data row12 col7\" >0.43</td>\n",
              "                        <td id=\"T_44c01204_50e7_11ec_a253_0242ac1c0002row12_col8\" class=\"data row12 col8\" >0.03</td>\n",
              "                        <td id=\"T_44c01204_50e7_11ec_a253_0242ac1c0002row12_col9\" class=\"data row12 col9\" >0.37</td>\n",
              "                        <td id=\"T_44c01204_50e7_11ec_a253_0242ac1c0002row12_col10\" class=\"data row12 col10\" >0.02</td>\n",
              "                        <td id=\"T_44c01204_50e7_11ec_a253_0242ac1c0002row12_col11\" class=\"data row12 col11\" >0.04</td>\n",
              "                        <td id=\"T_44c01204_50e7_11ec_a253_0242ac1c0002row12_col12\" class=\"data row12 col12\" >nan</td>\n",
              "                        <td id=\"T_44c01204_50e7_11ec_a253_0242ac1c0002row12_col13\" class=\"data row12 col13\" >nan</td>\n",
              "                        <td id=\"T_44c01204_50e7_11ec_a253_0242ac1c0002row12_col14\" class=\"data row12 col14\" >nan</td>\n",
              "                        <td id=\"T_44c01204_50e7_11ec_a253_0242ac1c0002row12_col15\" class=\"data row12 col15\" >nan</td>\n",
              "                        <td id=\"T_44c01204_50e7_11ec_a253_0242ac1c0002row12_col16\" class=\"data row12 col16\" >nan</td>\n",
              "                        <td id=\"T_44c01204_50e7_11ec_a253_0242ac1c0002row12_col17\" class=\"data row12 col17\" >nan</td>\n",
              "            </tr>\n",
              "            <tr>\n",
              "                        <th id=\"T_44c01204_50e7_11ec_a253_0242ac1c0002level0_row13\" class=\"row_heading level0 row13\" >roomcnt</th>\n",
              "                        <td id=\"T_44c01204_50e7_11ec_a253_0242ac1c0002row13_col0\" class=\"data row13 col0\" >0.50</td>\n",
              "                        <td id=\"T_44c01204_50e7_11ec_a253_0242ac1c0002row13_col1\" class=\"data row13 col1\" >0.24</td>\n",
              "                        <td id=\"T_44c01204_50e7_11ec_a253_0242ac1c0002row13_col2\" class=\"data row13 col2\" >0.01</td>\n",
              "                        <td id=\"T_44c01204_50e7_11ec_a253_0242ac1c0002row13_col3\" class=\"data row13 col3\" >0.15</td>\n",
              "                        <td id=\"T_44c01204_50e7_11ec_a253_0242ac1c0002row13_col4\" class=\"data row13 col4\" >0.71</td>\n",
              "                        <td id=\"T_44c01204_50e7_11ec_a253_0242ac1c0002row13_col5\" class=\"data row13 col5\" >0.04</td>\n",
              "                        <td id=\"T_44c01204_50e7_11ec_a253_0242ac1c0002row13_col6\" class=\"data row13 col6\" >0.78</td>\n",
              "                        <td id=\"T_44c01204_50e7_11ec_a253_0242ac1c0002row13_col7\" class=\"data row13 col7\" >0.44</td>\n",
              "                        <td id=\"T_44c01204_50e7_11ec_a253_0242ac1c0002row13_col8\" class=\"data row13 col8\" >0.28</td>\n",
              "                        <td id=\"T_44c01204_50e7_11ec_a253_0242ac1c0002row13_col9\" class=\"data row13 col9\" >0.01</td>\n",
              "                        <td id=\"T_44c01204_50e7_11ec_a253_0242ac1c0002row13_col10\" class=\"data row13 col10\" >0.02</td>\n",
              "                        <td id=\"T_44c01204_50e7_11ec_a253_0242ac1c0002row13_col11\" class=\"data row13 col11\" >0.05</td>\n",
              "                        <td id=\"T_44c01204_50e7_11ec_a253_0242ac1c0002row13_col12\" class=\"data row13 col12\" >0.74</td>\n",
              "                        <td id=\"T_44c01204_50e7_11ec_a253_0242ac1c0002row13_col13\" class=\"data row13 col13\" >nan</td>\n",
              "                        <td id=\"T_44c01204_50e7_11ec_a253_0242ac1c0002row13_col14\" class=\"data row13 col14\" >nan</td>\n",
              "                        <td id=\"T_44c01204_50e7_11ec_a253_0242ac1c0002row13_col15\" class=\"data row13 col15\" >nan</td>\n",
              "                        <td id=\"T_44c01204_50e7_11ec_a253_0242ac1c0002row13_col16\" class=\"data row13 col16\" >nan</td>\n",
              "                        <td id=\"T_44c01204_50e7_11ec_a253_0242ac1c0002row13_col17\" class=\"data row13 col17\" >nan</td>\n",
              "            </tr>\n",
              "            <tr>\n",
              "                        <th id=\"T_44c01204_50e7_11ec_a253_0242ac1c0002level0_row14\" class=\"row_heading level0 row14\" >unitcnt</th>\n",
              "                        <td id=\"T_44c01204_50e7_11ec_a253_0242ac1c0002row14_col0\" class=\"data row14 col0\" >0.13</td>\n",
              "                        <td id=\"T_44c01204_50e7_11ec_a253_0242ac1c0002row14_col1\" class=\"data row14 col1\" >0.05</td>\n",
              "                        <td id=\"T_44c01204_50e7_11ec_a253_0242ac1c0002row14_col2\" class=\"data row14 col2\" >0.04</td>\n",
              "                        <td id=\"T_44c01204_50e7_11ec_a253_0242ac1c0002row14_col3\" class=\"data row14 col3\" >0.03</td>\n",
              "                        <td id=\"T_44c01204_50e7_11ec_a253_0242ac1c0002row14_col4\" class=\"data row14 col4\" >0.21</td>\n",
              "                        <td id=\"T_44c01204_50e7_11ec_a253_0242ac1c0002row14_col5\" class=\"data row14 col5\" >0.13</td>\n",
              "                        <td id=\"T_44c01204_50e7_11ec_a253_0242ac1c0002row14_col6\" class=\"data row14 col6\" >0.23</td>\n",
              "                        <td id=\"T_44c01204_50e7_11ec_a253_0242ac1c0002row14_col7\" class=\"data row14 col7\" >0.06</td>\n",
              "                        <td id=\"T_44c01204_50e7_11ec_a253_0242ac1c0002row14_col8\" class=\"data row14 col8\" >0.08</td>\n",
              "                        <td id=\"T_44c01204_50e7_11ec_a253_0242ac1c0002row14_col9\" class=\"data row14 col9\" >0.03</td>\n",
              "                        <td id=\"T_44c01204_50e7_11ec_a253_0242ac1c0002row14_col10\" class=\"data row14 col10\" >0.00</td>\n",
              "                        <td id=\"T_44c01204_50e7_11ec_a253_0242ac1c0002row14_col11\" class=\"data row14 col11\" >0.10</td>\n",
              "                        <td id=\"T_44c01204_50e7_11ec_a253_0242ac1c0002row14_col12\" class=\"data row14 col12\" >0.19</td>\n",
              "                        <td id=\"T_44c01204_50e7_11ec_a253_0242ac1c0002row14_col13\" class=\"data row14 col13\" >0.22</td>\n",
              "                        <td id=\"T_44c01204_50e7_11ec_a253_0242ac1c0002row14_col14\" class=\"data row14 col14\" >nan</td>\n",
              "                        <td id=\"T_44c01204_50e7_11ec_a253_0242ac1c0002row14_col15\" class=\"data row14 col15\" >nan</td>\n",
              "                        <td id=\"T_44c01204_50e7_11ec_a253_0242ac1c0002row14_col16\" class=\"data row14 col16\" >nan</td>\n",
              "                        <td id=\"T_44c01204_50e7_11ec_a253_0242ac1c0002row14_col17\" class=\"data row14 col17\" >nan</td>\n",
              "            </tr>\n",
              "            <tr>\n",
              "                        <th id=\"T_44c01204_50e7_11ec_a253_0242ac1c0002level0_row15\" class=\"row_heading level0 row15\" >yearbuilt</th>\n",
              "                        <td id=\"T_44c01204_50e7_11ec_a253_0242ac1c0002row15_col0\" class=\"data row15 col0\" >0.14</td>\n",
              "                        <td id=\"T_44c01204_50e7_11ec_a253_0242ac1c0002row15_col1\" class=\"data row15 col1\" >0.16</td>\n",
              "                        <td id=\"T_44c01204_50e7_11ec_a253_0242ac1c0002row15_col2\" class=\"data row15 col2\" >0.35</td>\n",
              "                        <td id=\"T_44c01204_50e7_11ec_a253_0242ac1c0002row15_col3\" class=\"data row15 col3\" >0.13</td>\n",
              "                        <td id=\"T_44c01204_50e7_11ec_a253_0242ac1c0002row15_col4\" class=\"data row15 col4\" >0.41</td>\n",
              "                        <td id=\"T_44c01204_50e7_11ec_a253_0242ac1c0002row15_col5\" class=\"data row15 col5\" >0.16</td>\n",
              "                        <td id=\"T_44c01204_50e7_11ec_a253_0242ac1c0002row15_col6\" class=\"data row15 col6\" >0.30</td>\n",
              "                        <td id=\"T_44c01204_50e7_11ec_a253_0242ac1c0002row15_col7\" class=\"data row15 col7\" >0.37</td>\n",
              "                        <td id=\"T_44c01204_50e7_11ec_a253_0242ac1c0002row15_col8\" class=\"data row15 col8\" >0.04</td>\n",
              "                        <td id=\"T_44c01204_50e7_11ec_a253_0242ac1c0002row15_col9\" class=\"data row15 col9\" >0.04</td>\n",
              "                        <td id=\"T_44c01204_50e7_11ec_a253_0242ac1c0002row15_col10\" class=\"data row15 col10\" >0.03</td>\n",
              "                        <td id=\"T_44c01204_50e7_11ec_a253_0242ac1c0002row15_col11\" class=\"data row15 col11\" >0.15</td>\n",
              "                        <td id=\"T_44c01204_50e7_11ec_a253_0242ac1c0002row15_col12\" class=\"data row15 col12\" >0.23</td>\n",
              "                        <td id=\"T_44c01204_50e7_11ec_a253_0242ac1c0002row15_col13\" class=\"data row15 col13\" >0.16</td>\n",
              "                        <td id=\"T_44c01204_50e7_11ec_a253_0242ac1c0002row15_col14\" class=\"data row15 col14\" >0.11</td>\n",
              "                        <td id=\"T_44c01204_50e7_11ec_a253_0242ac1c0002row15_col15\" class=\"data row15 col15\" >nan</td>\n",
              "                        <td id=\"T_44c01204_50e7_11ec_a253_0242ac1c0002row15_col16\" class=\"data row15 col16\" >nan</td>\n",
              "                        <td id=\"T_44c01204_50e7_11ec_a253_0242ac1c0002row15_col17\" class=\"data row15 col17\" >nan</td>\n",
              "            </tr>\n",
              "            <tr>\n",
              "                        <th id=\"T_44c01204_50e7_11ec_a253_0242ac1c0002level0_row16\" class=\"row_heading level0 row16\" >numberofstories</th>\n",
              "                        <td id=\"T_44c01204_50e7_11ec_a253_0242ac1c0002row16_col0\" class=\"data row16 col0\" >0.47</td>\n",
              "                        <td id=\"T_44c01204_50e7_11ec_a253_0242ac1c0002row16_col1\" class=\"data row16 col1\" >0.24</td>\n",
              "                        <td id=\"T_44c01204_50e7_11ec_a253_0242ac1c0002row16_col2\" class=\"data row16 col2\" >0.05</td>\n",
              "                        <td id=\"T_44c01204_50e7_11ec_a253_0242ac1c0002row16_col3\" class=\"data row16 col3\" >0.06</td>\n",
              "                        <td id=\"T_44c01204_50e7_11ec_a253_0242ac1c0002row16_col4\" class=\"data row16 col4\" >0.67</td>\n",
              "                        <td id=\"T_44c01204_50e7_11ec_a253_0242ac1c0002row16_col5\" class=\"data row16 col5\" >0.07</td>\n",
              "                        <td id=\"T_44c01204_50e7_11ec_a253_0242ac1c0002row16_col6\" class=\"data row16 col6\" >0.69</td>\n",
              "                        <td id=\"T_44c01204_50e7_11ec_a253_0242ac1c0002row16_col7\" class=\"data row16 col7\" >0.42</td>\n",
              "                        <td id=\"T_44c01204_50e7_11ec_a253_0242ac1c0002row16_col8\" class=\"data row16 col8\" >0.28</td>\n",
              "                        <td id=\"T_44c01204_50e7_11ec_a253_0242ac1c0002row16_col9\" class=\"data row16 col9\" >0.02</td>\n",
              "                        <td id=\"T_44c01204_50e7_11ec_a253_0242ac1c0002row16_col10\" class=\"data row16 col10\" >0.02</td>\n",
              "                        <td id=\"T_44c01204_50e7_11ec_a253_0242ac1c0002row16_col11\" class=\"data row16 col11\" >0.05</td>\n",
              "                        <td id=\"T_44c01204_50e7_11ec_a253_0242ac1c0002row16_col12\" class=\"data row16 col12\" >0.69</td>\n",
              "                        <td id=\"T_44c01204_50e7_11ec_a253_0242ac1c0002row16_col13\" class=\"data row16 col13\" >0.89</td>\n",
              "                        <td id=\"T_44c01204_50e7_11ec_a253_0242ac1c0002row16_col14\" class=\"data row16 col14\" >0.18</td>\n",
              "                        <td id=\"T_44c01204_50e7_11ec_a253_0242ac1c0002row16_col15\" class=\"data row16 col15\" >0.16</td>\n",
              "                        <td id=\"T_44c01204_50e7_11ec_a253_0242ac1c0002row16_col16\" class=\"data row16 col16\" >nan</td>\n",
              "                        <td id=\"T_44c01204_50e7_11ec_a253_0242ac1c0002row16_col17\" class=\"data row16 col17\" >nan</td>\n",
              "            </tr>\n",
              "            <tr>\n",
              "                        <th id=\"T_44c01204_50e7_11ec_a253_0242ac1c0002level0_row17\" class=\"row_heading level0 row17\" >taxvaluedollarcnt</th>\n",
              "                        <td id=\"T_44c01204_50e7_11ec_a253_0242ac1c0002row17_col0\" class=\"data row17 col0\" >0.01</td>\n",
              "                        <td id=\"T_44c01204_50e7_11ec_a253_0242ac1c0002row17_col1\" class=\"data row17 col1\" >0.04</td>\n",
              "                        <td id=\"T_44c01204_50e7_11ec_a253_0242ac1c0002row17_col2\" class=\"data row17 col2\" >0.39</td>\n",
              "                        <td id=\"T_44c01204_50e7_11ec_a253_0242ac1c0002row17_col3\" class=\"data row17 col3\" >0.18</td>\n",
              "                        <td id=\"T_44c01204_50e7_11ec_a253_0242ac1c0002row17_col4\" class=\"data row17 col4\" >0.09</td>\n",
              "                        <td id=\"T_44c01204_50e7_11ec_a253_0242ac1c0002row17_col5\" class=\"data row17 col5\" >0.49</td>\n",
              "                        <td id=\"T_44c01204_50e7_11ec_a253_0242ac1c0002row17_col6\" class=\"data row17 col6\" >0.12</td>\n",
              "                        <td id=\"T_44c01204_50e7_11ec_a253_0242ac1c0002row17_col7\" class=\"data row17 col7\" >0.12</td>\n",
              "                        <td id=\"T_44c01204_50e7_11ec_a253_0242ac1c0002row17_col8\" class=\"data row17 col8\" >0.09</td>\n",
              "                        <td id=\"T_44c01204_50e7_11ec_a253_0242ac1c0002row17_col9\" class=\"data row17 col9\" >0.02</td>\n",
              "                        <td id=\"T_44c01204_50e7_11ec_a253_0242ac1c0002row17_col10\" class=\"data row17 col10\" >0.00</td>\n",
              "                        <td id=\"T_44c01204_50e7_11ec_a253_0242ac1c0002row17_col11\" class=\"data row17 col11\" >0.06</td>\n",
              "                        <td id=\"T_44c01204_50e7_11ec_a253_0242ac1c0002row17_col12\" class=\"data row17 col12\" >0.02</td>\n",
              "                        <td id=\"T_44c01204_50e7_11ec_a253_0242ac1c0002row17_col13\" class=\"data row17 col13\" >0.01</td>\n",
              "                        <td id=\"T_44c01204_50e7_11ec_a253_0242ac1c0002row17_col14\" class=\"data row17 col14\" >0.04</td>\n",
              "                        <td id=\"T_44c01204_50e7_11ec_a253_0242ac1c0002row17_col15\" class=\"data row17 col15\" >0.16</td>\n",
              "                        <td id=\"T_44c01204_50e7_11ec_a253_0242ac1c0002row17_col16\" class=\"data row17 col16\" >0.02</td>\n",
              "                        <td id=\"T_44c01204_50e7_11ec_a253_0242ac1c0002row17_col17\" class=\"data row17 col17\" >nan</td>\n",
              "            </tr>\n",
              "    </tbody></table>"
            ],
            "text/plain": [
              "<pandas.io.formats.style.Styler at 0x7f736ed99650>"
            ]
          },
          "execution_count": 65,
          "metadata": {},
          "output_type": "execute_result"
        }
      ]
    },
    {
      "cell_type": "code",
      "metadata": {
        "colab": {
          "base_uri": "https://localhost:8080/"
        },
        "id": "YMaWb1AbEB6F",
        "outputId": "abfbab46-c248-4e4a-8a20-b1f1bf8e67bc"
      },
      "source": [
        "# Check for strong correlation among the variables - print any column pairs with a correlation value of >0.8 \n",
        "for row in corr_matrix.index:\n",
        "  for col in corr_matrix.columns:\n",
        "    if corr_matrix.loc[row,col] >= 0.8 and corr_matrix.loc[row,col] <1:\n",
        "      print(row, col, corr_matrix.loc[row,col])"
      ],
      "execution_count": null,
      "outputs": [
        {
          "name": "stdout",
          "output_type": "stream",
          "text": [
            "numberofstories roomcnt 0.8938456270330825\n"
          ]
        }
      ]
    },
    {
      "cell_type": "markdown",
      "metadata": {
        "id": "fS4660_f-WBF"
      },
      "source": [
        "We check if there is perfect or strong correlation between any of the variables. If the absolute correlation coefficient is >= 0.80, we should remove one of the variables to avoid multicollinearity in the data-set. \n",
        "\n",
        "We use a Correlation Coefficient of 0.8 as it represents a fairly strong relationship. There is only one pair of variables that have high correlation, \"numberofstories\" and \"roomcnt\". But since they are not highly correlated to the dependent variable, \"taxvaluedollarcnt\", it should not cause any issues and may just be a coincidence."
      ]
    },
    {
      "cell_type": "code",
      "metadata": {
        "colab": {
          "base_uri": "https://localhost:8080/"
        },
        "id": "FnFQ1nadlP-L",
        "outputId": "7cd5ad05-79b2-4aa4-8665-b1250f59e09f"
      },
      "source": [
        "print(len(zillow_final_df.columns))"
      ],
      "execution_count": null,
      "outputs": [
        {
          "name": "stdout",
          "output_type": "stream",
          "text": [
            "19\n"
          ]
        }
      ]
    },
    {
      "cell_type": "markdown",
      "metadata": {
        "id": "2tsyA3DbvYTx"
      },
      "source": [
        "##2.7. Export The Final Cleaned Dataframe to a csv"
      ]
    },
    {
      "cell_type": "code",
      "metadata": {
        "id": "1YZAtfxEvoPx"
      },
      "source": [
        "# Convert the Spark DataFrame to a Pandas DataFrame using Arrow\n",
        "#zillow_final_pd = zillow_final_df.select(\"*\").toPandas()\n",
        "\n",
        "# Save to csv file\n",
        "#zillow_final_pd.to_csv('zillow_cleaned_data.csv', index=False)"
      ],
      "execution_count": null,
      "outputs": []
    },
    {
      "cell_type": "markdown",
      "metadata": {
        "id": "FB1_iqxOFYJv"
      },
      "source": [
        "#**3. Preparing The Data For Modelling**"
      ]
    },
    {
      "cell_type": "markdown",
      "metadata": {
        "id": "k-Hqv-1dCv6V"
      },
      "source": [
        "We saved the final dataframe, post data cleaning, as a csv - this helped us in re-running the code in shorter time. Java server errors occured numerous times while running the models. "
      ]
    },
    {
      "cell_type": "code",
      "metadata": {
        "colab": {
          "base_uri": "https://localhost:8080/"
        },
        "id": "142OBj4Ygbu1",
        "outputId": "a351a6a1-9acc-4003-c417-9d781802dd4a"
      },
      "source": [
        "data=spark.read.csv('/content/drive/MyDrive/IDS561_Project/zillow_cleaned_data.csv',header=True)\n",
        "data.show(5)"
      ],
      "execution_count": null,
      "outputs": [
        {
          "output_type": "stream",
          "name": "stdout",
          "text": [
            "+--------+---------------------+-----------+----------+---------------------+----------------------------+---------------+---------------------+--------+----------+-----------------+-------------------------+---------------------+----------------------+-------+-------+---------+---------------+-----------------+\n",
            "|parcelid|airconditioningtypeid|bathroomcnt|bedroomcnt|buildingqualitytypeid|calculatedfinishedsquarefeet|garagetotalsqft|heatingorsystemtypeid|latitude| longitude|lotsizesquarefeet|propertycountylandusecode|propertylandusetypeid|rawcensustractandblock|roomcnt|unitcnt|yearbuilt|numberofstories|taxvaluedollarcnt|\n",
            "+--------+---------------------+-----------+----------+---------------------+----------------------------+---------------+---------------------+--------+----------+-----------------+-------------------------+---------------------+----------------------+-------+-------+---------+---------------+-----------------+\n",
            "|10859147|                    0|          0|         0|                    7|                      5068.0|            0.0|                    0|34148863|-118437206|           7521.0|                     1200|                   47|       60371412.023001|    0.0|      0|     1948|              1|        1156834.0|\n",
            "|10879947|                    0|          0|         0|                    0|                      1776.0|            0.0|                    0|34194168|-118385816|           8512.0|                     1210|                   31|       60371232.052003|    0.0|      1|     1947|              0|         433491.0|\n",
            "|10898347|                    0|          0|         0|                    7|                      2400.0|            0.0|                    0|34171873|-118380906|           2500.0|                     1210|                   31|          60371252.001|    0.0|      0|     1943|              1|         283315.0|\n",
            "|10940747|                    0|          0|         0|                    0|                      3611.0|            0.0|                    0|34171345|-118314900|           5333.0|                     1210|                   31|       60373108.003004|    0.0|      0|     1946|              1|         688486.0|\n",
            "|10976347|                    0|          0|         0|                    7|                      3754.0|            0.0|                    0|34289776|-118432085|           7494.0|                     1210|                   31|       60373202.023005|    0.0|      0|     1978|              1|         261201.0|\n",
            "+--------+---------------------+-----------+----------+---------------------+----------------------------+---------------+---------------------+--------+----------+-----------------+-------------------------+---------------------+----------------------+-------+-------+---------+---------------+-----------------+\n",
            "only showing top 5 rows\n",
            "\n"
          ]
        }
      ]
    },
    {
      "cell_type": "markdown",
      "metadata": {
        "id": "6ndEawhg6KNx"
      },
      "source": [
        "## 3.1 Cast the columns into int/double - Spark ML library only works with numeric data."
      ]
    },
    {
      "cell_type": "code",
      "metadata": {
        "id": "Ir9Lpluv2aYb"
      },
      "source": [
        "#original datatypes\n",
        "# print(zillow_df.dtypes)"
      ],
      "execution_count": null,
      "outputs": []
    },
    {
      "cell_type": "markdown",
      "metadata": {
        "id": "hR0VRcJc1Hfl"
      },
      "source": [
        "One of the things we noticed from the data exploration from above was that all the columns were of String type. But that doesn’t seem right. Some of them should be numeric. So we are going to cast them. "
      ]
    },
    {
      "cell_type": "code",
      "metadata": {
        "colab": {
          "base_uri": "https://localhost:8080/"
        },
        "id": "iK5L1Kwq1HLP",
        "outputId": "26475a30-7dfe-4e62-e684-69fc8a67cfdb"
      },
      "source": [
        "from pyspark.sql.functions import col\n",
        "dataset = data.select(col('taxvaluedollarcnt').cast('float'),\n",
        "                         col('parcelid').cast('int'),\n",
        "                         col('airconditioningtypeid').cast('int'),\n",
        "                         col('buildingqualitytypeid').cast('int'),\n",
        "                         col('calculatedfinishedsquarefeet').cast('double'),\n",
        "                         col('garagetotalsqft').cast('double'),\n",
        "                         col('heatingorsystemtypeid').cast('int'),\n",
        "                         col('longitude').cast('int'),\n",
        "                         col('lotsizesquarefeet').cast('double'),\n",
        "                         col('propertylandusetypeid').cast('int'),\n",
        "                         col('rawcensustractandblock').cast('double'),\n",
        "                         col('roomcnt').cast('int'),\n",
        "                         col('unitcnt').cast('int'),\n",
        "                         col('yearbuilt').cast('int'),\n",
        "                         col('numberofstories').cast('int'),\n",
        "                         col('bathroomcnt').cast('int'),\n",
        "                         col('bedroomcnt').cast('int'),\n",
        "                         col('latitude').cast('int'),\n",
        "                        )\n",
        "dataset.show()"
      ],
      "execution_count": null,
      "outputs": [
        {
          "output_type": "stream",
          "name": "stdout",
          "text": [
            "+-----------------+--------+---------------------+---------------------+----------------------------+---------------+---------------------+----------+-----------------+---------------------+----------------------+-------+-------+---------+---------------+-----------+----------+--------+\n",
            "|taxvaluedollarcnt|parcelid|airconditioningtypeid|buildingqualitytypeid|calculatedfinishedsquarefeet|garagetotalsqft|heatingorsystemtypeid| longitude|lotsizesquarefeet|propertylandusetypeid|rawcensustractandblock|roomcnt|unitcnt|yearbuilt|numberofstories|bathroomcnt|bedroomcnt|latitude|\n",
            "+-----------------+--------+---------------------+---------------------+----------------------------+---------------+---------------------+----------+-----------------+---------------------+----------------------+-------+-------+---------+---------------+-----------+----------+--------+\n",
            "|        1156834.0|10859147|                    0|                    7|                      5068.0|            0.0|                    0|-118437206|           7521.0|                   47|     6.0371412023001E7|      0|      0|     1948|              1|          0|         0|34148863|\n",
            "|         433491.0|10879947|                    0|                    0|                      1776.0|            0.0|                    0|-118385816|           8512.0|                   31|     6.0371232052003E7|      0|      1|     1947|              0|          0|         0|34194168|\n",
            "|         283315.0|10898347|                    0|                    7|                      2400.0|            0.0|                    0|-118380906|           2500.0|                   31|        6.0371252001E7|      0|      0|     1943|              1|          0|         0|34171873|\n",
            "|         688486.0|10940747|                    0|                    0|                      3611.0|            0.0|                    0|-118314900|           5333.0|                   31|     6.0373108003004E7|      0|      0|     1946|              1|          0|         0|34171345|\n",
            "|         261201.0|10976347|                    0|                    7|                      3754.0|            0.0|                    0|-118432085|           7494.0|                   31|     6.0373202023005E7|      0|      0|     1978|              1|          0|         0|34289776|\n",
            "|         430208.0|11073947|                    0|                    0|                      2470.0|            0.0|                    0|-118520217|           3423.0|                   47|     6.0371112022021E7|      0|      0|     1958|              1|          0|         0|34265214|\n",
            "|          62424.0|11287347|                    0|                    7|                      2760.0|            0.0|                    0|-118135225|           8856.0|                   31|     6.0379008061041E7|      0|      0|     1949|              0|          0|         0|34690736|\n",
            "|         102385.0|11288547|                    0|                    7|                      4000.0|            0.0|                    0|-118139298|          46526.0|                  260|     6.0379003001052E7|      0|      0|     1956|              0|          0|         0|34733960|\n",
            "|         291973.0|11324547|                    1|                    4|                      3633.0|            0.0|                    2|-118169806|           9826.0|                  261|       6.03791020611E7|      0|      1|     2005|              0|          2|         4|34560018|\n",
            "|         503752.0|11391347|                    0|                    7|                      4053.0|            0.0|                    0|-118329553|           8050.0|                   31|     6.0372347003007E7|      0|      1|     1957|              0|          0|         0|33986910|\n",
            "|         231720.0|11404347|                    0|                    7|                      1936.0|            0.0|                    0|-118350438|           1821.0|                   31|     6.0376010012021E7|      0|      0|     1939|              1|          0|         0|33959896|\n",
            "|         181667.0|11405747|                    0|                    7|                      1606.0|            0.0|                    7|-118361711|           5231.0|                   31|     6.0376014021005E7|      0|      1|     1926|              1|          0|         0|33952952|\n",
            "|         133717.0|11417147|                    0|                    7|                      2820.0|            0.0|                    0|-118352104|           5934.0|                   31|     6.0376021031001E7|      0|      2|     1938|              1|          0|         0|33931500|\n",
            "|         818739.0|11488147|                    0|                    4|                      2865.0|            0.0|                    0|-118361434|           4990.0|                  246|     6.0376205211004E7|      0|      2|     1972|              0|          4|         5|33879216|\n",
            "|         786584.0|11520747|                    0|                    7|                      6790.0|            0.0|                    0|-118408671|          10437.0|                   47|     6.0377028013006E7|      0|      0|     1955|              1|          0|         0|34016768|\n",
            "|         352198.0|11524947|                    1|                    4|                      1090.0|            0.0|                    2|-118423000|          40247.0|                  266|     6.0372756021009E7|      0|      1|     2004|              0|          2|         2|33974100|\n",
            "|         528621.0|11579347|                    0|                    4|                      3170.0|            0.0|                    0|-118490143|           5010.0|                   31|     6.0377012011008E7|      0|      0|     1955|              1|          0|         0|34047254|\n",
            "|         637046.0|11585547|                    0|                    4|                      2077.0|            0.0|                    2|-118479243|           6490.0|                  261|     6.0377022014001E7|      0|      1|     1926|              0|          2|         3|34012977|\n",
            "|         236380.0|11609547|                    0|                    7|                      5610.0|            0.0|                    0|-118420247|           5500.0|                   31|     6.0372693005005E7|      0|      1|     1929|              0|          0|         0|34043579|\n",
            "|        1295374.0|11698747|                    0|                    7|                     18629.0|            0.0|                    0|-118352009|          17015.0|                   47|     6.0377031003012E7|      0|      0|     1949|              0|          0|         0|33989166|\n",
            "+-----------------+--------+---------------------+---------------------+----------------------------+---------------+---------------------+----------+-----------------+---------------------+----------------------+-------+-------+---------+---------------+-----------+----------+--------+\n",
            "only showing top 20 rows\n",
            "\n"
          ]
        }
      ]
    },
    {
      "cell_type": "code",
      "metadata": {
        "colab": {
          "base_uri": "https://localhost:8080/"
        },
        "id": "cOSBmh5f5TkS",
        "outputId": "66425093-8426-45af-be5e-8f1d37814fad"
      },
      "source": [
        "print(len(dataset.columns))"
      ],
      "execution_count": null,
      "outputs": [
        {
          "name": "stdout",
          "output_type": "stream",
          "text": [
            "18\n"
          ]
        }
      ]
    },
    {
      "cell_type": "markdown",
      "metadata": {
        "id": "j7DlOO7n7p8b"
      },
      "source": [
        "We now want to predict “tax dollar amount” and need to combine the information of all the columns into one column. To do that in Spark we use the VectorAssembler."
      ]
    },
    {
      "cell_type": "markdown",
      "metadata": {
        "id": "RAsnTAQ5a8u6"
      },
      "source": [
        "## 3.2 Get the dense vector of features and label"
      ]
    },
    {
      "cell_type": "code",
      "metadata": {
        "colab": {
          "base_uri": "https://localhost:8080/"
        },
        "id": "zfDedyayakGF",
        "outputId": "63d859a1-7e94-40e1-ec82-95d5e7f1923d"
      },
      "source": [
        "from pyspark.sql import Row\n",
        "from pyspark.ml.linalg import Vectors\n",
        "\n",
        "def transData(data):\n",
        "  return data.rdd.map(lambda r: [Vectors.dense(r[:-1]),r[-1]]).toDF(['features','label'])\n",
        "\n",
        "transformed= transData(dataset)\n",
        "transformed.show(5)"
      ],
      "execution_count": null,
      "outputs": [
        {
          "output_type": "stream",
          "name": "stdout",
          "text": [
            "+--------------------+--------+\n",
            "|            features|   label|\n",
            "+--------------------+--------+\n",
            "|[1156834.0,1.0859...|34148863|\n",
            "|[433491.0,1.08799...|34194168|\n",
            "|[283315.0,1.08983...|34171873|\n",
            "|[688486.0,1.09407...|34171345|\n",
            "|[261201.0,1.09763...|34289776|\n",
            "+--------------------+--------+\n",
            "only showing top 5 rows\n",
            "\n"
          ]
        }
      ]
    },
    {
      "cell_type": "markdown",
      "metadata": {
        "id": "qnpdDd4cbPG_"
      },
      "source": [
        "## 3.3 Deal with categorical variables"
      ]
    },
    {
      "cell_type": "code",
      "metadata": {
        "id": "gVt_X6J5aQ39"
      },
      "source": [
        "from pyspark.ml import Pipeline\n",
        "from pyspark.ml.regression import LinearRegression\n",
        "from pyspark.ml.feature import VectorIndexer\n",
        "from pyspark.ml.evaluation import RegressionEvaluator\n",
        "\n",
        "# Automatically identify categorical features, and index them.\n",
        "# We specify maxCategories so features with > 15 distinct values are treated as continuous.\n",
        "\n",
        "featureIndexer = VectorIndexer(inputCol=\"features\", \\\n",
        "                               outputCol=\"indexedFeatures\",\\\n",
        "                               maxCategories=15).fit(transformed)\n",
        "\n",
        "data = featureIndexer.transform(transformed)"
      ],
      "execution_count": null,
      "outputs": []
    },
    {
      "cell_type": "code",
      "metadata": {
        "colab": {
          "base_uri": "https://localhost:8080/"
        },
        "id": "P0wtpP0zbhA4",
        "outputId": "6c3ee33e-d342-4e52-8178-8ce509f1413d"
      },
      "source": [
        "data.show(5,True)"
      ],
      "execution_count": null,
      "outputs": [
        {
          "name": "stdout",
          "output_type": "stream",
          "text": [
            "+--------------------+--------+--------------------+\n",
            "|            features|   label|     indexedFeatures|\n",
            "+--------------------+--------+--------------------+\n",
            "|[1156834.0,1.0859...|34148863|[1156834.0,1.0859...|\n",
            "|[433491.0,1.08799...|34194168|[433491.0,1.08799...|\n",
            "|[283315.0,1.08983...|34171873|[283315.0,1.08983...|\n",
            "|[688486.0,1.09407...|34171345|[688486.0,1.09407...|\n",
            "|[261201.0,1.09763...|34289776|[261201.0,1.09763...|\n",
            "+--------------------+--------+--------------------+\n",
            "only showing top 5 rows\n",
            "\n"
          ]
        }
      ]
    },
    {
      "cell_type": "markdown",
      "metadata": {
        "id": "khJtTClCfFoI"
      },
      "source": [
        "## 3.4 Normalize the features"
      ]
    },
    {
      "cell_type": "code",
      "metadata": {
        "colab": {
          "base_uri": "https://localhost:8080/"
        },
        "id": "gwhqaloxfKas",
        "outputId": "f1deb19d-19f3-4cdf-bd09-28da9e8270e9"
      },
      "source": [
        "from pyspark.ml.feature import Normalizer\n",
        "\n",
        "normalizer = Normalizer(inputCol=\"indexedFeatures\", outputCol=\"features_norm\", p=1.0)\n",
        "# vhouse_norm_df = normalizer.transform(vhouse_df)\n",
        "vhouse_norm_df = normalizer.transform(data)\n",
        "vhouse_norm_df.show()"
      ],
      "execution_count": null,
      "outputs": [
        {
          "output_type": "stream",
          "name": "stdout",
          "text": [
            "+--------------------+--------+--------------------+--------------------+\n",
            "|            features|   label|     indexedFeatures|       features_norm|\n",
            "+--------------------+--------+--------------------+--------------------+\n",
            "|[1156834.0,1.0859...|34148863|[1156834.0,1.0859...|[0.00606182761854...|\n",
            "|[433491.0,1.08799...|34194168|[433491.0,1.08799...|[0.00228053867979...|\n",
            "|[283315.0,1.08983...|34171873|[283315.0,1.08983...|[0.00149159734198...|\n",
            "|[688486.0,1.09407...|34171345|[688486.0,1.09407...|[0.00361736330175...|\n",
            "|[261201.0,1.09763...|34289776|[261201.0,1.09763...|[0.00137433653838...|\n",
            "|[430208.0,1.10739...|34265214|[430208.0,1.10739...|[0.00225945619824...|\n",
            "|[62424.0,1.128734...|34690736|[62424.0,1.128734...|[3.28759199980160...|\n",
            "|[102385.0,1.12885...|34733960|[102385.0,1.12885...|[5.38976990872656...|\n",
            "|[291973.0,1.13245...|34560018|[291973.0,1.13245...|[0.00153523819417...|\n",
            "|[503752.0,1.13913...|33986910|[503752.0,1.13913...|[0.00264282660981...|\n",
            "|[231720.0,1.14043...|33959896|[231720.0,1.14043...|[0.00121721998137...|\n",
            "|[181667.0,1.14057...|33952952|[181667.0,1.14057...|[9.54464683711000...|\n",
            "|[133717.0,1.14171...|33931500|[133717.0,1.14171...|[7.02702281324402...|\n",
            "|[818739.0,1.14881...|33879216|[818739.0,1.14881...|[0.00428537176815...|\n",
            "|[786584.0,1.15207...|34016768|[786584.0,1.15207...|[0.00411582260846...|\n",
            "|[352198.0,1.15249...|33974100|[352198.0,1.15249...|[0.00184671192993...|\n",
            "|[528621.0,1.15793...|34047254|[528621.0,1.15793...|[0.00276786277467...|\n",
            "|[637046.0,1.15855...|34012977|[637046.0,1.15855...|[0.00333375950366...|\n",
            "|[236380.0,1.16095...|34043579|[236380.0,1.16095...|[0.00123985117712...|\n",
            "|[1295374.0,1.1698...|33989166|[1295374.0,1.1698...|[0.00675515671959...|\n",
            "+--------------------+--------+--------------------+--------------------+\n",
            "only showing top 20 rows\n",
            "\n"
          ]
        }
      ]
    },
    {
      "cell_type": "markdown",
      "metadata": {
        "id": "7iIVULC-Ivl7"
      },
      "source": [
        "## 3.5.  Split The Data Into Train And Test Data"
      ]
    },
    {
      "cell_type": "code",
      "metadata": {
        "id": "bsk8s4Wtlfdv"
      },
      "source": [
        "#trainvalidationsplit Randomly splits the input dataset into train and validation sets, and uses evaluation metric on the validation set to select the best model. \n",
        "splits = vhouse_norm_df.randomSplit([0.7, 0.3], seed = 603 )\n",
        "train_df = splits[0]\n",
        "test_df = splits[1]"
      ],
      "execution_count": null,
      "outputs": []
    },
    {
      "cell_type": "code",
      "metadata": {
        "colab": {
          "base_uri": "https://localhost:8080/"
        },
        "id": "jWgVetfCo-Gd",
        "outputId": "81d2b404-db1d-495b-9480-5bf4ec68e790"
      },
      "source": [
        "print(\"Training Dataset Columns: \" + str(len(train_df.columns)))\n",
        "print(\"Test Dataset Columns: \" + str(len(test_df.columns)))\n",
        "print(\"Training Dataset Count: \" + str(train_df.count()))\n",
        "print(\"Test Dataset Count: \" + str(test_df.count()))"
      ],
      "execution_count": null,
      "outputs": [
        {
          "name": "stdout",
          "output_type": "stream",
          "text": [
            "Training Dataset Columns: 4\n",
            "Test Dataset Columns: 4\n",
            "Training Dataset Count: 1882905\n",
            "Test Dataset Count: 807904\n"
          ]
        }
      ]
    },
    {
      "cell_type": "code",
      "metadata": {
        "colab": {
          "base_uri": "https://localhost:8080/"
        },
        "id": "Q_nL9Y36d3kc",
        "outputId": "30143c87-6e36-4e47-e4af-45eae1a0bbda"
      },
      "source": [
        "train_df.show(5)"
      ],
      "execution_count": null,
      "outputs": [
        {
          "output_type": "stream",
          "name": "stdout",
          "text": [
            "+--------------------+--------+--------------------+--------------------+\n",
            "|            features|   label|     indexedFeatures|       features_norm|\n",
            "+--------------------+--------+--------------------+--------------------+\n",
            "|[9.0,1.0746669E7,...|34131730|[9.0,1.0746669E7,...|[4.73704586652297...|\n",
            "|[9.0,1.075564E7,0...|34136351|[9.0,1.075564E7,0...|[4.74085176742744...|\n",
            "|[9.0,1.1173044E7,...|34402069|[9.0,1.1173044E7,...|[4.72360568421657...|\n",
            "|[9.0,1.1686616E7,...|34021619|[9.0,1.1686616E7,...|[4.71445343677443...|\n",
            "|[9.0,1.2053982E7,...|34172100|[9.0,1.2053982E7,...|[4.71868099458880...|\n",
            "+--------------------+--------+--------------------+--------------------+\n",
            "only showing top 5 rows\n",
            "\n"
          ]
        }
      ]
    },
    {
      "cell_type": "code",
      "metadata": {
        "colab": {
          "background_save": true
        },
        "id": "mkTv25steCuO",
        "outputId": "1619c544-21ff-482f-c4f5-10133dfb5e72"
      },
      "source": [
        "test_df.show(5)"
      ],
      "execution_count": null,
      "outputs": [
        {
          "name": "stdout",
          "output_type": "stream",
          "text": [
            "+--------------------+--------+--------------------+--------------------+\n",
            "|            features|   label|     indexedFeatures|       features_norm|\n",
            "+--------------------+--------+--------------------+--------------------+\n",
            "|[9.0,1.2405579E7,...|33882242|[9.0,1.2405579E7,...|[4.71354140470618...|\n",
            "|[9.0,1.2734362E7,...|33906463|[9.0,1.2734362E7,...|[4.70264852822792...|\n",
            "|[9.0,1.2734665E7,...|33908442|[9.0,1.2734665E7,...|[4.70908844727949...|\n",
            "|[9.0,1.2734666E7,...|33908722|[9.0,1.2734666E7,...|[4.70873824804007...|\n",
            "|[9.0,1.281785E7,0...|33995626|[9.0,1.281785E7,0...|[4.70622973933364...|\n",
            "+--------------------+--------+--------------------+--------------------+\n",
            "only showing top 5 rows\n",
            "\n"
          ]
        }
      ]
    },
    {
      "cell_type": "markdown",
      "metadata": {
        "id": "oLk3f3pvInev"
      },
      "source": [
        "# **4. Prediction Models**"
      ]
    },
    {
      "cell_type": "markdown",
      "metadata": {
        "id": "Jq1VVjuEv395"
      },
      "source": [
        "## 4.1 Decision Tree"
      ]
    },
    {
      "cell_type": "code",
      "metadata": {
        "id": "3r4A_eZhv8iX"
      },
      "source": [
        "from pyspark.ml.regression import DecisionTreeRegressor\n",
        "\n",
        "# Train the DecisionTree model\n",
        "dt = DecisionTreeRegressor(featuresCol = 'features_norm', labelCol = 'label')\n",
        "\n",
        "# Chain indexer and tree in a Pipeline\n",
        "pipeline = Pipeline(stages=[featureIndexer, dt])\n",
        "\n",
        "model = pipeline.fit(train_df)"
      ],
      "execution_count": null,
      "outputs": []
    },
    {
      "cell_type": "code",
      "metadata": {
        "id": "MJLEFdhYjNq1"
      },
      "source": [
        "# Make predictions.\n",
        "predictions = model.transform(test_df)"
      ],
      "execution_count": null,
      "outputs": []
    },
    {
      "cell_type": "markdown",
      "metadata": {
        "id": "K2Tkc6QScu-i"
      },
      "source": [
        "### 4.1.1 Evaluate the RMSE and R2"
      ]
    },
    {
      "cell_type": "code",
      "metadata": {
        "colab": {
          "base_uri": "https://localhost:8080/"
        },
        "id": "D25mviG1jbmF",
        "outputId": "a3b5f43e-9b4a-4c14-a194-81ac892dc9b4"
      },
      "source": [
        "from pyspark.ml.evaluation import RegressionEvaluator\n",
        "\n",
        "# Select (prediction, true label) and compute test error\n",
        "evaluator = RegressionEvaluator(labelCol=\"label\",\n",
        "                                predictionCol=\"prediction\",\n",
        "                                metricName=\"rmse\")\n",
        "\n",
        "rmse = evaluator.evaluate(predictions)\n",
        "print(\"Root Mean Squared Error (RMSE) on test data = %g\" % rmse)"
      ],
      "execution_count": null,
      "outputs": [
        {
          "output_type": "stream",
          "name": "stdout",
          "text": [
            "Root Mean Squared Error (RMSE) on test data = 82697.4\n"
          ]
        }
      ]
    },
    {
      "cell_type": "code",
      "metadata": {
        "id": "uNG0cmjtmv6C",
        "colab": {
          "base_uri": "https://localhost:8080/"
        },
        "outputId": "3f544c76-1152-4869-94d1-e4225c205278"
      },
      "source": [
        "y_true = predictions.select(\"label\").toPandas()\n",
        "y_pred = predictions.select(\"prediction\").toPandas()\n",
        "\n",
        "import sklearn.metrics\n",
        "r2_score = sklearn.metrics.r2_score(y_true, y_pred)\n",
        "print('r2_score: {0}'.format(r2_score))"
      ],
      "execution_count": null,
      "outputs": [
        {
          "output_type": "stream",
          "name": "stdout",
          "text": [
            "r2_score: 0.8773315447915208\n"
          ]
        }
      ]
    },
    {
      "cell_type": "markdown",
      "metadata": {
        "id": "-u2aTrANGL3j"
      },
      "source": [
        "### 4.1.2 **Evaluation dataframe for comparing Model Performances**\n",
        "\n",
        "\n"
      ]
    },
    {
      "cell_type": "code",
      "metadata": {
        "id": "zhR2n9dRE50Y",
        "colab": {
          "base_uri": "https://localhost:8080/",
          "height": 78
        },
        "outputId": "932682c7-6485-4f66-a8a0-886db2c50bf4"
      },
      "source": [
        "perf_params = [r2_score, rmse]\n",
        "model_perf = pd.DataFrame( columns = ['name', 'rsquared', 'rmse'] )\n",
        "\n",
        "model_perf = model_perf.append( pd.Series( [\"Decision Tree\"] + perf_params ,\n",
        "                 index = model_perf.columns ),\n",
        "                 ignore_index = True )\n",
        "model_perf"
      ],
      "execution_count": null,
      "outputs": [
        {
          "output_type": "execute_result",
          "data": {
            "text/html": [
              "<div>\n",
              "<style scoped>\n",
              "    .dataframe tbody tr th:only-of-type {\n",
              "        vertical-align: middle;\n",
              "    }\n",
              "\n",
              "    .dataframe tbody tr th {\n",
              "        vertical-align: top;\n",
              "    }\n",
              "\n",
              "    .dataframe thead th {\n",
              "        text-align: right;\n",
              "    }\n",
              "</style>\n",
              "<table border=\"1\" class=\"dataframe\">\n",
              "  <thead>\n",
              "    <tr style=\"text-align: right;\">\n",
              "      <th></th>\n",
              "      <th>name</th>\n",
              "      <th>rsquared</th>\n",
              "      <th>rmse</th>\n",
              "    </tr>\n",
              "  </thead>\n",
              "  <tbody>\n",
              "    <tr>\n",
              "      <th>0</th>\n",
              "      <td>Decision Tree</td>\n",
              "      <td>0.877332</td>\n",
              "      <td>82697.399932</td>\n",
              "    </tr>\n",
              "  </tbody>\n",
              "</table>\n",
              "</div>"
            ],
            "text/plain": [
              "            name  rsquared          rmse\n",
              "0  Decision Tree  0.877332  82697.399932"
            ]
          },
          "metadata": {},
          "execution_count": 20
        }
      ]
    },
    {
      "cell_type": "markdown",
      "metadata": {
        "id": "3YYvgJhcI28k"
      },
      "source": [
        "## 4.2 Random Forest"
      ]
    },
    {
      "cell_type": "code",
      "metadata": {
        "id": "bJLAopbHnBi7"
      },
      "source": [
        "from pyspark.ml.regression import RandomForestRegressor\n",
        "\n",
        "# Train the RandomForest model\n",
        "rf = RandomForestRegressor(labelCol=\"label\", featuresCol=\"features_norm\",numTrees=9, maxDepth=6, seed = 42 ) "
      ],
      "execution_count": null,
      "outputs": []
    },
    {
      "cell_type": "code",
      "metadata": {
        "id": "WSs8xikDpRZn"
      },
      "source": [
        "# Chain indexer and tree in a Pipeline\n",
        "pipeline = Pipeline(stages=[featureIndexer, rf])\n",
        "rf_model = pipeline.fit(train_df)"
      ],
      "execution_count": null,
      "outputs": []
    },
    {
      "cell_type": "code",
      "metadata": {
        "id": "9inb5JdJpYiR"
      },
      "source": [
        "predictions_rf = rf_model.transform(test_df)"
      ],
      "execution_count": null,
      "outputs": []
    },
    {
      "cell_type": "markdown",
      "metadata": {
        "id": "EWYhLnQ7e1Iv"
      },
      "source": [
        "### 4.2.1 Evaluate the RMSE and R2"
      ]
    },
    {
      "cell_type": "code",
      "metadata": {
        "id": "CO0X_szJe0Jh",
        "colab": {
          "base_uri": "https://localhost:8080/"
        },
        "outputId": "94cec4ae-ebaf-445f-b70e-70fdb5678046"
      },
      "source": [
        "evaluator = RegressionEvaluator(labelCol=\"label\",\n",
        "                                predictionCol=\"prediction\",\n",
        "                                metricName=\"rmse\")\n",
        "\n",
        "rmse_rf = evaluator.evaluate(predictions_rf)\n",
        "\n",
        "print(\"Root Mean Squared Error (RMSE) on test data = %g\" % rmse_rf)"
      ],
      "execution_count": null,
      "outputs": [
        {
          "output_type": "stream",
          "name": "stdout",
          "text": [
            "Root Mean Squared Error (RMSE) on test data = 80512.7\n"
          ]
        }
      ]
    },
    {
      "cell_type": "code",
      "metadata": {
        "id": "Op-8SguGtPQI",
        "colab": {
          "base_uri": "https://localhost:8080/"
        },
        "outputId": "c86207b4-4d41-4281-ee2e-80df378d0ef6"
      },
      "source": [
        "evaluator = RegressionEvaluator(labelCol=\"label\",\n",
        "                                predictionCol=\"prediction\",\n",
        "                                metricName=\"r2\")\n",
        "\n",
        "r2_rf = evaluator.evaluate(predictions_rf)\n",
        "\n",
        "print(\"r2 on test data for Random Forest = %g\" %r2_rf)"
      ],
      "execution_count": null,
      "outputs": [
        {
          "output_type": "stream",
          "name": "stdout",
          "text": [
            "r2 on test data for Random Forest = 0.883727\n"
          ]
        }
      ]
    },
    {
      "cell_type": "markdown",
      "metadata": {
        "id": "4BXvtBcdvCqT"
      },
      "source": [
        "### 4.2.2 Evaluation of Dataframe for comparing model performances"
      ]
    },
    {
      "cell_type": "code",
      "metadata": {
        "id": "7ixTOFvOyuqw",
        "colab": {
          "base_uri": "https://localhost:8080/",
          "height": 110
        },
        "outputId": "dcc4861c-cc69-4641-9758-d2e250604f0a"
      },
      "source": [
        "rf_perf = [r2_rf, rmse_rf]\n",
        "\n",
        "\n",
        "model_perf = model_perf.append( pd.Series( [\"Random Forest Tree\"] + rf_perf ,\n",
        "                 index = model_perf.columns ),\n",
        "                 ignore_index = True )\n",
        "\n",
        "model_perf"
      ],
      "execution_count": null,
      "outputs": [
        {
          "output_type": "execute_result",
          "data": {
            "text/html": [
              "<div>\n",
              "<style scoped>\n",
              "    .dataframe tbody tr th:only-of-type {\n",
              "        vertical-align: middle;\n",
              "    }\n",
              "\n",
              "    .dataframe tbody tr th {\n",
              "        vertical-align: top;\n",
              "    }\n",
              "\n",
              "    .dataframe thead th {\n",
              "        text-align: right;\n",
              "    }\n",
              "</style>\n",
              "<table border=\"1\" class=\"dataframe\">\n",
              "  <thead>\n",
              "    <tr style=\"text-align: right;\">\n",
              "      <th></th>\n",
              "      <th>name</th>\n",
              "      <th>rsquared</th>\n",
              "      <th>rmse</th>\n",
              "    </tr>\n",
              "  </thead>\n",
              "  <tbody>\n",
              "    <tr>\n",
              "      <th>0</th>\n",
              "      <td>Decision Tree</td>\n",
              "      <td>0.877332</td>\n",
              "      <td>82697.399932</td>\n",
              "    </tr>\n",
              "    <tr>\n",
              "      <th>1</th>\n",
              "      <td>Random Forest Tree</td>\n",
              "      <td>0.883727</td>\n",
              "      <td>80512.721006</td>\n",
              "    </tr>\n",
              "  </tbody>\n",
              "</table>\n",
              "</div>"
            ],
            "text/plain": [
              "                 name  rsquared          rmse\n",
              "0       Decision Tree  0.877332  82697.399932\n",
              "1  Random Forest Tree  0.883727  80512.721006"
            ]
          },
          "metadata": {},
          "execution_count": 33
        }
      ]
    },
    {
      "cell_type": "markdown",
      "metadata": {
        "id": "Qvrsl1fkaYhA"
      },
      "source": [
        "## 4.3 Linear Regression"
      ]
    },
    {
      "cell_type": "code",
      "metadata": {
        "id": "og23pmqVaTke"
      },
      "source": [
        "# Import LinearRegression class\n",
        "from pyspark.ml.regression import LinearRegression\n",
        "\n",
        "# Define LinearRegression algorithm\n",
        "lr = LinearRegression(featuresCol = 'features_norm', labelCol='label', maxIter=50, regParam=0.0, elasticNetParam=0.0) \n",
        "\n",
        "# Chain indexer and tree in a Pipeline\n",
        "pipeline = Pipeline(stages=[featureIndexer, lr])\n",
        "\n",
        "lr_model = pipeline.fit(train_df)"
      ],
      "execution_count": null,
      "outputs": []
    },
    {
      "cell_type": "markdown",
      "metadata": {
        "id": "aw6bsNm9fDir"
      },
      "source": [
        "### 4.3.1 Evaluate the RMSE and R2 on test data"
      ]
    },
    {
      "cell_type": "code",
      "metadata": {
        "id": "z7x2fHU3fCnl",
        "colab": {
          "base_uri": "https://localhost:8080/"
        },
        "outputId": "4f22cefb-9970-4c66-cd79-9146fdce1f48"
      },
      "source": [
        "lr_predictions = lr_model.transform(test_df)\n",
        "\n",
        "evaluator = RegressionEvaluator(labelCol=\"label\", predictionCol=\"prediction\", metricName=\"rmse\")\n",
        "rmse_lr = evaluator.evaluate(lr_predictions)\n",
        "print(\"Root Mean Squared Error (RMSE) on test data = %g\" % rmse_lr)\n",
        "\n",
        "\n",
        "lr_evaluator = RegressionEvaluator(predictionCol=\"prediction\", \\\n",
        "                 labelCol=\"label\",metricName=\"r2\")\n",
        "r2_lr = lr_evaluator.evaluate(lr_predictions)\n",
        "print(\"R Squared (R2) on val data = %g\" % r2_lr)"
      ],
      "execution_count": null,
      "outputs": [
        {
          "output_type": "stream",
          "name": "stdout",
          "text": [
            "Root Mean Squared Error (RMSE) on test data = 199822\n",
            "R Squared (R2) on val data = 0.283798\n"
          ]
        }
      ]
    },
    {
      "cell_type": "markdown",
      "metadata": {
        "id": "DRTVwZ3NvxIv"
      },
      "source": [
        "### 4.3.2 Evaluation of DF for model performances"
      ]
    },
    {
      "cell_type": "code",
      "metadata": {
        "id": "fFGXj237G1gC",
        "colab": {
          "base_uri": "https://localhost:8080/",
          "height": 141
        },
        "outputId": "ae921f8f-999e-4a3d-b963-ec5d21d0baf4"
      },
      "source": [
        "perf_params_lr = [r2_lr,rmse_lr]\n",
        "\n",
        "model_perf = model_perf.append( pd.Series( [\"Linear Regression\"] + perf_params_lr ,\n",
        "                 index = model_perf.columns ),\n",
        "                 ignore_index = True )\n",
        "\n",
        "model_perf"
      ],
      "execution_count": null,
      "outputs": [
        {
          "output_type": "execute_result",
          "data": {
            "text/html": [
              "<div>\n",
              "<style scoped>\n",
              "    .dataframe tbody tr th:only-of-type {\n",
              "        vertical-align: middle;\n",
              "    }\n",
              "\n",
              "    .dataframe tbody tr th {\n",
              "        vertical-align: top;\n",
              "    }\n",
              "\n",
              "    .dataframe thead th {\n",
              "        text-align: right;\n",
              "    }\n",
              "</style>\n",
              "<table border=\"1\" class=\"dataframe\">\n",
              "  <thead>\n",
              "    <tr style=\"text-align: right;\">\n",
              "      <th></th>\n",
              "      <th>name</th>\n",
              "      <th>rsquared</th>\n",
              "      <th>rmse</th>\n",
              "    </tr>\n",
              "  </thead>\n",
              "  <tbody>\n",
              "    <tr>\n",
              "      <th>0</th>\n",
              "      <td>Decision Tree</td>\n",
              "      <td>0.877332</td>\n",
              "      <td>82697.399932</td>\n",
              "    </tr>\n",
              "    <tr>\n",
              "      <th>1</th>\n",
              "      <td>Random Forest Tree</td>\n",
              "      <td>0.883727</td>\n",
              "      <td>80512.721006</td>\n",
              "    </tr>\n",
              "    <tr>\n",
              "      <th>2</th>\n",
              "      <td>Linear Regression</td>\n",
              "      <td>0.283798</td>\n",
              "      <td>199822.008406</td>\n",
              "    </tr>\n",
              "  </tbody>\n",
              "</table>\n",
              "</div>"
            ],
            "text/plain": [
              "                 name  rsquared           rmse\n",
              "0       Decision Tree  0.877332   82697.399932\n",
              "1  Random Forest Tree  0.883727   80512.721006\n",
              "2   Linear Regression  0.283798  199822.008406"
            ]
          },
          "metadata": {},
          "execution_count": 34
        }
      ]
    },
    {
      "cell_type": "markdown",
      "metadata": {
        "id": "O5fZ0oz90P_J"
      },
      "source": [
        "## 4.4 Logistic Regression"
      ]
    },
    {
      "cell_type": "code",
      "metadata": {
        "id": "ugMRxU3WpIbj"
      },
      "source": [
        "# from pyspark.ml.classification import LogisticRegression\n",
        "# log = LogisticRegression(featuresCol='features_norm',labelCol='label')\n",
        "\n",
        "# # Chain indexer and tree in a Pipeline\n",
        "# pipeline_log = Pipeline(stages=[featureIndexer, log])\n",
        "\n",
        "# log_model = pipeline_log.fit(train_df)\n",
        "\n",
        "# log_predictions = log_model.transform(test_df)"
      ],
      "execution_count": null,
      "outputs": []
    },
    {
      "cell_type": "markdown",
      "metadata": {
        "id": "y7rF13jex0lJ"
      },
      "source": [
        "### 4.4.1 Evaluate the RMSE and R2 on test data"
      ]
    },
    {
      "cell_type": "code",
      "metadata": {
        "id": "5idr55loyHfj"
      },
      "source": [
        "# evaluator = RegressionEvaluator(labelCol=\"label\", predictionCol=\"prediction\", metricName=\"rmse\")\n",
        "# rmse_log = evaluator.evaluate(log_predictions)\n",
        "# print(\"Root Mean Squared Error (RMSE) on test data = %g\" % rmse_log)\n",
        "\n",
        "\n",
        "# log_evaluator = RegressionEvaluator(predictionCol=\"prediction\", \\\n",
        "#                  labelCol=\"label\",metricName=\"r2\")\n",
        "# r2_log = lr_evaluator.evaluate(log_predictions)\n",
        "# print(\"R Squared (R2) on val data = %g\" % r2_log)"
      ],
      "execution_count": null,
      "outputs": []
    },
    {
      "cell_type": "markdown",
      "metadata": {
        "id": "xOj4DFQ4xrOU"
      },
      "source": [
        "### 4.4.2 Evaluation of DF for model performances"
      ]
    },
    {
      "cell_type": "code",
      "metadata": {
        "id": "lUgVle9kyDRm"
      },
      "source": [
        "# perf_params_log = [r2_log,rmse_log]\n",
        "\n",
        "# model_perf = model_perf.append( pd.Series( [\"Logistic Regression\"] + perf_params_log ,\n",
        "#                  index = model_perf.columns ),\n",
        "#                  ignore_index = True )\n",
        "\n",
        "# model_perf"
      ],
      "execution_count": null,
      "outputs": []
    },
    {
      "cell_type": "markdown",
      "metadata": {
        "id": "UAM6oZq7abt1"
      },
      "source": [
        "## 4.5 Gradient Boosted Tree Regression"
      ]
    },
    {
      "cell_type": "code",
      "metadata": {
        "id": "1FZsKJeuabG1"
      },
      "source": [
        "from pyspark.ml.regression import GBTRegressor\n",
        "\n",
        "# Import LinearRegression class\n",
        "from pyspark.ml.regression import GBTRegressor\n",
        "\n",
        "#define algorithm\n",
        "gbt = GBTRegressor(featuresCol = 'features_norm', labelCol = 'label', maxIter=9, maxDepth=6, seed = 42)\n",
        "\n",
        "# Chain indexer and tree in a Pipeline\n",
        "pipeline_gbt = Pipeline(stages=[featureIndexer, gbt])\n",
        "model_gbt = pipeline_gbt.fit(train_df)\n",
        "\n",
        "#predictions on test\n",
        "predictions_gbt = model_gbt.transform(test_df)\n",
        "\n"
      ],
      "execution_count": null,
      "outputs": []
    },
    {
      "cell_type": "markdown",
      "metadata": {
        "id": "eAgtzvGCHPtt"
      },
      "source": [
        "### 4.5.1 Evaluate the RMSE and R2"
      ]
    },
    {
      "cell_type": "code",
      "metadata": {
        "id": "8zwJpKPC1M3j"
      },
      "source": [
        "evaluator = RegressionEvaluator(labelCol=\"label\", predictionCol=\"prediction\", metricName=\"rmse\")\n",
        "rmse_gbt = evaluator.evaluate(predictions_gbt)\n",
        "print(\"Root Mean Squared Error (RMSE) on test data = %g\" % rmse_gbt)\n",
        "\n",
        "\n",
        "gbt_evaluator = RegressionEvaluator(predictionCol=\"prediction\", \\\n",
        "                 labelCol=\"label\",metricName=\"r2\")\n",
        "r2_gbt = gbt_evaluator.evaluate(predictions_gbt)\n",
        "print(\"R Squared (R2) on val data = %g\" % r2_gbt)"
      ],
      "execution_count": null,
      "outputs": []
    },
    {
      "cell_type": "markdown",
      "metadata": {
        "id": "TeqXPtKs2OhM"
      },
      "source": [
        "### 4.5.2 Evaluation of DF for model performances"
      ]
    },
    {
      "cell_type": "code",
      "metadata": {
        "id": "9KkZAUcX2Wo1"
      },
      "source": [
        "perf_params_log = [r2_gbt,rmse_gbt]\n",
        "\n",
        "model_perf = model_perf.append( pd.Series( [\"Gradient Boosted Tree Regression\"] + perf_params_log ,\n",
        "                 index = model_perf.columns ),\n",
        "                 ignore_index = True )\n",
        "\n",
        "model_perf"
      ],
      "execution_count": null,
      "outputs": []
    },
    {
      "cell_type": "markdown",
      "metadata": {
        "id": "-rjnr_JmHTFJ"
      },
      "source": [
        "## Combined Evaluation Metrics"
      ]
    },
    {
      "cell_type": "code",
      "metadata": {
        "id": "O9teGwu5HbHs"
      },
      "source": [
        "# model_perf.plot(x ='name', y='rsquared', kind = 'bar')"
      ],
      "execution_count": null,
      "outputs": []
    },
    {
      "cell_type": "code",
      "metadata": {
        "id": "88kkbg1RHnAW"
      },
      "source": [
        "model_perf.plot(x ='name', y='rsquared', kind = 'bar')"
      ],
      "execution_count": null,
      "outputs": []
    }
  ]
}